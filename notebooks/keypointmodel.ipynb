{
  "nbformat": 4,
  "nbformat_minor": 0,
  "metadata": {
    "colab": {
      "provenance": [],
      "gpuType": "T4"
    },
    "kernelspec": {
      "name": "python3",
      "display_name": "Python 3"
    },
    "language_info": {
      "name": "python"
    },
    "accelerator": "GPU"
  },
  "cells": [
    {
      "cell_type": "code",
      "execution_count": 1,
      "metadata": {
        "id": "SQR0wY4l1Let",
        "colab": {
          "base_uri": "https://localhost:8080/"
        },
        "outputId": "e2522210-f01c-4575-a0e3-2cd9290fcbfb"
      },
      "outputs": [
        {
          "output_type": "stream",
          "name": "stdout",
          "text": [
            "\u001b[2K   \u001b[90m━━━━━━━━━━━━━━━━━━━━━━━━━━━━━━━━━━━━━━━━\u001b[0m \u001b[32m1.0/1.0 MB\u001b[0m \u001b[31m28.1 MB/s\u001b[0m eta \u001b[36m0:00:00\u001b[0m\n",
            "\u001b[2K   \u001b[90m━━━━━━━━━━━━━━━━━━━━━━━━━━━━━━━━━━━━━━━━\u001b[0m \u001b[32m363.4/363.4 MB\u001b[0m \u001b[31m4.4 MB/s\u001b[0m eta \u001b[36m0:00:00\u001b[0m\n",
            "\u001b[2K   \u001b[90m━━━━━━━━━━━━━━━━━━━━━━━━━━━━━━━━━━━━━━━━\u001b[0m \u001b[32m13.8/13.8 MB\u001b[0m \u001b[31m79.4 MB/s\u001b[0m eta \u001b[36m0:00:00\u001b[0m\n",
            "\u001b[2K   \u001b[90m━━━━━━━━━━━━━━━━━━━━━━━━━━━━━━━━━━━━━━━━\u001b[0m \u001b[32m24.6/24.6 MB\u001b[0m \u001b[31m65.8 MB/s\u001b[0m eta \u001b[36m0:00:00\u001b[0m\n",
            "\u001b[2K   \u001b[90m━━━━━━━━━━━━━━━━━━━━━━━━━━━━━━━━━━━━━━━━\u001b[0m \u001b[32m883.7/883.7 kB\u001b[0m \u001b[31m42.2 MB/s\u001b[0m eta \u001b[36m0:00:00\u001b[0m\n",
            "\u001b[2K   \u001b[90m━━━━━━━━━━━━━━━━━━━━━━━━━━━━━━━━━━━━━━━━\u001b[0m \u001b[32m664.8/664.8 MB\u001b[0m \u001b[31m1.2 MB/s\u001b[0m eta \u001b[36m0:00:00\u001b[0m\n",
            "\u001b[2K   \u001b[90m━━━━━━━━━━━━━━━━━━━━━━━━━━━━━━━━━━━━━━━━\u001b[0m \u001b[32m211.5/211.5 MB\u001b[0m \u001b[31m5.4 MB/s\u001b[0m eta \u001b[36m0:00:00\u001b[0m\n",
            "\u001b[2K   \u001b[90m━━━━━━━━━━━━━━━━━━━━━━━━━━━━━━━━━━━━━━━━\u001b[0m \u001b[32m56.3/56.3 MB\u001b[0m \u001b[31m13.3 MB/s\u001b[0m eta \u001b[36m0:00:00\u001b[0m\n",
            "\u001b[2K   \u001b[90m━━━━━━━━━━━━━━━━━━━━━━━━━━━━━━━━━━━━━━━━\u001b[0m \u001b[32m127.9/127.9 MB\u001b[0m \u001b[31m7.4 MB/s\u001b[0m eta \u001b[36m0:00:00\u001b[0m\n",
            "\u001b[2K   \u001b[90m━━━━━━━━━━━━━━━━━━━━━━━━━━━━━━━━━━━━━━━━\u001b[0m \u001b[32m207.5/207.5 MB\u001b[0m \u001b[31m6.0 MB/s\u001b[0m eta \u001b[36m0:00:00\u001b[0m\n",
            "\u001b[2K   \u001b[90m━━━━━━━━━━━━━━━━━━━━━━━━━━━━━━━━━━━━━━━━\u001b[0m \u001b[32m21.1/21.1 MB\u001b[0m \u001b[31m101.5 MB/s\u001b[0m eta \u001b[36m0:00:00\u001b[0m\n",
            "\u001b[?25h"
          ]
        }
      ],
      "source": [
        "!pip install -q ultralytics\n"
      ]
    },
    {
      "cell_type": "code",
      "source": [
        "!pip install roboflow"
      ],
      "metadata": {
        "colab": {
          "base_uri": "https://localhost:8080/"
        },
        "id": "NM-wPecm6Re2",
        "outputId": "8a3fc30f-8ee7-4c6e-a9f0-b2a05f05650c"
      },
      "execution_count": 2,
      "outputs": [
        {
          "output_type": "stream",
          "name": "stdout",
          "text": [
            "Collecting roboflow\n",
            "  Downloading roboflow-1.1.64-py3-none-any.whl.metadata (9.7 kB)\n",
            "Requirement already satisfied: certifi in /usr/local/lib/python3.11/dist-packages (from roboflow) (2025.4.26)\n",
            "Collecting idna==3.7 (from roboflow)\n",
            "  Downloading idna-3.7-py3-none-any.whl.metadata (9.9 kB)\n",
            "Requirement already satisfied: cycler in /usr/local/lib/python3.11/dist-packages (from roboflow) (0.12.1)\n",
            "Requirement already satisfied: kiwisolver>=1.3.1 in /usr/local/lib/python3.11/dist-packages (from roboflow) (1.4.8)\n",
            "Requirement already satisfied: matplotlib in /usr/local/lib/python3.11/dist-packages (from roboflow) (3.10.0)\n",
            "Requirement already satisfied: numpy>=1.18.5 in /usr/local/lib/python3.11/dist-packages (from roboflow) (2.0.2)\n",
            "Collecting opencv-python-headless==4.10.0.84 (from roboflow)\n",
            "  Downloading opencv_python_headless-4.10.0.84-cp37-abi3-manylinux_2_17_x86_64.manylinux2014_x86_64.whl.metadata (20 kB)\n",
            "Requirement already satisfied: Pillow>=7.1.2 in /usr/local/lib/python3.11/dist-packages (from roboflow) (11.2.1)\n",
            "Collecting pillow-heif>=0.18.0 (from roboflow)\n",
            "  Downloading pillow_heif-0.22.0-cp311-cp311-manylinux_2_17_x86_64.manylinux2014_x86_64.whl.metadata (9.6 kB)\n",
            "Requirement already satisfied: python-dateutil in /usr/local/lib/python3.11/dist-packages (from roboflow) (2.9.0.post0)\n",
            "Collecting python-dotenv (from roboflow)\n",
            "  Downloading python_dotenv-1.1.0-py3-none-any.whl.metadata (24 kB)\n",
            "Requirement already satisfied: requests in /usr/local/lib/python3.11/dist-packages (from roboflow) (2.32.3)\n",
            "Requirement already satisfied: six in /usr/local/lib/python3.11/dist-packages (from roboflow) (1.17.0)\n",
            "Requirement already satisfied: urllib3>=1.26.6 in /usr/local/lib/python3.11/dist-packages (from roboflow) (2.4.0)\n",
            "Requirement already satisfied: tqdm>=4.41.0 in /usr/local/lib/python3.11/dist-packages (from roboflow) (4.67.1)\n",
            "Requirement already satisfied: PyYAML>=5.3.1 in /usr/local/lib/python3.11/dist-packages (from roboflow) (6.0.2)\n",
            "Requirement already satisfied: requests-toolbelt in /usr/local/lib/python3.11/dist-packages (from roboflow) (1.0.0)\n",
            "Collecting filetype (from roboflow)\n",
            "  Downloading filetype-1.2.0-py2.py3-none-any.whl.metadata (6.5 kB)\n",
            "Requirement already satisfied: contourpy>=1.0.1 in /usr/local/lib/python3.11/dist-packages (from matplotlib->roboflow) (1.3.2)\n",
            "Requirement already satisfied: fonttools>=4.22.0 in /usr/local/lib/python3.11/dist-packages (from matplotlib->roboflow) (4.58.0)\n",
            "Requirement already satisfied: packaging>=20.0 in /usr/local/lib/python3.11/dist-packages (from matplotlib->roboflow) (24.2)\n",
            "Requirement already satisfied: pyparsing>=2.3.1 in /usr/local/lib/python3.11/dist-packages (from matplotlib->roboflow) (3.2.3)\n",
            "Requirement already satisfied: charset-normalizer<4,>=2 in /usr/local/lib/python3.11/dist-packages (from requests->roboflow) (3.4.2)\n",
            "Downloading roboflow-1.1.64-py3-none-any.whl (85 kB)\n",
            "\u001b[2K   \u001b[90m━━━━━━━━━━━━━━━━━━━━━━━━━━━━━━━━━━━━━━━━\u001b[0m \u001b[32m85.4/85.4 kB\u001b[0m \u001b[31m8.0 MB/s\u001b[0m eta \u001b[36m0:00:00\u001b[0m\n",
            "\u001b[?25hDownloading idna-3.7-py3-none-any.whl (66 kB)\n",
            "\u001b[2K   \u001b[90m━━━━━━━━━━━━━━━━━━━━━━━━━━━━━━━━━━━━━━━━\u001b[0m \u001b[32m66.8/66.8 kB\u001b[0m \u001b[31m6.9 MB/s\u001b[0m eta \u001b[36m0:00:00\u001b[0m\n",
            "\u001b[?25hDownloading opencv_python_headless-4.10.0.84-cp37-abi3-manylinux_2_17_x86_64.manylinux2014_x86_64.whl (49.9 MB)\n",
            "\u001b[2K   \u001b[90m━━━━━━━━━━━━━━━━━━━━━━━━━━━━━━━━━━━━━━━━\u001b[0m \u001b[32m49.9/49.9 MB\u001b[0m \u001b[31m12.7 MB/s\u001b[0m eta \u001b[36m0:00:00\u001b[0m\n",
            "\u001b[?25hDownloading pillow_heif-0.22.0-cp311-cp311-manylinux_2_17_x86_64.manylinux2014_x86_64.whl (7.8 MB)\n",
            "\u001b[2K   \u001b[90m━━━━━━━━━━━━━━━━━━━━━━━━━━━━━━━━━━━━━━━━\u001b[0m \u001b[32m7.8/7.8 MB\u001b[0m \u001b[31m43.9 MB/s\u001b[0m eta \u001b[36m0:00:00\u001b[0m\n",
            "\u001b[?25hDownloading filetype-1.2.0-py2.py3-none-any.whl (19 kB)\n",
            "Downloading python_dotenv-1.1.0-py3-none-any.whl (20 kB)\n",
            "Installing collected packages: filetype, python-dotenv, pillow-heif, opencv-python-headless, idna, roboflow\n",
            "  Attempting uninstall: opencv-python-headless\n",
            "    Found existing installation: opencv-python-headless 4.11.0.86\n",
            "    Uninstalling opencv-python-headless-4.11.0.86:\n",
            "      Successfully uninstalled opencv-python-headless-4.11.0.86\n",
            "  Attempting uninstall: idna\n",
            "    Found existing installation: idna 3.10\n",
            "    Uninstalling idna-3.10:\n",
            "      Successfully uninstalled idna-3.10\n",
            "Successfully installed filetype-1.2.0 idna-3.7 opencv-python-headless-4.10.0.84 pillow-heif-0.22.0 python-dotenv-1.1.0 roboflow-1.1.64\n"
          ]
        }
      ]
    },
    {
      "cell_type": "code",
      "source": [
        "from roboflow import Roboflow\n",
        "\n",
        "roboflow_api_key = \"A66DcFtdWUSEZBpF176s\"\n",
        "\n",
        "rf = Roboflow(api_key=roboflow_api_key)\n",
        "\n",
        "project = rf.workspace(\"fyp-3bwmg\").project(\"reloc2-den7l\")\n",
        "version = project.version(1)\n",
        "\n",
        "dataset = version.download(\"yolov8\")\n",
        "\n",
        "print(\"Dataset téléchargé dans :\", dataset.location)\n",
        "\n"
      ],
      "metadata": {
        "colab": {
          "base_uri": "https://localhost:8080/"
        },
        "id": "AEPZH2YQ5vi5",
        "outputId": "da60afd5-9603-4ca8-f0f0-83fc85129d4b"
      },
      "execution_count": 3,
      "outputs": [
        {
          "output_type": "stream",
          "name": "stdout",
          "text": [
            "loading Roboflow workspace...\n",
            "loading Roboflow project...\n"
          ]
        },
        {
          "output_type": "stream",
          "name": "stderr",
          "text": [
            "Downloading Dataset Version Zip in reloc2-1 to yolov8:: 100%|██████████| 447917/447917 [00:08<00:00, 53321.48it/s]"
          ]
        },
        {
          "output_type": "stream",
          "name": "stdout",
          "text": [
            "\n"
          ]
        },
        {
          "output_type": "stream",
          "name": "stderr",
          "text": [
            "\n",
            "Extracting Dataset Version Zip to reloc2-1 in yolov8:: 100%|██████████| 2948/2948 [00:01<00:00, 1771.01it/s]\n"
          ]
        },
        {
          "output_type": "stream",
          "name": "stdout",
          "text": [
            "Creating new Ultralytics Settings v0.0.6 file ✅ \n",
            "View Ultralytics Settings with 'yolo settings' or at '/root/.config/Ultralytics/settings.json'\n",
            "Update Settings with 'yolo settings key=value', i.e. 'yolo settings runs_dir=path/to/dir'. For help see https://docs.ultralytics.com/quickstart/#ultralytics-settings.\n",
            "Dataset téléchargé dans : /content/reloc2-1\n"
          ]
        }
      ]
    },
    {
      "cell_type": "code",
      "source": [
        "!ls /content\n"
      ],
      "metadata": {
        "colab": {
          "base_uri": "https://localhost:8080/"
        },
        "id": "CWaGCkgu8IK-",
        "outputId": "6c8bf952-a8cd-498d-be54-1dc661c45879"
      },
      "execution_count": 6,
      "outputs": [
        {
          "output_type": "stream",
          "name": "stdout",
          "text": [
            "reloc2-1  runs\tsample_data  yolov8n-pose.pt\n"
          ]
        }
      ]
    },
    {
      "cell_type": "code",
      "source": [
        "from ultralytics import YOLO\n",
        "\n",
        "model = YOLO(\"yolov8n-pose.pt\")\n",
        "\n",
        "model.train(\n",
        "    data=\"reloc2-1/data.yaml\",\n",
        "    epochs=50,\n",
        "    imgsz=640,\n",
        "    batch=8,\n",
        "    name=\"reloc2_keypoints_model\",\n",
        "    patience=7,\n",
        "    save_period=5,\n",
        "    augment=True\n",
        ")\n"
      ],
      "metadata": {
        "colab": {
          "base_uri": "https://localhost:8080/"
        },
        "id": "XxC32_6i77wO",
        "outputId": "bf5394bc-bac9-4ebc-9407-5b58db55a48d"
      },
      "execution_count": 4,
      "outputs": [
        {
          "output_type": "stream",
          "name": "stdout",
          "text": [
            "Downloading https://github.com/ultralytics/assets/releases/download/v8.3.0/yolov8n-pose.pt to 'yolov8n-pose.pt'...\n"
          ]
        },
        {
          "output_type": "stream",
          "name": "stderr",
          "text": [
            "100%|██████████| 6.52M/6.52M [00:00<00:00, 98.4MB/s]\n"
          ]
        },
        {
          "output_type": "stream",
          "name": "stdout",
          "text": [
            "Ultralytics 8.3.146 🚀 Python-3.11.12 torch-2.6.0+cu124 CUDA:0 (Tesla T4, 15095MiB)\n",
            "\u001b[34m\u001b[1mengine/trainer: \u001b[0magnostic_nms=False, amp=True, augment=True, auto_augment=randaugment, batch=8, bgr=0.0, box=7.5, cache=False, cfg=None, classes=None, close_mosaic=10, cls=0.5, conf=None, copy_paste=0.0, copy_paste_mode=flip, cos_lr=False, cutmix=0.0, data=reloc2-1/data.yaml, degrees=0.0, deterministic=True, device=None, dfl=1.5, dnn=False, dropout=0.0, dynamic=False, embed=None, epochs=50, erasing=0.4, exist_ok=False, fliplr=0.5, flipud=0.0, format=torchscript, fraction=1.0, freeze=None, half=False, hsv_h=0.015, hsv_s=0.7, hsv_v=0.4, imgsz=640, int8=False, iou=0.7, keras=False, kobj=1.0, line_width=None, lr0=0.01, lrf=0.01, mask_ratio=4, max_det=300, mixup=0.0, mode=train, model=yolov8n-pose.pt, momentum=0.937, mosaic=1.0, multi_scale=False, name=reloc2_keypoints_model, nbs=64, nms=False, opset=None, optimize=False, optimizer=auto, overlap_mask=True, patience=7, perspective=0.0, plots=True, pose=12.0, pretrained=True, profile=False, project=None, rect=False, resume=False, retina_masks=False, save=True, save_conf=False, save_crop=False, save_dir=runs/pose/reloc2_keypoints_model, save_frames=False, save_json=False, save_period=5, save_txt=False, scale=0.5, seed=0, shear=0.0, show=False, show_boxes=True, show_conf=True, show_labels=True, simplify=True, single_cls=False, source=None, split=val, stream_buffer=False, task=pose, time=None, tracker=botsort.yaml, translate=0.1, val=True, verbose=True, vid_stride=1, visualize=False, warmup_bias_lr=0.1, warmup_epochs=3.0, warmup_momentum=0.8, weight_decay=0.0005, workers=8, workspace=None\n",
            "Downloading https://ultralytics.com/assets/Arial.ttf to '/root/.config/Ultralytics/Arial.ttf'...\n"
          ]
        },
        {
          "output_type": "stream",
          "name": "stderr",
          "text": [
            "100%|██████████| 755k/755k [00:00<00:00, 16.6MB/s]"
          ]
        },
        {
          "output_type": "stream",
          "name": "stdout",
          "text": [
            "Overriding model.yaml kpt_shape=[17, 3] with kpt_shape=[18, 3]\n",
            "\n",
            "                   from  n    params  module                                       arguments                     \n",
            "  0                  -1  1       464  ultralytics.nn.modules.conv.Conv             [3, 16, 3, 2]                 \n",
            "  1                  -1  1      4672  ultralytics.nn.modules.conv.Conv             [16, 32, 3, 2]                \n",
            "  2                  -1  1      7360  ultralytics.nn.modules.block.C2f             [32, 32, 1, True]             \n",
            "  3                  -1  1     18560  ultralytics.nn.modules.conv.Conv             [32, 64, 3, 2]                \n",
            "  4                  -1  2     49664  ultralytics.nn.modules.block.C2f             [64, 64, 2, True]             \n",
            "  5                  -1  1     73984  ultralytics.nn.modules.conv.Conv             [64, 128, 3, 2]               \n",
            "  6                  -1  2    197632  ultralytics.nn.modules.block.C2f             [128, 128, 2, True]           \n",
            "  7                  -1  1    295424  ultralytics.nn.modules.conv.Conv             [128, 256, 3, 2]              \n",
            "  8                  -1  1    460288  ultralytics.nn.modules.block.C2f             [256, 256, 1, True]           \n",
            "  9                  -1  1    164608  ultralytics.nn.modules.block.SPPF            [256, 256, 5]                 \n",
            " 10                  -1  1         0  torch.nn.modules.upsampling.Upsample         [None, 2, 'nearest']          \n",
            " 11             [-1, 6]  1         0  ultralytics.nn.modules.conv.Concat           [1]                           \n",
            " 12                  -1  1    148224  ultralytics.nn.modules.block.C2f             [384, 128, 1]                 \n",
            " 13                  -1  1         0  torch.nn.modules.upsampling.Upsample         [None, 2, 'nearest']          \n",
            " 14             [-1, 4]  1         0  ultralytics.nn.modules.conv.Concat           [1]                           \n",
            " 15                  -1  1     37248  ultralytics.nn.modules.block.C2f             [192, 64, 1]                  \n",
            " 16                  -1  1     36992  ultralytics.nn.modules.conv.Conv             [64, 64, 3, 2]                \n",
            " 17            [-1, 12]  1         0  ultralytics.nn.modules.conv.Concat           [1]                           \n",
            " 18                  -1  1    123648  ultralytics.nn.modules.block.C2f             [192, 128, 1]                 \n",
            " 19                  -1  1    147712  ultralytics.nn.modules.conv.Conv             [128, 128, 3, 2]              \n",
            " 20             [-1, 9]  1         0  ultralytics.nn.modules.conv.Concat           [1]                           \n"
          ]
        },
        {
          "output_type": "stream",
          "name": "stderr",
          "text": [
            "\n"
          ]
        },
        {
          "output_type": "stream",
          "name": "stdout",
          "text": [
            " 21                  -1  1    493056  ultralytics.nn.modules.block.C2f             [384, 256, 1]                 \n",
            " 22        [15, 18, 21]  1   1057525  ultralytics.nn.modules.head.Pose             [1, [18, 3], [64, 128, 256]]  \n",
            "YOLOv8n-pose summary: 144 layers, 3,317,061 parameters, 3,317,045 gradients, 9.4 GFLOPs\n",
            "\n",
            "Transferred 361/397 items from pretrained weights\n",
            "Freezing layer 'model.22.dfl.conv.weight'\n",
            "\u001b[34m\u001b[1mAMP: \u001b[0mrunning Automatic Mixed Precision (AMP) checks...\n",
            "Downloading https://github.com/ultralytics/assets/releases/download/v8.3.0/yolo11n.pt to 'yolo11n.pt'...\n"
          ]
        },
        {
          "output_type": "stream",
          "name": "stderr",
          "text": [
            "100%|██████████| 5.35M/5.35M [00:00<00:00, 88.5MB/s]\n"
          ]
        },
        {
          "output_type": "stream",
          "name": "stdout",
          "text": [
            "\u001b[34m\u001b[1mAMP: \u001b[0mchecks passed ✅\n",
            "\u001b[34m\u001b[1mtrain: \u001b[0mFast image access ✅ (ping: 0.0±0.0 ms, read: 2922.7±1496.0 MB/s, size: 359.0 KB)\n"
          ]
        },
        {
          "output_type": "stream",
          "name": "stderr",
          "text": [
            "\u001b[34m\u001b[1mtrain: \u001b[0mScanning /content/reloc2-1/train/labels... 1172 images, 0 backgrounds, 288 corrupt: 100%|██████████| 1172/1172 [00:01<00:00, 1165.92it/s]"
          ]
        },
        {
          "output_type": "stream",
          "name": "stdout",
          "text": [
            "\u001b[34m\u001b[1mtrain: \u001b[0m/content/reloc2-1/train/images/basketball_10_frame_0037_jpg.rf.dde6b1b35b884c0609b668c9d8f60d7a.jpg: ignoring corrupt image/label: non-normalized or out of bounds coordinates [     1.2706      1.2706      1.2188      1.0878      1.0052]\n",
            "\u001b[34m\u001b[1mtrain: \u001b[0m/content/reloc2-1/train/images/basketball_10_frame_0045_jpg.rf.065d9607d0d8c28155d62561911c8708.jpg: ignoring corrupt image/label: non-normalized or out of bounds coordinates [     1.2706      1.2706      1.2188      1.0878      1.0052]\n",
            "\u001b[34m\u001b[1mtrain: \u001b[0m/content/reloc2-1/train/images/basketball_10_frame_0053_jpg.rf.d217b2a09eb76bd2876316c7fc0d1bb9.jpg: ignoring corrupt image/label: non-normalized or out of bounds coordinates [     1.1517      1.1517      1.0998]\n",
            "\u001b[34m\u001b[1mtrain: \u001b[0m/content/reloc2-1/train/images/basketball_10_frame_0057_jpg.rf.8e46cff9e93f8b6d10040b5566de0e8c.jpg: ignoring corrupt image/label: non-normalized or out of bounds coordinates [     1.0718      1.0718        1.02]\n",
            "\u001b[34m\u001b[1mtrain: \u001b[0m/content/reloc2-1/train/images/basketball_10_frame_0065_jpg.rf.01bef83e6b6621fdcf84aa94c6eeb4c9.jpg: ignoring corrupt image/label: non-normalized or out of bounds coordinates [     1.0667      1.0249]\n",
            "\u001b[34m\u001b[1mtrain: \u001b[0m/content/reloc2-1/train/images/basketball_10_frame_0069_jpg.rf.6301a9707e04ec1768e9b47032fdef0d.jpg: ignoring corrupt image/label: non-normalized or out of bounds coordinates [     1.0381]\n",
            "\u001b[34m\u001b[1mtrain: \u001b[0m/content/reloc2-1/train/images/basketball_10_frame_0073_jpg.rf.30b3f06a7c1a511a10c3b889c06c5640.jpg: ignoring corrupt image/label: non-normalized or out of bounds coordinates [     1.0172]\n",
            "\u001b[34m\u001b[1mtrain: \u001b[0m/content/reloc2-1/train/images/basketball_10_frame_0077_jpg.rf.6ed0eee2d101779ccfa3f70e73460e67.jpg: ignoring corrupt image/label: non-normalized or out of bounds coordinates [     1.0007]\n",
            "\u001b[34m\u001b[1mtrain: \u001b[0m/content/reloc2-1/train/images/basketball_11_frame_0048_jpg.rf.71f9e50ba3253b4624c11aec362bccfa.jpg: ignoring corrupt image/label: negative label values [  -0.010645  -0.0080105]\n",
            "\u001b[34m\u001b[1mtrain: \u001b[0m/content/reloc2-1/train/images/basketball_11_frame_0052_jpg.rf.a7ac49811e04809bbb6e83c174db0aaf.jpg: ignoring corrupt image/label: negative label values [  -0.034083   -0.031448]\n",
            "\u001b[34m\u001b[1mtrain: \u001b[0m/content/reloc2-1/train/images/basketball_11_frame_0060_jpg.rf.162d5f8d2d193781c9d53cc005fc7991.jpg: ignoring corrupt image/label: negative label values [  -0.016493   -0.015003    -0.01237]\n",
            "\u001b[34m\u001b[1mtrain: \u001b[0m/content/reloc2-1/train/images/basketball_11_frame_0064_jpg.rf.8ee1c550c72740f5f10737b20d2563ee.jpg: ignoring corrupt image/label: negative label values [  -0.054687   -0.053197   -0.050565]\n",
            "\u001b[34m\u001b[1mtrain: \u001b[0m/content/reloc2-1/train/images/basketball_11_frame_0068_jpg.rf.21379b89ad83c6f08f58db5d93d7fdde.jpg: ignoring corrupt image/label: negative label values [  -0.086806   -0.085315   -0.082683]\n",
            "\u001b[34m\u001b[1mtrain: \u001b[0m/content/reloc2-1/train/images/basketball_11_frame_0072_jpg.rf.8463df00221522481267e3c2c770e682.jpg: ignoring corrupt image/label: negative label values [   -0.11372    -0.11222    -0.10959]\n",
            "\u001b[34m\u001b[1mtrain: \u001b[0m/content/reloc2-1/train/images/basketball_11_frame_0080_jpg.rf.fd6ef92b9f3165af5d4502315dc5e0fd.jpg: ignoring corrupt image/label: negative label values [   -0.03125    -0.15278    -0.15129    -0.14865]\n",
            "\u001b[34m\u001b[1mtrain: \u001b[0m/content/reloc2-1/train/images/basketball_11_frame_0084_jpg.rf.4eed242ce79620dbd738252a7c9207ef.jpg: ignoring corrupt image/label: negative label values [  -0.080729    -0.20226    -0.20077    -0.19813]\n",
            "\u001b[34m\u001b[1mtrain: \u001b[0m/content/reloc2-1/train/images/basketball_11_frame_0088_jpg.rf.18a4db043f37b91ed30a3fc8976b4746.jpg: ignoring corrupt image/label: negative label values [  -0.026151   -0.045913    -0.13194    -0.25347    -0.25198    -0.24935]\n",
            "\u001b[34m\u001b[1mtrain: \u001b[0m/content/reloc2-1/train/images/basketball_11_frame_0116_jpg.rf.31041c8f018d84d9f0b0edc9c7ca8d47.jpg: ignoring corrupt image/label: non-normalized or out of bounds coordinates [     1.0554      1.0554      1.0748]\n",
            "\u001b[34m\u001b[1mtrain: \u001b[0m/content/reloc2-1/train/images/basketball_11_frame_0120_jpg.rf.8080266e61fc4fb9d6e343611343216b.jpg: ignoring corrupt image/label: non-normalized or out of bounds coordinates [     1.0554      1.0554      1.0748]\n",
            "\u001b[34m\u001b[1mtrain: \u001b[0m/content/reloc2-1/train/images/basketball_11_frame_0132_jpg.rf.a04c9201c5242193cc0bc1626a8430e6.jpg: ignoring corrupt image/label: non-normalized or out of bounds coordinates [     1.0058      1.0058]\n",
            "\u001b[34m\u001b[1mtrain: \u001b[0m/content/reloc2-1/train/images/basketball_12_frame_0031_jpg.rf.aa9487dd7741135b14ad4caafd4e563c.jpg: ignoring corrupt image/label: non-normalized or out of bounds coordinates [      1.005       1.005      1.0014]\n",
            "\u001b[34m\u001b[1mtrain: \u001b[0m/content/reloc2-1/train/images/basketball_12_frame_0035_jpg.rf.6f588f96bbae8e0e42c6d6ea471d2e48.jpg: ignoring corrupt image/label: non-normalized or out of bounds coordinates [     1.0241      1.0241      1.0205]\n",
            "\u001b[34m\u001b[1mtrain: \u001b[0m/content/reloc2-1/train/images/basketball_12_frame_0043_jpg.rf.5e306035764cd0d92fd171a2f7996632.jpg: ignoring corrupt image/label: non-normalized or out of bounds coordinates [     1.0735      1.0735        1.07]\n",
            "\u001b[34m\u001b[1mtrain: \u001b[0m/content/reloc2-1/train/images/basketball_12_frame_0047_jpg.rf.5b02f41373282e12371e08142a9744b7.jpg: ignoring corrupt image/label: non-normalized or out of bounds coordinates [     1.0735      1.0735        1.07]\n",
            "\u001b[34m\u001b[1mtrain: \u001b[0m/content/reloc2-1/train/images/basketball_12_frame_0055_jpg.rf.15480e720a8b72b802c123f258ed9a21.jpg: ignoring corrupt image/label: non-normalized or out of bounds coordinates [     1.0735      1.0735        1.07]\n",
            "\u001b[34m\u001b[1mtrain: \u001b[0m/content/reloc2-1/train/images/basketball_12_frame_0059_jpg.rf.84ed6921261824df66a27d478e3fcb18.jpg: ignoring corrupt image/label: non-normalized or out of bounds coordinates [     1.0735      1.0735        1.07]\n",
            "\u001b[34m\u001b[1mtrain: \u001b[0m/content/reloc2-1/train/images/basketball_12_frame_0063_jpg.rf.c622e3550992c5b56b666cd4031ebe7d.jpg: ignoring corrupt image/label: non-normalized or out of bounds coordinates [     1.0735      1.0735        1.07]\n",
            "\u001b[34m\u001b[1mtrain: \u001b[0m/content/reloc2-1/train/images/basketball_12_frame_0083_jpg.rf.7d9e850a31415b89cc5d35caa0a6f5d0.jpg: ignoring corrupt image/label: negative label values [ -0.0034931   -0.019243   -0.084067    -0.18579    -0.19903     -0.1964]\n",
            "\u001b[34m\u001b[1mtrain: \u001b[0m/content/reloc2-1/train/images/basketball_12_frame_0087_jpg.rf.fa96172a6c6e1504f87a5abbeb6bf49d.jpg: ignoring corrupt image/label: negative label values [ -0.0034931   -0.019243   -0.084067    -0.18579    -0.19903     -0.1964]\n",
            "\u001b[34m\u001b[1mtrain: \u001b[0m/content/reloc2-1/train/images/basketball_12_frame_0095_jpg.rf.59c10671166c545e4dd90919838bf925.jpg: ignoring corrupt image/label: negative label values [ -0.0034931   -0.019243   -0.084067    -0.18579    -0.19903     -0.1964]\n",
            "\u001b[34m\u001b[1mtrain: \u001b[0m/content/reloc2-1/train/images/basketball_12_frame_0099_jpg.rf.53bf2798fe14b2d2eecc70e304d60111.jpg: ignoring corrupt image/label: negative label values [ -0.0034931   -0.019243   -0.084067    -0.18579    -0.19903     -0.1964]\n",
            "\u001b[34m\u001b[1mtrain: \u001b[0m/content/reloc2-1/train/images/basketball_12_frame_0103_jpg.rf.12ef4cf401cfffd6f3ad26896e44bce2.jpg: ignoring corrupt image/label: negative label values [ -0.0034931   -0.019243   -0.084067    -0.18579    -0.19903     -0.1964]\n",
            "\u001b[34m\u001b[1mtrain: \u001b[0m/content/reloc2-1/train/images/basketball_12_frame_0127_jpg.rf.f23dd046cd179b9f60df7c30a7a5b88b.jpg: ignoring corrupt image/label: negative label values [  -0.053846   -0.067088   -0.064455]\n",
            "\u001b[34m\u001b[1mtrain: \u001b[0m/content/reloc2-1/train/images/basketball_12_frame_0175_jpg.rf.c8e8fea69bd7b0a89a7599f48c398600.jpg: ignoring corrupt image/label: negative label values [   -0.01744]\n",
            "\u001b[34m\u001b[1mtrain: \u001b[0m/content/reloc2-1/train/images/basketball_12_frame_0179_jpg.rf.167e518c7c77809f8ae35fee6e35a7b1.jpg: ignoring corrupt image/label: negative label values [    -0.0131]\n",
            "\u001b[34m\u001b[1mtrain: \u001b[0m/content/reloc2-1/train/images/basketball_12_frame_0183_jpg.rf.6f2c24d0889132d42418975ec05a2049.jpg: ignoring corrupt image/label: negative label values [ -0.0044191]\n",
            "\u001b[34m\u001b[1mtrain: \u001b[0m/content/reloc2-1/train/images/basketball_1_3_24_png.rf.4055db24e0d6963bc50291485f7aefbc.jpg: ignoring corrupt image/label: non-normalized or out of bounds coordinates [     1.0363      1.0363]\n",
            "\u001b[34m\u001b[1mtrain: \u001b[0m/content/reloc2-1/train/images/basketball_1_3_26_png.rf.67c18a551bafe0c701844c70c0da5a85.jpg: ignoring corrupt image/label: non-normalized or out of bounds coordinates [     1.0482      1.0482      1.0583]\n",
            "\u001b[34m\u001b[1mtrain: \u001b[0m/content/reloc2-1/train/images/basketball_1_frame_0012_jpg.rf.a47e80f2c663aa4216a9c4a1b5b829c7.jpg: ignoring corrupt image/label: negative label values [  -0.050208    -0.14149     -0.2526    -0.28472]\n",
            "\u001b[34m\u001b[1mtrain: \u001b[0m/content/reloc2-1/train/images/basketball_1_frame_0024_jpg.rf.a0e1c035d135b555f327fc7d0b6051ac.jpg: ignoring corrupt image/label: negative label values [  -0.067708    -0.17882    -0.21094]\n",
            "\u001b[34m\u001b[1mtrain: \u001b[0m/content/reloc2-1/train/images/basketball_1_frame_0036_jpg.rf.24b4714d28c4b21ddb84d5fddd468afb.jpg: ignoring corrupt image/label: negative label values [  -0.022569    -0.13368     -0.1658]\n",
            "\u001b[34m\u001b[1mtrain: \u001b[0m/content/reloc2-1/train/images/basketball_1_frame_0048_jpg.rf.e41722533abe7f6b45933669d6c32aab.jpg: ignoring corrupt image/label: negative label values [  -0.079861    -0.11198]\n",
            "\u001b[34m\u001b[1mtrain: \u001b[0m/content/reloc2-1/train/images/basketball_1_frame_0052_jpg.rf.c05b33702b7ed04251947b0fda444f34.jpg: ignoring corrupt image/label: negative label values [  -0.067708   -0.099826]\n",
            "\u001b[34m\u001b[1mtrain: \u001b[0m/content/reloc2-1/train/images/basketball_1_frame_0056_jpg.rf.00583cf35c32876464b88ae31b617d56.jpg: ignoring corrupt image/label: negative label values [  -0.052083   -0.084201]\n",
            "\u001b[34m\u001b[1mtrain: \u001b[0m/content/reloc2-1/train/images/basketball_1_frame_0068_jpg.rf.b9717ceae583820a1989a73c0949ac19.jpg: ignoring corrupt image/label: negative label values [  -0.025174]\n",
            "\u001b[34m\u001b[1mtrain: \u001b[0m/content/reloc2-1/train/images/basketball_1_frame_0192_jpg.rf.9af0f5e73831c6ef884b21ad3b5ddac2.jpg: ignoring corrupt image/label: non-normalized or out of bounds coordinates [     1.2029      1.2266      1.1016]\n",
            "\u001b[34m\u001b[1mtrain: \u001b[0m/content/reloc2-1/train/images/basketball_1_frame_0204_jpg.rf.4de0554adc2703c2da0fb81e5ddef991.jpg: ignoring corrupt image/label: non-normalized or out of bounds coordinates [     1.0744      1.0981]\n",
            "\u001b[34m\u001b[1mtrain: \u001b[0m/content/reloc2-1/train/images/basketball_2_11_26_png.rf.cfe8ebc14a08b29f6985fa3fa8cbd8a0.jpg: ignoring corrupt image/label: negative label values [ -0.0018272]\n",
            "\u001b[34m\u001b[1mtrain: \u001b[0m/content/reloc2-1/train/images/basketball_2_12_21_png.rf.b107124c342c19235462d170ce44d3a8.jpg: ignoring corrupt image/label: non-normalized or out of bounds coordinates [     1.0717      1.0725]\n",
            "\u001b[34m\u001b[1mtrain: \u001b[0m/content/reloc2-1/train/images/basketball_2_12_22_png.rf.7a9acfd94a19dd62e29efb88cf32bb61.jpg: ignoring corrupt image/label: non-normalized or out of bounds coordinates [     1.0135      1.0144]\n",
            "\u001b[34m\u001b[1mtrain: \u001b[0m/content/reloc2-1/train/images/basketball_2_12_2_png.rf.3b17c6cc653343527d534d7e2a40c60b.jpg: ignoring corrupt image/label: negative label values [  -0.025341    -0.03061   -0.027976]\n",
            "\u001b[34m\u001b[1mtrain: \u001b[0m/content/reloc2-1/train/images/basketball_2_13_3_png.rf.199c489e88198f06490ea8c7c765f730.jpg: ignoring corrupt image/label: negative label values [  -0.026253   -0.031513   -0.028883]\n",
            "\u001b[34m\u001b[1mtrain: \u001b[0m/content/reloc2-1/train/images/basketball_2_13_4_png.rf.835c46b47694543938dfd9a67c37eb7c.jpg: ignoring corrupt image/label: negative label values [  -0.026253   -0.031513   -0.028883]\n",
            "\u001b[34m\u001b[1mtrain: \u001b[0m/content/reloc2-1/train/images/basketball_2_13_5_png.rf.b32e284d5564b3d6e8f7ad0d2320c284.jpg: ignoring corrupt image/label: negative label values [  -0.026253   -0.031513   -0.028883]\n",
            "\u001b[34m\u001b[1mtrain: \u001b[0m/content/reloc2-1/train/images/basketball_2_14_14_png.rf.9b2aaf55b57886bbd8b8a068b68bb07c.jpg: ignoring corrupt image/label: non-normalized or out of bounds coordinates [     1.0198      1.0198      1.0198      1.0172      1.0198      1.0198]\n",
            "\u001b[34m\u001b[1mtrain: \u001b[0m/content/reloc2-1/train/images/basketball_2_14_15_png.rf.c122fa8ce5a74ec5199d0d964ec4ce9d.jpg: ignoring corrupt image/label: non-normalized or out of bounds coordinates [     1.0198      1.0198      1.0198      1.0172      1.0198      1.0198]\n",
            "\u001b[34m\u001b[1mtrain: \u001b[0m/content/reloc2-1/train/images/basketball_2_14_16_png.rf.c53d85f5932f427fecca9f4b164024b1.jpg: ignoring corrupt image/label: non-normalized or out of bounds coordinates [     1.0198      1.0198      1.0198      1.0172      1.0198      1.0198]\n",
            "\u001b[34m\u001b[1mtrain: \u001b[0m/content/reloc2-1/train/images/basketball_2_14_17_png.rf.1b3f06f781832c6e08b290c27d2beb4e.jpg: ignoring corrupt image/label: non-normalized or out of bounds coordinates [     1.0198      1.0198      1.0198      1.0172      1.0198      1.0198]\n",
            "\u001b[34m\u001b[1mtrain: \u001b[0m/content/reloc2-1/train/images/basketball_2_14_18_png.rf.18c1e37ecb5d649160b1249ef4575280.jpg: ignoring corrupt image/label: non-normalized or out of bounds coordinates [     1.0198      1.0198      1.0198      1.0172      1.0198      1.0198]\n",
            "\u001b[34m\u001b[1mtrain: \u001b[0m/content/reloc2-1/train/images/basketball_2_14_20_png.rf.782d8b816839d953fe98e32233740b41.jpg: ignoring corrupt image/label: non-normalized or out of bounds coordinates [     1.0198      1.0198      1.0198      1.0172      1.0198      1.0198]\n",
            "\u001b[34m\u001b[1mtrain: \u001b[0m/content/reloc2-1/train/images/basketball_2_14_21_png.rf.dec995e63b0ba5c2f4b70c5b5c15cc17.jpg: ignoring corrupt image/label: non-normalized or out of bounds coordinates [     1.0198      1.0198      1.0198      1.0172      1.0198      1.0198]\n",
            "\u001b[34m\u001b[1mtrain: \u001b[0m/content/reloc2-1/train/images/basketball_2_14_24_png.rf.aebf673fbaf38709c96ee7771da812ff.jpg: ignoring corrupt image/label: non-normalized or out of bounds coordinates [     1.0198      1.0198      1.0198      1.0172      1.0198      1.0198]\n",
            "\u001b[34m\u001b[1mtrain: \u001b[0m/content/reloc2-1/train/images/basketball_2_14_2_png.rf.f96032ba21ce8c24668ec9740e21f038.jpg: ignoring corrupt image/label: non-normalized or out of bounds coordinates [     1.0198      1.0198      1.0198      1.0172      1.0198      1.0198]\n",
            "\u001b[34m\u001b[1mtrain: \u001b[0m/content/reloc2-1/train/images/basketball_2_14_3_png.rf.59be6b6e26cd3c2af4aec0be187dea51.jpg: ignoring corrupt image/label: negative label values [  -0.071181   -0.022989]\n",
            "\u001b[34m\u001b[1mtrain: \u001b[0m/content/reloc2-1/train/images/basketball_2_14_4_png.rf.0e12dd0960fff1996ca42308eaecf40e.jpg: ignoring corrupt image/label: negative label values [  -0.071181   -0.022989]\n",
            "\u001b[34m\u001b[1mtrain: \u001b[0m/content/reloc2-1/train/images/basketball_2_1_12_png.rf.d44ac6cc0f3156ae05c38afaacce1deb.jpg: ignoring corrupt image/label: negative label values [  -0.049262   -0.065043    -0.09551   -0.094191   -0.099449    -0.09682]\n",
            "\u001b[34m\u001b[1mtrain: \u001b[0m/content/reloc2-1/train/images/basketball_2_1_13_png.rf.bd296b99df510e075d7609cb47e4278f.jpg: ignoring corrupt image/label: negative label values [   -0.16604    -0.18182    -0.21229    -0.21097    -0.21623     -0.2136]\n",
            "\u001b[34m\u001b[1mtrain: \u001b[0m/content/reloc2-1/train/images/basketball_2_1_14_png.rf.27baceda7c1e672cf859412cb32733ff.jpg: ignoring corrupt image/label: negative label values [   -0.27651    -0.29229    -0.32275    -0.32143    -0.32669    -0.32406   -0.025591    -0.10765]\n",
            "\u001b[34m\u001b[1mtrain: \u001b[0m/content/reloc2-1/train/images/basketball_2_1_15_png.rf.8bf0a443d5e2347e11c0f8ddb5914419.jpg: ignoring corrupt image/label: negative label values [   -0.37671    -0.39249    -0.42296    -0.42164     -0.4269    -0.42427     -0.1258    -0.20786]\n",
            "\u001b[34m\u001b[1mtrain: \u001b[0m/content/reloc2-1/train/images/basketball_2_1_19_png.rf.2912d709edd442651bfb5f244ed7060e.jpg: ignoring corrupt image/label: negative label values [  -0.067055   -0.071003   -0.067055   -0.065733   -0.071003   -0.067666]\n",
            "\u001b[34m\u001b[1mtrain: \u001b[0m/content/reloc2-1/train/images/basketball_2_1_21_png.rf.07e5c0ebe6d0d4a3b19abe2857190339.jpg: ignoring corrupt image/label: negative label values [  -0.041838    -0.04578   -0.041838   -0.040518   -0.046185   -0.046185]\n",
            "\u001b[34m\u001b[1mtrain: \u001b[0m/content/reloc2-1/train/images/basketball_2_1_22_png.rf.7dd1fb907d5cd93917a4cbd54268aa78.jpg: ignoring corrupt image/label: negative label values [  -0.086814   -0.090756   -0.086814   -0.085493    -0.09116    -0.09116]\n",
            "\u001b[34m\u001b[1mtrain: \u001b[0m/content/reloc2-1/train/images/basketball_2_1_29_png.rf.f4147d132c98070f30e58e9821c3ce7f.jpg: ignoring corrupt image/label: non-normalized or out of bounds coordinates [     1.0124]\n",
            "\u001b[34m\u001b[1mtrain: \u001b[0m/content/reloc2-1/train/images/basketball_2_1_5_png.rf.b51ca6eb6d37964477dc193df5c117f0.jpg: ignoring corrupt image/label: negative label values [ -0.0036803]\n",
            "\u001b[34m\u001b[1mtrain: \u001b[0m/content/reloc2-1/train/images/basketball_2_1_6_png.rf.700af417645121328dd68f06c9809cd3.jpg: ignoring corrupt image/label: negative label values [  -0.031297   -0.019447]\n",
            "\u001b[34m\u001b[1mtrain: \u001b[0m/content/reloc2-1/train/images/basketball_2_1_8_png.rf.f4c5339bbe0e6e767d8d44d5d7b50fac.jpg: ignoring corrupt image/label: negative label values [  -0.084162   -0.072313]\n",
            "\u001b[34m\u001b[1mtrain: \u001b[0m/content/reloc2-1/train/images/basketball_2_1_9_png.rf.bd48a9169a858abdf127359c7cdfcb2e.jpg: ignoring corrupt image/label: negative label values [    -0.1173    -0.10545]\n",
            "\u001b[34m\u001b[1mtrain: \u001b[0m/content/reloc2-1/train/images/basketball_2_2_12_png.rf.960a14ad263eb897df99be3ef5ab3d20.jpg: ignoring corrupt image/label: negative label values [  -0.042383   -0.045395   -0.042383   -0.041061    -0.04633   -0.043695]\n",
            "\u001b[34m\u001b[1mtrain: \u001b[0m/content/reloc2-1/train/images/basketball_2_2_13_png.rf.77d7395781209843464a71149434aafa.jpg: ignoring corrupt image/label: negative label values [  -0.067055   -0.070068   -0.067055   -0.065733   -0.071003   -0.068368]\n",
            "\u001b[34m\u001b[1mtrain: \u001b[0m/content/reloc2-1/train/images/basketball_2_2_14_png.rf.cb5c85fccddf3c405602a18ec0e32065.jpg: ignoring corrupt image/label: negative label values [    -0.1144    -0.11741     -0.1144    -0.11308    -0.11834    -0.11571]\n",
            "\u001b[34m\u001b[1mtrain: \u001b[0m/content/reloc2-1/train/images/basketball_2_2_15_png.rf.63b2185e503dbceb7513fc10bf5e4df9.jpg: ignoring corrupt image/label: negative label values [   -0.15306    -0.15607    -0.15306    -0.15174    -0.15701    -0.15437]\n",
            "\u001b[34m\u001b[1mtrain: \u001b[0m/content/reloc2-1/train/images/basketball_2_2_16_png.rf.c753fa508aa8c61f41f0b4e87702f582.jpg: ignoring corrupt image/label: negative label values [   -0.19251    -0.19553    -0.19251    -0.19119    -0.19646    -0.19383]\n",
            "\u001b[34m\u001b[1mtrain: \u001b[0m/content/reloc2-1/train/images/basketball_2_2_18_png.rf.a08a1f6936daca55df303f8e7e5cc39d.jpg: ignoring corrupt image/label: negative label values [   -0.24222    -0.24523    -0.24222     -0.2409    -0.24617    -0.24353]\n",
            "\u001b[34m\u001b[1mtrain: \u001b[0m/content/reloc2-1/train/images/basketball_2_2_19_png.rf.25a4881cf3a2ee0f6fe40ba01d3b2c1b.jpg: ignoring corrupt image/label: negative label values [   -0.25721    -0.26023    -0.25721    -0.25589    -0.26116    -0.25853]\n",
            "\u001b[34m\u001b[1mtrain: \u001b[0m/content/reloc2-1/train/images/basketball_2_2_4_png.rf.fc1893088218c7e6f7aed5123812027f.jpg: ignoring corrupt image/label: negative label values [-0.00022297 -0.00022297]\n",
            "\u001b[34m\u001b[1mtrain: \u001b[0m/content/reloc2-1/train/images/basketball_2_2_5_png.rf.6affc9bcbb76763e5f026af7527fc032.jpg: ignoring corrupt image/label: negative label values [  -0.051437   -0.053089   -0.051437   -0.050884   -0.053089   -0.051986]\n",
            "\u001b[34m\u001b[1mtrain: \u001b[0m/content/reloc2-1/train/images/basketball_2_2_6_png.rf.5d0ba1c82d52fd3a20368e95f45e5d8b.jpg: ignoring corrupt image/label: negative label values [   -0.10272    -0.10438    -0.10272    -0.10217    -0.10438    -0.10327]\n",
            "\u001b[34m\u001b[1mtrain: \u001b[0m/content/reloc2-1/train/images/basketball_2_2_8_png.rf.cbc889cadad7e033e7fef7c25e439568.jpg: ignoring corrupt image/label: non-normalized or out of bounds coordinates [     1.1081      1.1081      1.1048]\n",
            "\u001b[34m\u001b[1mtrain: \u001b[0m/content/reloc2-1/train/images/basketball_2_2_9_png.rf.82fc472d9f218bb804bf5709276de072.jpg: ignoring corrupt image/label: non-normalized or out of bounds coordinates [     1.0339      1.0339      1.0306]\n",
            "\u001b[34m\u001b[1mtrain: \u001b[0m/content/reloc2-1/train/images/basketball_2_3_12_png.rf.c081fbd2d3735f8a2dd1ccd2a8db47bc.jpg: ignoring corrupt image/label: negative label values [  -0.011549]\n",
            "\u001b[34m\u001b[1mtrain: \u001b[0m/content/reloc2-1/train/images/basketball_2_3_13_png.rf.6a78a520fb297419e3e52a7996e95679.jpg: ignoring corrupt image/label: negative label values [  -0.011549]\n",
            "\u001b[34m\u001b[1mtrain: \u001b[0m/content/reloc2-1/train/images/basketball_2_3_25_png.rf.3ab1bc309ef68cfc1e5cba9f30e75e42.jpg: ignoring corrupt image/label: negative label values [  -0.039296   -0.022726   -0.045477]\n",
            "\u001b[34m\u001b[1mtrain: \u001b[0m/content/reloc2-1/train/images/basketball_2_3_26_png.rf.66f5b10ef012ba6a4f742e2931f01a4c.jpg: ignoring corrupt image/label: negative label values [  -0.058233   -0.041663   -0.064414]\n",
            "\u001b[34m\u001b[1mtrain: \u001b[0m/content/reloc2-1/train/images/basketball_2_3_27_png.rf.a87238448400b09e4094f1e7ed75f33c.jpg: ignoring corrupt image/label: negative label values [  -0.083482   -0.066912   -0.089663]\n",
            "\u001b[34m\u001b[1mtrain: \u001b[0m/content/reloc2-1/train/images/basketball_2_3_28_png.rf.c82f7c5b7ae6c421cb6c3705e2122780.jpg: ignoring corrupt image/label: negative label values [  -0.012867    -0.11425   -0.097684    -0.12044]\n",
            "\u001b[34m\u001b[1mtrain: \u001b[0m/content/reloc2-1/train/images/basketball_2_3_9_png.rf.d031677fd55619628b983914b0ee08ba.jpg: ignoring corrupt image/label: negative label values [  -0.007416]\n",
            "\u001b[34m\u001b[1mtrain: \u001b[0m/content/reloc2-1/train/images/basketball_2_4_14_png.rf.3c7ba09859ead2f6e6fe07623664f4af.jpg: ignoring corrupt image/label: non-normalized or out of bounds coordinates [     1.0221      1.0221      1.0221      1.0195      1.0221      1.0228      1.0441]\n",
            "\u001b[34m\u001b[1mtrain: \u001b[0m/content/reloc2-1/train/images/basketball_2_4_15_png.rf.5d0e6c4b5320e32a0472a490630c832b.jpg: ignoring corrupt image/label: non-normalized or out of bounds coordinates [     1.1215      1.1215      1.1215      1.1189      1.1215      1.1222      1.0543      1.1435]\n",
            "\u001b[34m\u001b[1mtrain: \u001b[0m/content/reloc2-1/train/images/basketball_2_4_17_png.rf.2d593949958e4db19c841659627764fa.jpg: ignoring corrupt image/label: non-normalized or out of bounds coordinates [     1.4585      1.4585      1.4585      1.4558      1.4585      1.4591      1.3912      1.4804]\n",
            "\u001b[34m\u001b[1mtrain: \u001b[0m/content/reloc2-1/train/images/basketball_2_4_21_png.rf.7253a49eb1958de3ffcbfd73426f2ce1.jpg: ignoring corrupt image/label: non-normalized or out of bounds coordinates [     1.0772      1.0789      1.0789      1.0763      1.0789      1.0789]\n",
            "\u001b[34m\u001b[1mtrain: \u001b[0m/content/reloc2-1/train/images/basketball_2_4_22_png.rf.82b4d99dd47a09181c0ea2b483053603.jpg: ignoring corrupt image/label: non-normalized or out of bounds coordinates [     1.0377      1.1443       1.146       1.146      1.1433       1.146       1.146]\n",
            "\u001b[34m\u001b[1mtrain: \u001b[0m/content/reloc2-1/train/images/basketball_2_4_23_png.rf.0aa17e4fc49be9d57f81ec88fdfeb5b0.jpg: ignoring corrupt image/label: non-normalized or out of bounds coordinates [     1.0867      1.1932      1.1949      1.1949      1.1923      1.1949      1.1949]\n",
            "\u001b[34m\u001b[1mtrain: \u001b[0m/content/reloc2-1/train/images/basketball_2_4_24_png.rf.bd803d57c22bbfe51774aacc08e4139d.jpg: ignoring corrupt image/label: non-normalized or out of bounds coordinates [     1.1206      1.2271      1.2288      1.2288      1.2262      1.2288      1.2288]\n",
            "\u001b[34m\u001b[1mtrain: \u001b[0m/content/reloc2-1/train/images/basketball_2_4_26_png.rf.f6b8cf1b7d5ba7798e289e497761f5a1.jpg: ignoring corrupt image/label: non-normalized or out of bounds coordinates [     1.0571      1.0551      1.1545       1.261      1.0572      1.2628      1.2628      1.2601      1.2628      1.2628]\n",
            "\u001b[34m\u001b[1mtrain: \u001b[0m/content/reloc2-1/train/images/basketball_2_4_27_png.rf.85b928397808f70ba8f22c7198919ada.jpg: ignoring corrupt image/label: non-normalized or out of bounds coordinates [     1.0017      1.0838      1.0817      1.1671      1.2737      1.0839      1.2754      1.2754      1.2727      1.2754      1.2754      1.0083      1.0083]\n",
            "\u001b[34m\u001b[1mtrain: \u001b[0m/content/reloc2-1/train/images/basketball_2_4_28_png.rf.493f992e27fcde56120eb564df9b4d45.jpg: ignoring corrupt image/label: non-normalized or out of bounds coordinates [     1.0241      1.1062      1.1042      1.1774      1.2839      1.1063      1.2856      1.0139      1.2856       1.283      1.2856      1.2856      1.0185      1.0185]\n",
            "\u001b[34m\u001b[1mtrain: \u001b[0m/content/reloc2-1/train/images/basketball_2_4_29_png.rf.0c483f8be43dd7c8bd27d70286f37789.jpg: ignoring corrupt image/label: non-normalized or out of bounds coordinates [     1.0311      1.1133      1.1112      1.1806      1.2871      1.1134      1.2888      1.0209      1.2888      1.2862      1.2888      1.2888      1.0217      1.0217]\n",
            "\u001b[34m\u001b[1mtrain: \u001b[0m/content/reloc2-1/train/images/basketball_2_4_30_png.rf.cc4a98c8f05439ef1505a0a43b423428.jpg: ignoring corrupt image/label: non-normalized or out of bounds coordinates [     1.0297      1.1119      1.1098      1.1877      1.2942       1.112      1.2959      1.0195      1.2959      1.2933      1.2959      1.2959      1.0288      1.0288]\n",
            "\u001b[34m\u001b[1mtrain: \u001b[0m/content/reloc2-1/train/images/basketball_2_4_31_png.rf.28c8789b852f061c13563bf4889ea284.jpg: ignoring corrupt image/label: non-normalized or out of bounds coordinates [     1.0297      1.1119      1.1098      1.1932      1.2997       1.112      1.3014      1.0195      1.3014      1.2988      1.3014      1.3014      1.0343      1.0343]\n",
            "\u001b[34m\u001b[1mtrain: \u001b[0m/content/reloc2-1/train/images/basketball_2_4_5_png.rf.3802ce93a6c8dceb3c9e2464c0a1de7d.jpg: ignoring corrupt image/label: non-normalized or out of bounds coordinates [     1.1097      1.1097]\n",
            "\u001b[34m\u001b[1mtrain: \u001b[0m/content/reloc2-1/train/images/basketball_2_4_6_png.rf.a9c214a1a611bc82178a8174405b03a0.jpg: ignoring corrupt image/label: non-normalized or out of bounds coordinates [     1.2589      1.2589      1.1308]\n",
            "\u001b[34m\u001b[1mtrain: \u001b[0m/content/reloc2-1/train/images/basketball_2_4_7_png.rf.3742eefd6775519c32fc87e37136d2e3.jpg: ignoring corrupt image/label: non-normalized or out of bounds coordinates [     1.3954      1.3954      1.2674      1.1332       1.007]\n",
            "\u001b[34m\u001b[1mtrain: \u001b[0m/content/reloc2-1/train/images/basketball_2_4_8_png.rf.a7db3b944b809d5af9b8d3f2ddfd0db4.jpg: ignoring corrupt image/label: non-normalized or out of bounds coordinates [     1.3954      1.3954      1.2674      1.1332       1.007]\n",
            "\u001b[34m\u001b[1mtrain: \u001b[0m/content/reloc2-1/train/images/basketball_2_4_9_png.rf.04e9b282dab2afe7ad1d1060c590f03c.jpg: ignoring corrupt image/label: non-normalized or out of bounds coordinates [     1.3954      1.3954      1.2674      1.1332       1.007]\n",
            "\u001b[34m\u001b[1mtrain: \u001b[0m/content/reloc2-1/train/images/basketball_2_5_10_png.rf.5667d7e08cb94f0da371efc9aa571d1d.jpg: ignoring corrupt image/label: non-normalized or out of bounds coordinates [     1.1475      1.1093]\n",
            "\u001b[34m\u001b[1mtrain: \u001b[0m/content/reloc2-1/train/images/basketball_2_5_11_png.rf.9b4d3e45eaaa4285b41e3ac0d7ca7659.jpg: ignoring corrupt image/label: non-normalized or out of bounds coordinates [     1.1341      1.0959]\n",
            "\u001b[34m\u001b[1mtrain: \u001b[0m/content/reloc2-1/train/images/basketball_2_5_12_png.rf.f2c6e3ef222acad0e297877003979ef7.jpg: ignoring corrupt image/label: non-normalized or out of bounds coordinates [     1.0056       1.112      1.0738]\n",
            "\u001b[34m\u001b[1mtrain: \u001b[0m/content/reloc2-1/train/images/basketball_2_5_16_png.rf.38a6e99b1c8a205ab2c84e853eefaa05.jpg: ignoring corrupt image/label: non-normalized or out of bounds coordinates [     1.0561]\n",
            "\u001b[34m\u001b[1mtrain: \u001b[0m/content/reloc2-1/train/images/basketball_2_5_17_png.rf.55cd3569bafba8169d32d3417dbef397.jpg: ignoring corrupt image/label: non-normalized or out of bounds coordinates [     1.0617]\n",
            "\u001b[34m\u001b[1mtrain: \u001b[0m/content/reloc2-1/train/images/basketball_2_5_18_png.rf.9813422bf8d6d67e7def27112b8c8741.jpg: ignoring corrupt image/label: non-normalized or out of bounds coordinates [     1.0617]\n",
            "\u001b[34m\u001b[1mtrain: \u001b[0m/content/reloc2-1/train/images/basketball_2_5_19_png.rf.22b444fdd631036009140acaea3d275b.jpg: ignoring corrupt image/label: non-normalized or out of bounds coordinates [     1.0617]\n",
            "\u001b[34m\u001b[1mtrain: \u001b[0m/content/reloc2-1/train/images/basketball_2_5_20_png.rf.69ca5c360b368890fe1ac43ed490e6ba.jpg: ignoring corrupt image/label: non-normalized or out of bounds coordinates [     1.0282]\n",
            "\u001b[34m\u001b[1mtrain: \u001b[0m/content/reloc2-1/train/images/basketball_2_5_21_png.rf.97a24d4f8aa7e63b5966fcb2a4cf1984.jpg: ignoring corrupt image/label: non-normalized or out of bounds coordinates [     1.0282]\n",
            "\u001b[34m\u001b[1mtrain: \u001b[0m/content/reloc2-1/train/images/basketball_2_5_4_png.rf.08f3a42204433ec7ccc0c36ee8566374.jpg: ignoring corrupt image/label: non-normalized or out of bounds coordinates [      1.041      1.0071]\n",
            "\u001b[34m\u001b[1mtrain: \u001b[0m/content/reloc2-1/train/images/basketball_2_5_5_png.rf.1d73e965454fdd8bcdcf15854a6c2a21.jpg: ignoring corrupt image/label: non-normalized or out of bounds coordinates [     1.0891      1.0553]\n",
            "\u001b[34m\u001b[1mtrain: \u001b[0m/content/reloc2-1/train/images/basketball_2_5_6_png.rf.d983eae6dcc27973252dc34817baafa7.jpg: ignoring corrupt image/label: non-normalized or out of bounds coordinates [     1.1245      1.0863]\n",
            "\u001b[34m\u001b[1mtrain: \u001b[0m/content/reloc2-1/train/images/basketball_2_5_7_png.rf.ac5efbed211265d382a73bab0285b61a.jpg: ignoring corrupt image/label: non-normalized or out of bounds coordinates [     1.1379      1.0997]\n",
            "\u001b[34m\u001b[1mtrain: \u001b[0m/content/reloc2-1/train/images/basketball_2_5_8_png.rf.03a8d0c2f04aace51bebb826a2476d72.jpg: ignoring corrupt image/label: non-normalized or out of bounds coordinates [     1.1379      1.0997]\n",
            "\u001b[34m\u001b[1mtrain: \u001b[0m/content/reloc2-1/train/images/basketball_2_5_9_png.rf.7fa5489fe906805ce814ffcaffddbda0.jpg: ignoring corrupt image/label: non-normalized or out of bounds coordinates [     1.1379      1.0997]\n",
            "\u001b[34m\u001b[1mtrain: \u001b[0m/content/reloc2-1/train/images/basketball_2_7_11_png.rf.f6444d2adad4e0cb03cdea329a65e22b.jpg: ignoring corrupt image/label: non-normalized or out of bounds coordinates [     1.0008      1.0008      1.0008      1.0008      1.0008]\n",
            "\u001b[34m\u001b[1mtrain: \u001b[0m/content/reloc2-1/train/images/basketball_2_7_12_png.rf.a21cb5dcfc623df13abb8f42b38d5487.jpg: ignoring corrupt image/label: non-normalized or out of bounds coordinates [     1.0024      1.0024      1.0024      1.0024      1.0024]\n",
            "\u001b[34m\u001b[1mtrain: \u001b[0m/content/reloc2-1/train/images/basketball_2_7_13_png.rf.ae7bd993b55fd781c0147f2a8f5e93b3.jpg: ignoring corrupt image/label: non-normalized or out of bounds coordinates [     1.0048      1.0048      1.0048      1.0021      1.0048      1.0048]\n",
            "\u001b[34m\u001b[1mtrain: \u001b[0m/content/reloc2-1/train/images/basketball_2_7_15_png.rf.858bc674d27c37081025e7b4866d391a.jpg: ignoring corrupt image/label: non-normalized or out of bounds coordinates [     1.0095      1.0095      1.0095      1.0069      1.0095      1.0095]\n",
            "\u001b[34m\u001b[1mtrain: \u001b[0m/content/reloc2-1/train/images/basketball_2_7_16_png.rf.acaa3ab5269f83dcb80773c6535dfb48.jpg: ignoring corrupt image/label: non-normalized or out of bounds coordinates [     1.0087      1.0087      1.0087      1.0061      1.0087      1.0087]\n",
            "\u001b[34m\u001b[1mtrain: \u001b[0m/content/reloc2-1/train/images/basketball_2_7_17_png.rf.6a8fbb429287e40efd7719b384b1d8db.jpg: ignoring corrupt image/label: non-normalized or out of bounds coordinates [     1.0036      1.0013      1.0127      1.0059      1.0127      1.0127        1.01      1.0127      1.0127]\n",
            "\u001b[34m\u001b[1mtrain: \u001b[0m/content/reloc2-1/train/images/basketball_2_7_18_png.rf.5dcfa0807ac28cadf536cac625ceefef.jpg: ignoring corrupt image/label: non-normalized or out of bounds coordinates [     1.0274      1.0252      1.0158      1.0297      1.0158      1.0158      1.0132      1.0158      1.0158]\n",
            "\u001b[34m\u001b[1mtrain: \u001b[0m/content/reloc2-1/train/images/basketball_2_7_19_png.rf.1cfd94641c925e68a5205e20eb800a13.jpg: ignoring corrupt image/label: non-normalized or out of bounds coordinates [     1.0597      1.0574      1.0311       1.062      1.0311      1.0311      1.0285      1.0311      1.0311]\n",
            "\u001b[34m\u001b[1mtrain: \u001b[0m/content/reloc2-1/train/images/basketball_2_7_20_png.rf.e857b44155ac00cf3dea93430d6218af.jpg: ignoring corrupt image/label: non-normalized or out of bounds coordinates [     1.0615      1.0592      1.0637      1.0637      1.0637      1.0637      1.0611      1.0637      1.0637]\n",
            "\u001b[34m\u001b[1mtrain: \u001b[0m/content/reloc2-1/train/images/basketball_2_7_21_png.rf.5d198dc75534e91d6889d7ca4d2595e1.jpg: ignoring corrupt image/label: non-normalized or out of bounds coordinates [     1.0892      1.0869      1.0753      1.0914      1.0753      1.0753      1.0727      1.0753      1.0753]\n",
            "\u001b[34m\u001b[1mtrain: \u001b[0m/content/reloc2-1/train/images/basketball_2_7_22_png.rf.aa67a5123626daca22ca24538a0497f7.jpg: ignoring corrupt image/label: non-normalized or out of bounds coordinates [     1.0021      1.0934      1.0911      1.1144      1.0957      1.1144      1.1144      1.1118      1.1144      1.1144]\n",
            "\u001b[34m\u001b[1mtrain: \u001b[0m/content/reloc2-1/train/images/basketball_2_7_25_png.rf.c00fb97bb81326a210adf0c38582707c.jpg: ignoring corrupt image/label: non-normalized or out of bounds coordinates [     1.0133      1.1046      1.1023      1.1279      1.1069      1.1279      1.0019      1.1279      1.1252      1.1279      1.1279]\n",
            "\u001b[34m\u001b[1mtrain: \u001b[0m/content/reloc2-1/train/images/basketball_2_7_26_png.rf.083ace28ebb89d1dc55e5056c726a00e.jpg: ignoring corrupt image/label: non-normalized or out of bounds coordinates [     1.0049      1.0962      1.0939      1.1507      1.0985      1.1507      1.1507      1.1481      1.1507      1.1507]\n",
            "\u001b[34m\u001b[1mtrain: \u001b[0m/content/reloc2-1/train/images/basketball_2_7_28_png.rf.69595a9b7d2495500826cad078140a04.jpg: ignoring corrupt image/label: non-normalized or out of bounds coordinates [     1.0077       1.099      1.0967       1.161      1.1013       1.161       1.161      1.1584       1.161       1.161]\n",
            "\u001b[34m\u001b[1mtrain: \u001b[0m/content/reloc2-1/train/images/basketball_2_7_29_png.rf.c40e633fa5c52017980a712f08e319cd.jpg: ignoring corrupt image/label: non-normalized or out of bounds coordinates [     1.0007       1.092      1.0897      1.1768      1.0942      1.1768      1.1768      1.1741      1.1768      1.1768]\n",
            "\u001b[34m\u001b[1mtrain: \u001b[0m/content/reloc2-1/train/images/basketball_2_7_30_png.rf.e14234752b6795d9b4a426b6e6f1c410.jpg: ignoring corrupt image/label: non-normalized or out of bounds coordinates [     1.0007       1.092      1.0897       1.185      1.0942       1.185       1.185      1.1823       1.185       1.185]\n",
            "\u001b[34m\u001b[1mtrain: \u001b[0m/content/reloc2-1/train/images/basketball_2_7_3_png.rf.a095b89a96856c0ad210a58ef28c8044.jpg: ignoring corrupt image/label: negative label values [    -0.1028    -0.11157    -0.10894]\n",
            "\u001b[34m\u001b[1mtrain: \u001b[0m/content/reloc2-1/train/images/basketball_2_7_4_png.rf.12ce1f14a1f51169ca58ff60cde5153b.jpg: ignoring corrupt image/label: negative label values [  -0.059115   -0.067886   -0.065257]\n",
            "\u001b[34m\u001b[1mtrain: \u001b[0m/content/reloc2-1/train/images/basketball_2_8_5_png.rf.20130ea0e29a95ca4e9900b2a89b9b68.jpg: ignoring corrupt image/label: non-normalized or out of bounds coordinates [     1.0197      1.0197      1.0197      1.0171      1.0197      1.0197]\n",
            "\u001b[34m\u001b[1mtrain: \u001b[0m/content/reloc2-1/train/images/basketball_2_8_6_png.rf.76a29cce6804876fc3c6d27d6c55aa6f.jpg: ignoring corrupt image/label: non-normalized or out of bounds coordinates [     1.0796      1.0796      1.0796       1.077      1.0796      1.0796]\n",
            "\u001b[34m\u001b[1mtrain: \u001b[0m/content/reloc2-1/train/images/basketball_2_8_7_png.rf.1a48287d211f9ee80c64c6f7b2872528.jpg: ignoring corrupt image/label: non-normalized or out of bounds coordinates [     1.0796      1.0796      1.0796       1.077      1.0796      1.0796]\n",
            "\u001b[34m\u001b[1mtrain: \u001b[0m/content/reloc2-1/train/images/basketball_2_8_8_png.rf.aa9823ac950642f21526703b023ab8bb.jpg: ignoring corrupt image/label: non-normalized or out of bounds coordinates [     1.0796      1.0796      1.0796       1.077      1.0796      1.0796]\n",
            "\u001b[34m\u001b[1mtrain: \u001b[0m/content/reloc2-1/train/images/basketball_2_8_9_png.rf.e4aa8fd01cd0d3334f1b7b2ecb9ee567.jpg: ignoring corrupt image/label: non-normalized or out of bounds coordinates [     1.0796      1.0796      1.0796       1.077      1.0796      1.0796]\n",
            "\u001b[34m\u001b[1mtrain: \u001b[0m/content/reloc2-1/train/images/basketball_2_9_18_png.rf.8ff854651f0d65ab8ef5ee4362180a46.jpg: ignoring corrupt image/label: negative label values [  -0.020678]\n",
            "\u001b[34m\u001b[1mtrain: \u001b[0m/content/reloc2-1/train/images/basketball_2_9_21_png.rf.5d673f545bbb8ed9e7270e93193a50ce.jpg: ignoring corrupt image/label: non-normalized or out of bounds coordinates [     1.0234      1.0234      1.0234      1.0208      1.0234      1.0234]\n",
            "\u001b[34m\u001b[1mtrain: \u001b[0m/content/reloc2-1/train/images/basketball_2_9_22_png.rf.34c4692b858cffd5aa17dab9a9269e63.jpg: ignoring corrupt image/label: non-normalized or out of bounds coordinates [     1.0234      1.0234      1.0234      1.0208      1.0234      1.0234]\n",
            "\u001b[34m\u001b[1mtrain: \u001b[0m/content/reloc2-1/train/images/basketball_2_9_23_png.rf.e8ffd54c2e34eafa111147d4021eca8e.jpg: ignoring corrupt image/label: non-normalized or out of bounds coordinates [     1.0234      1.0234      1.0234      1.0208      1.0234      1.0234]\n",
            "\u001b[34m\u001b[1mtrain: \u001b[0m/content/reloc2-1/train/images/basketball_2_9_24_png.rf.27144dce646fa2f0b07e742762190270.jpg: ignoring corrupt image/label: non-normalized or out of bounds coordinates [     1.0234      1.0234      1.0234      1.0208      1.0234      1.0234]\n",
            "\u001b[34m\u001b[1mtrain: \u001b[0m/content/reloc2-1/train/images/basketball_2_9_25_png.rf.e69bced556589a6300587984d9b7ca85.jpg: ignoring corrupt image/label: non-normalized or out of bounds coordinates [     1.0234      1.0234      1.0234      1.0208      1.0234      1.0234]\n",
            "\u001b[34m\u001b[1mtrain: \u001b[0m/content/reloc2-1/train/images/basketball_2_frame_0032_jpg.rf.b67c7324def2b7b1de02be8d81662338.jpg: ignoring corrupt image/label: non-normalized or out of bounds coordinates [     1.0069]\n",
            "\u001b[34m\u001b[1mtrain: \u001b[0m/content/reloc2-1/train/images/basketball_3_3_15_png.rf.6453a4759ae4919dfa8d14a4a7075571.jpg: ignoring corrupt image/label: negative label values [ -0.0016552]\n",
            "\u001b[34m\u001b[1mtrain: \u001b[0m/content/reloc2-1/train/images/basketball_3_3_16_png.rf.03c4b2246f2310cbbeb588cdd94a10a6.jpg: ignoring corrupt image/label: negative label values [ -0.0086795]\n",
            "\u001b[34m\u001b[1mtrain: \u001b[0m/content/reloc2-1/train/images/basketball_3_3_17_png.rf.ac51a08ab5be2053b9aa06d765a56905.jpg: ignoring corrupt image/label: negative label values [ -0.0063123]\n",
            "\u001b[34m\u001b[1mtrain: \u001b[0m/content/reloc2-1/train/images/basketball_3_3_18_png.rf.464c85f359ef95778437b057e57aa682.jpg: ignoring corrupt image/label: negative label values [ -0.0028655]\n",
            "\u001b[34m\u001b[1mtrain: \u001b[0m/content/reloc2-1/train/images/basketball_3_3_1_png.rf.909cd621de5dcf267b0becc8be378b91.jpg: ignoring corrupt image/label: negative label values [ -0.0020764]\n",
            "\u001b[34m\u001b[1mtrain: \u001b[0m/content/reloc2-1/train/images/basketball_3_3_21_png.rf.bddf5b9917ac53d0155c9942b74e9b19.jpg: ignoring corrupt image/label: negative label values [ -0.0015781]\n",
            "\u001b[34m\u001b[1mtrain: \u001b[0m/content/reloc2-1/train/images/basketball_3_3_2_png.rf.9534bd507cc510ef9aacdb25fa66bb5f.jpg: ignoring corrupt image/label: negative label values [ -0.0031562]\n",
            "\u001b[34m\u001b[1mtrain: \u001b[0m/content/reloc2-1/train/images/basketball_3_frame_0091_jpg.rf.5536dd2d6161895afc08a313c494dec5.jpg: ignoring corrupt image/label: non-normalized or out of bounds coordinates [     1.0113]\n",
            "\u001b[34m\u001b[1mtrain: \u001b[0m/content/reloc2-1/train/images/basketball_3_frame_0107_jpg.rf.edb4150e15018b27e90c70fcb72c7a30.jpg: ignoring corrupt image/label: non-normalized or out of bounds coordinates [     1.0113]\n",
            "\u001b[34m\u001b[1mtrain: \u001b[0m/content/reloc2-1/train/images/basketball_3_frame_0115_jpg.rf.f1b8b9fc878f4fea4cdf11f41988850e.jpg: ignoring corrupt image/label: non-normalized or out of bounds coordinates [     1.0113]\n",
            "\u001b[34m\u001b[1mtrain: \u001b[0m/content/reloc2-1/train/images/basketball_3_frame_0123_jpg.rf.1ee20cc0e3399464ae6334e4b89805de.jpg: ignoring corrupt image/label: non-normalized or out of bounds coordinates [     1.0113]\n",
            "\u001b[34m\u001b[1mtrain: \u001b[0m/content/reloc2-1/train/images/basketball_4_frame_0004_jpg.rf.99becd081b8b6d6ed5233fa11969039d.jpg: ignoring corrupt image/label: non-normalized or out of bounds coordinates [      1.059      1.0078]\n",
            "\u001b[34m\u001b[1mtrain: \u001b[0m/content/reloc2-1/train/images/basketball_4_frame_0012_jpg.rf.fedd661cbdd97eaf56aa3a64953b4566.jpg: ignoring corrupt image/label: non-normalized or out of bounds coordinates [     1.0443]\n",
            "\u001b[34m\u001b[1mtrain: \u001b[0m/content/reloc2-1/train/images/basketball_4_frame_0016_jpg.rf.2d4115f874d355bfe147c9cd044f187b.jpg: ignoring corrupt image/label: non-normalized or out of bounds coordinates [     1.0295]\n",
            "\u001b[34m\u001b[1mtrain: \u001b[0m/content/reloc2-1/train/images/basketball_4_frame_0020_jpg.rf.5d34c284cff84cd828462d8c367e0ebf.jpg: ignoring corrupt image/label: non-normalized or out of bounds coordinates [     1.0139]\n",
            "\u001b[34m\u001b[1mtrain: \u001b[0m/content/reloc2-1/train/images/basketball_5_frame_0012_jpg.rf.42591e69f68e4e8ea01b2e9c59e1ade3.jpg: ignoring corrupt image/label: non-normalized or out of bounds coordinates [     1.2445      1.2445      1.2682      1.1328      1.0729       1.053]\n",
            "\u001b[34m\u001b[1mtrain: \u001b[0m/content/reloc2-1/train/images/basketball_5_frame_0032_jpg.rf.92aab4e63d1eff036c17e060032f5994.jpg: ignoring corrupt image/label: non-normalized or out of bounds coordinates [     1.2445      1.2445      1.2682      1.1328      1.0729       1.053]\n",
            "\u001b[34m\u001b[1mtrain: \u001b[0m/content/reloc2-1/train/images/basketball_5_frame_0042_jpg.rf.2544cb0eb48ea799bd700ae76ad08900.jpg: ignoring corrupt image/label: non-normalized or out of bounds coordinates [     1.1699      1.1699      1.1936      1.0582]\n",
            "\u001b[34m\u001b[1mtrain: \u001b[0m/content/reloc2-1/train/images/basketball_5_frame_0048_jpg.rf.b8a0cb8e8bb7689a21acf39fbdc0004e.jpg: ignoring corrupt image/label: non-normalized or out of bounds coordinates [     1.1699      1.1699      1.1936      1.0582]\n",
            "\u001b[34m\u001b[1mtrain: \u001b[0m/content/reloc2-1/train/images/basketball_5_frame_0062_jpg.rf.8fd6031fade5f0ff79d90e8ded73b504.jpg: ignoring corrupt image/label: non-normalized or out of bounds coordinates [     1.1109      1.1109      1.1345]\n",
            "\u001b[34m\u001b[1mtrain: \u001b[0m/content/reloc2-1/train/images/basketball_5_frame_0068_jpg.rf.8dfe0e2d5fc2b87c963a27965708b99e.jpg: ignoring corrupt image/label: non-normalized or out of bounds coordinates [     1.0883      1.0883       1.112]\n",
            "\u001b[34m\u001b[1mtrain: \u001b[0m/content/reloc2-1/train/images/basketball_5_frame_0080_jpg.rf.33d94ac54281380e3df59987bd032e25.jpg: ignoring corrupt image/label: non-normalized or out of bounds coordinates [     1.0162      1.0162      1.0399]\n",
            "\u001b[34m\u001b[1mtrain: \u001b[0m/content/reloc2-1/train/images/basketball_5_frame_0100_jpg.rf.a009c4ec7f514312eab181150d1200d7.jpg: ignoring corrupt image/label: non-normalized or out of bounds coordinates [     1.1571      1.1181]\n",
            "\u001b[34m\u001b[1mtrain: \u001b[0m/content/reloc2-1/train/images/basketball_5_frame_0106_jpg.rf.4c9a3fe7940e1df8dc0c775c7014ab43.jpg: ignoring corrupt image/label: non-normalized or out of bounds coordinates [     1.1293      1.0903]\n",
            "\u001b[34m\u001b[1mtrain: \u001b[0m/content/reloc2-1/train/images/basketball_5_frame_0120_jpg.rf.ee30efde9d12327cd82a3868b6b49932.jpg: ignoring corrupt image/label: non-normalized or out of bounds coordinates [     1.0234]\n",
            "\u001b[34m\u001b[1mtrain: \u001b[0m/content/reloc2-1/train/images/basketball_6_frame_0020_jpg.rf.05cbd0f259bb74dcb345a64c5f35eb2c.jpg: ignoring corrupt image/label: non-normalized or out of bounds coordinates [     1.0275      1.0275]\n",
            "\u001b[34m\u001b[1mtrain: \u001b[0m/content/reloc2-1/train/images/basketball_6_frame_0029_jpg.rf.d8ca5d295300e7f7afeb40d23d7038e8.jpg: ignoring corrupt image/label: non-normalized or out of bounds coordinates [     1.0831      1.0831      1.0278]\n",
            "\u001b[34m\u001b[1mtrain: \u001b[0m/content/reloc2-1/train/images/basketball_6_frame_0036_jpg.rf.00e7415d22b901462726b90e9eb30e72.jpg: ignoring corrupt image/label: non-normalized or out of bounds coordinates [     1.1508      1.1508      1.0955]\n",
            "\u001b[34m\u001b[1mtrain: \u001b[0m/content/reloc2-1/train/images/basketball_6_frame_0089_jpg.rf.19f2b3b46cbc08a1a9ed3f74140369e5.jpg: ignoring corrupt image/label: negative label values [  -0.052083    -0.07916    -0.08443   -0.081795]\n",
            "\u001b[34m\u001b[1mtrain: \u001b[0m/content/reloc2-1/train/images/basketball_6_frame_0096_jpg.rf.4d761c43a64cac6127c1cfad5365d300.jpg: ignoring corrupt image/label: negative label values [  -0.052083    -0.07916    -0.08443   -0.081795]\n",
            "\u001b[34m\u001b[1mtrain: \u001b[0m/content/reloc2-1/train/images/basketball_6_frame_0106_jpg.rf.1e748bcbacc7a7d5285c520bb056deae.jpg: ignoring corrupt image/label: negative label values [  -0.019265   -0.024534   -0.021899]\n",
            "\u001b[34m\u001b[1mtrain: \u001b[0m/content/reloc2-1/train/images/basketball_7_frame_0033_jpg.rf.a3c638ab4afddd03cd10fcc5c990f9e7.jpg: ignoring corrupt image/label: negative label values [ -0.0089604  -0.0063326]\n",
            "\u001b[34m\u001b[1mtrain: \u001b[0m/content/reloc2-1/train/images/basketball_7_frame_0037_jpg.rf.9f6ac797f5fce953ef58e6ae83fae920.jpg: ignoring corrupt image/label: negative label values [ -0.0089604  -0.0063326]\n",
            "\u001b[34m\u001b[1mtrain: \u001b[0m/content/reloc2-1/train/images/basketball_8_frame_0060_jpg.rf.94c45563512361f9678f50a3edd922ad.jpg: ignoring corrupt image/label: non-normalized or out of bounds coordinates [     1.0232      1.0232      1.0232      1.0206      1.0232      1.0232]\n",
            "\u001b[34m\u001b[1mtrain: \u001b[0m/content/reloc2-1/train/images/basketball_8_frame_0070_jpg.rf.0f0ce2554bf37ecee7d4473994d44856.jpg: ignoring corrupt image/label: non-normalized or out of bounds coordinates [     1.0397      1.0397      1.0397       1.037      1.0397      1.0397]\n",
            "\u001b[34m\u001b[1mtrain: \u001b[0m/content/reloc2-1/train/images/basketball_8_frame_0080_jpg.rf.2a30b7e050e0508d18e70f68dac867e1.jpg: ignoring corrupt image/label: non-normalized or out of bounds coordinates [     1.0527      1.0527      1.0527      1.0501      1.0527      1.0527]\n",
            "\u001b[34m\u001b[1mtrain: \u001b[0m/content/reloc2-1/train/images/basketball_8_frame_0090_jpg.rf.9770c6ca2e89747e002c14ae8c9101c5.jpg: ignoring corrupt image/label: non-normalized or out of bounds coordinates [     1.0544      1.0544      1.0544      1.0518      1.0544      1.0544]\n",
            "\u001b[34m\u001b[1mtrain: \u001b[0m/content/reloc2-1/train/images/basketball_8_frame_0100_jpg.rf.52a07731127c3065b8e2d7de7a094a4c.jpg: ignoring corrupt image/label: non-normalized or out of bounds coordinates [     1.0544      1.0544      1.0544      1.0518      1.0544      1.0544]\n",
            "\u001b[34m\u001b[1mtrain: \u001b[0m/content/reloc2-1/train/images/basketball_8_frame_0110_jpg.rf.8e0cc5080b893531f0f3c63eb93d1849.jpg: ignoring corrupt image/label: non-normalized or out of bounds coordinates [     1.0544      1.0544      1.0544      1.0518      1.0544      1.0544]\n",
            "\u001b[34m\u001b[1mtrain: \u001b[0m/content/reloc2-1/train/images/basketball_8_frame_0130_jpg.rf.666669489ef37870dfcc725465a134c9.jpg: ignoring corrupt image/label: non-normalized or out of bounds coordinates [     1.0544      1.0544      1.0544      1.0518      1.0544      1.0544]\n",
            "\u001b[34m\u001b[1mtrain: \u001b[0m/content/reloc2-1/train/images/faasdasd2_1125_jpg.rf.1bc59a91ff6c42bf83f97b0100c62f2f.jpg: ignoring corrupt image/label: non-normalized or out of bounds coordinates [     1.0689      1.0918      1.1136      1.1136      1.1136       1.111      1.1136      1.1136]\n",
            "\u001b[34m\u001b[1mtrain: \u001b[0m/content/reloc2-1/train/images/faasdasd2_150_jpg.rf.45a6ebe5b86792d24aabcf303e776e33.jpg: ignoring corrupt image/label: negative label values [ -0.0017809   -0.017983]\n",
            "\u001b[34m\u001b[1mtrain: \u001b[0m/content/reloc2-1/train/images/faasdasd2_1625_jpg.rf.d0311f1a028c72305cd761fed77c0671.jpg: ignoring corrupt image/label: non-normalized or out of bounds coordinates [     1.0839      1.0818      1.1068      1.1286      1.0587      1.1286      1.1286       1.126      1.1286      1.1286]\n",
            "\u001b[34m\u001b[1mtrain: \u001b[0m/content/reloc2-1/train/images/faasdasd2_1800_jpg.rf.b400a607aa77a641ad425981d5f97bbb.jpg: ignoring corrupt image/label: negative label values [  -0.085203   -0.082569]\n",
            "\u001b[34m\u001b[1mtrain: \u001b[0m/content/reloc2-1/train/images/faasdasd2_1850_jpg.rf.1b4aa95b9d99217b15ed4fa821108d86.jpg: ignoring corrupt image/label: negative label values [   -0.03968    -0.11619    -0.13239]\n",
            "\u001b[34m\u001b[1mtrain: \u001b[0m/content/reloc2-1/train/images/faasdasd2_2050_jpg.rf.c6654f69f5b1a2bd9a12de40adbd3ad2.jpg: ignoring corrupt image/label: negative label values [  -0.020743   -0.097253    -0.11346]\n",
            "\u001b[34m\u001b[1mtrain: \u001b[0m/content/reloc2-1/train/images/faasdasd2_2075_jpg.rf.dd9ffe37f831ab291839c8130d2f6c50.jpg: ignoring corrupt image/label: negative label values [  -0.047544   -0.063747]\n",
            "\u001b[34m\u001b[1mtrain: \u001b[0m/content/reloc2-1/train/images/faasdasd2_2375_jpg.rf.76f945f29deb37b33d35a3c661f49516.jpg: ignoring corrupt image/label: non-normalized or out of bounds coordinates [     1.0373      1.0842      1.0603       1.082       1.061       1.082       1.082      1.0794       1.082       1.082]\n",
            "\u001b[34m\u001b[1mtrain: \u001b[0m/content/reloc2-1/train/images/faasdasd2_2675_jpg.rf.b26784dc82efac9e744990300f0af7dd.jpg: ignoring corrupt image/label: negative label values [   -0.03492   -0.051122]\n",
            "\u001b[34m\u001b[1mtrain: \u001b[0m/content/reloc2-1/train/images/faasdasd2_2775_jpg.rf.828fe061a33309e9bb4b601e1b2dfd9b.jpg: ignoring corrupt image/label: non-normalized or out of bounds coordinates [     1.1399      1.0103      1.1628      1.1846      1.1846      1.1846       1.182      1.1846      1.1846]\n",
            "\u001b[34m\u001b[1mtrain: \u001b[0m/content/reloc2-1/train/images/videoplayback_1_3_frame_0176_jpg.rf.798878fc06f788a18777a4a59c532a5c.jpg: ignoring corrupt image/label: negative label values [  -0.020282   -0.024164   -0.020282   -0.018982   -0.024164   -0.021573]\n",
            "\u001b[34m\u001b[1mtrain: \u001b[0m/content/reloc2-1/train/images/videoplayback_3_1_frame_0373_jpg.rf.bd155eeb3352e7f09455b2dab118f38f.jpg: ignoring corrupt image/label: negative label values [  -0.021142   -0.025083   -0.021142   -0.019821   -0.025083   -0.022452]\n",
            "\u001b[34m\u001b[1mtrain: \u001b[0m/content/reloc2-1/train/images/videoplayback_3_1_frame_0818_jpg.rf.57e7ea4e951a5c2d128782e3c155f20c.jpg: ignoring corrupt image/label: negative label values [ -0.0071469   -0.039259]\n",
            "\u001b[34m\u001b[1mtrain: \u001b[0m/content/reloc2-1/train/images/videoplayback_3_1_frame_0902_jpg.rf.ef1cc4d6d36e27c09ae465b948b11bdd.jpg: ignoring corrupt image/label: non-normalized or out of bounds coordinates [     1.0073      1.0073      1.0073      1.0047      1.0073      1.0073]\n",
            "\u001b[34m\u001b[1mtrain: \u001b[0m/content/reloc2-1/train/images/videoplayback_3_1_frame_0980_jpg.rf.20d7e74e9019454d47a35ecd81b0f357.jpg: ignoring corrupt image/label: non-normalized or out of bounds coordinates [     1.0036      1.0036      1.0036       1.001      1.0036      1.0036]\n",
            "\u001b[34m\u001b[1mtrain: \u001b[0m/content/reloc2-1/train/images/videoplayback_3_1_frame_1195_jpg.rf.94f53a79a01c263a0fdba83717555587.jpg: ignoring corrupt image/label: non-normalized or out of bounds coordinates [     1.0524      1.0524      1.0524      1.0498      1.0524      1.0524]\n",
            "\u001b[34m\u001b[1mtrain: \u001b[0m/content/reloc2-1/train/images/videoplayback_3_1_frame_1328_jpg.rf.b4d37907090e9063b5d3cd47ee371d48.jpg: ignoring corrupt image/label: non-normalized or out of bounds coordinates [     1.0051]\n",
            "\u001b[34m\u001b[1mtrain: \u001b[0m/content/reloc2-1/train/images/videoplayback_3_1_frame_2013_jpg.rf.231513b10edb2521822fe3a40a5b1717.jpg: ignoring corrupt image/label: non-normalized or out of bounds coordinates [     1.0576      1.0559]\n",
            "\u001b[34m\u001b[1mtrain: \u001b[0m/content/reloc2-1/train/images/videoplayback_3_1_frame_2091_jpg.rf.76fd1faeab8689420a2a3a10f4115afc.jpg: ignoring corrupt image/label: non-normalized or out of bounds coordinates [     1.0469      1.0469      1.0469      1.0443      1.0469      1.0469]\n",
            "\u001b[34m\u001b[1mtrain: \u001b[0m/content/reloc2-1/train/images/videoplayback_3_1_frame_2175_jpg.rf.af36042256866b2fea062b8c27b90222.jpg: ignoring corrupt image/label: non-normalized or out of bounds coordinates [     1.0281      1.0177      1.0336      1.0177      1.0177       1.015      1.0177      1.0177]\n",
            "\u001b[34m\u001b[1mtrain: \u001b[0m/content/reloc2-1/train/images/videoplayback_3_1_frame_2253_jpg.rf.743b4b6c7f4b426b943dd6e2d5e30096.jpg: ignoring corrupt image/label: negative label values [  -0.020372   -0.052484]\n",
            "\u001b[34m\u001b[1mtrain: \u001b[0m/content/reloc2-1/train/images/videoplayback_3_1_frame_2458_jpg.rf.5c18f2164e3b214ddc9efca8ca87eeb7.jpg: ignoring corrupt image/label: non-normalized or out of bounds coordinates [     1.0127      1.0127      1.0127      1.0101      1.0127      1.0127]\n",
            "\u001b[34m\u001b[1mtrain: \u001b[0m/content/reloc2-1/train/images/videoplayback_3_1_frame_2620_jpg.rf.0068c260bc363b787f34400b151fa948.jpg: ignoring corrupt image/label: non-normalized or out of bounds coordinates [     1.0517        1.05]\n",
            "\u001b[34m\u001b[1mtrain: \u001b[0m/content/reloc2-1/train/images/videoplayback_3_1_frame_2744_jpg.rf.549521d5cb394a4cd1b113be59a84050.jpg: ignoring corrupt image/label: negative label values [  -0.023482   -0.027423   -0.023482   -0.022162   -0.027423   -0.024792]\n",
            "\u001b[34m\u001b[1mtrain: \u001b[0m/content/reloc2-1/train/images/videoplayback_3_1_frame_2828_jpg.rf.4e94b40aa01f9f12f3adcba06ffcdb0c.jpg: ignoring corrupt image/label: non-normalized or out of bounds coordinates [     1.0268       1.025]\n",
            "\u001b[34m\u001b[1mtrain: \u001b[0m/content/reloc2-1/train/images/videoplayback_4_2_frame_0949_jpg.rf.50c6d78e7fc67785c088f64e15142188.jpg: ignoring corrupt image/label: negative label values [   -0.13187    -0.13553    -0.13187    -0.13064    -0.13553    -0.13309]\n",
            "\u001b[34m\u001b[1mtrain: \u001b[0m/content/reloc2-1/train/images/videoplayback_5_2_frame_0004_jpg.rf.3b39ffd875034bd5d3d6be7685871c75.jpg: ignoring corrupt image/label: non-normalized or out of bounds coordinates [     1.0415]\n",
            "\u001b[34m\u001b[1mtrain: \u001b[0m/content/reloc2-1/train/images/videoplayback_5_2_frame_0014_jpg.rf.36bd87fb457f06e68d9d1259a53419be.jpg: ignoring corrupt image/label: non-normalized or out of bounds coordinates [     1.0083]\n",
            "\u001b[34m\u001b[1mtrain: \u001b[0m/content/reloc2-1/train/images/videoplayback_5_3_frame_0010_jpg.rf.6db6b2b8bcfc25991e4f04184beeb4ee.jpg: ignoring corrupt image/label: negative label values [  -0.075284   -0.078342   -0.075284   -0.073964   -0.079223   -0.076594]\n",
            "\u001b[34m\u001b[1mtrain: \u001b[0m/content/reloc2-1/train/images/videoplayback_5_3_frame_0028_jpg.rf.d5e05e68a2cf1b6b65858ebcb98e9fac.jpg: ignoring corrupt image/label: negative label values [   -0.12233    -0.12539    -0.12233    -0.12102    -0.12627    -0.12364]\n",
            "\u001b[34m\u001b[1mtrain: \u001b[0m/content/reloc2-1/train/images/videoplayback_5_3_frame_0060_jpg.rf.df56369fe8553eea967ffedeaabf31e3.jpg: ignoring corrupt image/label: negative label values [   -0.10419    -0.10725    -0.10419    -0.10287    -0.10813     -0.1055]\n",
            "\u001b[34m\u001b[1mtrain: \u001b[0m/content/reloc2-1/train/images/videoplayback_5_3_frame_0078_jpg.rf.9d5968d67e91af15c3a08221cd985fcd.jpg: ignoring corrupt image/label: negative label values [   -0.10813    -0.11119    -0.10813    -0.10681    -0.11207    -0.10944]\n",
            "\u001b[34m\u001b[1mtrain: \u001b[0m/content/reloc2-1/train/images/videoplayback_5_3_frame_0098_jpg.rf.921848e2c232c2f581d31afc734081d2.jpg: ignoring corrupt image/label: negative label values [  -0.082883   -0.085942   -0.082883   -0.081564   -0.086822   -0.084193]\n",
            "\u001b[34m\u001b[1mtrain: \u001b[0m/content/reloc2-1/train/images/videoplayback_5_3_frame_0110_jpg.rf.5668adb686bcf9e71208875c637455c1.jpg: ignoring corrupt image/label: negative label values [  -0.084752    -0.08781   -0.084752   -0.083433   -0.088691   -0.086062]\n",
            "\u001b[34m\u001b[1mtrain: \u001b[0m/content/reloc2-1/train/images/videoplayback_5_3_frame_0160_jpg.rf.a74ac7eedb10183e5e90cf413d1506fe.jpg: ignoring corrupt image/label: non-normalized or out of bounds coordinates [     1.0407      1.0389]\n",
            "\u001b[34m\u001b[1mtrain: \u001b[0m/content/reloc2-1/train/images/videoplayback_5_3_frame_0178_jpg.rf.d82726debf7a713e36439b30a664afc3.jpg: ignoring corrupt image/label: non-normalized or out of bounds coordinates [     1.0351      1.0333]\n",
            "\u001b[34m\u001b[1mtrain: \u001b[0m/content/reloc2-1/train/images/videoplayback_5_3_frame_0198_jpg.rf.250241c243bdf1fce2be0bcd40bb1a86.jpg: ignoring corrupt image/label: non-normalized or out of bounds coordinates [     1.0295      1.0277]\n",
            "\u001b[34m\u001b[1mtrain: \u001b[0m/content/reloc2-1/train/images/videoplayback_5_3_frame_0210_jpg.rf.ab9ad38af90e79b02a1eba2b48832e79.jpg: ignoring corrupt image/label: non-normalized or out of bounds coordinates [     1.0309      1.0291]\n",
            "\u001b[34m\u001b[1mtrain: \u001b[0m/content/reloc2-1/train/images/videoplayback_5_3_frame_0228_jpg.rf.ae927bd3c78f412eff09ff71823e5dc4.jpg: ignoring corrupt image/label: non-normalized or out of bounds coordinates [     1.0196      1.0178]\n",
            "\u001b[34m\u001b[1mtrain: \u001b[0m/content/reloc2-1/train/images/videoplayback_5_3_frame_0248_jpg.rf.fc0e9b150f518c629daeda81a2c6cf83.jpg: ignoring corrupt image/label: negative label values [   -0.12076    -0.12381    -0.12076    -0.11944     -0.1247    -0.12207]\n",
            "\u001b[34m\u001b[1mtrain: \u001b[0m/content/reloc2-1/train/images/videoplayback_5_3_frame_0338_jpg.rf.86c6cc03d16507a515c1792d377b16c8.jpg: ignoring corrupt image/label: negative label values [  -0.039496  -0.0040193]\n",
            "\u001b[34m\u001b[1mtrain: \u001b[0m/content/reloc2-1/train/images/videoplayback_5_3_frame_0360_jpg.rf.85ca65ecfe7fe2ddd737b2f9a07d135a.jpg: ignoring corrupt image/label: non-normalized or out of bounds coordinates [     1.0079      1.0079      1.0079      1.0053      1.0079      1.0079]\n",
            "\u001b[34m\u001b[1mtrain: \u001b[0m/content/reloc2-1/train/images/videoplayback_5_3_frame_0388_jpg.rf.02ae86e01af9c5889d7c4aad90e5fc63.jpg: ignoring corrupt image/label: non-normalized or out of bounds coordinates [      1.074       1.074       1.074      1.0714       1.074       1.074]\n",
            "\u001b[34m\u001b[1mtrain: \u001b[0m/content/reloc2-1/train/images/videoplayback_5_3_frame_0400_jpg.rf.e6f5455bab461f5d9b488814b90422fc.jpg: ignoring corrupt image/label: non-normalized or out of bounds coordinates [     1.0932      1.0932      1.0932      1.0905      1.0932      1.0932]\n",
            "\u001b[34m\u001b[1mtrain: \u001b[0m/content/reloc2-1/train/images/videoplayback_5_3_frame_0420_jpg.rf.91011234ae890a5fc66936049e023dec.jpg: ignoring corrupt image/label: non-normalized or out of bounds coordinates [     1.1058      1.1058      1.1058      1.1032      1.1058      1.1058]\n",
            "\u001b[34m\u001b[1mtrain: \u001b[0m/content/reloc2-1/train/images/videoplayback_6_4_frame_0028_jpg.rf.f2b7aaa990b7ada08071402d89f4318a.jpg: ignoring corrupt image/label: negative label values [  -0.025073   -0.029004   -0.025073   -0.023756   -0.029004    -0.02638    -0.01522   -0.021532]\n",
            "\u001b[34m\u001b[1mtrain: \u001b[0m/content/reloc2-1/train/images/videoplayback_6_4_frame_0044_jpg.rf.70409b5028b6dc5e62c98d502d762365.jpg: ignoring corrupt image/label: negative label values [   -0.10713    -0.11106    -0.10713    -0.10581    -0.11106    -0.10844   -0.097279    -0.10438]\n",
            "\u001b[34m\u001b[1mtrain: \u001b[0m/content/reloc2-1/train/images/videoplayback_6_4_frame_0084_jpg.rf.dce554d8c55576a9405d38a7f630d877.jpg: ignoring corrupt image/label: negative label values [  -0.087406   -0.091337   -0.087406   -0.086089   -0.091337   -0.088713   -0.077553   -0.084654]\n",
            "\u001b[34m\u001b[1mtrain: \u001b[0m/content/reloc2-1/train/images/videoplayback_6_4_frame_0108_jpg.rf.31febc2aa23c3bec1c914f9c7968d8b9.jpg: ignoring corrupt image/label: non-normalized or out of bounds coordinates [     1.0145]\n",
            "\u001b[34m\u001b[1mtrain: \u001b[0m/content/reloc2-1/train/images/videoplayback_6_4_frame_0124_jpg.rf.f581c66a00ee1ef0e64ea4b6717b8dff.jpg: ignoring corrupt image/label: non-normalized or out of bounds coordinates [     1.1081]\n",
            "\u001b[34m\u001b[1mtrain: \u001b[0m/content/reloc2-1/train/images/videoplayback_6_4_frame_0136_jpg.rf.3310aade1025c4212b9910c8699c1385.jpg: ignoring corrupt image/label: non-normalized or out of bounds coordinates [     1.1571      1.1807      1.0579]\n",
            "\u001b[34m\u001b[1mtrain: \u001b[0m/content/reloc2-1/train/images/videoplayback_6_4_frame_0216_jpg.rf.0c69488073e6e36a1e1fab793d84ca45.jpg: ignoring corrupt image/label: negative label values [   -0.06918    -0.10492]\n",
            "\u001b[34m\u001b[1mtrain: \u001b[0m/content/reloc2-1/train/images/videoplayback_6_4_frame_0489_jpg.rf.250243fd7a8feccdef40eb5b19a00e7f.jpg: ignoring corrupt image/label: non-normalized or out of bounds coordinates [     1.0418]\n",
            "\u001b[34m\u001b[1mtrain: \u001b[0m/content/reloc2-1/train/images/videoplayback_6_4_frame_0505_jpg.rf.f2b06a506e650aa6b718147781fa9aa8.jpg: ignoring corrupt image/label: non-normalized or out of bounds coordinates [     1.0189]\n",
            "\u001b[34m\u001b[1mtrain: \u001b[0m/content/reloc2-1/train/images/videoplayback_6_4_frame_0569_jpg.rf.75b76a31d0d158ec3ad92e7a4a09ec1b.jpg: ignoring corrupt image/label: non-normalized or out of bounds coordinates [     1.0103]\n",
            "\u001b[34m\u001b[1mtrain: \u001b[0m/content/reloc2-1/train/images/videoplayback_6_4_frame_0597_jpg.rf.c0e57322abc87247842c751dde483eda.jpg: ignoring corrupt image/label: non-normalized or out of bounds coordinates [     1.0138]\n",
            "\u001b[34m\u001b[1mtrain: \u001b[0m/content/reloc2-1/train/images/videoplayback_6_4_frame_0625_jpg.rf.1edae7cdcf9146f1a37ebc8139516158.jpg: ignoring corrupt image/label: negative label values [  -0.052689    -0.05662   -0.052689   -0.051372    -0.05662   -0.053996   -0.042836   -0.049937]\n",
            "\u001b[34m\u001b[1mtrain: \u001b[0m/content/reloc2-1/train/images/videoplayback_SabenLee_frame_10587_jpg.rf.955aa43a84396f254005009a5b1d9d71.jpg: ignoring corrupt image/label: non-normalized or out of bounds coordinates [     1.0005]\n",
            "\u001b[34m\u001b[1mtrain: \u001b[0m/content/reloc2-1/train/images/videoplayback_SabenLee_frame_10887_jpg.rf.cb5e6a591a334c49f7583c87dedbcc81.jpg: ignoring corrupt image/label: non-normalized or out of bounds coordinates [     1.1091      1.1091      1.1091      1.1066      1.1091      1.1091]\n",
            "\u001b[34m\u001b[1mtrain: \u001b[0m/content/reloc2-1/train/images/videoplayback_SabenLee_frame_11805_jpg.rf.3b01b6ecbb63db956f4921e3695c85ae.jpg: ignoring corrupt image/label: non-normalized or out of bounds coordinates [     1.0364      1.0364      1.0364      1.0338      1.0364      1.0364]\n",
            "\u001b[34m\u001b[1mtrain: \u001b[0m/content/reloc2-1/train/images/videoplayback_SabenLee_frame_12045_jpg.rf.f51269f4a2b3d4115676735e61842f25.jpg: ignoring corrupt image/label: negative label values [  -0.089559   -0.093507   -0.089559   -0.088237   -0.093507   -0.090872]\n",
            "\u001b[34m\u001b[1mtrain: \u001b[0m/content/reloc2-1/train/images/videoplayback_SabenLee_frame_12246_jpg.rf.9919c9c440e9b76a0343a0a4b1c4cba5.jpg: ignoring corrupt image/label: non-normalized or out of bounds coordinates [     1.0612      1.0612      1.0612      1.0586      1.0612      1.0612]\n",
            "\u001b[34m\u001b[1mtrain: \u001b[0m/content/reloc2-1/train/images/videoplayback_SabenLee_frame_1242_jpg.rf.0906456246d745e91c43c5757a6d3914.jpg: ignoring corrupt image/label: negative label values [ -0.0012269  -0.0050176  -0.0012269  -0.0050176  -0.0024874]\n",
            "\u001b[34m\u001b[1mtrain: \u001b[0m/content/reloc2-1/train/images/videoplayback_SabenLee_frame_12465_jpg.rf.9f98f4fdc03b179912f93eaa1fece63b.jpg: ignoring corrupt image/label: non-normalized or out of bounds coordinates [     1.0395      1.0429]\n",
            "\u001b[34m\u001b[1mtrain: \u001b[0m/content/reloc2-1/train/images/videoplayback_SabenLee_frame_14151_jpg.rf.95a95607299dba45086d5ab3042cfb6a.jpg: ignoring corrupt image/label: non-normalized or out of bounds coordinates [     1.0926      1.0791]\n",
            "\u001b[34m\u001b[1mtrain: \u001b[0m/content/reloc2-1/train/images/videoplayback_SabenLee_frame_14391_jpg.rf.f76628faf83f4cd0a579c3d90c27bc16.jpg: ignoring corrupt image/label: negative label values [  -0.026738   -0.030685   -0.026738   -0.025416   -0.030685   -0.028051]\n",
            "\u001b[34m\u001b[1mtrain: \u001b[0m/content/reloc2-1/train/images/videoplayback_SabenLee_frame_14631_jpg.rf.2b426954f585af8026d776c6e594f7a1.jpg: ignoring corrupt image/label: negative label values [  -0.053189   -0.057137   -0.053189   -0.051867   -0.057137   -0.054502]\n",
            "\u001b[34m\u001b[1mtrain: \u001b[0m/content/reloc2-1/train/images/videoplayback_SabenLee_frame_15090_jpg.rf.06626bb1b0c4c09e0198d6bc4074fefd.jpg: ignoring corrupt image/label: non-normalized or out of bounds coordinates [      1.027]\n",
            "\u001b[34m\u001b[1mtrain: \u001b[0m/content/reloc2-1/train/images/videoplayback_SabenLee_frame_15330_jpg.rf.a983fe49dedc017ae7ded3ce0bb578c5.jpg: ignoring corrupt image/label: non-normalized or out of bounds coordinates [     1.0422      1.0287]\n",
            "\u001b[34m\u001b[1mtrain: \u001b[0m/content/reloc2-1/train/images/videoplayback_SabenLee_frame_15657_jpg.rf.0f3473f934a3c1a3e34f05668b042cfa.jpg: ignoring corrupt image/label: negative label values [  -0.046577   -0.050524   -0.046577   -0.045255   -0.050524   -0.047889]\n",
            "\u001b[34m\u001b[1mtrain: \u001b[0m/content/reloc2-1/train/images/videoplayback_SabenLee_frame_15897_jpg.rf.2aeeaaa18ad00208ed80c2b3e089fe47.jpg: ignoring corrupt image/label: non-normalized or out of bounds coordinates [     1.0179]\n",
            "\u001b[34m\u001b[1mtrain: \u001b[0m/content/reloc2-1/train/images/videoplayback_SabenLee_frame_16557_jpg.rf.eae2e0632df17ec63c1cabe06ca1db81.jpg: ignoring corrupt image/label: non-normalized or out of bounds coordinates [     1.0066]\n",
            "\u001b[34m\u001b[1mtrain: \u001b[0m/content/reloc2-1/train/images/videoplayback_SabenLee_frame_17046_jpg.rf.74ebaef1f3fbabfe5ed4c768642e4c27.jpg: ignoring corrupt image/label: non-normalized or out of bounds coordinates [      1.057      1.0435]\n",
            "\u001b[34m\u001b[1mtrain: \u001b[0m/content/reloc2-1/train/images/videoplayback_SabenLee_frame_17286_jpg.rf.3196c017e4889a9b211d293a0fa4dbbe.jpg: ignoring corrupt image/label: non-normalized or out of bounds coordinates [      1.076      1.0288]\n",
            "\u001b[34m\u001b[1mtrain: \u001b[0m/content/reloc2-1/train/images/videoplayback_SabenLee_frame_17511_jpg.rf.7fedd7faa0d2643f31e6fc1c0b7a141a.jpg: ignoring corrupt image/label: non-normalized or out of bounds coordinates [     1.1496      1.1361]\n",
            "\u001b[34m\u001b[1mtrain: \u001b[0m/content/reloc2-1/train/images/videoplayback_SabenLee_frame_17751_jpg.rf.383d6fe53e42cc157997fac2a5a00fda.jpg: ignoring corrupt image/label: non-normalized or out of bounds coordinates [     1.0065]\n",
            "\u001b[34m\u001b[1mtrain: \u001b[0m/content/reloc2-1/train/images/videoplayback_SabenLee_frame_17871_jpg.rf.b3f28ed2b835dab076af9340aac912a4.jpg: ignoring corrupt image/label: non-normalized or out of bounds coordinates [     1.0107]\n",
            "\u001b[34m\u001b[1mtrain: \u001b[0m/content/reloc2-1/train/images/videoplayback_SabenLee_frame_3300_jpg.rf.55853a548b8e5ef7665af33e3b09a9f2.jpg: ignoring corrupt image/label: negative label values [  -0.016975]\n",
            "\u001b[34m\u001b[1mtrain: \u001b[0m/content/reloc2-1/train/images/videoplayback_SabenLee_frame_4119_jpg.rf.7bce8987b0757a863e4830342e3afaa1.jpg: ignoring corrupt image/label: negative label values [  -0.081854    -0.12076]\n",
            "\u001b[34m\u001b[1mtrain: \u001b[0m/content/reloc2-1/train/images/videoplayback_SabenLee_frame_5415_jpg.rf.e93944befee57e7561a0b42cab46ce6a.jpg: ignoring corrupt image/label: negative label values [  -0.028952   -0.067862]\n",
            "\u001b[34m\u001b[1mtrain: \u001b[0m/content/reloc2-1/train/images/videoplayback_SabenLee_frame_5895_jpg.rf.174f1dc0ede2c2f53012cfbbfe56449b.jpg: ignoring corrupt image/label: non-normalized or out of bounds coordinates [      1.075       1.075       1.075      1.0725       1.075       1.075]\n",
            "\u001b[34m\u001b[1mtrain: \u001b[0m/content/reloc2-1/train/images/videoplayback_SabenLee_frame_6807_jpg.rf.685f7106ad0d04aaceb4317b405ce0bb.jpg: ignoring corrupt image/label: non-normalized or out of bounds coordinates [     1.0424      1.0499      1.0424      1.0424      1.0399      1.0424      1.0424]\n",
            "\u001b[34m\u001b[1mtrain: \u001b[0m/content/reloc2-1/train/images/videoplayback_SabenLee_frame_7386_jpg.rf.190a9911b4f53ab995c7c52e4a110c37.jpg: ignoring corrupt image/label: negative label values [ -0.0012089   -0.040119]\n",
            "\u001b[34m\u001b[1mtrain: \u001b[0m/content/reloc2-1/train/images/videoplayback_SabenLee_frame_8676_jpg.rf.293716e88b51837e00f8eb7b7aafea2e.jpg: ignoring corrupt image/label: negative label values [  -0.031949]\n",
            "\u001b[34m\u001b[1mtrain: \u001b[0m/content/reloc2-1/train/images/videoplayback_SabenLee_frame_8895_jpg.rf.2096b069fefe4b8bf5ea511512c174d1.jpg: ignoring corrupt image/label: non-normalized or out of bounds coordinates [     1.0091      1.0091      1.0091      1.0065      1.0091      1.0091]\n",
            "\u001b[34m\u001b[1mtrain: \u001b[0m/content/reloc2-1/train/images/videoplayback_SabenLee_frame_9015_jpg.rf.23a39fd6fa3bd856a3bc96aa08b81702.jpg: ignoring corrupt image/label: negative label values [  -0.016462]\n",
            "\u001b[34m\u001b[1mtrain: \u001b[0m/content/reloc2-1/train/images/videoplayback_SabenLee_frame_9480_jpg.rf.3d4de039efaea32f84b01fca0987a9b8.jpg: ignoring corrupt image/label: negative label values [  -0.016819   -0.020766   -0.016819   -0.015497   -0.020766   -0.018132]\n",
            "\u001b[34m\u001b[1mtrain: \u001b[0m/content/reloc2-1/train/images/videoplayback_SabenLee_frame_9720_jpg.rf.916ede455bfda8ff492230ea7fc5689e.jpg: ignoring corrupt image/label: non-normalized or out of bounds coordinates [      1.016      1.0089      1.0194      1.0089      1.0089      1.0064      1.0089      1.0089]\n",
            "\u001b[34m\u001b[1mtrain: \u001b[0m/content/reloc2-1/train/images/videoplayback_SabenLee_frame_9957_jpg.rf.9ff61217b5603a9f8932f16077a5adac.jpg: ignoring corrupt image/label: negative label values [  -0.021779   -0.025726   -0.021779   -0.020457   -0.025726   -0.023091]\n",
            "\u001b[34m\u001b[1mtrain: \u001b[0mNew cache created: /content/reloc2-1/train/labels.cache\n"
          ]
        },
        {
          "output_type": "stream",
          "name": "stderr",
          "text": [
            "\n"
          ]
        },
        {
          "output_type": "stream",
          "name": "stdout",
          "text": [
            "\u001b[34m\u001b[1malbumentations: \u001b[0mBlur(p=0.01, blur_limit=(3, 7)), MedianBlur(p=0.01, blur_limit=(3, 7)), ToGray(p=0.01, method='weighted_average', num_output_channels=3), CLAHE(p=0.01, clip_limit=(1.0, 4.0), tile_grid_size=(8, 8))\n",
            "\u001b[34m\u001b[1mval: \u001b[0mFast image access ✅ (ping: 0.0±0.0 ms, read: 1696.4±1387.9 MB/s, size: 325.8 KB)\n"
          ]
        },
        {
          "output_type": "stream",
          "name": "stderr",
          "text": [
            "\u001b[34m\u001b[1mval: \u001b[0mScanning /content/reloc2-1/valid/labels... 222 images, 0 backgrounds, 56 corrupt: 100%|██████████| 222/222 [00:00<00:00, 828.94it/s] "
          ]
        },
        {
          "output_type": "stream",
          "name": "stdout",
          "text": [
            "\u001b[34m\u001b[1mval: \u001b[0m/content/reloc2-1/valid/images/basketball_10_frame_0041_jpg.rf.6e5103ecebf6771e3af4349743e36a74.jpg: ignoring corrupt image/label: non-normalized or out of bounds coordinates [     1.2706      1.2706      1.2188      1.0878      1.0052]\n",
            "\u001b[34m\u001b[1mval: \u001b[0m/content/reloc2-1/valid/images/basketball_10_frame_0049_jpg.rf.64d847c281df967736c0256572a3e74f.jpg: ignoring corrupt image/label: non-normalized or out of bounds coordinates [      1.215       1.215      1.1632      1.0323]\n",
            "\u001b[34m\u001b[1mval: \u001b[0m/content/reloc2-1/valid/images/basketball_11_frame_0128_jpg.rf.41e9e3d4a029e68c1af20e2c02d955cf.jpg: ignoring corrupt image/label: non-normalized or out of bounds coordinates [     1.0058      1.0058]\n",
            "\u001b[34m\u001b[1mval: \u001b[0m/content/reloc2-1/valid/images/basketball_12_frame_0115_jpg.rf.f43b30880ad773946fcb1899b0d99c02.jpg: ignoring corrupt image/label: negative label values [  -0.023303    -0.12503    -0.13827    -0.13564]\n",
            "\u001b[34m\u001b[1mval: \u001b[0m/content/reloc2-1/valid/images/basketball_12_frame_0123_jpg.rf.326ef120701533d7a3a533f382228149.jpg: ignoring corrupt image/label: negative label values [  -0.079888   -0.093129   -0.090497]\n",
            "\u001b[34m\u001b[1mval: \u001b[0m/content/reloc2-1/valid/images/basketball_2_11_27_png.rf.0d03385e946b56bbfa88866b500be9e4.jpg: ignoring corrupt image/label: negative label values [  -0.040638   -0.038003]\n",
            "\u001b[34m\u001b[1mval: \u001b[0m/content/reloc2-1/valid/images/basketball_2_13_6_png.rf.db955cd4ef01528b40c6a5ad37adfc3f.jpg: ignoring corrupt image/label: negative label values [  -0.026253   -0.031513   -0.028883]\n",
            "\u001b[34m\u001b[1mval: \u001b[0m/content/reloc2-1/valid/images/basketball_2_14_13_png.rf.a906e9b9b33f5ade3236055060d86546.jpg: ignoring corrupt image/label: non-normalized or out of bounds coordinates [     1.0198      1.0198      1.0198      1.0172      1.0198      1.0198]\n",
            "\u001b[34m\u001b[1mval: \u001b[0m/content/reloc2-1/valid/images/basketball_2_14_22_png.rf.2c2e1922595a9692f3a07a6fa22fa70d.jpg: ignoring corrupt image/label: non-normalized or out of bounds coordinates [     1.0198      1.0198      1.0198      1.0172      1.0198      1.0198]\n",
            "\u001b[34m\u001b[1mval: \u001b[0m/content/reloc2-1/valid/images/basketball_2_14_23_png.rf.d8e7c86dc7aa03c089b38c4633e39467.jpg: ignoring corrupt image/label: non-normalized or out of bounds coordinates [     1.0198      1.0198      1.0198      1.0172      1.0198      1.0198]\n",
            "\u001b[34m\u001b[1mval: \u001b[0m/content/reloc2-1/valid/images/basketball_2_14_25_png.rf.846885326756742ef6621d37ae4c44d8.jpg: ignoring corrupt image/label: non-normalized or out of bounds coordinates [     1.0198      1.0198      1.0198      1.0172      1.0198      1.0198]\n",
            "\u001b[34m\u001b[1mval: \u001b[0m/content/reloc2-1/valid/images/basketball_2_1_10_png.rf.a60fd81618932c5c8d31bedcc9b6d15a.jpg: ignoring corrupt image/label: negative label values [  -0.040166    -0.18242     -0.1915]\n",
            "\u001b[34m\u001b[1mval: \u001b[0m/content/reloc2-1/valid/images/basketball_2_1_17_png.rf.19600098a016113382c89fafc84d3d60.jpg: ignoring corrupt image/label: negative label values [  -0.071789   -0.075737   -0.071789   -0.070468   -0.075737   -0.072401]\n",
            "\u001b[34m\u001b[1mval: \u001b[0m/content/reloc2-1/valid/images/basketball_2_1_24_png.rf.9928ab3abc9c42cd0ab9ede03764ca54.jpg: ignoring corrupt image/label: negative label values [ -0.0039646  -0.0079066  -0.0039646  -0.0026444  -0.0083113  -0.0083113]\n",
            "\u001b[34m\u001b[1mval: \u001b[0m/content/reloc2-1/valid/images/basketball_2_1_30_png.rf.c017b5fd46b4623984a015e1cc12fa5a.jpg: ignoring corrupt image/label: non-normalized or out of bounds coordinates [     1.0053]\n",
            "\u001b[34m\u001b[1mval: \u001b[0m/content/reloc2-1/valid/images/basketball_2_1_7_png.rf.2034849e66cdc940963759075a717397.jpg: ignoring corrupt image/label: negative label values [  -0.058124   -0.046275]\n",
            "\u001b[34m\u001b[1mval: \u001b[0m/content/reloc2-1/valid/images/basketball_2_2_11_png.rf.377b67b0fd3607c96293a7e37f279d0c.jpg: ignoring corrupt image/label: negative label values [  -0.018711   -0.021724   -0.018711   -0.017389   -0.022659   -0.020024]\n",
            "\u001b[34m\u001b[1mval: \u001b[0m/content/reloc2-1/valid/images/basketball_2_2_17_png.rf.620e64d4ec355b06be0d80276e2984ea.jpg: ignoring corrupt image/label: negative label values [   -0.22171    -0.22472    -0.22171    -0.22038    -0.22565    -0.22302]\n",
            "\u001b[34m\u001b[1mval: \u001b[0m/content/reloc2-1/valid/images/basketball_2_2_7_png.rf.9a06716df5ac489332a9df9e9bb46579.jpg: ignoring corrupt image/label: non-normalized or out of bounds coordinates [     1.1712      1.1712      1.1679]\n",
            "\u001b[34m\u001b[1mval: \u001b[0m/content/reloc2-1/valid/images/basketball_2_3_11_png.rf.a9028785eba5da97ee0eabd13f6f0a34.jpg: ignoring corrupt image/label: negative label values [ -0.0099705]\n",
            "\u001b[34m\u001b[1mval: \u001b[0m/content/reloc2-1/valid/images/basketball_2_4_16_png.rf.32f7965fbb7a41387c7840c08803dc62.jpg: ignoring corrupt image/label: non-normalized or out of bounds coordinates [     1.2762      1.2762      1.2762      1.2736      1.2762      1.2768       1.209      1.2981]\n",
            "\u001b[34m\u001b[1mval: \u001b[0m/content/reloc2-1/valid/images/basketball_2_4_25_png.rf.8207f835a7915053f3d86bee31eb4553.jpg: ignoring corrupt image/label: non-normalized or out of bounds coordinates [     1.0277      1.0256      1.1403      1.2468      1.0278      1.2485      1.2485      1.2459      1.2485      1.2485]\n",
            "\u001b[34m\u001b[1mval: \u001b[0m/content/reloc2-1/valid/images/basketball_2_5_13_png.rf.eb884a6490cc8c3d0e867286ffcadcc6.jpg: ignoring corrupt image/label: non-normalized or out of bounds coordinates [     1.0267      1.0796      1.0414]\n",
            "\u001b[34m\u001b[1mval: \u001b[0m/content/reloc2-1/valid/images/basketball_2_5_14_png.rf.2d68b42ddf36b58e53a8cbd50222fc52.jpg: ignoring corrupt image/label: non-normalized or out of bounds coordinates [     1.0407      1.0489      1.0107]\n",
            "\u001b[34m\u001b[1mval: \u001b[0m/content/reloc2-1/valid/images/basketball_2_5_15_png.rf.12ca6abebc99884f070575957a9048cc.jpg: ignoring corrupt image/label: non-normalized or out of bounds coordinates [     1.0477      1.0173]\n",
            "\u001b[34m\u001b[1mval: \u001b[0m/content/reloc2-1/valid/images/basketball_2_7_14_png.rf.50812cd94ee0c1fa15354adcb1aa8ee2.jpg: ignoring corrupt image/label: non-normalized or out of bounds coordinates [     1.0166      1.0166      1.0166       1.014      1.0166      1.0166]\n",
            "\u001b[34m\u001b[1mval: \u001b[0m/content/reloc2-1/valid/images/basketball_2_7_23_png.rf.cc5c15f77fb88d9a40eba93981473ff8.jpg: ignoring corrupt image/label: non-normalized or out of bounds coordinates [     1.0007       1.092      1.0897      1.1045      1.0942      1.1045      1.1045      1.1018      1.1045      1.1045]\n",
            "\u001b[34m\u001b[1mval: \u001b[0m/content/reloc2-1/valid/images/basketball_2_7_27_png.rf.004404efe401f7f3dbff19d8e62fb3bc.jpg: ignoring corrupt image/label: non-normalized or out of bounds coordinates [     1.0878      1.0855      1.1594        1.09      1.1594      1.1594      1.1568      1.1594      1.1594]\n",
            "\u001b[34m\u001b[1mval: \u001b[0m/content/reloc2-1/valid/images/basketball_2_7_2_png.rf.153c5cd81e469e3d3d9273dff23f9349.jpg: ignoring corrupt image/label: negative label values [   -0.12934    -0.13811    -0.13548]\n",
            "\u001b[34m\u001b[1mval: \u001b[0m/content/reloc2-1/valid/images/basketball_2_9_20_png.rf.09cb474844833f005d36fe3c7bf7afb8.jpg: ignoring corrupt image/label: non-normalized or out of bounds coordinates [     1.0234      1.0234      1.0234      1.0208      1.0234      1.0234]\n",
            "\u001b[34m\u001b[1mval: \u001b[0m/content/reloc2-1/valid/images/basketball_2_9_26_png.rf.23cf3206e194a0bf73de8971e5b66cdd.jpg: ignoring corrupt image/label: non-normalized or out of bounds coordinates [     1.0234      1.0234      1.0234      1.0208      1.0234      1.0234]\n",
            "\u001b[34m\u001b[1mval: \u001b[0m/content/reloc2-1/valid/images/basketball_3_3_19_png.rf.55ad0fa8f550a2d92cc7314fbae99a71.jpg: ignoring corrupt image/label: negative label values [ -0.0020764]\n",
            "\u001b[34m\u001b[1mval: \u001b[0m/content/reloc2-1/valid/images/basketball_3_3_20_png.rf.00c977375269a032514a3ba044aed807.jpg: ignoring corrupt image/label: negative label values [ -0.0020764]\n",
            "\u001b[34m\u001b[1mval: \u001b[0m/content/reloc2-1/valid/images/basketball_3_frame_0099_jpg.rf.4c7199c9ad390d657faf711cfd26f634.jpg: ignoring corrupt image/label: non-normalized or out of bounds coordinates [     1.0113]\n",
            "\u001b[34m\u001b[1mval: \u001b[0m/content/reloc2-1/valid/images/basketball_4_frame_0000_jpg.rf.dceca16f1edd663a361fa171b0754674.jpg: ignoring corrupt image/label: non-normalized or out of bounds coordinates [     1.0694      1.0182]\n",
            "\u001b[34m\u001b[1mval: \u001b[0m/content/reloc2-1/valid/images/basketball_4_frame_0008_jpg.rf.ad3625c2d6252f326fb2ac2a9179ebd2.jpg: ignoring corrupt image/label: non-normalized or out of bounds coordinates [     1.0521      1.0009]\n",
            "\u001b[34m\u001b[1mval: \u001b[0m/content/reloc2-1/valid/images/basketball_5_frame_0022_jpg.rf.de5583214859869e004476f978e87e6b.jpg: ignoring corrupt image/label: non-normalized or out of bounds coordinates [     1.2445      1.2445      1.2682      1.1328      1.0729       1.053]\n",
            "\u001b[34m\u001b[1mval: \u001b[0m/content/reloc2-1/valid/images/basketball_6_frame_0043_jpg.rf.0577c0dd8620e519f0a8ce9e4d429b5c.jpg: ignoring corrupt image/label: non-normalized or out of bounds coordinates [     1.2228      1.2228      1.1675      1.0347]\n",
            "\u001b[34m\u001b[1mval: \u001b[0m/content/reloc2-1/valid/images/basketball_8_frame_0120_jpg.rf.36992e80164cc712f9e001279255cb8c.jpg: ignoring corrupt image/label: non-normalized or out of bounds coordinates [     1.0544      1.0544      1.0544      1.0518      1.0544      1.0544]\n",
            "\u001b[34m\u001b[1mval: \u001b[0m/content/reloc2-1/valid/images/basketball_8_frame_0140_jpg.rf.ae649436f51ca019b92727e4d1dc8259.jpg: ignoring corrupt image/label: non-normalized or out of bounds coordinates [     1.0544      1.0544      1.0544      1.0518      1.0544      1.0544]\n",
            "\u001b[34m\u001b[1mval: \u001b[0m/content/reloc2-1/valid/images/basketball_9_frame_0008_jpg.rf.475949e6360b5f5c65a893d7827fdf09.jpg: ignoring corrupt image/label: non-normalized or out of bounds coordinates [     1.0163      1.0163      1.0163      1.0137      1.0163      1.0163]\n",
            "\u001b[34m\u001b[1mval: \u001b[0m/content/reloc2-1/valid/images/basketball_9_frame_0012_jpg.rf.49bbc427d33427bacea4b4515294c260.jpg: ignoring corrupt image/label: non-normalized or out of bounds coordinates [     1.0415      1.0415      1.0415      1.0389      1.0415      1.0415]\n",
            "\u001b[34m\u001b[1mval: \u001b[0m/content/reloc2-1/valid/images/faasdasd2_275_jpg.rf.2d0ece1037c1f0213592f781e2f9075c.jpg: ignoring corrupt image/label: negative label values [  -0.012827    -0.02903]\n",
            "\u001b[34m\u001b[1mval: \u001b[0m/content/reloc2-1/valid/images/videoplayback_4_2_frame_0620_jpg.rf.26150adfd02576fb98d0418bd2a02e6e.jpg: ignoring corrupt image/label: non-normalized or out of bounds coordinates [     1.1184      1.1184      1.0646]\n",
            "\u001b[34m\u001b[1mval: \u001b[0m/content/reloc2-1/valid/images/videoplayback_4_2_frame_0796_jpg.rf.7cbf75557a323fb33def500c17288269.jpg: ignoring corrupt image/label: negative label values [  -0.037187   -0.040852   -0.037187    -0.03596   -0.040852   -0.038406]\n",
            "\u001b[34m\u001b[1mval: \u001b[0m/content/reloc2-1/valid/images/videoplayback_5_1_frame_0096_jpg.rf.9fcf80a879aa8570a0e5198ce3a175ec.jpg: ignoring corrupt image/label: negative label values [ -0.0036266]\n",
            "\u001b[34m\u001b[1mval: \u001b[0m/content/reloc2-1/valid/images/videoplayback_5_2_frame_0000_jpg.rf.334ee74d1c2bacb6035fc4e3b23cffc4.jpg: ignoring corrupt image/label: non-normalized or out of bounds coordinates [     1.0573]\n",
            "\u001b[34m\u001b[1mval: \u001b[0m/content/reloc2-1/valid/images/videoplayback_5_3_frame_0048_jpg.rf.b099cf390c1a570efc0f9e6541dbe1da.jpg: ignoring corrupt image/label: negative label values [   -0.11444     -0.1175    -0.11444    -0.11312    -0.11838    -0.11575]\n",
            "\u001b[34m\u001b[1mval: \u001b[0m/content/reloc2-1/valid/images/videoplayback_5_3_frame_0128_jpg.rf.b5bc991ce033bec5bedeeaaec242692e.jpg: ignoring corrupt image/label: negative label values [  -0.075284   -0.078342   -0.075284   -0.073964   -0.079223   -0.076594]\n",
            "\u001b[34m\u001b[1mval: \u001b[0m/content/reloc2-1/valid/images/videoplayback_5_3_frame_0438_jpg.rf.1d67e5fac60c697ba56345bee0711b40.jpg: ignoring corrupt image/label: non-normalized or out of bounds coordinates [     1.0987      1.0987      1.0987      1.0961      1.0987      1.0987]\n",
            "\u001b[34m\u001b[1mval: \u001b[0m/content/reloc2-1/valid/images/videoplayback_6_4_frame_0068_jpg.rf.9821aa780f9be6a1d61473f5b702d28a.jpg: ignoring corrupt image/label: negative label values [   -0.13633    -0.14026    -0.13633    -0.13501    -0.14026    -0.13763    -0.12647    -0.13357]\n",
            "\u001b[34m\u001b[1mval: \u001b[0m/content/reloc2-1/valid/images/videoplayback_6_4_frame_0449_jpg.rf.f210c0cbfd87999f1fbb740905e06b49.jpg: ignoring corrupt image/label: non-normalized or out of bounds coordinates [     1.1973      1.0744]\n",
            "\u001b[34m\u001b[1mval: \u001b[0m/content/reloc2-1/valid/images/videoplayback_SabenLee_frame_11346_jpg.rf.db7ccff28cbf49c4489b661cf6913b98.jpg: ignoring corrupt image/label: negative label values [  -0.032167]\n",
            "\u001b[34m\u001b[1mval: \u001b[0m/content/reloc2-1/valid/images/videoplayback_SabenLee_frame_12705_jpg.rf.aa0b00c2714aa266c75326c6bd33ff7e.jpg: ignoring corrupt image/label: negative label values [ -0.0011136   -0.005061  -0.0011136   -0.005061  -0.0024263]\n",
            "\u001b[34m\u001b[1mval: \u001b[0m/content/reloc2-1/valid/images/videoplayback_SabenLee_frame_13851_jpg.rf.fd09a99071179fa31e95adcdc01f9cdc.jpg: ignoring corrupt image/label: non-normalized or out of bounds coordinates [     1.0124]\n",
            "\u001b[34m\u001b[1mval: \u001b[0m/content/reloc2-1/valid/images/videoplayback_SabenLee_frame_1980_jpg.rf.1cbde0b4220d40d2f7eccb95948b2aab.jpg: ignoring corrupt image/label: non-normalized or out of bounds coordinates [      1.022]\n",
            "\u001b[34m\u001b[1mval: \u001b[0mNew cache created: /content/reloc2-1/valid/labels.cache\n"
          ]
        },
        {
          "output_type": "stream",
          "name": "stderr",
          "text": [
            "\n"
          ]
        },
        {
          "output_type": "stream",
          "name": "stdout",
          "text": [
            "Plotting labels to runs/pose/reloc2_keypoints_model/labels.jpg... \n",
            "\u001b[34m\u001b[1moptimizer:\u001b[0m 'optimizer=auto' found, ignoring 'lr0=0.01' and 'momentum=0.937' and determining best 'optimizer', 'lr0' and 'momentum' automatically... \n",
            "\u001b[34m\u001b[1moptimizer:\u001b[0m AdamW(lr=0.002, momentum=0.9) with parameter groups 63 weight(decay=0.0), 73 weight(decay=0.0005), 72 bias(decay=0.0)\n",
            "Image sizes 640 train, 640 val\n",
            "Using 2 dataloader workers\n",
            "Logging results to \u001b[1mruns/pose/reloc2_keypoints_model\u001b[0m\n",
            "Starting training for 50 epochs...\n",
            "\n",
            "      Epoch    GPU_mem   box_loss  pose_loss  kobj_loss   cls_loss   dfl_loss  Instances       Size\n"
          ]
        },
        {
          "output_type": "stream",
          "name": "stderr",
          "text": [
            "       1/50      1.19G      1.114      9.528     0.6715      1.006      1.466         14        640: 100%|██████████| 111/111 [00:30<00:00,  3.63it/s]\n",
            "                 Class     Images  Instances      Box(P          R      mAP50  mAP50-95)     Pose(P          R      mAP50  mAP50-95): 100%|██████████| 11/11 [00:03<00:00,  3.30it/s]"
          ]
        },
        {
          "output_type": "stream",
          "name": "stdout",
          "text": [
            "                   all        166        166      0.969      0.942      0.989      0.609    0.00938    0.00602   0.000653   0.000261\n"
          ]
        },
        {
          "output_type": "stream",
          "name": "stderr",
          "text": [
            "\n"
          ]
        },
        {
          "output_type": "stream",
          "name": "stdout",
          "text": [
            "\n",
            "      Epoch    GPU_mem   box_loss  pose_loss  kobj_loss   cls_loss   dfl_loss  Instances       Size\n"
          ]
        },
        {
          "output_type": "stream",
          "name": "stderr",
          "text": [
            "       2/50       1.3G     0.7499      8.262      0.599     0.5201      1.168         13        640: 100%|██████████| 111/111 [00:25<00:00,  4.40it/s]\n",
            "                 Class     Images  Instances      Box(P          R      mAP50  mAP50-95)     Pose(P          R      mAP50  mAP50-95): 100%|██████████| 11/11 [00:02<00:00,  4.32it/s]"
          ]
        },
        {
          "output_type": "stream",
          "name": "stdout",
          "text": [
            "                   all        166        166      0.948      0.982      0.992       0.79    0.00626    0.00602   0.000503   5.03e-05\n"
          ]
        },
        {
          "output_type": "stream",
          "name": "stderr",
          "text": [
            "\n"
          ]
        },
        {
          "output_type": "stream",
          "name": "stdout",
          "text": [
            "\n",
            "      Epoch    GPU_mem   box_loss  pose_loss  kobj_loss   cls_loss   dfl_loss  Instances       Size\n"
          ]
        },
        {
          "output_type": "stream",
          "name": "stderr",
          "text": [
            "       3/50      1.33G     0.7056      6.977     0.5603     0.5077      1.141         11        640: 100%|██████████| 111/111 [00:24<00:00,  4.45it/s]\n",
            "                 Class     Images  Instances      Box(P          R      mAP50  mAP50-95)     Pose(P          R      mAP50  mAP50-95): 100%|██████████| 11/11 [00:02<00:00,  4.83it/s]"
          ]
        },
        {
          "output_type": "stream",
          "name": "stdout",
          "text": [
            "                   all        166        166       0.97       0.97      0.992      0.843     0.0369     0.0361    0.00594   0.000835\n"
          ]
        },
        {
          "output_type": "stream",
          "name": "stderr",
          "text": [
            "\n"
          ]
        },
        {
          "output_type": "stream",
          "name": "stdout",
          "text": [
            "\n",
            "      Epoch    GPU_mem   box_loss  pose_loss  kobj_loss   cls_loss   dfl_loss  Instances       Size\n"
          ]
        },
        {
          "output_type": "stream",
          "name": "stderr",
          "text": [
            "       4/50      1.35G      0.681      6.235     0.5371     0.4796      1.123         10        640: 100%|██████████| 111/111 [00:24<00:00,  4.45it/s]\n",
            "                 Class     Images  Instances      Box(P          R      mAP50  mAP50-95)     Pose(P          R      mAP50  mAP50-95): 100%|██████████| 11/11 [00:02<00:00,  4.60it/s]"
          ]
        },
        {
          "output_type": "stream",
          "name": "stdout",
          "text": [
            "                   all        166        166      0.993          1      0.995       0.88      0.193      0.193     0.0786     0.0144\n"
          ]
        },
        {
          "output_type": "stream",
          "name": "stderr",
          "text": [
            "\n"
          ]
        },
        {
          "output_type": "stream",
          "name": "stdout",
          "text": [
            "\n",
            "      Epoch    GPU_mem   box_loss  pose_loss  kobj_loss   cls_loss   dfl_loss  Instances       Size\n"
          ]
        },
        {
          "output_type": "stream",
          "name": "stderr",
          "text": [
            "       5/50      1.36G     0.6705      5.583     0.5259     0.4628      1.118         12        640: 100%|██████████| 111/111 [00:26<00:00,  4.21it/s]\n",
            "                 Class     Images  Instances      Box(P          R      mAP50  mAP50-95)     Pose(P          R      mAP50  mAP50-95): 100%|██████████| 11/11 [00:02<00:00,  4.93it/s]"
          ]
        },
        {
          "output_type": "stream",
          "name": "stdout",
          "text": [
            "                   all        166        166      0.988      0.997      0.995      0.852      0.328      0.319      0.124     0.0231\n"
          ]
        },
        {
          "output_type": "stream",
          "name": "stderr",
          "text": [
            "\n"
          ]
        },
        {
          "output_type": "stream",
          "name": "stdout",
          "text": [
            "\n",
            "      Epoch    GPU_mem   box_loss  pose_loss  kobj_loss   cls_loss   dfl_loss  Instances       Size\n"
          ]
        },
        {
          "output_type": "stream",
          "name": "stderr",
          "text": [
            "       6/50      1.39G     0.6132       5.01     0.5197      0.436      1.083          7        640: 100%|██████████| 111/111 [00:24<00:00,  4.47it/s]\n",
            "                 Class     Images  Instances      Box(P          R      mAP50  mAP50-95)     Pose(P          R      mAP50  mAP50-95): 100%|██████████| 11/11 [00:02<00:00,  4.82it/s]"
          ]
        },
        {
          "output_type": "stream",
          "name": "stdout",
          "text": [
            "                   all        166        166      0.975          1      0.995      0.857      0.404      0.404      0.216     0.0464\n"
          ]
        },
        {
          "output_type": "stream",
          "name": "stderr",
          "text": [
            "\n"
          ]
        },
        {
          "output_type": "stream",
          "name": "stdout",
          "text": [
            "\n",
            "      Epoch    GPU_mem   box_loss  pose_loss  kobj_loss   cls_loss   dfl_loss  Instances       Size\n"
          ]
        },
        {
          "output_type": "stream",
          "name": "stderr",
          "text": [
            "       7/50      1.41G     0.6218      4.771     0.5092     0.4399       1.09         10        640: 100%|██████████| 111/111 [00:25<00:00,  4.40it/s]\n",
            "                 Class     Images  Instances      Box(P          R      mAP50  mAP50-95)     Pose(P          R      mAP50  mAP50-95): 100%|██████████| 11/11 [00:02<00:00,  3.80it/s]"
          ]
        },
        {
          "output_type": "stream",
          "name": "stdout",
          "text": [
            "                   all        166        166      0.994      0.999      0.995      0.877      0.656      0.656      0.505      0.136\n"
          ]
        },
        {
          "output_type": "stream",
          "name": "stderr",
          "text": [
            "\n"
          ]
        },
        {
          "output_type": "stream",
          "name": "stdout",
          "text": [
            "\n",
            "      Epoch    GPU_mem   box_loss  pose_loss  kobj_loss   cls_loss   dfl_loss  Instances       Size\n"
          ]
        },
        {
          "output_type": "stream",
          "name": "stderr",
          "text": [
            "       8/50      1.43G     0.6035      4.466     0.5042     0.4078      1.074         15        640: 100%|██████████| 111/111 [00:24<00:00,  4.50it/s]\n",
            "                 Class     Images  Instances      Box(P          R      mAP50  mAP50-95)     Pose(P          R      mAP50  mAP50-95): 100%|██████████| 11/11 [00:03<00:00,  3.08it/s]"
          ]
        },
        {
          "output_type": "stream",
          "name": "stdout",
          "text": [
            "                   all        166        166      0.999          1      0.995      0.907      0.708      0.717      0.611      0.214\n"
          ]
        },
        {
          "output_type": "stream",
          "name": "stderr",
          "text": [
            "\n"
          ]
        },
        {
          "output_type": "stream",
          "name": "stdout",
          "text": [
            "\n",
            "      Epoch    GPU_mem   box_loss  pose_loss  kobj_loss   cls_loss   dfl_loss  Instances       Size\n"
          ]
        },
        {
          "output_type": "stream",
          "name": "stderr",
          "text": [
            "       9/50      1.45G      0.593      4.071     0.4958     0.4061      1.078         12        640: 100%|██████████| 111/111 [00:25<00:00,  4.40it/s]\n",
            "                 Class     Images  Instances      Box(P          R      mAP50  mAP50-95)     Pose(P          R      mAP50  mAP50-95): 100%|██████████| 11/11 [00:02<00:00,  4.38it/s]"
          ]
        },
        {
          "output_type": "stream",
          "name": "stdout",
          "text": [
            "                   all        166        166      0.988      0.999      0.995      0.893      0.834      0.837      0.765      0.263\n"
          ]
        },
        {
          "output_type": "stream",
          "name": "stderr",
          "text": [
            "\n"
          ]
        },
        {
          "output_type": "stream",
          "name": "stdout",
          "text": [
            "\n",
            "      Epoch    GPU_mem   box_loss  pose_loss  kobj_loss   cls_loss   dfl_loss  Instances       Size\n"
          ]
        },
        {
          "output_type": "stream",
          "name": "stderr",
          "text": [
            "      10/50      1.47G     0.5803      3.813     0.4839     0.3857      1.064         12        640: 100%|██████████| 111/111 [00:25<00:00,  4.40it/s]\n",
            "                 Class     Images  Instances      Box(P          R      mAP50  mAP50-95)     Pose(P          R      mAP50  mAP50-95): 100%|██████████| 11/11 [00:02<00:00,  4.77it/s]"
          ]
        },
        {
          "output_type": "stream",
          "name": "stdout",
          "text": [
            "                   all        166        166          1          1      0.995      0.909      0.764      0.765      0.658      0.252\n"
          ]
        },
        {
          "output_type": "stream",
          "name": "stderr",
          "text": [
            "\n"
          ]
        },
        {
          "output_type": "stream",
          "name": "stdout",
          "text": [
            "\n",
            "      Epoch    GPU_mem   box_loss  pose_loss  kobj_loss   cls_loss   dfl_loss  Instances       Size\n"
          ]
        },
        {
          "output_type": "stream",
          "name": "stderr",
          "text": [
            "      11/50      1.48G     0.5559      3.754     0.4779     0.3793      1.048         13        640: 100%|██████████| 111/111 [00:26<00:00,  4.19it/s]\n",
            "                 Class     Images  Instances      Box(P          R      mAP50  mAP50-95)     Pose(P          R      mAP50  mAP50-95): 100%|██████████| 11/11 [00:02<00:00,  4.54it/s]"
          ]
        },
        {
          "output_type": "stream",
          "name": "stdout",
          "text": [
            "                   all        166        166      0.999          1      0.995      0.902      0.753      0.753      0.723      0.236\n"
          ]
        },
        {
          "output_type": "stream",
          "name": "stderr",
          "text": [
            "\n"
          ]
        },
        {
          "output_type": "stream",
          "name": "stdout",
          "text": [
            "\n",
            "      Epoch    GPU_mem   box_loss  pose_loss  kobj_loss   cls_loss   dfl_loss  Instances       Size\n"
          ]
        },
        {
          "output_type": "stream",
          "name": "stderr",
          "text": [
            "      12/50       1.5G     0.5435      3.479     0.4755     0.3685      1.058         11        640: 100%|██████████| 111/111 [00:25<00:00,  4.39it/s]\n",
            "                 Class     Images  Instances      Box(P          R      mAP50  mAP50-95)     Pose(P          R      mAP50  mAP50-95): 100%|██████████| 11/11 [00:02<00:00,  4.38it/s]"
          ]
        },
        {
          "output_type": "stream",
          "name": "stdout",
          "text": [
            "                   all        166        166      0.981      0.994      0.995      0.925      0.862      0.849      0.808      0.394\n"
          ]
        },
        {
          "output_type": "stream",
          "name": "stderr",
          "text": [
            "\n"
          ]
        },
        {
          "output_type": "stream",
          "name": "stdout",
          "text": [
            "\n",
            "      Epoch    GPU_mem   box_loss  pose_loss  kobj_loss   cls_loss   dfl_loss  Instances       Size\n"
          ]
        },
        {
          "output_type": "stream",
          "name": "stderr",
          "text": [
            "      13/50      1.51G     0.5372      3.328     0.4755     0.3656      1.033         14        640: 100%|██████████| 111/111 [00:25<00:00,  4.37it/s]\n",
            "                 Class     Images  Instances      Box(P          R      mAP50  mAP50-95)     Pose(P          R      mAP50  mAP50-95): 100%|██████████| 11/11 [00:03<00:00,  3.16it/s]"
          ]
        },
        {
          "output_type": "stream",
          "name": "stdout",
          "text": [
            "                   all        166        166          1          1      0.995      0.932      0.849      0.849      0.799      0.279\n"
          ]
        },
        {
          "output_type": "stream",
          "name": "stderr",
          "text": [
            "\n"
          ]
        },
        {
          "output_type": "stream",
          "name": "stdout",
          "text": [
            "\n",
            "      Epoch    GPU_mem   box_loss  pose_loss  kobj_loss   cls_loss   dfl_loss  Instances       Size\n"
          ]
        },
        {
          "output_type": "stream",
          "name": "stderr",
          "text": [
            "      14/50      1.54G     0.5257      3.039     0.4727     0.3515      1.032          6        640: 100%|██████████| 111/111 [00:25<00:00,  4.32it/s]\n",
            "                 Class     Images  Instances      Box(P          R      mAP50  mAP50-95)     Pose(P          R      mAP50  mAP50-95): 100%|██████████| 11/11 [00:02<00:00,  4.34it/s]"
          ]
        },
        {
          "output_type": "stream",
          "name": "stdout",
          "text": [
            "                   all        166        166      0.999          1      0.995      0.915      0.873      0.873      0.795      0.386\n"
          ]
        },
        {
          "output_type": "stream",
          "name": "stderr",
          "text": [
            "\n"
          ]
        },
        {
          "output_type": "stream",
          "name": "stdout",
          "text": [
            "\n",
            "      Epoch    GPU_mem   box_loss  pose_loss  kobj_loss   cls_loss   dfl_loss  Instances       Size\n"
          ]
        },
        {
          "output_type": "stream",
          "name": "stderr",
          "text": [
            "      15/50      1.56G      0.523      2.881     0.4658     0.3537      1.028         10        640: 100%|██████████| 111/111 [00:25<00:00,  4.36it/s]\n",
            "                 Class     Images  Instances      Box(P          R      mAP50  mAP50-95)     Pose(P          R      mAP50  mAP50-95): 100%|██████████| 11/11 [00:02<00:00,  4.57it/s]"
          ]
        },
        {
          "output_type": "stream",
          "name": "stdout",
          "text": [
            "                   all        166        166      0.999          1      0.995      0.922      0.896      0.892      0.887      0.459\n"
          ]
        },
        {
          "output_type": "stream",
          "name": "stderr",
          "text": [
            "\n"
          ]
        },
        {
          "output_type": "stream",
          "name": "stdout",
          "text": [
            "\n",
            "      Epoch    GPU_mem   box_loss  pose_loss  kobj_loss   cls_loss   dfl_loss  Instances       Size\n"
          ]
        },
        {
          "output_type": "stream",
          "name": "stderr",
          "text": [
            "      16/50      1.58G     0.5027      2.802     0.4656     0.3506      1.022         10        640: 100%|██████████| 111/111 [00:25<00:00,  4.32it/s]\n",
            "                 Class     Images  Instances      Box(P          R      mAP50  mAP50-95)     Pose(P          R      mAP50  mAP50-95): 100%|██████████| 11/11 [00:02<00:00,  4.79it/s]"
          ]
        },
        {
          "output_type": "stream",
          "name": "stdout",
          "text": [
            "                   all        166        166      0.999          1      0.995      0.931      0.884      0.886      0.809      0.404\n"
          ]
        },
        {
          "output_type": "stream",
          "name": "stderr",
          "text": [
            "\n"
          ]
        },
        {
          "output_type": "stream",
          "name": "stdout",
          "text": [
            "\n",
            "      Epoch    GPU_mem   box_loss  pose_loss  kobj_loss   cls_loss   dfl_loss  Instances       Size\n"
          ]
        },
        {
          "output_type": "stream",
          "name": "stderr",
          "text": [
            "      17/50       1.6G     0.4966      2.732     0.4558     0.3418      1.022         14        640: 100%|██████████| 111/111 [00:26<00:00,  4.15it/s]\n",
            "                 Class     Images  Instances      Box(P          R      mAP50  mAP50-95)     Pose(P          R      mAP50  mAP50-95): 100%|██████████| 11/11 [00:02<00:00,  4.67it/s]"
          ]
        },
        {
          "output_type": "stream",
          "name": "stdout",
          "text": [
            "                   all        166        166      0.999          1      0.995      0.943      0.897      0.898       0.88      0.458\n"
          ]
        },
        {
          "output_type": "stream",
          "name": "stderr",
          "text": [
            "\n"
          ]
        },
        {
          "output_type": "stream",
          "name": "stdout",
          "text": [
            "\n",
            "      Epoch    GPU_mem   box_loss  pose_loss  kobj_loss   cls_loss   dfl_loss  Instances       Size\n"
          ]
        },
        {
          "output_type": "stream",
          "name": "stderr",
          "text": [
            "      18/50      1.62G     0.4804      2.594     0.4508     0.3392      1.012         12        640: 100%|██████████| 111/111 [00:25<00:00,  4.32it/s]\n",
            "                 Class     Images  Instances      Box(P          R      mAP50  mAP50-95)     Pose(P          R      mAP50  mAP50-95): 100%|██████████| 11/11 [00:03<00:00,  3.43it/s]"
          ]
        },
        {
          "output_type": "stream",
          "name": "stdout",
          "text": [
            "                   all        166        166      0.994          1      0.994      0.927      0.898      0.904       0.91      0.555\n"
          ]
        },
        {
          "output_type": "stream",
          "name": "stderr",
          "text": [
            "\n"
          ]
        },
        {
          "output_type": "stream",
          "name": "stdout",
          "text": [
            "\n",
            "      Epoch    GPU_mem   box_loss  pose_loss  kobj_loss   cls_loss   dfl_loss  Instances       Size\n"
          ]
        },
        {
          "output_type": "stream",
          "name": "stderr",
          "text": [
            "      19/50      1.63G     0.4833      2.459     0.4538     0.3288      1.015         11        640: 100%|██████████| 111/111 [00:25<00:00,  4.38it/s]\n",
            "                 Class     Images  Instances      Box(P          R      mAP50  mAP50-95)     Pose(P          R      mAP50  mAP50-95): 100%|██████████| 11/11 [00:02<00:00,  3.78it/s]"
          ]
        },
        {
          "output_type": "stream",
          "name": "stdout",
          "text": [
            "                   all        166        166      0.993          1      0.995      0.944      0.898      0.904      0.906       0.54\n"
          ]
        },
        {
          "output_type": "stream",
          "name": "stderr",
          "text": [
            "\n"
          ]
        },
        {
          "output_type": "stream",
          "name": "stdout",
          "text": [
            "\n",
            "      Epoch    GPU_mem   box_loss  pose_loss  kobj_loss   cls_loss   dfl_loss  Instances       Size\n"
          ]
        },
        {
          "output_type": "stream",
          "name": "stderr",
          "text": [
            "      20/50      1.65G     0.4642      2.323     0.4549     0.3229     0.9967         11        640: 100%|██████████| 111/111 [00:25<00:00,  4.34it/s]\n",
            "                 Class     Images  Instances      Box(P          R      mAP50  mAP50-95)     Pose(P          R      mAP50  mAP50-95): 100%|██████████| 11/11 [00:02<00:00,  4.74it/s]"
          ]
        },
        {
          "output_type": "stream",
          "name": "stdout",
          "text": [
            "                   all        166        166          1          1      0.995      0.937      0.898      0.897      0.876      0.545\n"
          ]
        },
        {
          "output_type": "stream",
          "name": "stderr",
          "text": [
            "\n"
          ]
        },
        {
          "output_type": "stream",
          "name": "stdout",
          "text": [
            "\n",
            "      Epoch    GPU_mem   box_loss  pose_loss  kobj_loss   cls_loss   dfl_loss  Instances       Size\n"
          ]
        },
        {
          "output_type": "stream",
          "name": "stderr",
          "text": [
            "      21/50      1.66G     0.4639      2.319     0.4615     0.3246     0.9987         12        640: 100%|██████████| 111/111 [00:25<00:00,  4.39it/s]\n",
            "                 Class     Images  Instances      Box(P          R      mAP50  mAP50-95)     Pose(P          R      mAP50  mAP50-95): 100%|██████████| 11/11 [00:02<00:00,  4.55it/s]"
          ]
        },
        {
          "output_type": "stream",
          "name": "stdout",
          "text": [
            "                   all        166        166      0.988          1      0.995      0.943      0.916      0.928      0.878      0.536\n"
          ]
        },
        {
          "output_type": "stream",
          "name": "stderr",
          "text": [
            "\n"
          ]
        },
        {
          "output_type": "stream",
          "name": "stdout",
          "text": [
            "\n",
            "      Epoch    GPU_mem   box_loss  pose_loss  kobj_loss   cls_loss   dfl_loss  Instances       Size\n"
          ]
        },
        {
          "output_type": "stream",
          "name": "stderr",
          "text": [
            "      22/50      1.69G     0.4691      2.265     0.4487     0.3247      1.002         12        640: 100%|██████████| 111/111 [00:25<00:00,  4.32it/s]\n",
            "                 Class     Images  Instances      Box(P          R      mAP50  mAP50-95)     Pose(P          R      mAP50  mAP50-95): 100%|██████████| 11/11 [00:02<00:00,  4.64it/s]"
          ]
        },
        {
          "output_type": "stream",
          "name": "stdout",
          "text": [
            "                   all        166        166      0.994          1      0.995      0.932      0.922      0.928      0.897      0.547\n"
          ]
        },
        {
          "output_type": "stream",
          "name": "stderr",
          "text": [
            "\n"
          ]
        },
        {
          "output_type": "stream",
          "name": "stdout",
          "text": [
            "\n",
            "      Epoch    GPU_mem   box_loss  pose_loss  kobj_loss   cls_loss   dfl_loss  Instances       Size\n"
          ]
        },
        {
          "output_type": "stream",
          "name": "stderr",
          "text": [
            "      23/50      1.71G     0.4618      2.253      0.456     0.3069     0.9914         14        640: 100%|██████████| 111/111 [00:26<00:00,  4.15it/s]\n",
            "                 Class     Images  Instances      Box(P          R      mAP50  mAP50-95)     Pose(P          R      mAP50  mAP50-95): 100%|██████████| 11/11 [00:03<00:00,  3.16it/s]"
          ]
        },
        {
          "output_type": "stream",
          "name": "stdout",
          "text": [
            "                   all        166        166          1          1      0.995      0.944      0.921      0.922      0.892      0.469\n"
          ]
        },
        {
          "output_type": "stream",
          "name": "stderr",
          "text": [
            "\n"
          ]
        },
        {
          "output_type": "stream",
          "name": "stdout",
          "text": [
            "\n",
            "      Epoch    GPU_mem   box_loss  pose_loss  kobj_loss   cls_loss   dfl_loss  Instances       Size\n"
          ]
        },
        {
          "output_type": "stream",
          "name": "stderr",
          "text": [
            "      24/50      1.73G     0.4415      2.022     0.4476     0.3004     0.9884         12        640: 100%|██████████| 111/111 [00:24<00:00,  4.45it/s]\n",
            "                 Class     Images  Instances      Box(P          R      mAP50  mAP50-95)     Pose(P          R      mAP50  mAP50-95): 100%|██████████| 11/11 [00:03<00:00,  3.61it/s]"
          ]
        },
        {
          "output_type": "stream",
          "name": "stdout",
          "text": [
            "                   all        166        166      0.999          1      0.995       0.94      0.927      0.928      0.925      0.577\n"
          ]
        },
        {
          "output_type": "stream",
          "name": "stderr",
          "text": [
            "\n"
          ]
        },
        {
          "output_type": "stream",
          "name": "stdout",
          "text": [
            "\n",
            "      Epoch    GPU_mem   box_loss  pose_loss  kobj_loss   cls_loss   dfl_loss  Instances       Size\n"
          ]
        },
        {
          "output_type": "stream",
          "name": "stderr",
          "text": [
            "      25/50      1.75G     0.4312      1.947     0.4393     0.2986     0.9861          8        640: 100%|██████████| 111/111 [00:25<00:00,  4.40it/s]\n",
            "                 Class     Images  Instances      Box(P          R      mAP50  mAP50-95)     Pose(P          R      mAP50  mAP50-95): 100%|██████████| 11/11 [00:02<00:00,  4.56it/s]"
          ]
        },
        {
          "output_type": "stream",
          "name": "stdout",
          "text": [
            "                   all        166        166      0.994          1      0.995      0.945      0.947      0.928      0.946      0.672\n"
          ]
        },
        {
          "output_type": "stream",
          "name": "stderr",
          "text": [
            "\n"
          ]
        },
        {
          "output_type": "stream",
          "name": "stdout",
          "text": [
            "\n",
            "      Epoch    GPU_mem   box_loss  pose_loss  kobj_loss   cls_loss   dfl_loss  Instances       Size\n"
          ]
        },
        {
          "output_type": "stream",
          "name": "stderr",
          "text": [
            "      26/50      1.77G     0.4193      1.864     0.4456     0.2936     0.9874         13        640: 100%|██████████| 111/111 [00:25<00:00,  4.36it/s]\n",
            "                 Class     Images  Instances      Box(P          R      mAP50  mAP50-95)     Pose(P          R      mAP50  mAP50-95): 100%|██████████| 11/11 [00:02<00:00,  4.85it/s]"
          ]
        },
        {
          "output_type": "stream",
          "name": "stdout",
          "text": [
            "                   all        166        166      0.999          1      0.995      0.935      0.921      0.922      0.921       0.59\n"
          ]
        },
        {
          "output_type": "stream",
          "name": "stderr",
          "text": [
            "\n"
          ]
        },
        {
          "output_type": "stream",
          "name": "stdout",
          "text": [
            "\n",
            "      Epoch    GPU_mem   box_loss  pose_loss  kobj_loss   cls_loss   dfl_loss  Instances       Size\n"
          ]
        },
        {
          "output_type": "stream",
          "name": "stderr",
          "text": [
            "      27/50      1.79G     0.4324      1.853     0.4413     0.2999     0.9834         13        640: 100%|██████████| 111/111 [00:25<00:00,  4.41it/s]\n",
            "                 Class     Images  Instances      Box(P          R      mAP50  mAP50-95)     Pose(P          R      mAP50  mAP50-95): 100%|██████████| 11/11 [00:02<00:00,  4.52it/s]"
          ]
        },
        {
          "output_type": "stream",
          "name": "stdout",
          "text": [
            "                   all        166        166      0.999          1      0.995       0.94      0.927      0.928      0.915      0.616\n"
          ]
        },
        {
          "output_type": "stream",
          "name": "stderr",
          "text": [
            "\n"
          ]
        },
        {
          "output_type": "stream",
          "name": "stdout",
          "text": [
            "\n",
            "      Epoch    GPU_mem   box_loss  pose_loss  kobj_loss   cls_loss   dfl_loss  Instances       Size\n"
          ]
        },
        {
          "output_type": "stream",
          "name": "stderr",
          "text": [
            "      28/50       1.8G     0.4172        1.7     0.4428      0.291     0.9744         11        640: 100%|██████████| 111/111 [00:25<00:00,  4.42it/s]\n",
            "                 Class     Images  Instances      Box(P          R      mAP50  mAP50-95)     Pose(P          R      mAP50  mAP50-95): 100%|██████████| 11/11 [00:02<00:00,  4.69it/s]"
          ]
        },
        {
          "output_type": "stream",
          "name": "stdout",
          "text": [
            "                   all        166        166      0.998          1      0.995      0.949      0.938       0.94      0.947       0.68\n"
          ]
        },
        {
          "output_type": "stream",
          "name": "stderr",
          "text": [
            "\n"
          ]
        },
        {
          "output_type": "stream",
          "name": "stdout",
          "text": [
            "\n",
            "      Epoch    GPU_mem   box_loss  pose_loss  kobj_loss   cls_loss   dfl_loss  Instances       Size\n"
          ]
        },
        {
          "output_type": "stream",
          "name": "stderr",
          "text": [
            "      29/50      1.81G     0.4257       1.78     0.4441     0.2958     0.9801         15        640: 100%|██████████| 111/111 [00:26<00:00,  4.20it/s]\n",
            "                 Class     Images  Instances      Box(P          R      mAP50  mAP50-95)     Pose(P          R      mAP50  mAP50-95): 100%|██████████| 11/11 [00:03<00:00,  3.27it/s]"
          ]
        },
        {
          "output_type": "stream",
          "name": "stdout",
          "text": [
            "                   all        166        166      0.999          1      0.995      0.943      0.933      0.934      0.913      0.668\n"
          ]
        },
        {
          "output_type": "stream",
          "name": "stderr",
          "text": [
            "\n"
          ]
        },
        {
          "output_type": "stream",
          "name": "stdout",
          "text": [
            "\n",
            "      Epoch    GPU_mem   box_loss  pose_loss  kobj_loss   cls_loss   dfl_loss  Instances       Size\n"
          ]
        },
        {
          "output_type": "stream",
          "name": "stderr",
          "text": [
            "      30/50      1.84G     0.4101      1.544      0.438     0.2847     0.9746          7        640: 100%|██████████| 111/111 [00:25<00:00,  4.43it/s]\n",
            "                 Class     Images  Instances      Box(P          R      mAP50  mAP50-95)     Pose(P          R      mAP50  mAP50-95): 100%|██████████| 11/11 [00:02<00:00,  4.17it/s]"
          ]
        },
        {
          "output_type": "stream",
          "name": "stdout",
          "text": [
            "                   all        166        166          1          1      0.995      0.942      0.933      0.934      0.932      0.691\n"
          ]
        },
        {
          "output_type": "stream",
          "name": "stderr",
          "text": [
            "\n"
          ]
        },
        {
          "output_type": "stream",
          "name": "stdout",
          "text": [
            "\n",
            "      Epoch    GPU_mem   box_loss  pose_loss  kobj_loss   cls_loss   dfl_loss  Instances       Size\n"
          ]
        },
        {
          "output_type": "stream",
          "name": "stderr",
          "text": [
            "      31/50      1.86G     0.4067      1.521     0.4381     0.2782      0.979         10        640: 100%|██████████| 111/111 [00:25<00:00,  4.38it/s]\n",
            "                 Class     Images  Instances      Box(P          R      mAP50  mAP50-95)     Pose(P          R      mAP50  mAP50-95): 100%|██████████| 11/11 [00:02<00:00,  4.35it/s]"
          ]
        },
        {
          "output_type": "stream",
          "name": "stdout",
          "text": [
            "                   all        166        166          1          1      0.995      0.948      0.933      0.934      0.917      0.728\n"
          ]
        },
        {
          "output_type": "stream",
          "name": "stderr",
          "text": [
            "\n"
          ]
        },
        {
          "output_type": "stream",
          "name": "stdout",
          "text": [
            "\n",
            "      Epoch    GPU_mem   box_loss  pose_loss  kobj_loss   cls_loss   dfl_loss  Instances       Size\n"
          ]
        },
        {
          "output_type": "stream",
          "name": "stderr",
          "text": [
            "      32/50      1.88G     0.3899      1.448     0.4411     0.2692     0.9732         14        640: 100%|██████████| 111/111 [00:25<00:00,  4.31it/s]\n",
            "                 Class     Images  Instances      Box(P          R      mAP50  mAP50-95)     Pose(P          R      mAP50  mAP50-95): 100%|██████████| 11/11 [00:02<00:00,  4.47it/s]"
          ]
        },
        {
          "output_type": "stream",
          "name": "stdout",
          "text": [
            "                   all        166        166          1          1      0.995      0.939      0.921      0.922      0.931      0.736\n"
          ]
        },
        {
          "output_type": "stream",
          "name": "stderr",
          "text": [
            "\n"
          ]
        },
        {
          "output_type": "stream",
          "name": "stdout",
          "text": [
            "\n",
            "      Epoch    GPU_mem   box_loss  pose_loss  kobj_loss   cls_loss   dfl_loss  Instances       Size\n"
          ]
        },
        {
          "output_type": "stream",
          "name": "stderr",
          "text": [
            "      33/50       1.9G     0.3997      1.423     0.4458     0.2777     0.9721          9        640: 100%|██████████| 111/111 [00:25<00:00,  4.33it/s]\n",
            "                 Class     Images  Instances      Box(P          R      mAP50  mAP50-95)     Pose(P          R      mAP50  mAP50-95): 100%|██████████| 11/11 [00:02<00:00,  4.88it/s]"
          ]
        },
        {
          "output_type": "stream",
          "name": "stdout",
          "text": [
            "                   all        166        166      0.999          1      0.995      0.958      0.928      0.928      0.929      0.756\n"
          ]
        },
        {
          "output_type": "stream",
          "name": "stderr",
          "text": [
            "\n"
          ]
        },
        {
          "output_type": "stream",
          "name": "stdout",
          "text": [
            "\n",
            "      Epoch    GPU_mem   box_loss  pose_loss  kobj_loss   cls_loss   dfl_loss  Instances       Size\n"
          ]
        },
        {
          "output_type": "stream",
          "name": "stderr",
          "text": [
            "      34/50      1.92G      0.386      1.356     0.4436     0.2702     0.9693         10        640: 100%|██████████| 111/111 [00:25<00:00,  4.39it/s]\n",
            "                 Class     Images  Instances      Box(P          R      mAP50  mAP50-95)     Pose(P          R      mAP50  mAP50-95): 100%|██████████| 11/11 [00:02<00:00,  4.44it/s]"
          ]
        },
        {
          "output_type": "stream",
          "name": "stdout",
          "text": [
            "                   all        166        166          1          1      0.995       0.96      0.927      0.928      0.913      0.734\n"
          ]
        },
        {
          "output_type": "stream",
          "name": "stderr",
          "text": [
            "\n"
          ]
        },
        {
          "output_type": "stream",
          "name": "stdout",
          "text": [
            "\n",
            "      Epoch    GPU_mem   box_loss  pose_loss  kobj_loss   cls_loss   dfl_loss  Instances       Size\n"
          ]
        },
        {
          "output_type": "stream",
          "name": "stderr",
          "text": [
            "      35/50      1.94G     0.4001      1.333     0.4363     0.2706     0.9752         14        640: 100%|██████████| 111/111 [00:25<00:00,  4.36it/s]\n",
            "                 Class     Images  Instances      Box(P          R      mAP50  mAP50-95)     Pose(P          R      mAP50  mAP50-95): 100%|██████████| 11/11 [00:04<00:00,  2.54it/s]"
          ]
        },
        {
          "output_type": "stream",
          "name": "stdout",
          "text": [
            "                   all        166        166          1          1      0.995      0.959      0.939       0.94       0.93      0.806\n"
          ]
        },
        {
          "output_type": "stream",
          "name": "stderr",
          "text": [
            "\n"
          ]
        },
        {
          "output_type": "stream",
          "name": "stdout",
          "text": [
            "\n",
            "      Epoch    GPU_mem   box_loss  pose_loss  kobj_loss   cls_loss   dfl_loss  Instances       Size\n"
          ]
        },
        {
          "output_type": "stream",
          "name": "stderr",
          "text": [
            "      36/50      1.96G     0.3811      1.302     0.4328     0.2687     0.9628         12        640: 100%|██████████| 111/111 [00:24<00:00,  4.49it/s]\n",
            "                 Class     Images  Instances      Box(P          R      mAP50  mAP50-95)     Pose(P          R      mAP50  mAP50-95): 100%|██████████| 11/11 [00:03<00:00,  3.63it/s]"
          ]
        },
        {
          "output_type": "stream",
          "name": "stdout",
          "text": [
            "                   all        166        166      0.999          1      0.995      0.961      0.945      0.946      0.928      0.786\n"
          ]
        },
        {
          "output_type": "stream",
          "name": "stderr",
          "text": [
            "\n"
          ]
        },
        {
          "output_type": "stream",
          "name": "stdout",
          "text": [
            "\n",
            "      Epoch    GPU_mem   box_loss  pose_loss  kobj_loss   cls_loss   dfl_loss  Instances       Size\n"
          ]
        },
        {
          "output_type": "stream",
          "name": "stderr",
          "text": [
            "      37/50      1.96G     0.3888      1.271     0.4332     0.2672      0.969         11        640: 100%|██████████| 111/111 [00:25<00:00,  4.37it/s]\n",
            "                 Class     Images  Instances      Box(P          R      mAP50  mAP50-95)     Pose(P          R      mAP50  mAP50-95): 100%|██████████| 11/11 [00:02<00:00,  4.37it/s]"
          ]
        },
        {
          "output_type": "stream",
          "name": "stdout",
          "text": [
            "                   all        166        166      0.999          1      0.995      0.958      0.945      0.946      0.925      0.782\n"
          ]
        },
        {
          "output_type": "stream",
          "name": "stderr",
          "text": [
            "\n"
          ]
        },
        {
          "output_type": "stream",
          "name": "stdout",
          "text": [
            "\n",
            "      Epoch    GPU_mem   box_loss  pose_loss  kobj_loss   cls_loss   dfl_loss  Instances       Size\n"
          ]
        },
        {
          "output_type": "stream",
          "name": "stderr",
          "text": [
            "      38/50      1.99G     0.3674      1.253     0.4388     0.2607     0.9597          8        640: 100%|██████████| 111/111 [00:25<00:00,  4.36it/s]\n",
            "                 Class     Images  Instances      Box(P          R      mAP50  mAP50-95)     Pose(P          R      mAP50  mAP50-95): 100%|██████████| 11/11 [00:02<00:00,  4.59it/s]"
          ]
        },
        {
          "output_type": "stream",
          "name": "stdout",
          "text": [
            "                   all        166        166          1          1      0.995      0.961      0.963      0.964      0.962       0.83\n"
          ]
        },
        {
          "output_type": "stream",
          "name": "stderr",
          "text": [
            "\n"
          ]
        },
        {
          "output_type": "stream",
          "name": "stdout",
          "text": [
            "\n",
            "      Epoch    GPU_mem   box_loss  pose_loss  kobj_loss   cls_loss   dfl_loss  Instances       Size\n"
          ]
        },
        {
          "output_type": "stream",
          "name": "stderr",
          "text": [
            "      39/50      2.01G      0.366      1.183     0.4394     0.2534     0.9563         11        640: 100%|██████████| 111/111 [00:25<00:00,  4.32it/s]\n",
            "                 Class     Images  Instances      Box(P          R      mAP50  mAP50-95)     Pose(P          R      mAP50  mAP50-95): 100%|██████████| 11/11 [00:02<00:00,  4.95it/s]"
          ]
        },
        {
          "output_type": "stream",
          "name": "stdout",
          "text": [
            "                   all        166        166          1          1      0.995      0.946      0.927      0.928      0.925      0.817\n"
          ]
        },
        {
          "output_type": "stream",
          "name": "stderr",
          "text": [
            "\n"
          ]
        },
        {
          "output_type": "stream",
          "name": "stdout",
          "text": [
            "\n",
            "      Epoch    GPU_mem   box_loss  pose_loss  kobj_loss   cls_loss   dfl_loss  Instances       Size\n"
          ]
        },
        {
          "output_type": "stream",
          "name": "stderr",
          "text": [
            "      40/50      2.03G     0.3604      1.145     0.4406     0.2515     0.9462         13        640: 100%|██████████| 111/111 [00:25<00:00,  4.37it/s]\n",
            "                 Class     Images  Instances      Box(P          R      mAP50  mAP50-95)     Pose(P          R      mAP50  mAP50-95): 100%|██████████| 11/11 [00:02<00:00,  4.45it/s]"
          ]
        },
        {
          "output_type": "stream",
          "name": "stdout",
          "text": [
            "                   all        166        166          1          1      0.995      0.967      0.945      0.946      0.936      0.818\n"
          ]
        },
        {
          "output_type": "stream",
          "name": "stderr",
          "text": [
            "\n"
          ]
        },
        {
          "output_type": "stream",
          "name": "stdout",
          "text": [
            "Closing dataloader mosaic\n",
            "\u001b[34m\u001b[1malbumentations: \u001b[0mBlur(p=0.01, blur_limit=(3, 7)), MedianBlur(p=0.01, blur_limit=(3, 7)), ToGray(p=0.01, method='weighted_average', num_output_channels=3), CLAHE(p=0.01, clip_limit=(1.0, 4.0), tile_grid_size=(8, 8))\n",
            "\n",
            "      Epoch    GPU_mem   box_loss  pose_loss  kobj_loss   cls_loss   dfl_loss  Instances       Size\n"
          ]
        },
        {
          "output_type": "stream",
          "name": "stderr",
          "text": [
            "      41/50      2.05G     0.3078      1.065     0.6073     0.2215     0.9442          4        640: 100%|██████████| 111/111 [00:26<00:00,  4.18it/s]\n",
            "                 Class     Images  Instances      Box(P          R      mAP50  mAP50-95)     Pose(P          R      mAP50  mAP50-95): 100%|██████████| 11/11 [00:04<00:00,  2.48it/s]"
          ]
        },
        {
          "output_type": "stream",
          "name": "stdout",
          "text": [
            "                   all        166        166          1          1      0.995      0.952      0.957      0.958      0.952      0.792\n"
          ]
        },
        {
          "output_type": "stream",
          "name": "stderr",
          "text": [
            "\n"
          ]
        },
        {
          "output_type": "stream",
          "name": "stdout",
          "text": [
            "\n",
            "      Epoch    GPU_mem   box_loss  pose_loss  kobj_loss   cls_loss   dfl_loss  Instances       Size\n"
          ]
        },
        {
          "output_type": "stream",
          "name": "stderr",
          "text": [
            "      42/50      2.06G     0.2993     0.9922      0.588     0.2094     0.9354          4        640: 100%|██████████| 111/111 [00:24<00:00,  4.60it/s]\n",
            "                 Class     Images  Instances      Box(P          R      mAP50  mAP50-95)     Pose(P          R      mAP50  mAP50-95): 100%|██████████| 11/11 [00:02<00:00,  3.67it/s]"
          ]
        },
        {
          "output_type": "stream",
          "name": "stdout",
          "text": [
            "                   all        166        166          1          1      0.995      0.965      0.945      0.946      0.967      0.801\n"
          ]
        },
        {
          "output_type": "stream",
          "name": "stderr",
          "text": [
            "\n"
          ]
        },
        {
          "output_type": "stream",
          "name": "stdout",
          "text": [
            "\n",
            "      Epoch    GPU_mem   box_loss  pose_loss  kobj_loss   cls_loss   dfl_loss  Instances       Size\n"
          ]
        },
        {
          "output_type": "stream",
          "name": "stderr",
          "text": [
            "      43/50      2.08G      0.289     0.9296     0.5875     0.1978     0.9368          4        640: 100%|██████████| 111/111 [00:24<00:00,  4.52it/s]\n",
            "                 Class     Images  Instances      Box(P          R      mAP50  mAP50-95)     Pose(P          R      mAP50  mAP50-95): 100%|██████████| 11/11 [00:02<00:00,  4.55it/s]"
          ]
        },
        {
          "output_type": "stream",
          "name": "stdout",
          "text": [
            "                   all        166        166          1          1      0.995      0.967      0.951      0.952      0.959      0.876\n"
          ]
        },
        {
          "output_type": "stream",
          "name": "stderr",
          "text": [
            "\n"
          ]
        },
        {
          "output_type": "stream",
          "name": "stdout",
          "text": [
            "\n",
            "      Epoch    GPU_mem   box_loss  pose_loss  kobj_loss   cls_loss   dfl_loss  Instances       Size\n"
          ]
        },
        {
          "output_type": "stream",
          "name": "stderr",
          "text": [
            "      44/50       2.1G     0.2731     0.8893     0.5871     0.1898     0.9324          4        640: 100%|██████████| 111/111 [00:24<00:00,  4.44it/s]\n",
            "                 Class     Images  Instances      Box(P          R      mAP50  mAP50-95)     Pose(P          R      mAP50  mAP50-95): 100%|██████████| 11/11 [00:02<00:00,  4.71it/s]"
          ]
        },
        {
          "output_type": "stream",
          "name": "stdout",
          "text": [
            "                   all        166        166          1          1      0.995       0.97       0.97       0.97      0.978      0.908\n"
          ]
        },
        {
          "output_type": "stream",
          "name": "stderr",
          "text": [
            "\n"
          ]
        },
        {
          "output_type": "stream",
          "name": "stdout",
          "text": [
            "\n",
            "      Epoch    GPU_mem   box_loss  pose_loss  kobj_loss   cls_loss   dfl_loss  Instances       Size\n"
          ]
        },
        {
          "output_type": "stream",
          "name": "stderr",
          "text": [
            "      45/50      2.11G     0.2762     0.8399     0.5879     0.1874     0.9177          4        640: 100%|██████████| 111/111 [00:24<00:00,  4.45it/s]\n",
            "                 Class     Images  Instances      Box(P          R      mAP50  mAP50-95)     Pose(P          R      mAP50  mAP50-95): 100%|██████████| 11/11 [00:02<00:00,  4.69it/s]"
          ]
        },
        {
          "output_type": "stream",
          "name": "stdout",
          "text": [
            "                   all        166        166          1          1      0.995      0.966      0.976      0.976      0.985      0.889\n"
          ]
        },
        {
          "output_type": "stream",
          "name": "stderr",
          "text": [
            "\n"
          ]
        },
        {
          "output_type": "stream",
          "name": "stdout",
          "text": [
            "\n",
            "      Epoch    GPU_mem   box_loss  pose_loss  kobj_loss   cls_loss   dfl_loss  Instances       Size\n"
          ]
        },
        {
          "output_type": "stream",
          "name": "stderr",
          "text": [
            "      46/50      2.14G     0.2624     0.7577     0.5816     0.1818     0.9254          4        640: 100%|██████████| 111/111 [00:24<00:00,  4.46it/s]\n",
            "                 Class     Images  Instances      Box(P          R      mAP50  mAP50-95)     Pose(P          R      mAP50  mAP50-95): 100%|██████████| 11/11 [00:02<00:00,  4.87it/s]"
          ]
        },
        {
          "output_type": "stream",
          "name": "stdout",
          "text": [
            "                   all        166        166          1          1      0.995      0.969      0.951      0.952      0.965      0.884\n"
          ]
        },
        {
          "output_type": "stream",
          "name": "stderr",
          "text": [
            "\n"
          ]
        },
        {
          "output_type": "stream",
          "name": "stdout",
          "text": [
            "\n",
            "      Epoch    GPU_mem   box_loss  pose_loss  kobj_loss   cls_loss   dfl_loss  Instances       Size\n"
          ]
        },
        {
          "output_type": "stream",
          "name": "stderr",
          "text": [
            "      47/50      2.16G     0.2506     0.7221     0.5747     0.1725     0.9195          4        640: 100%|██████████| 111/111 [00:25<00:00,  4.43it/s]\n",
            "                 Class     Images  Instances      Box(P          R      mAP50  mAP50-95)     Pose(P          R      mAP50  mAP50-95): 100%|██████████| 11/11 [00:02<00:00,  4.98it/s]"
          ]
        },
        {
          "output_type": "stream",
          "name": "stdout",
          "text": [
            "                   all        166        166          1          1      0.995      0.964      0.976      0.976      0.987       0.88\n"
          ]
        },
        {
          "output_type": "stream",
          "name": "stderr",
          "text": [
            "\n"
          ]
        },
        {
          "output_type": "stream",
          "name": "stdout",
          "text": [
            "\n",
            "      Epoch    GPU_mem   box_loss  pose_loss  kobj_loss   cls_loss   dfl_loss  Instances       Size\n"
          ]
        },
        {
          "output_type": "stream",
          "name": "stderr",
          "text": [
            "      48/50      2.18G     0.2421     0.6865     0.5782     0.1674     0.9165          4        640: 100%|██████████| 111/111 [00:26<00:00,  4.24it/s]\n",
            "                 Class     Images  Instances      Box(P          R      mAP50  mAP50-95)     Pose(P          R      mAP50  mAP50-95): 100%|██████████| 11/11 [00:02<00:00,  4.60it/s]"
          ]
        },
        {
          "output_type": "stream",
          "name": "stdout",
          "text": [
            "                   all        166        166          1          1      0.995      0.974       0.97       0.97      0.975       0.88\n"
          ]
        },
        {
          "output_type": "stream",
          "name": "stderr",
          "text": [
            "\n"
          ]
        },
        {
          "output_type": "stream",
          "name": "stdout",
          "text": [
            "\n",
            "      Epoch    GPU_mem   box_loss  pose_loss  kobj_loss   cls_loss   dfl_loss  Instances       Size\n"
          ]
        },
        {
          "output_type": "stream",
          "name": "stderr",
          "text": [
            "      49/50       2.2G     0.2354     0.6702     0.5754     0.1673     0.9081          4        640: 100%|██████████| 111/111 [00:24<00:00,  4.51it/s]\n",
            "                 Class     Images  Instances      Box(P          R      mAP50  mAP50-95)     Pose(P          R      mAP50  mAP50-95): 100%|██████████| 11/11 [00:02<00:00,  4.74it/s]"
          ]
        },
        {
          "output_type": "stream",
          "name": "stdout",
          "text": [
            "                   all        166        166          1          1      0.995      0.975       0.97       0.97      0.976       0.88\n"
          ]
        },
        {
          "output_type": "stream",
          "name": "stderr",
          "text": [
            "\n"
          ]
        },
        {
          "output_type": "stream",
          "name": "stdout",
          "text": [
            "\n",
            "      Epoch    GPU_mem   box_loss  pose_loss  kobj_loss   cls_loss   dfl_loss  Instances       Size\n"
          ]
        },
        {
          "output_type": "stream",
          "name": "stderr",
          "text": [
            "      50/50      2.22G     0.2344     0.6785      0.579     0.1639     0.9066          4        640: 100%|██████████| 111/111 [00:24<00:00,  4.53it/s]\n",
            "                 Class     Images  Instances      Box(P          R      mAP50  mAP50-95)     Pose(P          R      mAP50  mAP50-95): 100%|██████████| 11/11 [00:02<00:00,  3.73it/s]"
          ]
        },
        {
          "output_type": "stream",
          "name": "stdout",
          "text": [
            "                   all        166        166          1          1      0.995      0.976      0.976      0.976      0.989      0.903\n"
          ]
        },
        {
          "output_type": "stream",
          "name": "stderr",
          "text": [
            "\n"
          ]
        },
        {
          "output_type": "stream",
          "name": "stdout",
          "text": [
            "\n",
            "50 epochs completed in 0.397 hours.\n",
            "Optimizer stripped from runs/pose/reloc2_keypoints_model/weights/last.pt, 6.9MB\n",
            "Optimizer stripped from runs/pose/reloc2_keypoints_model/weights/best.pt, 6.9MB\n",
            "\n",
            "Validating runs/pose/reloc2_keypoints_model/weights/best.pt...\n",
            "Ultralytics 8.3.146 🚀 Python-3.11.12 torch-2.6.0+cu124 CUDA:0 (Tesla T4, 15095MiB)\n",
            "YOLOv8n-pose summary (fused): 81 layers, 3,311,537 parameters, 0 gradients, 9.3 GFLOPs\n"
          ]
        },
        {
          "output_type": "stream",
          "name": "stderr",
          "text": [
            "\r                 Class     Images  Instances      Box(P          R      mAP50  mAP50-95)     Pose(P          R      mAP50  mAP50-95):   0%|          | 0/11 [00:00<?, ?it/s]"
          ]
        },
        {
          "output_type": "stream",
          "name": "stdout",
          "text": [
            "WARNING ⚠️ Model does not support 'augment=True', reverting to single-scale prediction.\n"
          ]
        },
        {
          "output_type": "stream",
          "name": "stderr",
          "text": [
            "\r                 Class     Images  Instances      Box(P          R      mAP50  mAP50-95)     Pose(P          R      mAP50  mAP50-95):   9%|▉         | 1/11 [00:00<00:01,  5.82it/s]"
          ]
        },
        {
          "output_type": "stream",
          "name": "stdout",
          "text": [
            "WARNING ⚠️ Model does not support 'augment=True', reverting to single-scale prediction.\n"
          ]
        },
        {
          "output_type": "stream",
          "name": "stderr",
          "text": [
            "\r                 Class     Images  Instances      Box(P          R      mAP50  mAP50-95)     Pose(P          R      mAP50  mAP50-95):  18%|█▊        | 2/11 [00:00<00:02,  3.31it/s]"
          ]
        },
        {
          "output_type": "stream",
          "name": "stdout",
          "text": [
            "WARNING ⚠️ Model does not support 'augment=True', reverting to single-scale prediction.\n"
          ]
        },
        {
          "output_type": "stream",
          "name": "stderr",
          "text": [
            "\r                 Class     Images  Instances      Box(P          R      mAP50  mAP50-95)     Pose(P          R      mAP50  mAP50-95):  27%|██▋       | 3/11 [00:01<00:04,  1.85it/s]"
          ]
        },
        {
          "output_type": "stream",
          "name": "stdout",
          "text": [
            "WARNING ⚠️ Model does not support 'augment=True', reverting to single-scale prediction.\n"
          ]
        },
        {
          "output_type": "stream",
          "name": "stderr",
          "text": [
            "\r                 Class     Images  Instances      Box(P          R      mAP50  mAP50-95)     Pose(P          R      mAP50  mAP50-95):  36%|███▋      | 4/11 [00:02<00:04,  1.42it/s]"
          ]
        },
        {
          "output_type": "stream",
          "name": "stdout",
          "text": [
            "WARNING ⚠️ Model does not support 'augment=True', reverting to single-scale prediction.\n"
          ]
        },
        {
          "output_type": "stream",
          "name": "stderr",
          "text": [
            "\r                 Class     Images  Instances      Box(P          R      mAP50  mAP50-95)     Pose(P          R      mAP50  mAP50-95):  45%|████▌     | 5/11 [00:02<00:03,  1.69it/s]"
          ]
        },
        {
          "output_type": "stream",
          "name": "stdout",
          "text": [
            "WARNING ⚠️ Model does not support 'augment=True', reverting to single-scale prediction.\n"
          ]
        },
        {
          "output_type": "stream",
          "name": "stderr",
          "text": [
            "\r                 Class     Images  Instances      Box(P          R      mAP50  mAP50-95)     Pose(P          R      mAP50  mAP50-95):  55%|█████▍    | 6/11 [00:02<00:02,  2.17it/s]"
          ]
        },
        {
          "output_type": "stream",
          "name": "stdout",
          "text": [
            "WARNING ⚠️ Model does not support 'augment=True', reverting to single-scale prediction.\n"
          ]
        },
        {
          "output_type": "stream",
          "name": "stderr",
          "text": [
            "\r                 Class     Images  Instances      Box(P          R      mAP50  mAP50-95)     Pose(P          R      mAP50  mAP50-95):  64%|██████▎   | 7/11 [00:03<00:01,  2.66it/s]"
          ]
        },
        {
          "output_type": "stream",
          "name": "stdout",
          "text": [
            "WARNING ⚠️ Model does not support 'augment=True', reverting to single-scale prediction.\n"
          ]
        },
        {
          "output_type": "stream",
          "name": "stderr",
          "text": [
            "\r                 Class     Images  Instances      Box(P          R      mAP50  mAP50-95)     Pose(P          R      mAP50  mAP50-95):  73%|███████▎  | 8/11 [00:03<00:00,  3.15it/s]"
          ]
        },
        {
          "output_type": "stream",
          "name": "stdout",
          "text": [
            "WARNING ⚠️ Model does not support 'augment=True', reverting to single-scale prediction.\n"
          ]
        },
        {
          "output_type": "stream",
          "name": "stderr",
          "text": [
            "\r                 Class     Images  Instances      Box(P          R      mAP50  mAP50-95)     Pose(P          R      mAP50  mAP50-95):  82%|████████▏ | 9/11 [00:03<00:00,  3.43it/s]"
          ]
        },
        {
          "output_type": "stream",
          "name": "stdout",
          "text": [
            "WARNING ⚠️ Model does not support 'augment=True', reverting to single-scale prediction.\n"
          ]
        },
        {
          "output_type": "stream",
          "name": "stderr",
          "text": [
            "\r                 Class     Images  Instances      Box(P          R      mAP50  mAP50-95)     Pose(P          R      mAP50  mAP50-95):  91%|█████████ | 10/11 [00:03<00:00,  3.75it/s]"
          ]
        },
        {
          "output_type": "stream",
          "name": "stdout",
          "text": [
            "WARNING ⚠️ Model does not support 'augment=True', reverting to single-scale prediction.\n"
          ]
        },
        {
          "output_type": "stream",
          "name": "stderr",
          "text": [
            "                 Class     Images  Instances      Box(P          R      mAP50  mAP50-95)     Pose(P          R      mAP50  mAP50-95): 100%|██████████| 11/11 [00:03<00:00,  2.79it/s]\n"
          ]
        },
        {
          "output_type": "stream",
          "name": "stdout",
          "text": [
            "                   all        166        166          1          1      0.995      0.976      0.976      0.976      0.986      0.903\n",
            "Speed: 0.3ms preprocess, 4.8ms inference, 0.0ms loss, 3.7ms postprocess per image\n",
            "Results saved to \u001b[1mruns/pose/reloc2_keypoints_model\u001b[0m\n"
          ]
        },
        {
          "output_type": "execute_result",
          "data": {
            "text/plain": [
              "ultralytics.utils.metrics.PoseMetrics object with attributes:\n",
              "\n",
              "ap_class_index: array([0])\n",
              "box: ultralytics.utils.metrics.Metric object\n",
              "confusion_matrix: <ultralytics.utils.metrics.ConfusionMatrix object at 0x7ddfe2b33850>\n",
              "curves: ['Precision-Recall(B)', 'F1-Confidence(B)', 'Precision-Confidence(B)', 'Recall-Confidence(B)', 'Precision-Recall(P)', 'F1-Confidence(P)', 'Precision-Confidence(P)', 'Recall-Confidence(P)']\n",
              "curves_results: [[array([          0,    0.001001,    0.002002,    0.003003,    0.004004,    0.005005,    0.006006,    0.007007,    0.008008,    0.009009,     0.01001,    0.011011,    0.012012,    0.013013,    0.014014,    0.015015,    0.016016,    0.017017,    0.018018,    0.019019,     0.02002,    0.021021,    0.022022,    0.023023,\n",
              "          0.024024,    0.025025,    0.026026,    0.027027,    0.028028,    0.029029,     0.03003,    0.031031,    0.032032,    0.033033,    0.034034,    0.035035,    0.036036,    0.037037,    0.038038,    0.039039,     0.04004,    0.041041,    0.042042,    0.043043,    0.044044,    0.045045,    0.046046,    0.047047,\n",
              "          0.048048,    0.049049,     0.05005,    0.051051,    0.052052,    0.053053,    0.054054,    0.055055,    0.056056,    0.057057,    0.058058,    0.059059,     0.06006,    0.061061,    0.062062,    0.063063,    0.064064,    0.065065,    0.066066,    0.067067,    0.068068,    0.069069,     0.07007,    0.071071,\n",
              "          0.072072,    0.073073,    0.074074,    0.075075,    0.076076,    0.077077,    0.078078,    0.079079,     0.08008,    0.081081,    0.082082,    0.083083,    0.084084,    0.085085,    0.086086,    0.087087,    0.088088,    0.089089,     0.09009,    0.091091,    0.092092,    0.093093,    0.094094,    0.095095,\n",
              "          0.096096,    0.097097,    0.098098,    0.099099,      0.1001,      0.1011,      0.1021,      0.1031,      0.1041,     0.10511,     0.10611,     0.10711,     0.10811,     0.10911,     0.11011,     0.11111,     0.11211,     0.11311,     0.11411,     0.11512,     0.11612,     0.11712,     0.11812,     0.11912,\n",
              "           0.12012,     0.12112,     0.12212,     0.12312,     0.12412,     0.12513,     0.12613,     0.12713,     0.12813,     0.12913,     0.13013,     0.13113,     0.13213,     0.13313,     0.13413,     0.13514,     0.13614,     0.13714,     0.13814,     0.13914,     0.14014,     0.14114,     0.14214,     0.14314,\n",
              "           0.14414,     0.14515,     0.14615,     0.14715,     0.14815,     0.14915,     0.15015,     0.15115,     0.15215,     0.15315,     0.15415,     0.15516,     0.15616,     0.15716,     0.15816,     0.15916,     0.16016,     0.16116,     0.16216,     0.16316,     0.16416,     0.16517,     0.16617,     0.16717,\n",
              "           0.16817,     0.16917,     0.17017,     0.17117,     0.17217,     0.17317,     0.17417,     0.17518,     0.17618,     0.17718,     0.17818,     0.17918,     0.18018,     0.18118,     0.18218,     0.18318,     0.18418,     0.18519,     0.18619,     0.18719,     0.18819,     0.18919,     0.19019,     0.19119,\n",
              "           0.19219,     0.19319,     0.19419,      0.1952,      0.1962,      0.1972,      0.1982,      0.1992,      0.2002,      0.2012,      0.2022,      0.2032,      0.2042,     0.20521,     0.20621,     0.20721,     0.20821,     0.20921,     0.21021,     0.21121,     0.21221,     0.21321,     0.21421,     0.21522,\n",
              "           0.21622,     0.21722,     0.21822,     0.21922,     0.22022,     0.22122,     0.22222,     0.22322,     0.22422,     0.22523,     0.22623,     0.22723,     0.22823,     0.22923,     0.23023,     0.23123,     0.23223,     0.23323,     0.23423,     0.23524,     0.23624,     0.23724,     0.23824,     0.23924,\n",
              "           0.24024,     0.24124,     0.24224,     0.24324,     0.24424,     0.24525,     0.24625,     0.24725,     0.24825,     0.24925,     0.25025,     0.25125,     0.25225,     0.25325,     0.25425,     0.25526,     0.25626,     0.25726,     0.25826,     0.25926,     0.26026,     0.26126,     0.26226,     0.26326,\n",
              "           0.26426,     0.26527,     0.26627,     0.26727,     0.26827,     0.26927,     0.27027,     0.27127,     0.27227,     0.27327,     0.27427,     0.27528,     0.27628,     0.27728,     0.27828,     0.27928,     0.28028,     0.28128,     0.28228,     0.28328,     0.28428,     0.28529,     0.28629,     0.28729,\n",
              "           0.28829,     0.28929,     0.29029,     0.29129,     0.29229,     0.29329,     0.29429,      0.2953,      0.2963,      0.2973,      0.2983,      0.2993,      0.3003,      0.3013,      0.3023,      0.3033,      0.3043,     0.30531,     0.30631,     0.30731,     0.30831,     0.30931,     0.31031,     0.31131,\n",
              "           0.31231,     0.31331,     0.31431,     0.31532,     0.31632,     0.31732,     0.31832,     0.31932,     0.32032,     0.32132,     0.32232,     0.32332,     0.32432,     0.32533,     0.32633,     0.32733,     0.32833,     0.32933,     0.33033,     0.33133,     0.33233,     0.33333,     0.33433,     0.33534,\n",
              "           0.33634,     0.33734,     0.33834,     0.33934,     0.34034,     0.34134,     0.34234,     0.34334,     0.34434,     0.34535,     0.34635,     0.34735,     0.34835,     0.34935,     0.35035,     0.35135,     0.35235,     0.35335,     0.35435,     0.35536,     0.35636,     0.35736,     0.35836,     0.35936,\n",
              "           0.36036,     0.36136,     0.36236,     0.36336,     0.36436,     0.36537,     0.36637,     0.36737,     0.36837,     0.36937,     0.37037,     0.37137,     0.37237,     0.37337,     0.37437,     0.37538,     0.37638,     0.37738,     0.37838,     0.37938,     0.38038,     0.38138,     0.38238,     0.38338,\n",
              "           0.38438,     0.38539,     0.38639,     0.38739,     0.38839,     0.38939,     0.39039,     0.39139,     0.39239,     0.39339,     0.39439,      0.3954,      0.3964,      0.3974,      0.3984,      0.3994,      0.4004,      0.4014,      0.4024,      0.4034,      0.4044,     0.40541,     0.40641,     0.40741,\n",
              "           0.40841,     0.40941,     0.41041,     0.41141,     0.41241,     0.41341,     0.41441,     0.41542,     0.41642,     0.41742,     0.41842,     0.41942,     0.42042,     0.42142,     0.42242,     0.42342,     0.42442,     0.42543,     0.42643,     0.42743,     0.42843,     0.42943,     0.43043,     0.43143,\n",
              "           0.43243,     0.43343,     0.43443,     0.43544,     0.43644,     0.43744,     0.43844,     0.43944,     0.44044,     0.44144,     0.44244,     0.44344,     0.44444,     0.44545,     0.44645,     0.44745,     0.44845,     0.44945,     0.45045,     0.45145,     0.45245,     0.45345,     0.45445,     0.45546,\n",
              "           0.45646,     0.45746,     0.45846,     0.45946,     0.46046,     0.46146,     0.46246,     0.46346,     0.46446,     0.46547,     0.46647,     0.46747,     0.46847,     0.46947,     0.47047,     0.47147,     0.47247,     0.47347,     0.47447,     0.47548,     0.47648,     0.47748,     0.47848,     0.47948,\n",
              "           0.48048,     0.48148,     0.48248,     0.48348,     0.48448,     0.48549,     0.48649,     0.48749,     0.48849,     0.48949,     0.49049,     0.49149,     0.49249,     0.49349,     0.49449,      0.4955,      0.4965,      0.4975,      0.4985,      0.4995,      0.5005,      0.5015,      0.5025,      0.5035,\n",
              "            0.5045,     0.50551,     0.50651,     0.50751,     0.50851,     0.50951,     0.51051,     0.51151,     0.51251,     0.51351,     0.51451,     0.51552,     0.51652,     0.51752,     0.51852,     0.51952,     0.52052,     0.52152,     0.52252,     0.52352,     0.52452,     0.52553,     0.52653,     0.52753,\n",
              "           0.52853,     0.52953,     0.53053,     0.53153,     0.53253,     0.53353,     0.53453,     0.53554,     0.53654,     0.53754,     0.53854,     0.53954,     0.54054,     0.54154,     0.54254,     0.54354,     0.54454,     0.54555,     0.54655,     0.54755,     0.54855,     0.54955,     0.55055,     0.55155,\n",
              "           0.55255,     0.55355,     0.55455,     0.55556,     0.55656,     0.55756,     0.55856,     0.55956,     0.56056,     0.56156,     0.56256,     0.56356,     0.56456,     0.56557,     0.56657,     0.56757,     0.56857,     0.56957,     0.57057,     0.57157,     0.57257,     0.57357,     0.57457,     0.57558,\n",
              "           0.57658,     0.57758,     0.57858,     0.57958,     0.58058,     0.58158,     0.58258,     0.58358,     0.58458,     0.58559,     0.58659,     0.58759,     0.58859,     0.58959,     0.59059,     0.59159,     0.59259,     0.59359,     0.59459,      0.5956,      0.5966,      0.5976,      0.5986,      0.5996,\n",
              "            0.6006,      0.6016,      0.6026,      0.6036,      0.6046,     0.60561,     0.60661,     0.60761,     0.60861,     0.60961,     0.61061,     0.61161,     0.61261,     0.61361,     0.61461,     0.61562,     0.61662,     0.61762,     0.61862,     0.61962,     0.62062,     0.62162,     0.62262,     0.62362,\n",
              "           0.62462,     0.62563,     0.62663,     0.62763,     0.62863,     0.62963,     0.63063,     0.63163,     0.63263,     0.63363,     0.63463,     0.63564,     0.63664,     0.63764,     0.63864,     0.63964,     0.64064,     0.64164,     0.64264,     0.64364,     0.64464,     0.64565,     0.64665,     0.64765,\n",
              "           0.64865,     0.64965,     0.65065,     0.65165,     0.65265,     0.65365,     0.65465,     0.65566,     0.65666,     0.65766,     0.65866,     0.65966,     0.66066,     0.66166,     0.66266,     0.66366,     0.66466,     0.66567,     0.66667,     0.66767,     0.66867,     0.66967,     0.67067,     0.67167,\n",
              "           0.67267,     0.67367,     0.67467,     0.67568,     0.67668,     0.67768,     0.67868,     0.67968,     0.68068,     0.68168,     0.68268,     0.68368,     0.68468,     0.68569,     0.68669,     0.68769,     0.68869,     0.68969,     0.69069,     0.69169,     0.69269,     0.69369,     0.69469,      0.6957,\n",
              "            0.6967,      0.6977,      0.6987,      0.6997,      0.7007,      0.7017,      0.7027,      0.7037,      0.7047,     0.70571,     0.70671,     0.70771,     0.70871,     0.70971,     0.71071,     0.71171,     0.71271,     0.71371,     0.71471,     0.71572,     0.71672,     0.71772,     0.71872,     0.71972,\n",
              "           0.72072,     0.72172,     0.72272,     0.72372,     0.72472,     0.72573,     0.72673,     0.72773,     0.72873,     0.72973,     0.73073,     0.73173,     0.73273,     0.73373,     0.73473,     0.73574,     0.73674,     0.73774,     0.73874,     0.73974,     0.74074,     0.74174,     0.74274,     0.74374,\n",
              "           0.74474,     0.74575,     0.74675,     0.74775,     0.74875,     0.74975,     0.75075,     0.75175,     0.75275,     0.75375,     0.75475,     0.75576,     0.75676,     0.75776,     0.75876,     0.75976,     0.76076,     0.76176,     0.76276,     0.76376,     0.76476,     0.76577,     0.76677,     0.76777,\n",
              "           0.76877,     0.76977,     0.77077,     0.77177,     0.77277,     0.77377,     0.77477,     0.77578,     0.77678,     0.77778,     0.77878,     0.77978,     0.78078,     0.78178,     0.78278,     0.78378,     0.78478,     0.78579,     0.78679,     0.78779,     0.78879,     0.78979,     0.79079,     0.79179,\n",
              "           0.79279,     0.79379,     0.79479,      0.7958,      0.7968,      0.7978,      0.7988,      0.7998,      0.8008,      0.8018,      0.8028,      0.8038,      0.8048,     0.80581,     0.80681,     0.80781,     0.80881,     0.80981,     0.81081,     0.81181,     0.81281,     0.81381,     0.81481,     0.81582,\n",
              "           0.81682,     0.81782,     0.81882,     0.81982,     0.82082,     0.82182,     0.82282,     0.82382,     0.82482,     0.82583,     0.82683,     0.82783,     0.82883,     0.82983,     0.83083,     0.83183,     0.83283,     0.83383,     0.83483,     0.83584,     0.83684,     0.83784,     0.83884,     0.83984,\n",
              "           0.84084,     0.84184,     0.84284,     0.84384,     0.84484,     0.84585,     0.84685,     0.84785,     0.84885,     0.84985,     0.85085,     0.85185,     0.85285,     0.85385,     0.85485,     0.85586,     0.85686,     0.85786,     0.85886,     0.85986,     0.86086,     0.86186,     0.86286,     0.86386,\n",
              "           0.86486,     0.86587,     0.86687,     0.86787,     0.86887,     0.86987,     0.87087,     0.87187,     0.87287,     0.87387,     0.87487,     0.87588,     0.87688,     0.87788,     0.87888,     0.87988,     0.88088,     0.88188,     0.88288,     0.88388,     0.88488,     0.88589,     0.88689,     0.88789,\n",
              "           0.88889,     0.88989,     0.89089,     0.89189,     0.89289,     0.89389,     0.89489,      0.8959,      0.8969,      0.8979,      0.8989,      0.8999,      0.9009,      0.9019,      0.9029,      0.9039,      0.9049,     0.90591,     0.90691,     0.90791,     0.90891,     0.90991,     0.91091,     0.91191,\n",
              "           0.91291,     0.91391,     0.91491,     0.91592,     0.91692,     0.91792,     0.91892,     0.91992,     0.92092,     0.92192,     0.92292,     0.92392,     0.92492,     0.92593,     0.92693,     0.92793,     0.92893,     0.92993,     0.93093,     0.93193,     0.93293,     0.93393,     0.93493,     0.93594,\n",
              "           0.93694,     0.93794,     0.93894,     0.93994,     0.94094,     0.94194,     0.94294,     0.94394,     0.94494,     0.94595,     0.94695,     0.94795,     0.94895,     0.94995,     0.95095,     0.95195,     0.95295,     0.95395,     0.95495,     0.95596,     0.95696,     0.95796,     0.95896,     0.95996,\n",
              "           0.96096,     0.96196,     0.96296,     0.96396,     0.96496,     0.96597,     0.96697,     0.96797,     0.96897,     0.96997,     0.97097,     0.97197,     0.97297,     0.97397,     0.97497,     0.97598,     0.97698,     0.97798,     0.97898,     0.97998,     0.98098,     0.98198,     0.98298,     0.98398,\n",
              "           0.98498,     0.98599,     0.98699,     0.98799,     0.98899,     0.98999,     0.99099,     0.99199,     0.99299,     0.99399,     0.99499,       0.996,       0.997,       0.998,       0.999,           1]), array([[          1,           1,           1,           1,           1,           1,           1,           1,           1,           1,           1,           1,           1,           1,           1,           1,           1,           1,           1,           1,           1,           1,           1,\n",
              "                  1,           1,           1,           1,           1,           1,           1,           1,           1,           1,           1,           1,           1,           1,           1,           1,           1,           1,           1,           1,           1,           1,           1,\n",
              "                  1,           1,           1,           1,           1,           1,           1,           1,           1,           1,           1,           1,           1,           1,           1,           1,           1,           1,           1,           1,           1,           1,           1,\n",
              "                  1,           1,           1,           1,           1,           1,           1,           1,           1,           1,           1,           1,           1,           1,           1,           1,           1,           1,           1,           1,           1,           1,           1,\n",
              "                  1,           1,           1,           1,           1,           1,           1,           1,           1,           1,           1,           1,           1,           1,           1,           1,           1,           1,           1,           1,           1,           1,           1,\n",
              "                  1,           1,           1,           1,           1,           1,           1,           1,           1,           1,           1,           1,           1,           1,           1,           1,           1,           1,           1,           1,           1,           1,           1,\n",
              "                  1,           1,           1,           1,           1,           1,           1,           1,           1,           1,           1,           1,           1,           1,           1,           1,           1,           1,           1,           1,           1,           1,           1,\n",
              "                  1,           1,           1,           1,           1,           1,           1,           1,           1,           1,           1,           1,           1,           1,           1,           1,           1,           1,           1,           1,           1,           1,           1,\n",
              "                  1,           1,           1,           1,           1,           1,           1,           1,           1,           1,           1,           1,           1,           1,           1,           1,           1,           1,           1,           1,           1,           1,           1,\n",
              "                  1,           1,           1,           1,           1,           1,           1,           1,           1,           1,           1,           1,           1,           1,           1,           1,           1,           1,           1,           1,           1,           1,           1,\n",
              "                  1,           1,           1,           1,           1,           1,           1,           1,           1,           1,           1,           1,           1,           1,           1,           1,           1,           1,           1,           1,           1,           1,           1,\n",
              "                  1,           1,           1,           1,           1,           1,           1,           1,           1,           1,           1,           1,           1,           1,           1,           1,           1,           1,           1,           1,           1,           1,           1,\n",
              "                  1,           1,           1,           1,           1,           1,           1,           1,           1,           1,           1,           1,           1,           1,           1,           1,           1,           1,           1,           1,           1,           1,           1,\n",
              "                  1,           1,           1,           1,           1,           1,           1,           1,           1,           1,           1,           1,           1,           1,           1,           1,           1,           1,           1,           1,           1,           1,           1,\n",
              "                  1,           1,           1,           1,           1,           1,           1,           1,           1,           1,           1,           1,           1,           1,           1,           1,           1,           1,           1,           1,           1,           1,           1,\n",
              "                  1,           1,           1,           1,           1,           1,           1,           1,           1,           1,           1,           1,           1,           1,           1,           1,           1,           1,           1,           1,           1,           1,           1,\n",
              "                  1,           1,           1,           1,           1,           1,           1,           1,           1,           1,           1,           1,           1,           1,           1,           1,           1,           1,           1,           1,           1,           1,           1,\n",
              "                  1,           1,           1,           1,           1,           1,           1,           1,           1,           1,           1,           1,           1,           1,           1,           1,           1,           1,           1,           1,           1,           1,           1,\n",
              "                  1,           1,           1,           1,           1,           1,           1,           1,           1,           1,           1,           1,           1,           1,           1,           1,           1,           1,           1,           1,           1,           1,           1,\n",
              "                  1,           1,           1,           1,           1,           1,           1,           1,           1,           1,           1,           1,           1,           1,           1,           1,           1,           1,           1,           1,           1,           1,           1,\n",
              "                  1,           1,           1,           1,           1,           1,           1,           1,           1,           1,           1,           1,           1,           1,           1,           1,           1,           1,           1,           1,           1,           1,           1,\n",
              "                  1,           1,           1,           1,           1,           1,           1,           1,           1,           1,           1,           1,           1,           1,           1,           1,           1,           1,           1,           1,           1,           1,           1,\n",
              "                  1,           1,           1,           1,           1,           1,           1,           1,           1,           1,           1,           1,           1,           1,           1,           1,           1,           1,           1,           1,           1,           1,           1,\n",
              "                  1,           1,           1,           1,           1,           1,           1,           1,           1,           1,           1,           1,           1,           1,           1,           1,           1,           1,           1,           1,           1,           1,           1,\n",
              "                  1,           1,           1,           1,           1,           1,           1,           1,           1,           1,           1,           1,           1,           1,           1,           1,           1,           1,           1,           1,           1,           1,           1,\n",
              "                  1,           1,           1,           1,           1,           1,           1,           1,           1,           1,           1,           1,           1,           1,           1,           1,           1,           1,           1,           1,           1,           1,           1,\n",
              "                  1,           1,           1,           1,           1,           1,           1,           1,           1,           1,           1,           1,           1,           1,           1,           1,           1,           1,           1,           1,           1,           1,           1,\n",
              "                  1,           1,           1,           1,           1,           1,           1,           1,           1,           1,           1,           1,           1,           1,           1,           1,           1,           1,           1,           1,           1,           1,           1,\n",
              "                  1,           1,           1,           1,           1,           1,           1,           1,           1,           1,           1,           1,           1,           1,           1,           1,           1,           1,           1,           1,           1,           1,           1,\n",
              "                  1,           1,           1,           1,           1,           1,           1,           1,           1,           1,           1,           1,           1,           1,           1,           1,           1,           1,           1,           1,           1,           1,           1,\n",
              "                  1,           1,           1,           1,           1,           1,           1,           1,           1,           1,           1,           1,           1,           1,           1,           1,           1,           1,           1,           1,           1,           1,           1,\n",
              "                  1,           1,           1,           1,           1,           1,           1,           1,           1,           1,           1,           1,           1,           1,           1,           1,           1,           1,           1,           1,           1,           1,           1,\n",
              "                  1,           1,           1,           1,           1,           1,           1,           1,           1,           1,           1,           1,           1,           1,           1,           1,           1,           1,           1,           1,           1,           1,           1,\n",
              "                  1,           1,           1,           1,           1,           1,           1,           1,           1,           1,           1,           1,           1,           1,           1,           1,           1,           1,           1,           1,           1,           1,           1,\n",
              "                  1,           1,           1,           1,           1,           1,           1,           1,           1,           1,           1,           1,           1,           1,           1,           1,           1,           1,           1,           1,           1,           1,           1,\n",
              "                  1,           1,           1,           1,           1,           1,           1,           1,           1,           1,           1,           1,           1,           1,           1,           1,           1,           1,           1,           1,           1,           1,           1,\n",
              "                  1,           1,           1,           1,           1,           1,           1,           1,           1,           1,           1,           1,           1,           1,           1,           1,           1,           1,           1,           1,           1,           1,           1,\n",
              "                  1,           1,           1,           1,           1,           1,           1,           1,           1,           1,           1,           1,           1,           1,           1,           1,           1,           1,           1,           1,           1,           1,           1,\n",
              "                  1,           1,           1,           1,           1,           1,           1,           1,           1,           1,           1,           1,           1,           1,           1,           1,           1,           1,           1,           1,           1,           1,           1,\n",
              "                  1,           1,           1,           1,           1,           1,           1,           1,           1,           1,           1,           1,           1,           1,           1,           1,           1,           1,           1,           1,           1,           1,           1,\n",
              "                  1,           1,           1,           1,           1,           1,           1,           1,           1,           1,           1,           1,           1,           1,           1,           1,           1,           1,           1,           1,           1,           1,           1,\n",
              "                  1,           1,           1,           1,           1,           1,           1,           1,           1,           1,           1,           1,           1,           1,           1,           1,           1,           1,           1,           1,           1,           1,           1,\n",
              "                  1,           1,           1,           1,           1,           1,           1,           1,           1,           1,           1,           1,           1,           1,           1,           1,           1,           1,           1,           1,           1,           1,           1,\n",
              "                  1,           1,           1,           1,           1,           1,           1,           1,           1,           1,           0]]), 'Recall', 'Precision'], [array([          0,    0.001001,    0.002002,    0.003003,    0.004004,    0.005005,    0.006006,    0.007007,    0.008008,    0.009009,     0.01001,    0.011011,    0.012012,    0.013013,    0.014014,    0.015015,    0.016016,    0.017017,    0.018018,    0.019019,     0.02002,    0.021021,    0.022022,    0.023023,\n",
              "          0.024024,    0.025025,    0.026026,    0.027027,    0.028028,    0.029029,     0.03003,    0.031031,    0.032032,    0.033033,    0.034034,    0.035035,    0.036036,    0.037037,    0.038038,    0.039039,     0.04004,    0.041041,    0.042042,    0.043043,    0.044044,    0.045045,    0.046046,    0.047047,\n",
              "          0.048048,    0.049049,     0.05005,    0.051051,    0.052052,    0.053053,    0.054054,    0.055055,    0.056056,    0.057057,    0.058058,    0.059059,     0.06006,    0.061061,    0.062062,    0.063063,    0.064064,    0.065065,    0.066066,    0.067067,    0.068068,    0.069069,     0.07007,    0.071071,\n",
              "          0.072072,    0.073073,    0.074074,    0.075075,    0.076076,    0.077077,    0.078078,    0.079079,     0.08008,    0.081081,    0.082082,    0.083083,    0.084084,    0.085085,    0.086086,    0.087087,    0.088088,    0.089089,     0.09009,    0.091091,    0.092092,    0.093093,    0.094094,    0.095095,\n",
              "          0.096096,    0.097097,    0.098098,    0.099099,      0.1001,      0.1011,      0.1021,      0.1031,      0.1041,     0.10511,     0.10611,     0.10711,     0.10811,     0.10911,     0.11011,     0.11111,     0.11211,     0.11311,     0.11411,     0.11512,     0.11612,     0.11712,     0.11812,     0.11912,\n",
              "           0.12012,     0.12112,     0.12212,     0.12312,     0.12412,     0.12513,     0.12613,     0.12713,     0.12813,     0.12913,     0.13013,     0.13113,     0.13213,     0.13313,     0.13413,     0.13514,     0.13614,     0.13714,     0.13814,     0.13914,     0.14014,     0.14114,     0.14214,     0.14314,\n",
              "           0.14414,     0.14515,     0.14615,     0.14715,     0.14815,     0.14915,     0.15015,     0.15115,     0.15215,     0.15315,     0.15415,     0.15516,     0.15616,     0.15716,     0.15816,     0.15916,     0.16016,     0.16116,     0.16216,     0.16316,     0.16416,     0.16517,     0.16617,     0.16717,\n",
              "           0.16817,     0.16917,     0.17017,     0.17117,     0.17217,     0.17317,     0.17417,     0.17518,     0.17618,     0.17718,     0.17818,     0.17918,     0.18018,     0.18118,     0.18218,     0.18318,     0.18418,     0.18519,     0.18619,     0.18719,     0.18819,     0.18919,     0.19019,     0.19119,\n",
              "           0.19219,     0.19319,     0.19419,      0.1952,      0.1962,      0.1972,      0.1982,      0.1992,      0.2002,      0.2012,      0.2022,      0.2032,      0.2042,     0.20521,     0.20621,     0.20721,     0.20821,     0.20921,     0.21021,     0.21121,     0.21221,     0.21321,     0.21421,     0.21522,\n",
              "           0.21622,     0.21722,     0.21822,     0.21922,     0.22022,     0.22122,     0.22222,     0.22322,     0.22422,     0.22523,     0.22623,     0.22723,     0.22823,     0.22923,     0.23023,     0.23123,     0.23223,     0.23323,     0.23423,     0.23524,     0.23624,     0.23724,     0.23824,     0.23924,\n",
              "           0.24024,     0.24124,     0.24224,     0.24324,     0.24424,     0.24525,     0.24625,     0.24725,     0.24825,     0.24925,     0.25025,     0.25125,     0.25225,     0.25325,     0.25425,     0.25526,     0.25626,     0.25726,     0.25826,     0.25926,     0.26026,     0.26126,     0.26226,     0.26326,\n",
              "           0.26426,     0.26527,     0.26627,     0.26727,     0.26827,     0.26927,     0.27027,     0.27127,     0.27227,     0.27327,     0.27427,     0.27528,     0.27628,     0.27728,     0.27828,     0.27928,     0.28028,     0.28128,     0.28228,     0.28328,     0.28428,     0.28529,     0.28629,     0.28729,\n",
              "           0.28829,     0.28929,     0.29029,     0.29129,     0.29229,     0.29329,     0.29429,      0.2953,      0.2963,      0.2973,      0.2983,      0.2993,      0.3003,      0.3013,      0.3023,      0.3033,      0.3043,     0.30531,     0.30631,     0.30731,     0.30831,     0.30931,     0.31031,     0.31131,\n",
              "           0.31231,     0.31331,     0.31431,     0.31532,     0.31632,     0.31732,     0.31832,     0.31932,     0.32032,     0.32132,     0.32232,     0.32332,     0.32432,     0.32533,     0.32633,     0.32733,     0.32833,     0.32933,     0.33033,     0.33133,     0.33233,     0.33333,     0.33433,     0.33534,\n",
              "           0.33634,     0.33734,     0.33834,     0.33934,     0.34034,     0.34134,     0.34234,     0.34334,     0.34434,     0.34535,     0.34635,     0.34735,     0.34835,     0.34935,     0.35035,     0.35135,     0.35235,     0.35335,     0.35435,     0.35536,     0.35636,     0.35736,     0.35836,     0.35936,\n",
              "           0.36036,     0.36136,     0.36236,     0.36336,     0.36436,     0.36537,     0.36637,     0.36737,     0.36837,     0.36937,     0.37037,     0.37137,     0.37237,     0.37337,     0.37437,     0.37538,     0.37638,     0.37738,     0.37838,     0.37938,     0.38038,     0.38138,     0.38238,     0.38338,\n",
              "           0.38438,     0.38539,     0.38639,     0.38739,     0.38839,     0.38939,     0.39039,     0.39139,     0.39239,     0.39339,     0.39439,      0.3954,      0.3964,      0.3974,      0.3984,      0.3994,      0.4004,      0.4014,      0.4024,      0.4034,      0.4044,     0.40541,     0.40641,     0.40741,\n",
              "           0.40841,     0.40941,     0.41041,     0.41141,     0.41241,     0.41341,     0.41441,     0.41542,     0.41642,     0.41742,     0.41842,     0.41942,     0.42042,     0.42142,     0.42242,     0.42342,     0.42442,     0.42543,     0.42643,     0.42743,     0.42843,     0.42943,     0.43043,     0.43143,\n",
              "           0.43243,     0.43343,     0.43443,     0.43544,     0.43644,     0.43744,     0.43844,     0.43944,     0.44044,     0.44144,     0.44244,     0.44344,     0.44444,     0.44545,     0.44645,     0.44745,     0.44845,     0.44945,     0.45045,     0.45145,     0.45245,     0.45345,     0.45445,     0.45546,\n",
              "           0.45646,     0.45746,     0.45846,     0.45946,     0.46046,     0.46146,     0.46246,     0.46346,     0.46446,     0.46547,     0.46647,     0.46747,     0.46847,     0.46947,     0.47047,     0.47147,     0.47247,     0.47347,     0.47447,     0.47548,     0.47648,     0.47748,     0.47848,     0.47948,\n",
              "           0.48048,     0.48148,     0.48248,     0.48348,     0.48448,     0.48549,     0.48649,     0.48749,     0.48849,     0.48949,     0.49049,     0.49149,     0.49249,     0.49349,     0.49449,      0.4955,      0.4965,      0.4975,      0.4985,      0.4995,      0.5005,      0.5015,      0.5025,      0.5035,\n",
              "            0.5045,     0.50551,     0.50651,     0.50751,     0.50851,     0.50951,     0.51051,     0.51151,     0.51251,     0.51351,     0.51451,     0.51552,     0.51652,     0.51752,     0.51852,     0.51952,     0.52052,     0.52152,     0.52252,     0.52352,     0.52452,     0.52553,     0.52653,     0.52753,\n",
              "           0.52853,     0.52953,     0.53053,     0.53153,     0.53253,     0.53353,     0.53453,     0.53554,     0.53654,     0.53754,     0.53854,     0.53954,     0.54054,     0.54154,     0.54254,     0.54354,     0.54454,     0.54555,     0.54655,     0.54755,     0.54855,     0.54955,     0.55055,     0.55155,\n",
              "           0.55255,     0.55355,     0.55455,     0.55556,     0.55656,     0.55756,     0.55856,     0.55956,     0.56056,     0.56156,     0.56256,     0.56356,     0.56456,     0.56557,     0.56657,     0.56757,     0.56857,     0.56957,     0.57057,     0.57157,     0.57257,     0.57357,     0.57457,     0.57558,\n",
              "           0.57658,     0.57758,     0.57858,     0.57958,     0.58058,     0.58158,     0.58258,     0.58358,     0.58458,     0.58559,     0.58659,     0.58759,     0.58859,     0.58959,     0.59059,     0.59159,     0.59259,     0.59359,     0.59459,      0.5956,      0.5966,      0.5976,      0.5986,      0.5996,\n",
              "            0.6006,      0.6016,      0.6026,      0.6036,      0.6046,     0.60561,     0.60661,     0.60761,     0.60861,     0.60961,     0.61061,     0.61161,     0.61261,     0.61361,     0.61461,     0.61562,     0.61662,     0.61762,     0.61862,     0.61962,     0.62062,     0.62162,     0.62262,     0.62362,\n",
              "           0.62462,     0.62563,     0.62663,     0.62763,     0.62863,     0.62963,     0.63063,     0.63163,     0.63263,     0.63363,     0.63463,     0.63564,     0.63664,     0.63764,     0.63864,     0.63964,     0.64064,     0.64164,     0.64264,     0.64364,     0.64464,     0.64565,     0.64665,     0.64765,\n",
              "           0.64865,     0.64965,     0.65065,     0.65165,     0.65265,     0.65365,     0.65465,     0.65566,     0.65666,     0.65766,     0.65866,     0.65966,     0.66066,     0.66166,     0.66266,     0.66366,     0.66466,     0.66567,     0.66667,     0.66767,     0.66867,     0.66967,     0.67067,     0.67167,\n",
              "           0.67267,     0.67367,     0.67467,     0.67568,     0.67668,     0.67768,     0.67868,     0.67968,     0.68068,     0.68168,     0.68268,     0.68368,     0.68468,     0.68569,     0.68669,     0.68769,     0.68869,     0.68969,     0.69069,     0.69169,     0.69269,     0.69369,     0.69469,      0.6957,\n",
              "            0.6967,      0.6977,      0.6987,      0.6997,      0.7007,      0.7017,      0.7027,      0.7037,      0.7047,     0.70571,     0.70671,     0.70771,     0.70871,     0.70971,     0.71071,     0.71171,     0.71271,     0.71371,     0.71471,     0.71572,     0.71672,     0.71772,     0.71872,     0.71972,\n",
              "           0.72072,     0.72172,     0.72272,     0.72372,     0.72472,     0.72573,     0.72673,     0.72773,     0.72873,     0.72973,     0.73073,     0.73173,     0.73273,     0.73373,     0.73473,     0.73574,     0.73674,     0.73774,     0.73874,     0.73974,     0.74074,     0.74174,     0.74274,     0.74374,\n",
              "           0.74474,     0.74575,     0.74675,     0.74775,     0.74875,     0.74975,     0.75075,     0.75175,     0.75275,     0.75375,     0.75475,     0.75576,     0.75676,     0.75776,     0.75876,     0.75976,     0.76076,     0.76176,     0.76276,     0.76376,     0.76476,     0.76577,     0.76677,     0.76777,\n",
              "           0.76877,     0.76977,     0.77077,     0.77177,     0.77277,     0.77377,     0.77477,     0.77578,     0.77678,     0.77778,     0.77878,     0.77978,     0.78078,     0.78178,     0.78278,     0.78378,     0.78478,     0.78579,     0.78679,     0.78779,     0.78879,     0.78979,     0.79079,     0.79179,\n",
              "           0.79279,     0.79379,     0.79479,      0.7958,      0.7968,      0.7978,      0.7988,      0.7998,      0.8008,      0.8018,      0.8028,      0.8038,      0.8048,     0.80581,     0.80681,     0.80781,     0.80881,     0.80981,     0.81081,     0.81181,     0.81281,     0.81381,     0.81481,     0.81582,\n",
              "           0.81682,     0.81782,     0.81882,     0.81982,     0.82082,     0.82182,     0.82282,     0.82382,     0.82482,     0.82583,     0.82683,     0.82783,     0.82883,     0.82983,     0.83083,     0.83183,     0.83283,     0.83383,     0.83483,     0.83584,     0.83684,     0.83784,     0.83884,     0.83984,\n",
              "           0.84084,     0.84184,     0.84284,     0.84384,     0.84484,     0.84585,     0.84685,     0.84785,     0.84885,     0.84985,     0.85085,     0.85185,     0.85285,     0.85385,     0.85485,     0.85586,     0.85686,     0.85786,     0.85886,     0.85986,     0.86086,     0.86186,     0.86286,     0.86386,\n",
              "           0.86486,     0.86587,     0.86687,     0.86787,     0.86887,     0.86987,     0.87087,     0.87187,     0.87287,     0.87387,     0.87487,     0.87588,     0.87688,     0.87788,     0.87888,     0.87988,     0.88088,     0.88188,     0.88288,     0.88388,     0.88488,     0.88589,     0.88689,     0.88789,\n",
              "           0.88889,     0.88989,     0.89089,     0.89189,     0.89289,     0.89389,     0.89489,      0.8959,      0.8969,      0.8979,      0.8989,      0.8999,      0.9009,      0.9019,      0.9029,      0.9039,      0.9049,     0.90591,     0.90691,     0.90791,     0.90891,     0.90991,     0.91091,     0.91191,\n",
              "           0.91291,     0.91391,     0.91491,     0.91592,     0.91692,     0.91792,     0.91892,     0.91992,     0.92092,     0.92192,     0.92292,     0.92392,     0.92492,     0.92593,     0.92693,     0.92793,     0.92893,     0.92993,     0.93093,     0.93193,     0.93293,     0.93393,     0.93493,     0.93594,\n",
              "           0.93694,     0.93794,     0.93894,     0.93994,     0.94094,     0.94194,     0.94294,     0.94394,     0.94494,     0.94595,     0.94695,     0.94795,     0.94895,     0.94995,     0.95095,     0.95195,     0.95295,     0.95395,     0.95495,     0.95596,     0.95696,     0.95796,     0.95896,     0.95996,\n",
              "           0.96096,     0.96196,     0.96296,     0.96396,     0.96496,     0.96597,     0.96697,     0.96797,     0.96897,     0.96997,     0.97097,     0.97197,     0.97297,     0.97397,     0.97497,     0.97598,     0.97698,     0.97798,     0.97898,     0.97998,     0.98098,     0.98198,     0.98298,     0.98398,\n",
              "           0.98498,     0.98599,     0.98699,     0.98799,     0.98899,     0.98999,     0.99099,     0.99199,     0.99299,     0.99399,     0.99499,       0.996,       0.997,       0.998,       0.999,           1]), array([[    0.96232,     0.96232,     0.96922,     0.97407,     0.97611,     0.98154,     0.98628,     0.99105,     0.99114,     0.99122,     0.99131,     0.99139,     0.99147,     0.99156,     0.99164,     0.99173,     0.99181,      0.9919,     0.99198,     0.99206,     0.99215,     0.99223,     0.99232,\n",
              "             0.9924,     0.99248,     0.99257,     0.99265,     0.99274,     0.99282,      0.9929,     0.99299,     0.99307,     0.99316,     0.99324,     0.99332,     0.99341,     0.99349,     0.99358,     0.99366,     0.99374,     0.99383,     0.99391,       0.994,     0.99405,      0.9941,     0.99415,\n",
              "             0.9942,     0.99426,     0.99431,     0.99436,     0.99441,     0.99446,     0.99451,     0.99456,     0.99461,     0.99466,     0.99471,     0.99476,     0.99481,     0.99486,     0.99491,     0.99496,     0.99501,     0.99506,     0.99511,     0.99517,     0.99522,     0.99527,     0.99532,\n",
              "            0.99537,     0.99542,     0.99547,     0.99552,     0.99557,     0.99562,     0.99567,     0.99572,     0.99577,     0.99582,     0.99587,     0.99592,     0.99597,     0.99602,     0.99607,     0.99612,     0.99617,     0.99622,     0.99627,     0.99633,     0.99638,     0.99643,     0.99648,\n",
              "            0.99653,     0.99658,     0.99663,     0.99668,     0.99673,     0.99678,     0.99683,     0.99688,     0.99693,     0.99698,       0.997,       0.997,     0.99701,     0.99701,     0.99701,     0.99702,     0.99702,     0.99703,     0.99703,     0.99703,     0.99704,     0.99704,     0.99704,\n",
              "            0.99705,     0.99705,     0.99706,     0.99706,     0.99706,     0.99707,     0.99707,     0.99707,     0.99708,     0.99708,     0.99708,     0.99709,     0.99709,      0.9971,      0.9971,      0.9971,     0.99711,     0.99711,     0.99711,     0.99712,     0.99712,     0.99713,     0.99713,\n",
              "            0.99713,     0.99714,     0.99714,     0.99714,     0.99715,     0.99715,     0.99716,     0.99716,     0.99716,     0.99717,     0.99717,     0.99717,     0.99718,     0.99718,     0.99718,     0.99719,     0.99719,      0.9972,      0.9972,      0.9972,     0.99721,     0.99721,     0.99721,\n",
              "            0.99722,     0.99722,     0.99723,     0.99723,     0.99723,     0.99724,     0.99724,     0.99724,     0.99725,     0.99725,     0.99726,     0.99726,     0.99726,     0.99727,     0.99727,     0.99727,     0.99728,     0.99728,     0.99728,     0.99729,     0.99729,      0.9973,      0.9973,\n",
              "             0.9973,     0.99731,     0.99731,     0.99731,     0.99732,     0.99732,     0.99733,     0.99733,     0.99733,     0.99734,     0.99734,     0.99734,     0.99735,     0.99735,     0.99736,     0.99736,     0.99736,     0.99737,     0.99737,     0.99737,     0.99738,     0.99738,     0.99738,\n",
              "            0.99739,     0.99739,      0.9974,      0.9974,      0.9974,     0.99741,     0.99741,     0.99741,     0.99742,     0.99742,     0.99743,     0.99743,     0.99743,     0.99744,     0.99744,     0.99744,     0.99745,     0.99745,     0.99746,     0.99746,     0.99746,     0.99747,     0.99747,\n",
              "            0.99747,     0.99748,     0.99748,     0.99748,     0.99749,     0.99749,      0.9975,      0.9975,      0.9975,     0.99751,     0.99751,     0.99751,     0.99752,     0.99752,     0.99753,     0.99753,     0.99753,     0.99754,     0.99754,     0.99754,     0.99755,     0.99755,     0.99756,\n",
              "            0.99756,     0.99756,     0.99757,     0.99757,     0.99757,     0.99758,     0.99758,     0.99758,     0.99759,     0.99759,      0.9976,      0.9976,      0.9976,     0.99761,     0.99761,     0.99761,     0.99762,     0.99762,     0.99763,     0.99763,     0.99763,     0.99764,     0.99764,\n",
              "            0.99764,     0.99765,     0.99765,     0.99766,     0.99766,     0.99766,     0.99767,     0.99767,     0.99767,     0.99768,     0.99768,     0.99768,     0.99769,     0.99769,      0.9977,      0.9977,      0.9977,     0.99771,     0.99771,     0.99771,     0.99772,     0.99772,     0.99773,\n",
              "            0.99773,     0.99773,     0.99774,     0.99774,     0.99774,     0.99775,     0.99775,     0.99776,     0.99776,     0.99776,     0.99777,     0.99777,     0.99777,     0.99778,     0.99778,     0.99778,     0.99779,     0.99779,      0.9978,      0.9978,      0.9978,     0.99781,     0.99781,\n",
              "            0.99781,     0.99782,     0.99782,     0.99783,     0.99783,     0.99783,     0.99784,     0.99784,     0.99784,     0.99785,     0.99785,     0.99786,     0.99786,     0.99786,     0.99787,     0.99787,     0.99787,     0.99788,     0.99788,     0.99788,     0.99789,     0.99789,      0.9979,\n",
              "             0.9979,      0.9979,     0.99791,     0.99791,     0.99791,     0.99792,     0.99792,     0.99793,     0.99793,     0.99793,     0.99794,     0.99794,     0.99794,     0.99795,     0.99795,     0.99796,     0.99796,     0.99796,     0.99797,     0.99797,     0.99797,     0.99798,     0.99798,\n",
              "            0.99798,     0.99799,     0.99799,       0.998,       0.998,       0.998,     0.99801,     0.99801,     0.99801,     0.99802,     0.99802,     0.99803,     0.99803,     0.99803,     0.99804,     0.99804,     0.99804,     0.99805,     0.99805,     0.99806,     0.99806,     0.99806,     0.99807,\n",
              "            0.99807,     0.99807,     0.99808,     0.99808,     0.99808,     0.99809,     0.99809,      0.9981,      0.9981,      0.9981,     0.99811,     0.99811,     0.99811,     0.99812,     0.99812,     0.99813,     0.99813,     0.99813,     0.99814,     0.99814,     0.99814,     0.99815,     0.99815,\n",
              "            0.99816,     0.99816,     0.99816,     0.99817,     0.99817,     0.99817,     0.99818,     0.99818,     0.99818,     0.99819,     0.99819,      0.9982,      0.9982,      0.9982,     0.99821,     0.99821,     0.99821,     0.99822,     0.99822,     0.99823,     0.99823,     0.99823,     0.99824,\n",
              "            0.99824,     0.99824,     0.99825,     0.99825,     0.99825,     0.99826,     0.99826,     0.99827,     0.99827,     0.99827,     0.99828,     0.99828,     0.99828,     0.99829,     0.99829,      0.9983,      0.9983,      0.9983,     0.99831,     0.99831,     0.99831,     0.99832,     0.99832,\n",
              "            0.99833,     0.99833,     0.99833,     0.99834,     0.99834,     0.99834,     0.99835,     0.99835,     0.99835,     0.99836,     0.99836,     0.99837,     0.99837,     0.99837,     0.99838,     0.99838,     0.99838,     0.99839,     0.99839,      0.9984,      0.9984,      0.9984,     0.99841,\n",
              "            0.99841,     0.99841,     0.99842,     0.99842,     0.99843,     0.99843,     0.99843,     0.99844,     0.99844,     0.99844,     0.99845,     0.99845,     0.99845,     0.99846,     0.99846,     0.99847,     0.99847,     0.99847,     0.99848,     0.99848,     0.99848,     0.99849,     0.99849,\n",
              "             0.9985,      0.9985,      0.9985,     0.99851,     0.99851,     0.99851,     0.99852,     0.99852,     0.99852,     0.99853,     0.99853,     0.99854,     0.99854,     0.99854,     0.99855,     0.99855,     0.99855,     0.99856,     0.99856,     0.99857,     0.99857,     0.99857,     0.99858,\n",
              "            0.99858,     0.99858,     0.99859,     0.99859,      0.9986,      0.9986,      0.9986,     0.99861,     0.99861,     0.99861,     0.99862,     0.99862,     0.99862,     0.99863,     0.99863,     0.99864,     0.99864,     0.99864,     0.99865,     0.99865,     0.99865,     0.99866,     0.99866,\n",
              "            0.99867,     0.99867,     0.99867,     0.99868,     0.99868,     0.99868,     0.99869,     0.99869,     0.99869,      0.9987,      0.9987,     0.99871,     0.99871,     0.99871,     0.99872,     0.99872,     0.99872,     0.99873,     0.99873,     0.99874,     0.99874,     0.99874,     0.99875,\n",
              "            0.99875,     0.99875,     0.99876,     0.99876,     0.99877,     0.99877,     0.99877,     0.99878,     0.99878,     0.99878,     0.99879,     0.99879,     0.99879,      0.9988,      0.9988,     0.99881,     0.99881,     0.99881,     0.99882,     0.99882,     0.99882,     0.99883,     0.99883,\n",
              "            0.99884,     0.99884,     0.99884,     0.99885,     0.99885,     0.99885,     0.99886,     0.99886,     0.99886,     0.99887,     0.99887,     0.99888,     0.99888,     0.99888,     0.99889,     0.99889,     0.99889,      0.9989,      0.9989,     0.99891,     0.99891,     0.99891,     0.99892,\n",
              "            0.99892,     0.99892,     0.99893,     0.99893,     0.99893,     0.99894,     0.99894,     0.99895,     0.99895,     0.99895,     0.99896,     0.99896,     0.99896,     0.99897,     0.99897,     0.99898,     0.99898,     0.99898,     0.99899,     0.99899,     0.99899,       0.999,       0.999,\n",
              "            0.99901,     0.99901,     0.99901,     0.99902,     0.99902,     0.99902,     0.99903,     0.99903,     0.99903,     0.99904,     0.99904,     0.99905,     0.99905,     0.99905,     0.99906,     0.99906,     0.99906,     0.99907,     0.99907,     0.99908,     0.99908,     0.99908,     0.99909,\n",
              "            0.99909,     0.99909,      0.9991,      0.9991,      0.9991,     0.99911,     0.99911,     0.99912,     0.99912,     0.99912,     0.99913,     0.99913,     0.99913,     0.99914,     0.99914,     0.99915,     0.99915,     0.99915,     0.99916,     0.99916,     0.99916,     0.99917,     0.99917,\n",
              "            0.99918,     0.99918,     0.99918,     0.99919,     0.99919,     0.99919,      0.9992,      0.9992,      0.9992,     0.99921,     0.99921,     0.99922,     0.99922,     0.99922,     0.99923,     0.99923,     0.99923,     0.99924,     0.99924,     0.99925,     0.99925,     0.99925,     0.99926,\n",
              "            0.99926,     0.99926,     0.99927,     0.99927,     0.99927,     0.99928,     0.99928,     0.99929,     0.99929,     0.99929,      0.9993,      0.9993,      0.9993,     0.99931,     0.99931,     0.99932,     0.99932,     0.99932,     0.99933,     0.99933,     0.99933,     0.99934,     0.99934,\n",
              "            0.99934,     0.99935,     0.99935,     0.99936,     0.99936,     0.99936,     0.99937,     0.99937,     0.99937,     0.99938,     0.99938,     0.99939,     0.99939,     0.99939,      0.9994,      0.9994,      0.9994,     0.99941,     0.99941,     0.99941,     0.99942,     0.99942,     0.99943,\n",
              "            0.99943,     0.99943,     0.99944,     0.99944,     0.99944,     0.99945,     0.99945,     0.99946,     0.99946,     0.99946,     0.99947,     0.99947,     0.99947,     0.99948,     0.99948,     0.99949,     0.99949,     0.99949,      0.9995,      0.9995,      0.9995,     0.99951,     0.99951,\n",
              "            0.99951,     0.99952,     0.99952,     0.99953,     0.99953,     0.99953,     0.99954,     0.99954,     0.99954,     0.99955,     0.99955,     0.99956,     0.99956,     0.99956,     0.99957,     0.99957,     0.99957,     0.99958,     0.99958,     0.99958,     0.99959,     0.99959,      0.9996,\n",
              "             0.9996,      0.9996,     0.99961,     0.99961,     0.99961,     0.99962,     0.99962,     0.99963,     0.99963,     0.99963,     0.99964,     0.99964,     0.99964,     0.99965,     0.99965,     0.99965,     0.99966,     0.99966,     0.99967,     0.99967,     0.99967,     0.99968,     0.99968,\n",
              "            0.99968,     0.99969,     0.99969,      0.9997,      0.9997,      0.9997,     0.99971,     0.99971,     0.99971,     0.99972,     0.99972,     0.99972,     0.99973,     0.99973,     0.99974,     0.99974,     0.99974,     0.99975,     0.99975,     0.99975,     0.99976,     0.99976,     0.99977,\n",
              "            0.99977,     0.99977,     0.99978,     0.99978,     0.99978,     0.99979,     0.99979,     0.99979,      0.9998,      0.9998,     0.99981,     0.99981,     0.99981,     0.99982,     0.99982,     0.99982,     0.99983,     0.99983,     0.99984,     0.99984,     0.99984,     0.99985,     0.99985,\n",
              "            0.99985,     0.99986,     0.99986,     0.99986,     0.99987,     0.99987,     0.99988,     0.99988,     0.99988,     0.99989,     0.99989,     0.99989,      0.9999,      0.9999,     0.99991,     0.99991,     0.99991,     0.99992,     0.99992,     0.99992,     0.99993,     0.99993,     0.99993,\n",
              "            0.99994,     0.99994,     0.99995,     0.99995,     0.99995,     0.99996,     0.99996,     0.99996,     0.99997,     0.99997,     0.99998,     0.99998,     0.99998,     0.99999,     0.99999,     0.99999,           1,     0.99955,     0.99831,     0.99707,      0.9941,     0.99245,     0.99088,\n",
              "            0.98145,     0.97516,     0.97207,     0.97114,      0.9702,     0.96927,     0.96536,     0.96315,     0.95896,     0.95762,     0.95627,     0.94671,     0.94327,     0.93008,     0.91946,      0.9014,     0.88273,     0.87477,     0.86506,      0.8578,     0.85112,     0.84301,     0.82655,\n",
              "            0.82187,     0.79602,     0.76443,     0.75025,     0.71119,     0.68137,       0.664,      0.6474,     0.57756,     0.53971,     0.50654,     0.45042,     0.42057,     0.39731,      0.3491,     0.33209,     0.30614,     0.24294,     0.19469,     0.16424,     0.13379,     0.11275,     0.10539,\n",
              "           0.073417,    0.042471,    0.015254,           0,           0,           0,           0,           0,           0,           0,           0,           0,           0,           0,           0,           0,           0,           0,           0,           0,           0,           0,           0,\n",
              "                  0,           0,           0,           0,           0,           0,           0,           0,           0,           0,           0]]), 'Confidence', 'F1'], [array([          0,    0.001001,    0.002002,    0.003003,    0.004004,    0.005005,    0.006006,    0.007007,    0.008008,    0.009009,     0.01001,    0.011011,    0.012012,    0.013013,    0.014014,    0.015015,    0.016016,    0.017017,    0.018018,    0.019019,     0.02002,    0.021021,    0.022022,    0.023023,\n",
              "          0.024024,    0.025025,    0.026026,    0.027027,    0.028028,    0.029029,     0.03003,    0.031031,    0.032032,    0.033033,    0.034034,    0.035035,    0.036036,    0.037037,    0.038038,    0.039039,     0.04004,    0.041041,    0.042042,    0.043043,    0.044044,    0.045045,    0.046046,    0.047047,\n",
              "          0.048048,    0.049049,     0.05005,    0.051051,    0.052052,    0.053053,    0.054054,    0.055055,    0.056056,    0.057057,    0.058058,    0.059059,     0.06006,    0.061061,    0.062062,    0.063063,    0.064064,    0.065065,    0.066066,    0.067067,    0.068068,    0.069069,     0.07007,    0.071071,\n",
              "          0.072072,    0.073073,    0.074074,    0.075075,    0.076076,    0.077077,    0.078078,    0.079079,     0.08008,    0.081081,    0.082082,    0.083083,    0.084084,    0.085085,    0.086086,    0.087087,    0.088088,    0.089089,     0.09009,    0.091091,    0.092092,    0.093093,    0.094094,    0.095095,\n",
              "          0.096096,    0.097097,    0.098098,    0.099099,      0.1001,      0.1011,      0.1021,      0.1031,      0.1041,     0.10511,     0.10611,     0.10711,     0.10811,     0.10911,     0.11011,     0.11111,     0.11211,     0.11311,     0.11411,     0.11512,     0.11612,     0.11712,     0.11812,     0.11912,\n",
              "           0.12012,     0.12112,     0.12212,     0.12312,     0.12412,     0.12513,     0.12613,     0.12713,     0.12813,     0.12913,     0.13013,     0.13113,     0.13213,     0.13313,     0.13413,     0.13514,     0.13614,     0.13714,     0.13814,     0.13914,     0.14014,     0.14114,     0.14214,     0.14314,\n",
              "           0.14414,     0.14515,     0.14615,     0.14715,     0.14815,     0.14915,     0.15015,     0.15115,     0.15215,     0.15315,     0.15415,     0.15516,     0.15616,     0.15716,     0.15816,     0.15916,     0.16016,     0.16116,     0.16216,     0.16316,     0.16416,     0.16517,     0.16617,     0.16717,\n",
              "           0.16817,     0.16917,     0.17017,     0.17117,     0.17217,     0.17317,     0.17417,     0.17518,     0.17618,     0.17718,     0.17818,     0.17918,     0.18018,     0.18118,     0.18218,     0.18318,     0.18418,     0.18519,     0.18619,     0.18719,     0.18819,     0.18919,     0.19019,     0.19119,\n",
              "           0.19219,     0.19319,     0.19419,      0.1952,      0.1962,      0.1972,      0.1982,      0.1992,      0.2002,      0.2012,      0.2022,      0.2032,      0.2042,     0.20521,     0.20621,     0.20721,     0.20821,     0.20921,     0.21021,     0.21121,     0.21221,     0.21321,     0.21421,     0.21522,\n",
              "           0.21622,     0.21722,     0.21822,     0.21922,     0.22022,     0.22122,     0.22222,     0.22322,     0.22422,     0.22523,     0.22623,     0.22723,     0.22823,     0.22923,     0.23023,     0.23123,     0.23223,     0.23323,     0.23423,     0.23524,     0.23624,     0.23724,     0.23824,     0.23924,\n",
              "           0.24024,     0.24124,     0.24224,     0.24324,     0.24424,     0.24525,     0.24625,     0.24725,     0.24825,     0.24925,     0.25025,     0.25125,     0.25225,     0.25325,     0.25425,     0.25526,     0.25626,     0.25726,     0.25826,     0.25926,     0.26026,     0.26126,     0.26226,     0.26326,\n",
              "           0.26426,     0.26527,     0.26627,     0.26727,     0.26827,     0.26927,     0.27027,     0.27127,     0.27227,     0.27327,     0.27427,     0.27528,     0.27628,     0.27728,     0.27828,     0.27928,     0.28028,     0.28128,     0.28228,     0.28328,     0.28428,     0.28529,     0.28629,     0.28729,\n",
              "           0.28829,     0.28929,     0.29029,     0.29129,     0.29229,     0.29329,     0.29429,      0.2953,      0.2963,      0.2973,      0.2983,      0.2993,      0.3003,      0.3013,      0.3023,      0.3033,      0.3043,     0.30531,     0.30631,     0.30731,     0.30831,     0.30931,     0.31031,     0.31131,\n",
              "           0.31231,     0.31331,     0.31431,     0.31532,     0.31632,     0.31732,     0.31832,     0.31932,     0.32032,     0.32132,     0.32232,     0.32332,     0.32432,     0.32533,     0.32633,     0.32733,     0.32833,     0.32933,     0.33033,     0.33133,     0.33233,     0.33333,     0.33433,     0.33534,\n",
              "           0.33634,     0.33734,     0.33834,     0.33934,     0.34034,     0.34134,     0.34234,     0.34334,     0.34434,     0.34535,     0.34635,     0.34735,     0.34835,     0.34935,     0.35035,     0.35135,     0.35235,     0.35335,     0.35435,     0.35536,     0.35636,     0.35736,     0.35836,     0.35936,\n",
              "           0.36036,     0.36136,     0.36236,     0.36336,     0.36436,     0.36537,     0.36637,     0.36737,     0.36837,     0.36937,     0.37037,     0.37137,     0.37237,     0.37337,     0.37437,     0.37538,     0.37638,     0.37738,     0.37838,     0.37938,     0.38038,     0.38138,     0.38238,     0.38338,\n",
              "           0.38438,     0.38539,     0.38639,     0.38739,     0.38839,     0.38939,     0.39039,     0.39139,     0.39239,     0.39339,     0.39439,      0.3954,      0.3964,      0.3974,      0.3984,      0.3994,      0.4004,      0.4014,      0.4024,      0.4034,      0.4044,     0.40541,     0.40641,     0.40741,\n",
              "           0.40841,     0.40941,     0.41041,     0.41141,     0.41241,     0.41341,     0.41441,     0.41542,     0.41642,     0.41742,     0.41842,     0.41942,     0.42042,     0.42142,     0.42242,     0.42342,     0.42442,     0.42543,     0.42643,     0.42743,     0.42843,     0.42943,     0.43043,     0.43143,\n",
              "           0.43243,     0.43343,     0.43443,     0.43544,     0.43644,     0.43744,     0.43844,     0.43944,     0.44044,     0.44144,     0.44244,     0.44344,     0.44444,     0.44545,     0.44645,     0.44745,     0.44845,     0.44945,     0.45045,     0.45145,     0.45245,     0.45345,     0.45445,     0.45546,\n",
              "           0.45646,     0.45746,     0.45846,     0.45946,     0.46046,     0.46146,     0.46246,     0.46346,     0.46446,     0.46547,     0.46647,     0.46747,     0.46847,     0.46947,     0.47047,     0.47147,     0.47247,     0.47347,     0.47447,     0.47548,     0.47648,     0.47748,     0.47848,     0.47948,\n",
              "           0.48048,     0.48148,     0.48248,     0.48348,     0.48448,     0.48549,     0.48649,     0.48749,     0.48849,     0.48949,     0.49049,     0.49149,     0.49249,     0.49349,     0.49449,      0.4955,      0.4965,      0.4975,      0.4985,      0.4995,      0.5005,      0.5015,      0.5025,      0.5035,\n",
              "            0.5045,     0.50551,     0.50651,     0.50751,     0.50851,     0.50951,     0.51051,     0.51151,     0.51251,     0.51351,     0.51451,     0.51552,     0.51652,     0.51752,     0.51852,     0.51952,     0.52052,     0.52152,     0.52252,     0.52352,     0.52452,     0.52553,     0.52653,     0.52753,\n",
              "           0.52853,     0.52953,     0.53053,     0.53153,     0.53253,     0.53353,     0.53453,     0.53554,     0.53654,     0.53754,     0.53854,     0.53954,     0.54054,     0.54154,     0.54254,     0.54354,     0.54454,     0.54555,     0.54655,     0.54755,     0.54855,     0.54955,     0.55055,     0.55155,\n",
              "           0.55255,     0.55355,     0.55455,     0.55556,     0.55656,     0.55756,     0.55856,     0.55956,     0.56056,     0.56156,     0.56256,     0.56356,     0.56456,     0.56557,     0.56657,     0.56757,     0.56857,     0.56957,     0.57057,     0.57157,     0.57257,     0.57357,     0.57457,     0.57558,\n",
              "           0.57658,     0.57758,     0.57858,     0.57958,     0.58058,     0.58158,     0.58258,     0.58358,     0.58458,     0.58559,     0.58659,     0.58759,     0.58859,     0.58959,     0.59059,     0.59159,     0.59259,     0.59359,     0.59459,      0.5956,      0.5966,      0.5976,      0.5986,      0.5996,\n",
              "            0.6006,      0.6016,      0.6026,      0.6036,      0.6046,     0.60561,     0.60661,     0.60761,     0.60861,     0.60961,     0.61061,     0.61161,     0.61261,     0.61361,     0.61461,     0.61562,     0.61662,     0.61762,     0.61862,     0.61962,     0.62062,     0.62162,     0.62262,     0.62362,\n",
              "           0.62462,     0.62563,     0.62663,     0.62763,     0.62863,     0.62963,     0.63063,     0.63163,     0.63263,     0.63363,     0.63463,     0.63564,     0.63664,     0.63764,     0.63864,     0.63964,     0.64064,     0.64164,     0.64264,     0.64364,     0.64464,     0.64565,     0.64665,     0.64765,\n",
              "           0.64865,     0.64965,     0.65065,     0.65165,     0.65265,     0.65365,     0.65465,     0.65566,     0.65666,     0.65766,     0.65866,     0.65966,     0.66066,     0.66166,     0.66266,     0.66366,     0.66466,     0.66567,     0.66667,     0.66767,     0.66867,     0.66967,     0.67067,     0.67167,\n",
              "           0.67267,     0.67367,     0.67467,     0.67568,     0.67668,     0.67768,     0.67868,     0.67968,     0.68068,     0.68168,     0.68268,     0.68368,     0.68468,     0.68569,     0.68669,     0.68769,     0.68869,     0.68969,     0.69069,     0.69169,     0.69269,     0.69369,     0.69469,      0.6957,\n",
              "            0.6967,      0.6977,      0.6987,      0.6997,      0.7007,      0.7017,      0.7027,      0.7037,      0.7047,     0.70571,     0.70671,     0.70771,     0.70871,     0.70971,     0.71071,     0.71171,     0.71271,     0.71371,     0.71471,     0.71572,     0.71672,     0.71772,     0.71872,     0.71972,\n",
              "           0.72072,     0.72172,     0.72272,     0.72372,     0.72472,     0.72573,     0.72673,     0.72773,     0.72873,     0.72973,     0.73073,     0.73173,     0.73273,     0.73373,     0.73473,     0.73574,     0.73674,     0.73774,     0.73874,     0.73974,     0.74074,     0.74174,     0.74274,     0.74374,\n",
              "           0.74474,     0.74575,     0.74675,     0.74775,     0.74875,     0.74975,     0.75075,     0.75175,     0.75275,     0.75375,     0.75475,     0.75576,     0.75676,     0.75776,     0.75876,     0.75976,     0.76076,     0.76176,     0.76276,     0.76376,     0.76476,     0.76577,     0.76677,     0.76777,\n",
              "           0.76877,     0.76977,     0.77077,     0.77177,     0.77277,     0.77377,     0.77477,     0.77578,     0.77678,     0.77778,     0.77878,     0.77978,     0.78078,     0.78178,     0.78278,     0.78378,     0.78478,     0.78579,     0.78679,     0.78779,     0.78879,     0.78979,     0.79079,     0.79179,\n",
              "           0.79279,     0.79379,     0.79479,      0.7958,      0.7968,      0.7978,      0.7988,      0.7998,      0.8008,      0.8018,      0.8028,      0.8038,      0.8048,     0.80581,     0.80681,     0.80781,     0.80881,     0.80981,     0.81081,     0.81181,     0.81281,     0.81381,     0.81481,     0.81582,\n",
              "           0.81682,     0.81782,     0.81882,     0.81982,     0.82082,     0.82182,     0.82282,     0.82382,     0.82482,     0.82583,     0.82683,     0.82783,     0.82883,     0.82983,     0.83083,     0.83183,     0.83283,     0.83383,     0.83483,     0.83584,     0.83684,     0.83784,     0.83884,     0.83984,\n",
              "           0.84084,     0.84184,     0.84284,     0.84384,     0.84484,     0.84585,     0.84685,     0.84785,     0.84885,     0.84985,     0.85085,     0.85185,     0.85285,     0.85385,     0.85485,     0.85586,     0.85686,     0.85786,     0.85886,     0.85986,     0.86086,     0.86186,     0.86286,     0.86386,\n",
              "           0.86486,     0.86587,     0.86687,     0.86787,     0.86887,     0.86987,     0.87087,     0.87187,     0.87287,     0.87387,     0.87487,     0.87588,     0.87688,     0.87788,     0.87888,     0.87988,     0.88088,     0.88188,     0.88288,     0.88388,     0.88488,     0.88589,     0.88689,     0.88789,\n",
              "           0.88889,     0.88989,     0.89089,     0.89189,     0.89289,     0.89389,     0.89489,      0.8959,      0.8969,      0.8979,      0.8989,      0.8999,      0.9009,      0.9019,      0.9029,      0.9039,      0.9049,     0.90591,     0.90691,     0.90791,     0.90891,     0.90991,     0.91091,     0.91191,\n",
              "           0.91291,     0.91391,     0.91491,     0.91592,     0.91692,     0.91792,     0.91892,     0.91992,     0.92092,     0.92192,     0.92292,     0.92392,     0.92492,     0.92593,     0.92693,     0.92793,     0.92893,     0.92993,     0.93093,     0.93193,     0.93293,     0.93393,     0.93493,     0.93594,\n",
              "           0.93694,     0.93794,     0.93894,     0.93994,     0.94094,     0.94194,     0.94294,     0.94394,     0.94494,     0.94595,     0.94695,     0.94795,     0.94895,     0.94995,     0.95095,     0.95195,     0.95295,     0.95395,     0.95495,     0.95596,     0.95696,     0.95796,     0.95896,     0.95996,\n",
              "           0.96096,     0.96196,     0.96296,     0.96396,     0.96496,     0.96597,     0.96697,     0.96797,     0.96897,     0.96997,     0.97097,     0.97197,     0.97297,     0.97397,     0.97497,     0.97598,     0.97698,     0.97798,     0.97898,     0.97998,     0.98098,     0.98198,     0.98298,     0.98398,\n",
              "           0.98498,     0.98599,     0.98699,     0.98799,     0.98899,     0.98999,     0.99099,     0.99199,     0.99299,     0.99399,     0.99499,       0.996,       0.997,       0.998,       0.999,           1]), array([[    0.92737,     0.92737,     0.94028,     0.94944,     0.95334,     0.96375,     0.97293,     0.98227,     0.98243,      0.9826,     0.98276,     0.98293,     0.98309,     0.98326,     0.98342,     0.98359,     0.98376,     0.98392,     0.98409,     0.98425,     0.98442,     0.98458,     0.98475,\n",
              "            0.98492,     0.98508,     0.98525,     0.98541,     0.98558,     0.98574,     0.98591,     0.98608,     0.98624,     0.98641,     0.98657,     0.98674,      0.9869,     0.98707,     0.98723,      0.9874,     0.98757,     0.98773,      0.9879,     0.98806,     0.98818,     0.98828,     0.98838,\n",
              "            0.98848,     0.98858,     0.98868,     0.98878,     0.98888,     0.98898,     0.98908,     0.98918,     0.98928,     0.98938,     0.98948,     0.98958,     0.98968,     0.98978,     0.98988,     0.98998,     0.99008,     0.99018,     0.99028,     0.99038,     0.99048,     0.99058,     0.99068,\n",
              "            0.99078,     0.99088,     0.99098,     0.99108,     0.99118,     0.99128,     0.99138,     0.99148,     0.99158,     0.99168,     0.99178,     0.99188,     0.99198,     0.99208,     0.99218,     0.99228,     0.99238,     0.99248,     0.99258,     0.99268,     0.99278,     0.99288,     0.99298,\n",
              "            0.99308,     0.99318,     0.99328,     0.99338,     0.99348,     0.99358,     0.99368,     0.99378,     0.99388,     0.99398,     0.99402,     0.99402,     0.99403,     0.99404,     0.99405,     0.99405,     0.99406,     0.99407,     0.99408,     0.99408,     0.99409,      0.9941,     0.99411,\n",
              "            0.99411,     0.99412,     0.99413,     0.99413,     0.99414,     0.99415,     0.99416,     0.99416,     0.99417,     0.99418,     0.99419,     0.99419,      0.9942,     0.99421,     0.99422,     0.99422,     0.99423,     0.99424,     0.99425,     0.99425,     0.99426,     0.99427,     0.99427,\n",
              "            0.99428,     0.99429,      0.9943,      0.9943,     0.99431,     0.99432,     0.99433,     0.99433,     0.99434,     0.99435,     0.99436,     0.99436,     0.99437,     0.99438,     0.99439,     0.99439,      0.9944,     0.99441,     0.99441,     0.99442,     0.99443,     0.99444,     0.99444,\n",
              "            0.99445,     0.99446,     0.99447,     0.99447,     0.99448,     0.99449,      0.9945,      0.9945,     0.99451,     0.99452,     0.99453,     0.99453,     0.99454,     0.99455,     0.99455,     0.99456,     0.99457,     0.99458,     0.99458,     0.99459,      0.9946,     0.99461,     0.99461,\n",
              "            0.99462,     0.99463,     0.99464,     0.99464,     0.99465,     0.99466,     0.99467,     0.99467,     0.99468,     0.99469,      0.9947,      0.9947,     0.99471,     0.99472,     0.99472,     0.99473,     0.99474,     0.99475,     0.99475,     0.99476,     0.99477,     0.99478,     0.99478,\n",
              "            0.99479,      0.9948,     0.99481,     0.99481,     0.99482,     0.99483,     0.99484,     0.99484,     0.99485,     0.99486,     0.99486,     0.99487,     0.99488,     0.99489,     0.99489,      0.9949,     0.99491,     0.99492,     0.99492,     0.99493,     0.99494,     0.99495,     0.99495,\n",
              "            0.99496,     0.99497,     0.99498,     0.99498,     0.99499,       0.995,       0.995,     0.99501,     0.99502,     0.99503,     0.99503,     0.99504,     0.99505,     0.99506,     0.99506,     0.99507,     0.99508,     0.99509,     0.99509,      0.9951,     0.99511,     0.99512,     0.99512,\n",
              "            0.99513,     0.99514,     0.99514,     0.99515,     0.99516,     0.99517,     0.99517,     0.99518,     0.99519,      0.9952,      0.9952,     0.99521,     0.99522,     0.99523,     0.99523,     0.99524,     0.99525,     0.99526,     0.99526,     0.99527,     0.99528,     0.99528,     0.99529,\n",
              "             0.9953,     0.99531,     0.99531,     0.99532,     0.99533,     0.99534,     0.99534,     0.99535,     0.99536,     0.99537,     0.99537,     0.99538,     0.99539,      0.9954,      0.9954,     0.99541,     0.99542,     0.99542,     0.99543,     0.99544,     0.99545,     0.99545,     0.99546,\n",
              "            0.99547,     0.99548,     0.99548,     0.99549,      0.9955,     0.99551,     0.99551,     0.99552,     0.99553,     0.99554,     0.99554,     0.99555,     0.99556,     0.99556,     0.99557,     0.99558,     0.99559,     0.99559,      0.9956,     0.99561,     0.99562,     0.99562,     0.99563,\n",
              "            0.99564,     0.99565,     0.99565,     0.99566,     0.99567,     0.99568,     0.99568,     0.99569,      0.9957,      0.9957,     0.99571,     0.99572,     0.99573,     0.99573,     0.99574,     0.99575,     0.99576,     0.99576,     0.99577,     0.99578,     0.99579,     0.99579,      0.9958,\n",
              "            0.99581,     0.99582,     0.99582,     0.99583,     0.99584,     0.99585,     0.99585,     0.99586,     0.99587,     0.99587,     0.99588,     0.99589,      0.9959,      0.9959,     0.99591,     0.99592,     0.99593,     0.99593,     0.99594,     0.99595,     0.99596,     0.99596,     0.99597,\n",
              "            0.99598,     0.99599,     0.99599,       0.996,     0.99601,     0.99601,     0.99602,     0.99603,     0.99604,     0.99604,     0.99605,     0.99606,     0.99607,     0.99607,     0.99608,     0.99609,      0.9961,      0.9961,     0.99611,     0.99612,     0.99613,     0.99613,     0.99614,\n",
              "            0.99615,     0.99615,     0.99616,     0.99617,     0.99618,     0.99618,     0.99619,      0.9962,     0.99621,     0.99621,     0.99622,     0.99623,     0.99624,     0.99624,     0.99625,     0.99626,     0.99627,     0.99627,     0.99628,     0.99629,     0.99629,      0.9963,     0.99631,\n",
              "            0.99632,     0.99632,     0.99633,     0.99634,     0.99635,     0.99635,     0.99636,     0.99637,     0.99638,     0.99638,     0.99639,      0.9964,     0.99641,     0.99641,     0.99642,     0.99643,     0.99643,     0.99644,     0.99645,     0.99646,     0.99646,     0.99647,     0.99648,\n",
              "            0.99649,     0.99649,      0.9965,     0.99651,     0.99652,     0.99652,     0.99653,     0.99654,     0.99655,     0.99655,     0.99656,     0.99657,     0.99657,     0.99658,     0.99659,      0.9966,      0.9966,     0.99661,     0.99662,     0.99663,     0.99663,     0.99664,     0.99665,\n",
              "            0.99666,     0.99666,     0.99667,     0.99668,     0.99669,     0.99669,      0.9967,     0.99671,     0.99671,     0.99672,     0.99673,     0.99674,     0.99674,     0.99675,     0.99676,     0.99677,     0.99677,     0.99678,     0.99679,      0.9968,      0.9968,     0.99681,     0.99682,\n",
              "            0.99683,     0.99683,     0.99684,     0.99685,     0.99685,     0.99686,     0.99687,     0.99688,     0.99688,     0.99689,      0.9969,     0.99691,     0.99691,     0.99692,     0.99693,     0.99694,     0.99694,     0.99695,     0.99696,     0.99697,     0.99697,     0.99698,     0.99699,\n",
              "              0.997,       0.997,     0.99701,     0.99702,     0.99702,     0.99703,     0.99704,     0.99705,     0.99705,     0.99706,     0.99707,     0.99708,     0.99708,     0.99709,      0.9971,     0.99711,     0.99711,     0.99712,     0.99713,     0.99714,     0.99714,     0.99715,     0.99716,\n",
              "            0.99716,     0.99717,     0.99718,     0.99719,     0.99719,      0.9972,     0.99721,     0.99722,     0.99722,     0.99723,     0.99724,     0.99725,     0.99725,     0.99726,     0.99727,     0.99728,     0.99728,     0.99729,      0.9973,      0.9973,     0.99731,     0.99732,     0.99733,\n",
              "            0.99733,     0.99734,     0.99735,     0.99736,     0.99736,     0.99737,     0.99738,     0.99739,     0.99739,      0.9974,     0.99741,     0.99742,     0.99742,     0.99743,     0.99744,     0.99744,     0.99745,     0.99746,     0.99747,     0.99747,     0.99748,     0.99749,      0.9975,\n",
              "             0.9975,     0.99751,     0.99752,     0.99753,     0.99753,     0.99754,     0.99755,     0.99756,     0.99756,     0.99757,     0.99758,     0.99758,     0.99759,      0.9976,     0.99761,     0.99761,     0.99762,     0.99763,     0.99764,     0.99764,     0.99765,     0.99766,     0.99767,\n",
              "            0.99767,     0.99768,     0.99769,      0.9977,      0.9977,     0.99771,     0.99772,     0.99772,     0.99773,     0.99774,     0.99775,     0.99775,     0.99776,     0.99777,     0.99778,     0.99778,     0.99779,      0.9978,     0.99781,     0.99781,     0.99782,     0.99783,     0.99784,\n",
              "            0.99784,     0.99785,     0.99786,     0.99786,     0.99787,     0.99788,     0.99789,     0.99789,      0.9979,     0.99791,     0.99792,     0.99792,     0.99793,     0.99794,     0.99795,     0.99795,     0.99796,     0.99797,     0.99798,     0.99798,     0.99799,       0.998,       0.998,\n",
              "            0.99801,     0.99802,     0.99803,     0.99803,     0.99804,     0.99805,     0.99806,     0.99806,     0.99807,     0.99808,     0.99809,     0.99809,      0.9981,     0.99811,     0.99812,     0.99812,     0.99813,     0.99814,     0.99815,     0.99815,     0.99816,     0.99817,     0.99817,\n",
              "            0.99818,     0.99819,      0.9982,      0.9982,     0.99821,     0.99822,     0.99823,     0.99823,     0.99824,     0.99825,     0.99826,     0.99826,     0.99827,     0.99828,     0.99829,     0.99829,      0.9983,     0.99831,     0.99831,     0.99832,     0.99833,     0.99834,     0.99834,\n",
              "            0.99835,     0.99836,     0.99837,     0.99837,     0.99838,     0.99839,      0.9984,      0.9984,     0.99841,     0.99842,     0.99843,     0.99843,     0.99844,     0.99845,     0.99845,     0.99846,     0.99847,     0.99848,     0.99848,     0.99849,      0.9985,     0.99851,     0.99851,\n",
              "            0.99852,     0.99853,     0.99854,     0.99854,     0.99855,     0.99856,     0.99857,     0.99857,     0.99858,     0.99859,     0.99859,      0.9986,     0.99861,     0.99862,     0.99862,     0.99863,     0.99864,     0.99865,     0.99865,     0.99866,     0.99867,     0.99868,     0.99868,\n",
              "            0.99869,      0.9987,     0.99871,     0.99871,     0.99872,     0.99873,     0.99873,     0.99874,     0.99875,     0.99876,     0.99876,     0.99877,     0.99878,     0.99879,     0.99879,      0.9988,     0.99881,     0.99882,     0.99882,     0.99883,     0.99884,     0.99885,     0.99885,\n",
              "            0.99886,     0.99887,     0.99887,     0.99888,     0.99889,      0.9989,      0.9989,     0.99891,     0.99892,     0.99893,     0.99893,     0.99894,     0.99895,     0.99896,     0.99896,     0.99897,     0.99898,     0.99899,     0.99899,       0.999,     0.99901,     0.99901,     0.99902,\n",
              "            0.99903,     0.99904,     0.99904,     0.99905,     0.99906,     0.99907,     0.99907,     0.99908,     0.99909,      0.9991,      0.9991,     0.99911,     0.99912,     0.99913,     0.99913,     0.99914,     0.99915,     0.99915,     0.99916,     0.99917,     0.99918,     0.99918,     0.99919,\n",
              "             0.9992,     0.99921,     0.99921,     0.99922,     0.99923,     0.99924,     0.99924,     0.99925,     0.99926,     0.99927,     0.99927,     0.99928,     0.99929,     0.99929,      0.9993,     0.99931,     0.99932,     0.99932,     0.99933,     0.99934,     0.99935,     0.99935,     0.99936,\n",
              "            0.99937,     0.99938,     0.99938,     0.99939,      0.9994,     0.99941,     0.99941,     0.99942,     0.99943,     0.99944,     0.99944,     0.99945,     0.99946,     0.99946,     0.99947,     0.99948,     0.99949,     0.99949,      0.9995,     0.99951,     0.99952,     0.99952,     0.99953,\n",
              "            0.99954,     0.99955,     0.99955,     0.99956,     0.99957,     0.99958,     0.99958,     0.99959,      0.9996,      0.9996,     0.99961,     0.99962,     0.99963,     0.99963,     0.99964,     0.99965,     0.99966,     0.99966,     0.99967,     0.99968,     0.99969,     0.99969,      0.9997,\n",
              "            0.99971,     0.99972,     0.99972,     0.99973,     0.99974,     0.99974,     0.99975,     0.99976,     0.99977,     0.99977,     0.99978,     0.99979,      0.9998,      0.9998,     0.99981,     0.99982,     0.99983,     0.99983,     0.99984,     0.99985,     0.99986,     0.99986,     0.99987,\n",
              "            0.99988,     0.99988,     0.99989,      0.9999,     0.99991,     0.99991,     0.99992,     0.99993,     0.99994,     0.99994,     0.99995,     0.99996,     0.99997,     0.99997,     0.99998,     0.99999,           1,           1,           1,           1,           1,           1,           1,\n",
              "                  1,           1,           1,           1,           1,           1,           1,           1,           1,           1,           1,           1,           1,           1,           1,           1,           1,           1,           1,           1,           1,           1,           1,\n",
              "                  1,           1,           1,           1,           1,           1,           1,           1,           1,           1,           1,           1,           1,           1,           1,           1,           1,           1,           1,           1,           1,           1,           1,\n",
              "                  1,           1,           1,           1,           1,           1,           1,           1,           1,           1,           1,           1,           1,           1,           1,           1,           1,           1,           1,           1,           1,           1,           1,\n",
              "                  1,           1,           1,           1,           1,           1,           1,           1,           1,           1,           1]]), 'Confidence', 'Precision'], [array([          0,    0.001001,    0.002002,    0.003003,    0.004004,    0.005005,    0.006006,    0.007007,    0.008008,    0.009009,     0.01001,    0.011011,    0.012012,    0.013013,    0.014014,    0.015015,    0.016016,    0.017017,    0.018018,    0.019019,     0.02002,    0.021021,    0.022022,    0.023023,\n",
              "          0.024024,    0.025025,    0.026026,    0.027027,    0.028028,    0.029029,     0.03003,    0.031031,    0.032032,    0.033033,    0.034034,    0.035035,    0.036036,    0.037037,    0.038038,    0.039039,     0.04004,    0.041041,    0.042042,    0.043043,    0.044044,    0.045045,    0.046046,    0.047047,\n",
              "          0.048048,    0.049049,     0.05005,    0.051051,    0.052052,    0.053053,    0.054054,    0.055055,    0.056056,    0.057057,    0.058058,    0.059059,     0.06006,    0.061061,    0.062062,    0.063063,    0.064064,    0.065065,    0.066066,    0.067067,    0.068068,    0.069069,     0.07007,    0.071071,\n",
              "          0.072072,    0.073073,    0.074074,    0.075075,    0.076076,    0.077077,    0.078078,    0.079079,     0.08008,    0.081081,    0.082082,    0.083083,    0.084084,    0.085085,    0.086086,    0.087087,    0.088088,    0.089089,     0.09009,    0.091091,    0.092092,    0.093093,    0.094094,    0.095095,\n",
              "          0.096096,    0.097097,    0.098098,    0.099099,      0.1001,      0.1011,      0.1021,      0.1031,      0.1041,     0.10511,     0.10611,     0.10711,     0.10811,     0.10911,     0.11011,     0.11111,     0.11211,     0.11311,     0.11411,     0.11512,     0.11612,     0.11712,     0.11812,     0.11912,\n",
              "           0.12012,     0.12112,     0.12212,     0.12312,     0.12412,     0.12513,     0.12613,     0.12713,     0.12813,     0.12913,     0.13013,     0.13113,     0.13213,     0.13313,     0.13413,     0.13514,     0.13614,     0.13714,     0.13814,     0.13914,     0.14014,     0.14114,     0.14214,     0.14314,\n",
              "           0.14414,     0.14515,     0.14615,     0.14715,     0.14815,     0.14915,     0.15015,     0.15115,     0.15215,     0.15315,     0.15415,     0.15516,     0.15616,     0.15716,     0.15816,     0.15916,     0.16016,     0.16116,     0.16216,     0.16316,     0.16416,     0.16517,     0.16617,     0.16717,\n",
              "           0.16817,     0.16917,     0.17017,     0.17117,     0.17217,     0.17317,     0.17417,     0.17518,     0.17618,     0.17718,     0.17818,     0.17918,     0.18018,     0.18118,     0.18218,     0.18318,     0.18418,     0.18519,     0.18619,     0.18719,     0.18819,     0.18919,     0.19019,     0.19119,\n",
              "           0.19219,     0.19319,     0.19419,      0.1952,      0.1962,      0.1972,      0.1982,      0.1992,      0.2002,      0.2012,      0.2022,      0.2032,      0.2042,     0.20521,     0.20621,     0.20721,     0.20821,     0.20921,     0.21021,     0.21121,     0.21221,     0.21321,     0.21421,     0.21522,\n",
              "           0.21622,     0.21722,     0.21822,     0.21922,     0.22022,     0.22122,     0.22222,     0.22322,     0.22422,     0.22523,     0.22623,     0.22723,     0.22823,     0.22923,     0.23023,     0.23123,     0.23223,     0.23323,     0.23423,     0.23524,     0.23624,     0.23724,     0.23824,     0.23924,\n",
              "           0.24024,     0.24124,     0.24224,     0.24324,     0.24424,     0.24525,     0.24625,     0.24725,     0.24825,     0.24925,     0.25025,     0.25125,     0.25225,     0.25325,     0.25425,     0.25526,     0.25626,     0.25726,     0.25826,     0.25926,     0.26026,     0.26126,     0.26226,     0.26326,\n",
              "           0.26426,     0.26527,     0.26627,     0.26727,     0.26827,     0.26927,     0.27027,     0.27127,     0.27227,     0.27327,     0.27427,     0.27528,     0.27628,     0.27728,     0.27828,     0.27928,     0.28028,     0.28128,     0.28228,     0.28328,     0.28428,     0.28529,     0.28629,     0.28729,\n",
              "           0.28829,     0.28929,     0.29029,     0.29129,     0.29229,     0.29329,     0.29429,      0.2953,      0.2963,      0.2973,      0.2983,      0.2993,      0.3003,      0.3013,      0.3023,      0.3033,      0.3043,     0.30531,     0.30631,     0.30731,     0.30831,     0.30931,     0.31031,     0.31131,\n",
              "           0.31231,     0.31331,     0.31431,     0.31532,     0.31632,     0.31732,     0.31832,     0.31932,     0.32032,     0.32132,     0.32232,     0.32332,     0.32432,     0.32533,     0.32633,     0.32733,     0.32833,     0.32933,     0.33033,     0.33133,     0.33233,     0.33333,     0.33433,     0.33534,\n",
              "           0.33634,     0.33734,     0.33834,     0.33934,     0.34034,     0.34134,     0.34234,     0.34334,     0.34434,     0.34535,     0.34635,     0.34735,     0.34835,     0.34935,     0.35035,     0.35135,     0.35235,     0.35335,     0.35435,     0.35536,     0.35636,     0.35736,     0.35836,     0.35936,\n",
              "           0.36036,     0.36136,     0.36236,     0.36336,     0.36436,     0.36537,     0.36637,     0.36737,     0.36837,     0.36937,     0.37037,     0.37137,     0.37237,     0.37337,     0.37437,     0.37538,     0.37638,     0.37738,     0.37838,     0.37938,     0.38038,     0.38138,     0.38238,     0.38338,\n",
              "           0.38438,     0.38539,     0.38639,     0.38739,     0.38839,     0.38939,     0.39039,     0.39139,     0.39239,     0.39339,     0.39439,      0.3954,      0.3964,      0.3974,      0.3984,      0.3994,      0.4004,      0.4014,      0.4024,      0.4034,      0.4044,     0.40541,     0.40641,     0.40741,\n",
              "           0.40841,     0.40941,     0.41041,     0.41141,     0.41241,     0.41341,     0.41441,     0.41542,     0.41642,     0.41742,     0.41842,     0.41942,     0.42042,     0.42142,     0.42242,     0.42342,     0.42442,     0.42543,     0.42643,     0.42743,     0.42843,     0.42943,     0.43043,     0.43143,\n",
              "           0.43243,     0.43343,     0.43443,     0.43544,     0.43644,     0.43744,     0.43844,     0.43944,     0.44044,     0.44144,     0.44244,     0.44344,     0.44444,     0.44545,     0.44645,     0.44745,     0.44845,     0.44945,     0.45045,     0.45145,     0.45245,     0.45345,     0.45445,     0.45546,\n",
              "           0.45646,     0.45746,     0.45846,     0.45946,     0.46046,     0.46146,     0.46246,     0.46346,     0.46446,     0.46547,     0.46647,     0.46747,     0.46847,     0.46947,     0.47047,     0.47147,     0.47247,     0.47347,     0.47447,     0.47548,     0.47648,     0.47748,     0.47848,     0.47948,\n",
              "           0.48048,     0.48148,     0.48248,     0.48348,     0.48448,     0.48549,     0.48649,     0.48749,     0.48849,     0.48949,     0.49049,     0.49149,     0.49249,     0.49349,     0.49449,      0.4955,      0.4965,      0.4975,      0.4985,      0.4995,      0.5005,      0.5015,      0.5025,      0.5035,\n",
              "            0.5045,     0.50551,     0.50651,     0.50751,     0.50851,     0.50951,     0.51051,     0.51151,     0.51251,     0.51351,     0.51451,     0.51552,     0.51652,     0.51752,     0.51852,     0.51952,     0.52052,     0.52152,     0.52252,     0.52352,     0.52452,     0.52553,     0.52653,     0.52753,\n",
              "           0.52853,     0.52953,     0.53053,     0.53153,     0.53253,     0.53353,     0.53453,     0.53554,     0.53654,     0.53754,     0.53854,     0.53954,     0.54054,     0.54154,     0.54254,     0.54354,     0.54454,     0.54555,     0.54655,     0.54755,     0.54855,     0.54955,     0.55055,     0.55155,\n",
              "           0.55255,     0.55355,     0.55455,     0.55556,     0.55656,     0.55756,     0.55856,     0.55956,     0.56056,     0.56156,     0.56256,     0.56356,     0.56456,     0.56557,     0.56657,     0.56757,     0.56857,     0.56957,     0.57057,     0.57157,     0.57257,     0.57357,     0.57457,     0.57558,\n",
              "           0.57658,     0.57758,     0.57858,     0.57958,     0.58058,     0.58158,     0.58258,     0.58358,     0.58458,     0.58559,     0.58659,     0.58759,     0.58859,     0.58959,     0.59059,     0.59159,     0.59259,     0.59359,     0.59459,      0.5956,      0.5966,      0.5976,      0.5986,      0.5996,\n",
              "            0.6006,      0.6016,      0.6026,      0.6036,      0.6046,     0.60561,     0.60661,     0.60761,     0.60861,     0.60961,     0.61061,     0.61161,     0.61261,     0.61361,     0.61461,     0.61562,     0.61662,     0.61762,     0.61862,     0.61962,     0.62062,     0.62162,     0.62262,     0.62362,\n",
              "           0.62462,     0.62563,     0.62663,     0.62763,     0.62863,     0.62963,     0.63063,     0.63163,     0.63263,     0.63363,     0.63463,     0.63564,     0.63664,     0.63764,     0.63864,     0.63964,     0.64064,     0.64164,     0.64264,     0.64364,     0.64464,     0.64565,     0.64665,     0.64765,\n",
              "           0.64865,     0.64965,     0.65065,     0.65165,     0.65265,     0.65365,     0.65465,     0.65566,     0.65666,     0.65766,     0.65866,     0.65966,     0.66066,     0.66166,     0.66266,     0.66366,     0.66466,     0.66567,     0.66667,     0.66767,     0.66867,     0.66967,     0.67067,     0.67167,\n",
              "           0.67267,     0.67367,     0.67467,     0.67568,     0.67668,     0.67768,     0.67868,     0.67968,     0.68068,     0.68168,     0.68268,     0.68368,     0.68468,     0.68569,     0.68669,     0.68769,     0.68869,     0.68969,     0.69069,     0.69169,     0.69269,     0.69369,     0.69469,      0.6957,\n",
              "            0.6967,      0.6977,      0.6987,      0.6997,      0.7007,      0.7017,      0.7027,      0.7037,      0.7047,     0.70571,     0.70671,     0.70771,     0.70871,     0.70971,     0.71071,     0.71171,     0.71271,     0.71371,     0.71471,     0.71572,     0.71672,     0.71772,     0.71872,     0.71972,\n",
              "           0.72072,     0.72172,     0.72272,     0.72372,     0.72472,     0.72573,     0.72673,     0.72773,     0.72873,     0.72973,     0.73073,     0.73173,     0.73273,     0.73373,     0.73473,     0.73574,     0.73674,     0.73774,     0.73874,     0.73974,     0.74074,     0.74174,     0.74274,     0.74374,\n",
              "           0.74474,     0.74575,     0.74675,     0.74775,     0.74875,     0.74975,     0.75075,     0.75175,     0.75275,     0.75375,     0.75475,     0.75576,     0.75676,     0.75776,     0.75876,     0.75976,     0.76076,     0.76176,     0.76276,     0.76376,     0.76476,     0.76577,     0.76677,     0.76777,\n",
              "           0.76877,     0.76977,     0.77077,     0.77177,     0.77277,     0.77377,     0.77477,     0.77578,     0.77678,     0.77778,     0.77878,     0.77978,     0.78078,     0.78178,     0.78278,     0.78378,     0.78478,     0.78579,     0.78679,     0.78779,     0.78879,     0.78979,     0.79079,     0.79179,\n",
              "           0.79279,     0.79379,     0.79479,      0.7958,      0.7968,      0.7978,      0.7988,      0.7998,      0.8008,      0.8018,      0.8028,      0.8038,      0.8048,     0.80581,     0.80681,     0.80781,     0.80881,     0.80981,     0.81081,     0.81181,     0.81281,     0.81381,     0.81481,     0.81582,\n",
              "           0.81682,     0.81782,     0.81882,     0.81982,     0.82082,     0.82182,     0.82282,     0.82382,     0.82482,     0.82583,     0.82683,     0.82783,     0.82883,     0.82983,     0.83083,     0.83183,     0.83283,     0.83383,     0.83483,     0.83584,     0.83684,     0.83784,     0.83884,     0.83984,\n",
              "           0.84084,     0.84184,     0.84284,     0.84384,     0.84484,     0.84585,     0.84685,     0.84785,     0.84885,     0.84985,     0.85085,     0.85185,     0.85285,     0.85385,     0.85485,     0.85586,     0.85686,     0.85786,     0.85886,     0.85986,     0.86086,     0.86186,     0.86286,     0.86386,\n",
              "           0.86486,     0.86587,     0.86687,     0.86787,     0.86887,     0.86987,     0.87087,     0.87187,     0.87287,     0.87387,     0.87487,     0.87588,     0.87688,     0.87788,     0.87888,     0.87988,     0.88088,     0.88188,     0.88288,     0.88388,     0.88488,     0.88589,     0.88689,     0.88789,\n",
              "           0.88889,     0.88989,     0.89089,     0.89189,     0.89289,     0.89389,     0.89489,      0.8959,      0.8969,      0.8979,      0.8989,      0.8999,      0.9009,      0.9019,      0.9029,      0.9039,      0.9049,     0.90591,     0.90691,     0.90791,     0.90891,     0.90991,     0.91091,     0.91191,\n",
              "           0.91291,     0.91391,     0.91491,     0.91592,     0.91692,     0.91792,     0.91892,     0.91992,     0.92092,     0.92192,     0.92292,     0.92392,     0.92492,     0.92593,     0.92693,     0.92793,     0.92893,     0.92993,     0.93093,     0.93193,     0.93293,     0.93393,     0.93493,     0.93594,\n",
              "           0.93694,     0.93794,     0.93894,     0.93994,     0.94094,     0.94194,     0.94294,     0.94394,     0.94494,     0.94595,     0.94695,     0.94795,     0.94895,     0.94995,     0.95095,     0.95195,     0.95295,     0.95395,     0.95495,     0.95596,     0.95696,     0.95796,     0.95896,     0.95996,\n",
              "           0.96096,     0.96196,     0.96296,     0.96396,     0.96496,     0.96597,     0.96697,     0.96797,     0.96897,     0.96997,     0.97097,     0.97197,     0.97297,     0.97397,     0.97497,     0.97598,     0.97698,     0.97798,     0.97898,     0.97998,     0.98098,     0.98198,     0.98298,     0.98398,\n",
              "           0.98498,     0.98599,     0.98699,     0.98799,     0.98899,     0.98999,     0.99099,     0.99199,     0.99299,     0.99399,     0.99499,       0.996,       0.997,       0.998,       0.999,           1]), array([[          1,           1,           1,           1,           1,           1,           1,           1,           1,           1,           1,           1,           1,           1,           1,           1,           1,           1,           1,           1,           1,           1,           1,\n",
              "                  1,           1,           1,           1,           1,           1,           1,           1,           1,           1,           1,           1,           1,           1,           1,           1,           1,           1,           1,           1,           1,           1,           1,\n",
              "                  1,           1,           1,           1,           1,           1,           1,           1,           1,           1,           1,           1,           1,           1,           1,           1,           1,           1,           1,           1,           1,           1,           1,\n",
              "                  1,           1,           1,           1,           1,           1,           1,           1,           1,           1,           1,           1,           1,           1,           1,           1,           1,           1,           1,           1,           1,           1,           1,\n",
              "                  1,           1,           1,           1,           1,           1,           1,           1,           1,           1,           1,           1,           1,           1,           1,           1,           1,           1,           1,           1,           1,           1,           1,\n",
              "                  1,           1,           1,           1,           1,           1,           1,           1,           1,           1,           1,           1,           1,           1,           1,           1,           1,           1,           1,           1,           1,           1,           1,\n",
              "                  1,           1,           1,           1,           1,           1,           1,           1,           1,           1,           1,           1,           1,           1,           1,           1,           1,           1,           1,           1,           1,           1,           1,\n",
              "                  1,           1,           1,           1,           1,           1,           1,           1,           1,           1,           1,           1,           1,           1,           1,           1,           1,           1,           1,           1,           1,           1,           1,\n",
              "                  1,           1,           1,           1,           1,           1,           1,           1,           1,           1,           1,           1,           1,           1,           1,           1,           1,           1,           1,           1,           1,           1,           1,\n",
              "                  1,           1,           1,           1,           1,           1,           1,           1,           1,           1,           1,           1,           1,           1,           1,           1,           1,           1,           1,           1,           1,           1,           1,\n",
              "                  1,           1,           1,           1,           1,           1,           1,           1,           1,           1,           1,           1,           1,           1,           1,           1,           1,           1,           1,           1,           1,           1,           1,\n",
              "                  1,           1,           1,           1,           1,           1,           1,           1,           1,           1,           1,           1,           1,           1,           1,           1,           1,           1,           1,           1,           1,           1,           1,\n",
              "                  1,           1,           1,           1,           1,           1,           1,           1,           1,           1,           1,           1,           1,           1,           1,           1,           1,           1,           1,           1,           1,           1,           1,\n",
              "                  1,           1,           1,           1,           1,           1,           1,           1,           1,           1,           1,           1,           1,           1,           1,           1,           1,           1,           1,           1,           1,           1,           1,\n",
              "                  1,           1,           1,           1,           1,           1,           1,           1,           1,           1,           1,           1,           1,           1,           1,           1,           1,           1,           1,           1,           1,           1,           1,\n",
              "                  1,           1,           1,           1,           1,           1,           1,           1,           1,           1,           1,           1,           1,           1,           1,           1,           1,           1,           1,           1,           1,           1,           1,\n",
              "                  1,           1,           1,           1,           1,           1,           1,           1,           1,           1,           1,           1,           1,           1,           1,           1,           1,           1,           1,           1,           1,           1,           1,\n",
              "                  1,           1,           1,           1,           1,           1,           1,           1,           1,           1,           1,           1,           1,           1,           1,           1,           1,           1,           1,           1,           1,           1,           1,\n",
              "                  1,           1,           1,           1,           1,           1,           1,           1,           1,           1,           1,           1,           1,           1,           1,           1,           1,           1,           1,           1,           1,           1,           1,\n",
              "                  1,           1,           1,           1,           1,           1,           1,           1,           1,           1,           1,           1,           1,           1,           1,           1,           1,           1,           1,           1,           1,           1,           1,\n",
              "                  1,           1,           1,           1,           1,           1,           1,           1,           1,           1,           1,           1,           1,           1,           1,           1,           1,           1,           1,           1,           1,           1,           1,\n",
              "                  1,           1,           1,           1,           1,           1,           1,           1,           1,           1,           1,           1,           1,           1,           1,           1,           1,           1,           1,           1,           1,           1,           1,\n",
              "                  1,           1,           1,           1,           1,           1,           1,           1,           1,           1,           1,           1,           1,           1,           1,           1,           1,           1,           1,           1,           1,           1,           1,\n",
              "                  1,           1,           1,           1,           1,           1,           1,           1,           1,           1,           1,           1,           1,           1,           1,           1,           1,           1,           1,           1,           1,           1,           1,\n",
              "                  1,           1,           1,           1,           1,           1,           1,           1,           1,           1,           1,           1,           1,           1,           1,           1,           1,           1,           1,           1,           1,           1,           1,\n",
              "                  1,           1,           1,           1,           1,           1,           1,           1,           1,           1,           1,           1,           1,           1,           1,           1,           1,           1,           1,           1,           1,           1,           1,\n",
              "                  1,           1,           1,           1,           1,           1,           1,           1,           1,           1,           1,           1,           1,           1,           1,           1,           1,           1,           1,           1,           1,           1,           1,\n",
              "                  1,           1,           1,           1,           1,           1,           1,           1,           1,           1,           1,           1,           1,           1,           1,           1,           1,           1,           1,           1,           1,           1,           1,\n",
              "                  1,           1,           1,           1,           1,           1,           1,           1,           1,           1,           1,           1,           1,           1,           1,           1,           1,           1,           1,           1,           1,           1,           1,\n",
              "                  1,           1,           1,           1,           1,           1,           1,           1,           1,           1,           1,           1,           1,           1,           1,           1,           1,           1,           1,           1,           1,           1,           1,\n",
              "                  1,           1,           1,           1,           1,           1,           1,           1,           1,           1,           1,           1,           1,           1,           1,           1,           1,           1,           1,           1,           1,           1,           1,\n",
              "                  1,           1,           1,           1,           1,           1,           1,           1,           1,           1,           1,           1,           1,           1,           1,           1,           1,           1,           1,           1,           1,           1,           1,\n",
              "                  1,           1,           1,           1,           1,           1,           1,           1,           1,           1,           1,           1,           1,           1,           1,           1,           1,           1,           1,           1,           1,           1,           1,\n",
              "                  1,           1,           1,           1,           1,           1,           1,           1,           1,           1,           1,           1,           1,           1,           1,           1,           1,           1,           1,           1,           1,           1,           1,\n",
              "                  1,           1,           1,           1,           1,           1,           1,           1,           1,           1,           1,           1,           1,           1,           1,           1,           1,           1,           1,           1,           1,           1,           1,\n",
              "                  1,           1,           1,           1,           1,           1,           1,           1,           1,           1,           1,           1,           1,           1,           1,           1,           1,           1,           1,           1,           1,           1,           1,\n",
              "                  1,           1,           1,           1,           1,           1,           1,           1,           1,           1,           1,           1,           1,           1,           1,           1,           1,           1,           1,           1,           1,           1,           1,\n",
              "                  1,           1,           1,           1,           1,           1,           1,           1,           1,           1,           1,           1,           1,           1,           1,           1,           1,           1,           1,           1,           1,           1,           1,\n",
              "                  1,           1,           1,           1,           1,           1,           1,           1,           1,           1,           1,           1,           1,           1,           1,           1,           1,           1,           1,           1,           1,           1,           1,\n",
              "                  1,           1,           1,           1,           1,           1,           1,           1,           1,           1,           1,           1,           1,           1,           1,           1,           1,      0.9991,     0.99663,     0.99416,     0.98827,     0.98502,     0.98193,\n",
              "            0.96358,     0.95152,     0.94566,     0.94389,     0.94213,     0.94036,     0.93304,     0.92892,     0.92115,     0.91868,     0.91621,     0.89881,     0.89263,      0.8693,     0.85092,      0.8205,     0.79008,     0.77742,     0.76221,     0.75101,     0.74082,     0.72862,     0.70438,\n",
              "            0.69761,     0.66116,     0.61869,     0.60032,     0.55182,     0.51672,       0.497,     0.47863,     0.40604,     0.36959,     0.33917,     0.29068,     0.26628,      0.2479,     0.21146,     0.19911,     0.18073,     0.13826,     0.10784,    0.089469,    0.071692,    0.059742,    0.055626,\n",
              "           0.038107,    0.021696,   0.0076854,           0,           0,           0,           0,           0,           0,           0,           0,           0,           0,           0,           0,           0,           0,           0,           0,           0,           0,           0,           0,\n",
              "                  0,           0,           0,           0,           0,           0,           0,           0,           0,           0,           0]]), 'Confidence', 'Recall'], [array([          0,    0.001001,    0.002002,    0.003003,    0.004004,    0.005005,    0.006006,    0.007007,    0.008008,    0.009009,     0.01001,    0.011011,    0.012012,    0.013013,    0.014014,    0.015015,    0.016016,    0.017017,    0.018018,    0.019019,     0.02002,    0.021021,    0.022022,    0.023023,\n",
              "          0.024024,    0.025025,    0.026026,    0.027027,    0.028028,    0.029029,     0.03003,    0.031031,    0.032032,    0.033033,    0.034034,    0.035035,    0.036036,    0.037037,    0.038038,    0.039039,     0.04004,    0.041041,    0.042042,    0.043043,    0.044044,    0.045045,    0.046046,    0.047047,\n",
              "          0.048048,    0.049049,     0.05005,    0.051051,    0.052052,    0.053053,    0.054054,    0.055055,    0.056056,    0.057057,    0.058058,    0.059059,     0.06006,    0.061061,    0.062062,    0.063063,    0.064064,    0.065065,    0.066066,    0.067067,    0.068068,    0.069069,     0.07007,    0.071071,\n",
              "          0.072072,    0.073073,    0.074074,    0.075075,    0.076076,    0.077077,    0.078078,    0.079079,     0.08008,    0.081081,    0.082082,    0.083083,    0.084084,    0.085085,    0.086086,    0.087087,    0.088088,    0.089089,     0.09009,    0.091091,    0.092092,    0.093093,    0.094094,    0.095095,\n",
              "          0.096096,    0.097097,    0.098098,    0.099099,      0.1001,      0.1011,      0.1021,      0.1031,      0.1041,     0.10511,     0.10611,     0.10711,     0.10811,     0.10911,     0.11011,     0.11111,     0.11211,     0.11311,     0.11411,     0.11512,     0.11612,     0.11712,     0.11812,     0.11912,\n",
              "           0.12012,     0.12112,     0.12212,     0.12312,     0.12412,     0.12513,     0.12613,     0.12713,     0.12813,     0.12913,     0.13013,     0.13113,     0.13213,     0.13313,     0.13413,     0.13514,     0.13614,     0.13714,     0.13814,     0.13914,     0.14014,     0.14114,     0.14214,     0.14314,\n",
              "           0.14414,     0.14515,     0.14615,     0.14715,     0.14815,     0.14915,     0.15015,     0.15115,     0.15215,     0.15315,     0.15415,     0.15516,     0.15616,     0.15716,     0.15816,     0.15916,     0.16016,     0.16116,     0.16216,     0.16316,     0.16416,     0.16517,     0.16617,     0.16717,\n",
              "           0.16817,     0.16917,     0.17017,     0.17117,     0.17217,     0.17317,     0.17417,     0.17518,     0.17618,     0.17718,     0.17818,     0.17918,     0.18018,     0.18118,     0.18218,     0.18318,     0.18418,     0.18519,     0.18619,     0.18719,     0.18819,     0.18919,     0.19019,     0.19119,\n",
              "           0.19219,     0.19319,     0.19419,      0.1952,      0.1962,      0.1972,      0.1982,      0.1992,      0.2002,      0.2012,      0.2022,      0.2032,      0.2042,     0.20521,     0.20621,     0.20721,     0.20821,     0.20921,     0.21021,     0.21121,     0.21221,     0.21321,     0.21421,     0.21522,\n",
              "           0.21622,     0.21722,     0.21822,     0.21922,     0.22022,     0.22122,     0.22222,     0.22322,     0.22422,     0.22523,     0.22623,     0.22723,     0.22823,     0.22923,     0.23023,     0.23123,     0.23223,     0.23323,     0.23423,     0.23524,     0.23624,     0.23724,     0.23824,     0.23924,\n",
              "           0.24024,     0.24124,     0.24224,     0.24324,     0.24424,     0.24525,     0.24625,     0.24725,     0.24825,     0.24925,     0.25025,     0.25125,     0.25225,     0.25325,     0.25425,     0.25526,     0.25626,     0.25726,     0.25826,     0.25926,     0.26026,     0.26126,     0.26226,     0.26326,\n",
              "           0.26426,     0.26527,     0.26627,     0.26727,     0.26827,     0.26927,     0.27027,     0.27127,     0.27227,     0.27327,     0.27427,     0.27528,     0.27628,     0.27728,     0.27828,     0.27928,     0.28028,     0.28128,     0.28228,     0.28328,     0.28428,     0.28529,     0.28629,     0.28729,\n",
              "           0.28829,     0.28929,     0.29029,     0.29129,     0.29229,     0.29329,     0.29429,      0.2953,      0.2963,      0.2973,      0.2983,      0.2993,      0.3003,      0.3013,      0.3023,      0.3033,      0.3043,     0.30531,     0.30631,     0.30731,     0.30831,     0.30931,     0.31031,     0.31131,\n",
              "           0.31231,     0.31331,     0.31431,     0.31532,     0.31632,     0.31732,     0.31832,     0.31932,     0.32032,     0.32132,     0.32232,     0.32332,     0.32432,     0.32533,     0.32633,     0.32733,     0.32833,     0.32933,     0.33033,     0.33133,     0.33233,     0.33333,     0.33433,     0.33534,\n",
              "           0.33634,     0.33734,     0.33834,     0.33934,     0.34034,     0.34134,     0.34234,     0.34334,     0.34434,     0.34535,     0.34635,     0.34735,     0.34835,     0.34935,     0.35035,     0.35135,     0.35235,     0.35335,     0.35435,     0.35536,     0.35636,     0.35736,     0.35836,     0.35936,\n",
              "           0.36036,     0.36136,     0.36236,     0.36336,     0.36436,     0.36537,     0.36637,     0.36737,     0.36837,     0.36937,     0.37037,     0.37137,     0.37237,     0.37337,     0.37437,     0.37538,     0.37638,     0.37738,     0.37838,     0.37938,     0.38038,     0.38138,     0.38238,     0.38338,\n",
              "           0.38438,     0.38539,     0.38639,     0.38739,     0.38839,     0.38939,     0.39039,     0.39139,     0.39239,     0.39339,     0.39439,      0.3954,      0.3964,      0.3974,      0.3984,      0.3994,      0.4004,      0.4014,      0.4024,      0.4034,      0.4044,     0.40541,     0.40641,     0.40741,\n",
              "           0.40841,     0.40941,     0.41041,     0.41141,     0.41241,     0.41341,     0.41441,     0.41542,     0.41642,     0.41742,     0.41842,     0.41942,     0.42042,     0.42142,     0.42242,     0.42342,     0.42442,     0.42543,     0.42643,     0.42743,     0.42843,     0.42943,     0.43043,     0.43143,\n",
              "           0.43243,     0.43343,     0.43443,     0.43544,     0.43644,     0.43744,     0.43844,     0.43944,     0.44044,     0.44144,     0.44244,     0.44344,     0.44444,     0.44545,     0.44645,     0.44745,     0.44845,     0.44945,     0.45045,     0.45145,     0.45245,     0.45345,     0.45445,     0.45546,\n",
              "           0.45646,     0.45746,     0.45846,     0.45946,     0.46046,     0.46146,     0.46246,     0.46346,     0.46446,     0.46547,     0.46647,     0.46747,     0.46847,     0.46947,     0.47047,     0.47147,     0.47247,     0.47347,     0.47447,     0.47548,     0.47648,     0.47748,     0.47848,     0.47948,\n",
              "           0.48048,     0.48148,     0.48248,     0.48348,     0.48448,     0.48549,     0.48649,     0.48749,     0.48849,     0.48949,     0.49049,     0.49149,     0.49249,     0.49349,     0.49449,      0.4955,      0.4965,      0.4975,      0.4985,      0.4995,      0.5005,      0.5015,      0.5025,      0.5035,\n",
              "            0.5045,     0.50551,     0.50651,     0.50751,     0.50851,     0.50951,     0.51051,     0.51151,     0.51251,     0.51351,     0.51451,     0.51552,     0.51652,     0.51752,     0.51852,     0.51952,     0.52052,     0.52152,     0.52252,     0.52352,     0.52452,     0.52553,     0.52653,     0.52753,\n",
              "           0.52853,     0.52953,     0.53053,     0.53153,     0.53253,     0.53353,     0.53453,     0.53554,     0.53654,     0.53754,     0.53854,     0.53954,     0.54054,     0.54154,     0.54254,     0.54354,     0.54454,     0.54555,     0.54655,     0.54755,     0.54855,     0.54955,     0.55055,     0.55155,\n",
              "           0.55255,     0.55355,     0.55455,     0.55556,     0.55656,     0.55756,     0.55856,     0.55956,     0.56056,     0.56156,     0.56256,     0.56356,     0.56456,     0.56557,     0.56657,     0.56757,     0.56857,     0.56957,     0.57057,     0.57157,     0.57257,     0.57357,     0.57457,     0.57558,\n",
              "           0.57658,     0.57758,     0.57858,     0.57958,     0.58058,     0.58158,     0.58258,     0.58358,     0.58458,     0.58559,     0.58659,     0.58759,     0.58859,     0.58959,     0.59059,     0.59159,     0.59259,     0.59359,     0.59459,      0.5956,      0.5966,      0.5976,      0.5986,      0.5996,\n",
              "            0.6006,      0.6016,      0.6026,      0.6036,      0.6046,     0.60561,     0.60661,     0.60761,     0.60861,     0.60961,     0.61061,     0.61161,     0.61261,     0.61361,     0.61461,     0.61562,     0.61662,     0.61762,     0.61862,     0.61962,     0.62062,     0.62162,     0.62262,     0.62362,\n",
              "           0.62462,     0.62563,     0.62663,     0.62763,     0.62863,     0.62963,     0.63063,     0.63163,     0.63263,     0.63363,     0.63463,     0.63564,     0.63664,     0.63764,     0.63864,     0.63964,     0.64064,     0.64164,     0.64264,     0.64364,     0.64464,     0.64565,     0.64665,     0.64765,\n",
              "           0.64865,     0.64965,     0.65065,     0.65165,     0.65265,     0.65365,     0.65465,     0.65566,     0.65666,     0.65766,     0.65866,     0.65966,     0.66066,     0.66166,     0.66266,     0.66366,     0.66466,     0.66567,     0.66667,     0.66767,     0.66867,     0.66967,     0.67067,     0.67167,\n",
              "           0.67267,     0.67367,     0.67467,     0.67568,     0.67668,     0.67768,     0.67868,     0.67968,     0.68068,     0.68168,     0.68268,     0.68368,     0.68468,     0.68569,     0.68669,     0.68769,     0.68869,     0.68969,     0.69069,     0.69169,     0.69269,     0.69369,     0.69469,      0.6957,\n",
              "            0.6967,      0.6977,      0.6987,      0.6997,      0.7007,      0.7017,      0.7027,      0.7037,      0.7047,     0.70571,     0.70671,     0.70771,     0.70871,     0.70971,     0.71071,     0.71171,     0.71271,     0.71371,     0.71471,     0.71572,     0.71672,     0.71772,     0.71872,     0.71972,\n",
              "           0.72072,     0.72172,     0.72272,     0.72372,     0.72472,     0.72573,     0.72673,     0.72773,     0.72873,     0.72973,     0.73073,     0.73173,     0.73273,     0.73373,     0.73473,     0.73574,     0.73674,     0.73774,     0.73874,     0.73974,     0.74074,     0.74174,     0.74274,     0.74374,\n",
              "           0.74474,     0.74575,     0.74675,     0.74775,     0.74875,     0.74975,     0.75075,     0.75175,     0.75275,     0.75375,     0.75475,     0.75576,     0.75676,     0.75776,     0.75876,     0.75976,     0.76076,     0.76176,     0.76276,     0.76376,     0.76476,     0.76577,     0.76677,     0.76777,\n",
              "           0.76877,     0.76977,     0.77077,     0.77177,     0.77277,     0.77377,     0.77477,     0.77578,     0.77678,     0.77778,     0.77878,     0.77978,     0.78078,     0.78178,     0.78278,     0.78378,     0.78478,     0.78579,     0.78679,     0.78779,     0.78879,     0.78979,     0.79079,     0.79179,\n",
              "           0.79279,     0.79379,     0.79479,      0.7958,      0.7968,      0.7978,      0.7988,      0.7998,      0.8008,      0.8018,      0.8028,      0.8038,      0.8048,     0.80581,     0.80681,     0.80781,     0.80881,     0.80981,     0.81081,     0.81181,     0.81281,     0.81381,     0.81481,     0.81582,\n",
              "           0.81682,     0.81782,     0.81882,     0.81982,     0.82082,     0.82182,     0.82282,     0.82382,     0.82482,     0.82583,     0.82683,     0.82783,     0.82883,     0.82983,     0.83083,     0.83183,     0.83283,     0.83383,     0.83483,     0.83584,     0.83684,     0.83784,     0.83884,     0.83984,\n",
              "           0.84084,     0.84184,     0.84284,     0.84384,     0.84484,     0.84585,     0.84685,     0.84785,     0.84885,     0.84985,     0.85085,     0.85185,     0.85285,     0.85385,     0.85485,     0.85586,     0.85686,     0.85786,     0.85886,     0.85986,     0.86086,     0.86186,     0.86286,     0.86386,\n",
              "           0.86486,     0.86587,     0.86687,     0.86787,     0.86887,     0.86987,     0.87087,     0.87187,     0.87287,     0.87387,     0.87487,     0.87588,     0.87688,     0.87788,     0.87888,     0.87988,     0.88088,     0.88188,     0.88288,     0.88388,     0.88488,     0.88589,     0.88689,     0.88789,\n",
              "           0.88889,     0.88989,     0.89089,     0.89189,     0.89289,     0.89389,     0.89489,      0.8959,      0.8969,      0.8979,      0.8989,      0.8999,      0.9009,      0.9019,      0.9029,      0.9039,      0.9049,     0.90591,     0.90691,     0.90791,     0.90891,     0.90991,     0.91091,     0.91191,\n",
              "           0.91291,     0.91391,     0.91491,     0.91592,     0.91692,     0.91792,     0.91892,     0.91992,     0.92092,     0.92192,     0.92292,     0.92392,     0.92492,     0.92593,     0.92693,     0.92793,     0.92893,     0.92993,     0.93093,     0.93193,     0.93293,     0.93393,     0.93493,     0.93594,\n",
              "           0.93694,     0.93794,     0.93894,     0.93994,     0.94094,     0.94194,     0.94294,     0.94394,     0.94494,     0.94595,     0.94695,     0.94795,     0.94895,     0.94995,     0.95095,     0.95195,     0.95295,     0.95395,     0.95495,     0.95596,     0.95696,     0.95796,     0.95896,     0.95996,\n",
              "           0.96096,     0.96196,     0.96296,     0.96396,     0.96496,     0.96597,     0.96697,     0.96797,     0.96897,     0.96997,     0.97097,     0.97197,     0.97297,     0.97397,     0.97497,     0.97598,     0.97698,     0.97798,     0.97898,     0.97998,     0.98098,     0.98198,     0.98298,     0.98398,\n",
              "           0.98498,     0.98599,     0.98699,     0.98799,     0.98899,     0.98999,     0.99099,     0.99199,     0.99299,     0.99399,     0.99499,       0.996,       0.997,       0.998,       0.999,           1]), array([[          1,           1,           1,           1,           1,           1,           1,           1,           1,           1,           1,           1,           1,           1,           1,           1,           1,           1,           1,           1,           1,           1,           1,\n",
              "                  1,           1,           1,           1,           1,           1,           1,           1,           1,           1,           1,           1,           1,           1,           1,           1,           1,           1,           1,           1,           1,           1,           1,\n",
              "                  1,           1,           1,           1,           1,           1,           1,           1,           1,           1,           1,           1,           1,           1,           1,           1,           1,           1,           1,           1,           1,           1,           1,\n",
              "                  1,           1,           1,           1,           1,           1,           1,           1,           1,           1,           1,           1,           1,           1,           1,           1,           1,           1,           1,           1,           1,           1,           1,\n",
              "                  1,           1,           1,           1,           1,           1,           1,           1,           1,           1,           1,           1,           1,           1,           1,           1,           1,           1,           1,           1,           1,           1,           1,\n",
              "                  1,           1,           1,           1,           1,           1,           1,           1,           1,           1,           1,           1,           1,           1,           1,           1,           1,           1,           1,           1,           1,           1,           1,\n",
              "                  1,           1,           1,           1,           1,           1,           1,           1,           1,           1,           1,           1,           1,           1,           1,           1,           1,           1,           1,           1,           1,           1,           1,\n",
              "                  1,           1,           1,           1,           1,           1,           1,           1,           1,           1,           1,           1,           1,           1,           1,           1,           1,           1,           1,           1,           1,           1,           1,\n",
              "                  1,           1,           1,           1,           1,           1,           1,           1,           1,           1,           1,           1,           1,           1,           1,           1,           1,           1,           1,           1,           1,           1,           1,\n",
              "                  1,           1,           1,           1,           1,           1,           1,           1,           1,           1,           1,           1,           1,           1,           1,           1,           1,           1,           1,           1,           1,           1,           1,\n",
              "                  1,           1,           1,           1,           1,           1,           1,           1,           1,           1,           1,           1,           1,           1,           1,           1,           1,           1,           1,           1,           1,           1,           1,\n",
              "                  1,           1,           1,           1,           1,           1,           1,           1,           1,           1,           1,           1,           1,           1,           1,           1,           1,           1,           1,           1,           1,           1,           1,\n",
              "                  1,           1,           1,           1,           1,           1,           1,           1,           1,           1,           1,           1,           1,           1,           1,           1,           1,           1,           1,           1,           1,           1,           1,\n",
              "                  1,           1,           1,           1,           1,           1,           1,           1,           1,           1,           1,           1,           1,           1,           1,           1,           1,           1,           1,           1,           1,           1,           1,\n",
              "                  1,           1,           1,           1,           1,           1,           1,           1,           1,           1,           1,           1,           1,           1,           1,           1,           1,           1,           1,           1,           1,           1,           1,\n",
              "                  1,           1,           1,           1,           1,           1,           1,           1,           1,           1,           1,           1,           1,           1,           1,           1,           1,           1,           1,           1,           1,           1,           1,\n",
              "                  1,           1,           1,           1,           1,           1,           1,           1,           1,           1,           1,           1,           1,           1,           1,           1,           1,           1,           1,           1,           1,           1,           1,\n",
              "                  1,           1,           1,           1,           1,           1,           1,           1,           1,           1,           1,           1,           1,           1,           1,           1,           1,           1,           1,           1,           1,           1,           1,\n",
              "                  1,           1,           1,           1,           1,           1,           1,           1,           1,           1,           1,           1,           1,           1,           1,           1,           1,           1,           1,           1,           1,           1,           1,\n",
              "                  1,           1,           1,           1,           1,           1,           1,           1,           1,           1,           1,           1,           1,           1,           1,           1,           1,           1,           1,           1,           1,           1,           1,\n",
              "                  1,           1,           1,           1,           1,           1,           1,           1,           1,           1,           1,           1,           1,           1,           1,           1,           1,           1,           1,           1,           1,           1,           1,\n",
              "                  1,           1,           1,           1,           1,           1,           1,           1,           1,           1,           1,           1,           1,           1,           1,           1,           1,           1,           1,           1,           1,           1,           1,\n",
              "                  1,           1,           1,           1,           1,           1,           1,           1,           1,           1,           1,           1,           1,           1,           1,           1,           1,           1,           1,           1,           1,           1,           1,\n",
              "                  1,           1,           1,           1,           1,           1,           1,           1,           1,           1,           1,           1,           1,           1,           1,           1,           1,           1,           1,           1,           1,           1,           1,\n",
              "                  1,           1,           1,           1,           1,           1,           1,           1,           1,           1,           1,           1,           1,           1,           1,           1,           1,           1,           1,           1,           1,           1,           1,\n",
              "                  1,           1,           1,           1,           1,           1,           1,           1,           1,           1,           1,           1,           1,           1,           1,           1,           1,           1,           1,           1,           1,           1,           1,\n",
              "                  1,           1,           1,           1,           1,           1,           1,           1,           1,           1,           1,           1,           1,           1,           1,           1,           1,           1,           1,           1,           1,           1,           1,\n",
              "                  1,           1,           1,           1,           1,           1,           1,           1,           1,           1,           1,           1,           1,           1,           1,           1,           1,           1,           1,           1,           1,           1,           1,\n",
              "                  1,           1,           1,           1,           1,           1,           1,           1,           1,           1,           1,           1,           1,           1,           1,           1,           1,           1,           1,           1,           1,           1,           1,\n",
              "                  1,           1,           1,           1,           1,           1,           1,           1,           1,           1,           1,           1,           1,           1,           1,           1,           1,           1,           1,           1,           1,           1,           1,\n",
              "                  1,           1,           1,           1,           1,           1,           1,           1,           1,           1,           1,           1,           1,           1,           1,           1,           1,           1,           1,           1,           1,           1,           1,\n",
              "                  1,           1,           1,           1,           1,           1,           1,           1,           1,           1,           1,           1,           1,           1,           1,           1,           1,           1,           1,           1,           1,           1,           1,\n",
              "                  1,           1,           1,           1,           1,           1,           1,           1,           1,           1,           1,           1,           1,           1,           1,           1,           1,           1,           1,           1,           1,           1,           1,\n",
              "                  1,           1,           1,           1,           1,           1,           1,           1,           1,           1,           1,           1,           1,           1,           1,           1,           1,           1,           1,           1,           1,           1,           1,\n",
              "                  1,           1,           1,           1,           1,           1,           1,           1,           1,           1,           1,           1,           1,           1,           1,           1,           1,           1,           1,           1,           1,           1,           1,\n",
              "                  1,           1,           1,           1,           1,           1,           1,           1,           1,           1,           1,           1,           1,           1,           1,           1,           1,           1,           1,           1,           1,           1,           1,\n",
              "                  1,           1,           1,           1,           1,           1,           1,           1,           1,           1,           1,           1,           1,           1,           1,           1,           1,           1,           1,           1,           1,           1,           1,\n",
              "                  1,           1,           1,           1,           1,           1,           1,           1,           1,           1,           1,           1,           1,           1,           1,           1,           1,           1,           1,           1,           1,           1,           1,\n",
              "                  1,           1,           1,           1,           1,           1,           1,           1,           1,           1,           1,           1,           1,           1,           1,           1,           1,           1,           1,           1,           1,           1,           1,\n",
              "                  1,           1,           1,           1,           1,           1,           1,           1,           1,           1,           1,           1,           1,           1,           1,           1,           1,           1,           1,           1,           1,           1,           1,\n",
              "                  1,           1,           1,           1,           1,           1,           1,           1,           1,           1,           1,           1,           1,           1,           1,           1,           1,           1,           1,           1,           1,           1,           1,\n",
              "                  1,           1,           1,           1,           1,           1,           1,           1,           1,           1,           1,           1,           1,           1,     0.99379,     0.99379,     0.99379,     0.99379,     0.99379,     0.99379,     0.98171,     0.98171,     0.98171,\n",
              "            0.98171,     0.98171,     0.98171,      0.9759,      0.9759,      0.9759,      0.9759,      0.9759,      0.9759,     0.90231,     0.86471,     0.82712,     0.78952,     0.75193,     0.71433,     0.67673,     0.63914,     0.60154,     0.56394,     0.52635,     0.48875,     0.45116,     0.41356,\n",
              "            0.37596,     0.33837,     0.30077,     0.26317,     0.22558,     0.18798,     0.15039,     0.11279,    0.075193,    0.037596,           0]]), 'Recall', 'Precision'], [array([          0,    0.001001,    0.002002,    0.003003,    0.004004,    0.005005,    0.006006,    0.007007,    0.008008,    0.009009,     0.01001,    0.011011,    0.012012,    0.013013,    0.014014,    0.015015,    0.016016,    0.017017,    0.018018,    0.019019,     0.02002,    0.021021,    0.022022,    0.023023,\n",
              "          0.024024,    0.025025,    0.026026,    0.027027,    0.028028,    0.029029,     0.03003,    0.031031,    0.032032,    0.033033,    0.034034,    0.035035,    0.036036,    0.037037,    0.038038,    0.039039,     0.04004,    0.041041,    0.042042,    0.043043,    0.044044,    0.045045,    0.046046,    0.047047,\n",
              "          0.048048,    0.049049,     0.05005,    0.051051,    0.052052,    0.053053,    0.054054,    0.055055,    0.056056,    0.057057,    0.058058,    0.059059,     0.06006,    0.061061,    0.062062,    0.063063,    0.064064,    0.065065,    0.066066,    0.067067,    0.068068,    0.069069,     0.07007,    0.071071,\n",
              "          0.072072,    0.073073,    0.074074,    0.075075,    0.076076,    0.077077,    0.078078,    0.079079,     0.08008,    0.081081,    0.082082,    0.083083,    0.084084,    0.085085,    0.086086,    0.087087,    0.088088,    0.089089,     0.09009,    0.091091,    0.092092,    0.093093,    0.094094,    0.095095,\n",
              "          0.096096,    0.097097,    0.098098,    0.099099,      0.1001,      0.1011,      0.1021,      0.1031,      0.1041,     0.10511,     0.10611,     0.10711,     0.10811,     0.10911,     0.11011,     0.11111,     0.11211,     0.11311,     0.11411,     0.11512,     0.11612,     0.11712,     0.11812,     0.11912,\n",
              "           0.12012,     0.12112,     0.12212,     0.12312,     0.12412,     0.12513,     0.12613,     0.12713,     0.12813,     0.12913,     0.13013,     0.13113,     0.13213,     0.13313,     0.13413,     0.13514,     0.13614,     0.13714,     0.13814,     0.13914,     0.14014,     0.14114,     0.14214,     0.14314,\n",
              "           0.14414,     0.14515,     0.14615,     0.14715,     0.14815,     0.14915,     0.15015,     0.15115,     0.15215,     0.15315,     0.15415,     0.15516,     0.15616,     0.15716,     0.15816,     0.15916,     0.16016,     0.16116,     0.16216,     0.16316,     0.16416,     0.16517,     0.16617,     0.16717,\n",
              "           0.16817,     0.16917,     0.17017,     0.17117,     0.17217,     0.17317,     0.17417,     0.17518,     0.17618,     0.17718,     0.17818,     0.17918,     0.18018,     0.18118,     0.18218,     0.18318,     0.18418,     0.18519,     0.18619,     0.18719,     0.18819,     0.18919,     0.19019,     0.19119,\n",
              "           0.19219,     0.19319,     0.19419,      0.1952,      0.1962,      0.1972,      0.1982,      0.1992,      0.2002,      0.2012,      0.2022,      0.2032,      0.2042,     0.20521,     0.20621,     0.20721,     0.20821,     0.20921,     0.21021,     0.21121,     0.21221,     0.21321,     0.21421,     0.21522,\n",
              "           0.21622,     0.21722,     0.21822,     0.21922,     0.22022,     0.22122,     0.22222,     0.22322,     0.22422,     0.22523,     0.22623,     0.22723,     0.22823,     0.22923,     0.23023,     0.23123,     0.23223,     0.23323,     0.23423,     0.23524,     0.23624,     0.23724,     0.23824,     0.23924,\n",
              "           0.24024,     0.24124,     0.24224,     0.24324,     0.24424,     0.24525,     0.24625,     0.24725,     0.24825,     0.24925,     0.25025,     0.25125,     0.25225,     0.25325,     0.25425,     0.25526,     0.25626,     0.25726,     0.25826,     0.25926,     0.26026,     0.26126,     0.26226,     0.26326,\n",
              "           0.26426,     0.26527,     0.26627,     0.26727,     0.26827,     0.26927,     0.27027,     0.27127,     0.27227,     0.27327,     0.27427,     0.27528,     0.27628,     0.27728,     0.27828,     0.27928,     0.28028,     0.28128,     0.28228,     0.28328,     0.28428,     0.28529,     0.28629,     0.28729,\n",
              "           0.28829,     0.28929,     0.29029,     0.29129,     0.29229,     0.29329,     0.29429,      0.2953,      0.2963,      0.2973,      0.2983,      0.2993,      0.3003,      0.3013,      0.3023,      0.3033,      0.3043,     0.30531,     0.30631,     0.30731,     0.30831,     0.30931,     0.31031,     0.31131,\n",
              "           0.31231,     0.31331,     0.31431,     0.31532,     0.31632,     0.31732,     0.31832,     0.31932,     0.32032,     0.32132,     0.32232,     0.32332,     0.32432,     0.32533,     0.32633,     0.32733,     0.32833,     0.32933,     0.33033,     0.33133,     0.33233,     0.33333,     0.33433,     0.33534,\n",
              "           0.33634,     0.33734,     0.33834,     0.33934,     0.34034,     0.34134,     0.34234,     0.34334,     0.34434,     0.34535,     0.34635,     0.34735,     0.34835,     0.34935,     0.35035,     0.35135,     0.35235,     0.35335,     0.35435,     0.35536,     0.35636,     0.35736,     0.35836,     0.35936,\n",
              "           0.36036,     0.36136,     0.36236,     0.36336,     0.36436,     0.36537,     0.36637,     0.36737,     0.36837,     0.36937,     0.37037,     0.37137,     0.37237,     0.37337,     0.37437,     0.37538,     0.37638,     0.37738,     0.37838,     0.37938,     0.38038,     0.38138,     0.38238,     0.38338,\n",
              "           0.38438,     0.38539,     0.38639,     0.38739,     0.38839,     0.38939,     0.39039,     0.39139,     0.39239,     0.39339,     0.39439,      0.3954,      0.3964,      0.3974,      0.3984,      0.3994,      0.4004,      0.4014,      0.4024,      0.4034,      0.4044,     0.40541,     0.40641,     0.40741,\n",
              "           0.40841,     0.40941,     0.41041,     0.41141,     0.41241,     0.41341,     0.41441,     0.41542,     0.41642,     0.41742,     0.41842,     0.41942,     0.42042,     0.42142,     0.42242,     0.42342,     0.42442,     0.42543,     0.42643,     0.42743,     0.42843,     0.42943,     0.43043,     0.43143,\n",
              "           0.43243,     0.43343,     0.43443,     0.43544,     0.43644,     0.43744,     0.43844,     0.43944,     0.44044,     0.44144,     0.44244,     0.44344,     0.44444,     0.44545,     0.44645,     0.44745,     0.44845,     0.44945,     0.45045,     0.45145,     0.45245,     0.45345,     0.45445,     0.45546,\n",
              "           0.45646,     0.45746,     0.45846,     0.45946,     0.46046,     0.46146,     0.46246,     0.46346,     0.46446,     0.46547,     0.46647,     0.46747,     0.46847,     0.46947,     0.47047,     0.47147,     0.47247,     0.47347,     0.47447,     0.47548,     0.47648,     0.47748,     0.47848,     0.47948,\n",
              "           0.48048,     0.48148,     0.48248,     0.48348,     0.48448,     0.48549,     0.48649,     0.48749,     0.48849,     0.48949,     0.49049,     0.49149,     0.49249,     0.49349,     0.49449,      0.4955,      0.4965,      0.4975,      0.4985,      0.4995,      0.5005,      0.5015,      0.5025,      0.5035,\n",
              "            0.5045,     0.50551,     0.50651,     0.50751,     0.50851,     0.50951,     0.51051,     0.51151,     0.51251,     0.51351,     0.51451,     0.51552,     0.51652,     0.51752,     0.51852,     0.51952,     0.52052,     0.52152,     0.52252,     0.52352,     0.52452,     0.52553,     0.52653,     0.52753,\n",
              "           0.52853,     0.52953,     0.53053,     0.53153,     0.53253,     0.53353,     0.53453,     0.53554,     0.53654,     0.53754,     0.53854,     0.53954,     0.54054,     0.54154,     0.54254,     0.54354,     0.54454,     0.54555,     0.54655,     0.54755,     0.54855,     0.54955,     0.55055,     0.55155,\n",
              "           0.55255,     0.55355,     0.55455,     0.55556,     0.55656,     0.55756,     0.55856,     0.55956,     0.56056,     0.56156,     0.56256,     0.56356,     0.56456,     0.56557,     0.56657,     0.56757,     0.56857,     0.56957,     0.57057,     0.57157,     0.57257,     0.57357,     0.57457,     0.57558,\n",
              "           0.57658,     0.57758,     0.57858,     0.57958,     0.58058,     0.58158,     0.58258,     0.58358,     0.58458,     0.58559,     0.58659,     0.58759,     0.58859,     0.58959,     0.59059,     0.59159,     0.59259,     0.59359,     0.59459,      0.5956,      0.5966,      0.5976,      0.5986,      0.5996,\n",
              "            0.6006,      0.6016,      0.6026,      0.6036,      0.6046,     0.60561,     0.60661,     0.60761,     0.60861,     0.60961,     0.61061,     0.61161,     0.61261,     0.61361,     0.61461,     0.61562,     0.61662,     0.61762,     0.61862,     0.61962,     0.62062,     0.62162,     0.62262,     0.62362,\n",
              "           0.62462,     0.62563,     0.62663,     0.62763,     0.62863,     0.62963,     0.63063,     0.63163,     0.63263,     0.63363,     0.63463,     0.63564,     0.63664,     0.63764,     0.63864,     0.63964,     0.64064,     0.64164,     0.64264,     0.64364,     0.64464,     0.64565,     0.64665,     0.64765,\n",
              "           0.64865,     0.64965,     0.65065,     0.65165,     0.65265,     0.65365,     0.65465,     0.65566,     0.65666,     0.65766,     0.65866,     0.65966,     0.66066,     0.66166,     0.66266,     0.66366,     0.66466,     0.66567,     0.66667,     0.66767,     0.66867,     0.66967,     0.67067,     0.67167,\n",
              "           0.67267,     0.67367,     0.67467,     0.67568,     0.67668,     0.67768,     0.67868,     0.67968,     0.68068,     0.68168,     0.68268,     0.68368,     0.68468,     0.68569,     0.68669,     0.68769,     0.68869,     0.68969,     0.69069,     0.69169,     0.69269,     0.69369,     0.69469,      0.6957,\n",
              "            0.6967,      0.6977,      0.6987,      0.6997,      0.7007,      0.7017,      0.7027,      0.7037,      0.7047,     0.70571,     0.70671,     0.70771,     0.70871,     0.70971,     0.71071,     0.71171,     0.71271,     0.71371,     0.71471,     0.71572,     0.71672,     0.71772,     0.71872,     0.71972,\n",
              "           0.72072,     0.72172,     0.72272,     0.72372,     0.72472,     0.72573,     0.72673,     0.72773,     0.72873,     0.72973,     0.73073,     0.73173,     0.73273,     0.73373,     0.73473,     0.73574,     0.73674,     0.73774,     0.73874,     0.73974,     0.74074,     0.74174,     0.74274,     0.74374,\n",
              "           0.74474,     0.74575,     0.74675,     0.74775,     0.74875,     0.74975,     0.75075,     0.75175,     0.75275,     0.75375,     0.75475,     0.75576,     0.75676,     0.75776,     0.75876,     0.75976,     0.76076,     0.76176,     0.76276,     0.76376,     0.76476,     0.76577,     0.76677,     0.76777,\n",
              "           0.76877,     0.76977,     0.77077,     0.77177,     0.77277,     0.77377,     0.77477,     0.77578,     0.77678,     0.77778,     0.77878,     0.77978,     0.78078,     0.78178,     0.78278,     0.78378,     0.78478,     0.78579,     0.78679,     0.78779,     0.78879,     0.78979,     0.79079,     0.79179,\n",
              "           0.79279,     0.79379,     0.79479,      0.7958,      0.7968,      0.7978,      0.7988,      0.7998,      0.8008,      0.8018,      0.8028,      0.8038,      0.8048,     0.80581,     0.80681,     0.80781,     0.80881,     0.80981,     0.81081,     0.81181,     0.81281,     0.81381,     0.81481,     0.81582,\n",
              "           0.81682,     0.81782,     0.81882,     0.81982,     0.82082,     0.82182,     0.82282,     0.82382,     0.82482,     0.82583,     0.82683,     0.82783,     0.82883,     0.82983,     0.83083,     0.83183,     0.83283,     0.83383,     0.83483,     0.83584,     0.83684,     0.83784,     0.83884,     0.83984,\n",
              "           0.84084,     0.84184,     0.84284,     0.84384,     0.84484,     0.84585,     0.84685,     0.84785,     0.84885,     0.84985,     0.85085,     0.85185,     0.85285,     0.85385,     0.85485,     0.85586,     0.85686,     0.85786,     0.85886,     0.85986,     0.86086,     0.86186,     0.86286,     0.86386,\n",
              "           0.86486,     0.86587,     0.86687,     0.86787,     0.86887,     0.86987,     0.87087,     0.87187,     0.87287,     0.87387,     0.87487,     0.87588,     0.87688,     0.87788,     0.87888,     0.87988,     0.88088,     0.88188,     0.88288,     0.88388,     0.88488,     0.88589,     0.88689,     0.88789,\n",
              "           0.88889,     0.88989,     0.89089,     0.89189,     0.89289,     0.89389,     0.89489,      0.8959,      0.8969,      0.8979,      0.8989,      0.8999,      0.9009,      0.9019,      0.9029,      0.9039,      0.9049,     0.90591,     0.90691,     0.90791,     0.90891,     0.90991,     0.91091,     0.91191,\n",
              "           0.91291,     0.91391,     0.91491,     0.91592,     0.91692,     0.91792,     0.91892,     0.91992,     0.92092,     0.92192,     0.92292,     0.92392,     0.92492,     0.92593,     0.92693,     0.92793,     0.92893,     0.92993,     0.93093,     0.93193,     0.93293,     0.93393,     0.93493,     0.93594,\n",
              "           0.93694,     0.93794,     0.93894,     0.93994,     0.94094,     0.94194,     0.94294,     0.94394,     0.94494,     0.94595,     0.94695,     0.94795,     0.94895,     0.94995,     0.95095,     0.95195,     0.95295,     0.95395,     0.95495,     0.95596,     0.95696,     0.95796,     0.95896,     0.95996,\n",
              "           0.96096,     0.96196,     0.96296,     0.96396,     0.96496,     0.96597,     0.96697,     0.96797,     0.96897,     0.96997,     0.97097,     0.97197,     0.97297,     0.97397,     0.97497,     0.97598,     0.97698,     0.97798,     0.97898,     0.97998,     0.98098,     0.98198,     0.98298,     0.98398,\n",
              "           0.98498,     0.98599,     0.98699,     0.98799,     0.98899,     0.98999,     0.99099,     0.99199,     0.99299,     0.99399,     0.99499,       0.996,       0.997,       0.998,       0.999,           1]), array([[    0.93913,     0.93913,     0.94586,     0.95059,     0.95259,     0.95789,     0.96252,     0.96717,     0.96725,     0.96734,     0.96742,      0.9675,     0.96758,     0.96767,     0.96775,     0.96783,     0.96791,     0.96799,     0.96808,     0.96816,     0.96824,     0.96832,     0.96841,\n",
              "            0.96849,     0.96857,     0.96865,     0.96873,     0.96882,      0.9689,     0.96898,     0.96906,     0.96914,     0.96923,     0.96931,     0.96939,     0.96947,     0.96955,     0.96963,     0.96972,      0.9698,     0.96988,     0.96996,     0.97004,      0.9701,     0.97015,      0.9702,\n",
              "            0.97025,      0.9703,     0.97035,      0.9704,     0.97045,     0.97049,     0.97054,     0.97059,     0.97064,     0.97069,     0.97074,     0.97079,     0.97084,     0.97089,     0.97094,     0.97099,     0.97104,     0.97109,     0.97114,     0.97119,     0.97123,     0.97128,     0.97133,\n",
              "            0.97138,     0.97143,     0.97148,     0.97153,     0.97158,     0.97163,     0.97168,     0.97173,     0.97178,     0.97183,     0.97187,     0.97192,     0.97197,     0.97202,     0.97207,     0.97212,     0.97217,     0.97222,     0.97227,     0.97232,     0.97237,     0.97242,     0.97246,\n",
              "            0.97251,     0.97256,     0.97261,     0.97266,     0.97271,     0.97276,     0.97281,     0.97286,     0.97291,     0.97296,     0.97298,     0.97298,     0.97298,     0.97299,     0.97299,     0.97299,       0.973,       0.973,       0.973,     0.97301,     0.97301,     0.97302,     0.97302,\n",
              "            0.97302,     0.97303,     0.97303,     0.97303,     0.97304,     0.97304,     0.97304,     0.97305,     0.97305,     0.97305,     0.97306,     0.97306,     0.97307,     0.97307,     0.97307,     0.97308,     0.97308,     0.97308,     0.97309,     0.97309,     0.97309,      0.9731,      0.9731,\n",
              "            0.97311,     0.97311,     0.97311,     0.97312,     0.97312,     0.97312,     0.97313,     0.97313,     0.97313,     0.97314,     0.97314,     0.97315,     0.97315,     0.97315,     0.97316,     0.97316,     0.97316,     0.97317,     0.97317,     0.97317,     0.97318,     0.97318,     0.97319,\n",
              "            0.97319,     0.97319,      0.9732,      0.9732,      0.9732,     0.97321,     0.97321,     0.97321,     0.97322,     0.97322,     0.97322,     0.97323,     0.97323,     0.97324,     0.97324,     0.97324,     0.97325,     0.97325,     0.97325,     0.97326,     0.97326,     0.97326,     0.97327,\n",
              "            0.97327,     0.97328,     0.97328,     0.97328,     0.97329,     0.97329,     0.97329,      0.9733,      0.9733,      0.9733,     0.97331,     0.97331,     0.97332,     0.97332,     0.97332,     0.97333,     0.97333,     0.97333,     0.97334,     0.97334,     0.97334,     0.97335,     0.97335,\n",
              "            0.97336,     0.97336,     0.97336,     0.97337,     0.97337,     0.97337,     0.97338,     0.97338,     0.97338,     0.97339,     0.97339,     0.97339,      0.9734,      0.9734,     0.97341,     0.97341,     0.97341,     0.97342,     0.97342,     0.97342,     0.97343,     0.97343,     0.97343,\n",
              "            0.97344,     0.97344,     0.97345,     0.97345,     0.97345,     0.97346,     0.97346,     0.97346,     0.97347,     0.97347,     0.97347,     0.97348,     0.97348,     0.97349,     0.97349,     0.97349,      0.9735,      0.9735,      0.9735,     0.97351,     0.97351,     0.97351,     0.97352,\n",
              "            0.97352,     0.97353,     0.97353,     0.97353,     0.97354,     0.97354,     0.97354,     0.97355,     0.97355,     0.97355,     0.97356,     0.97356,     0.97356,     0.97357,     0.97357,     0.97358,     0.97358,     0.97358,     0.97359,     0.97359,     0.97359,      0.9736,      0.9736,\n",
              "             0.9736,     0.97361,     0.97361,     0.97362,     0.97362,     0.97362,     0.97363,     0.97363,     0.97363,     0.97364,     0.97364,     0.97364,     0.97365,     0.97365,     0.97366,     0.97366,     0.97366,     0.97367,     0.97367,     0.97367,     0.97368,     0.97368,     0.97368,\n",
              "            0.97369,     0.97369,     0.97369,      0.9737,      0.9737,     0.97371,     0.97371,     0.97371,     0.97372,     0.97372,     0.97372,     0.97373,     0.97373,     0.97373,     0.97374,     0.97374,     0.97375,     0.97375,     0.97375,     0.97376,     0.97376,     0.97376,     0.97377,\n",
              "            0.97377,     0.97377,     0.97378,     0.97378,     0.97379,     0.97379,     0.97379,      0.9738,      0.9738,      0.9738,     0.97381,     0.97381,     0.97381,     0.97382,     0.97382,     0.97383,     0.97383,     0.97383,     0.97384,     0.97384,     0.97384,     0.97385,     0.97385,\n",
              "            0.97385,     0.97386,     0.97386,     0.97386,     0.97387,     0.97387,     0.97388,     0.97388,     0.97388,     0.97389,     0.97389,     0.97389,      0.9739,      0.9739,      0.9739,     0.97391,     0.97391,     0.97392,     0.97392,     0.97392,     0.97393,     0.97393,     0.97393,\n",
              "            0.97394,     0.97394,     0.97394,     0.97395,     0.97395,     0.97396,     0.97396,     0.97396,     0.97397,     0.97397,     0.97397,     0.97398,     0.97398,     0.97398,     0.97399,     0.97399,     0.97399,       0.974,       0.974,     0.97401,     0.97401,     0.97401,     0.97402,\n",
              "            0.97402,     0.97402,     0.97403,     0.97403,     0.97403,     0.97404,     0.97404,     0.97405,     0.97405,     0.97405,     0.97406,     0.97406,     0.97406,     0.97407,     0.97407,     0.97407,     0.97408,     0.97408,     0.97409,     0.97409,     0.97409,      0.9741,      0.9741,\n",
              "             0.9741,     0.97411,     0.97411,     0.97411,     0.97412,     0.97412,     0.97412,     0.97413,     0.97413,     0.97414,     0.97414,     0.97414,     0.97415,     0.97415,     0.97415,     0.97416,     0.97416,     0.97416,     0.97417,     0.97417,     0.97418,     0.97418,     0.97418,\n",
              "            0.97419,     0.97419,     0.97419,      0.9742,      0.9742,      0.9742,     0.97421,     0.97421,     0.97421,     0.97422,     0.97422,     0.97423,     0.97423,     0.97423,     0.97424,     0.97424,     0.97424,     0.97425,     0.97425,     0.97425,     0.97426,     0.97426,     0.97427,\n",
              "            0.97427,     0.97427,     0.97428,     0.97428,     0.97428,     0.97429,     0.97429,     0.97429,      0.9743,      0.9743,     0.97431,     0.97431,     0.97431,     0.97432,     0.97432,     0.97432,     0.97433,     0.97433,     0.97433,     0.97434,     0.97434,     0.97434,     0.97435,\n",
              "            0.97435,     0.97436,     0.97436,     0.97436,     0.97437,     0.97437,     0.97437,     0.97438,     0.97438,     0.97438,     0.97439,     0.97439,      0.9744,      0.9744,      0.9744,     0.97441,     0.97441,     0.97441,     0.97442,     0.97442,     0.97442,     0.97443,     0.97443,\n",
              "            0.97444,     0.97444,     0.97444,     0.97445,     0.97445,     0.97445,     0.97446,     0.97446,     0.97446,     0.97447,     0.97447,     0.97447,     0.97448,     0.97448,     0.97449,     0.97449,     0.97449,      0.9745,      0.9745,      0.9745,     0.97451,     0.97451,     0.97451,\n",
              "            0.97452,     0.97452,     0.97453,     0.97453,     0.97453,     0.97454,     0.97454,     0.97454,     0.97455,     0.97455,     0.97455,     0.97456,     0.97456,     0.97456,     0.97457,     0.97457,     0.97458,     0.97458,     0.97458,     0.97459,     0.97459,     0.97459,      0.9746,\n",
              "             0.9746,      0.9746,     0.97461,     0.97461,     0.97462,     0.97462,     0.97462,     0.97463,     0.97463,     0.97463,     0.97464,     0.97464,     0.97464,     0.97465,     0.97465,     0.97466,     0.97466,     0.97466,     0.97467,     0.97467,     0.97467,     0.97468,     0.97468,\n",
              "            0.97468,     0.97469,     0.97469,     0.97469,      0.9747,      0.9747,     0.97471,     0.97471,     0.97471,     0.97472,     0.97472,     0.97472,     0.97473,     0.97473,     0.97473,     0.97474,     0.97474,     0.97475,     0.97475,     0.97475,     0.97476,     0.97476,     0.97476,\n",
              "            0.97477,     0.97477,     0.97477,     0.97478,     0.97478,     0.97478,     0.97479,     0.97479,      0.9748,      0.9748,      0.9748,     0.97481,     0.97481,     0.97481,     0.97482,     0.97482,     0.97482,     0.97483,     0.97483,     0.97484,     0.97484,     0.97484,     0.97485,\n",
              "            0.97485,     0.97485,     0.97486,     0.97486,     0.97486,     0.97487,     0.97487,     0.97488,     0.97488,     0.97488,     0.97489,     0.97489,     0.97489,      0.9749,      0.9749,      0.9749,     0.97491,     0.97491,     0.97491,     0.97492,     0.97492,     0.97493,     0.97493,\n",
              "            0.97493,     0.97494,     0.97494,     0.97494,     0.97495,     0.97495,     0.97495,     0.97496,     0.97496,     0.97497,     0.97497,     0.97497,     0.97498,     0.97498,     0.97498,     0.97499,     0.97499,     0.97499,       0.975,       0.975,       0.975,     0.97501,     0.97501,\n",
              "            0.97502,     0.97502,     0.97502,     0.97503,     0.97503,     0.97503,     0.97504,     0.97504,     0.97504,     0.97505,     0.97505,     0.97506,     0.97506,     0.97506,     0.97507,     0.97507,     0.97507,     0.97508,     0.97508,     0.97508,     0.97509,     0.97509,     0.97509,\n",
              "             0.9751,      0.9751,     0.97511,     0.97511,     0.97511,     0.97512,     0.97512,     0.97512,     0.97513,     0.97513,     0.97513,     0.97514,     0.97514,     0.97515,     0.97515,     0.97515,     0.97516,     0.97516,     0.97516,     0.97517,     0.97517,     0.97517,     0.97518,\n",
              "            0.97518,     0.97518,     0.97519,     0.97519,      0.9752,      0.9752,      0.9752,     0.97521,     0.97521,     0.97521,     0.97522,     0.97522,     0.97522,     0.97523,     0.97523,     0.97524,     0.97524,     0.97524,     0.97525,     0.97525,     0.97525,     0.97526,     0.97526,\n",
              "            0.97526,     0.97527,     0.97527,     0.97528,     0.97528,     0.97528,     0.97529,     0.97529,     0.97529,      0.9753,      0.9753,      0.9753,     0.97531,     0.97531,     0.97531,     0.97532,     0.97532,     0.97533,     0.97533,     0.97533,     0.97534,     0.97534,     0.97534,\n",
              "            0.97535,     0.97535,     0.97535,     0.97536,     0.97536,     0.97537,     0.97537,     0.97537,     0.97538,     0.97538,     0.97538,     0.97539,     0.97539,     0.97539,      0.9754,      0.9754,      0.9754,     0.97541,     0.97541,     0.97542,     0.97542,     0.97542,     0.97543,\n",
              "            0.97543,     0.97543,     0.97544,     0.97544,     0.97544,     0.97545,     0.97545,     0.97546,     0.97546,     0.97546,     0.97547,     0.97547,     0.97547,     0.97548,     0.97548,     0.97548,     0.97549,     0.97549,     0.97549,      0.9755,      0.9755,     0.97551,     0.97551,\n",
              "            0.97551,     0.97552,     0.97552,     0.97552,     0.97553,     0.97553,     0.97553,     0.97554,     0.97554,     0.97555,     0.97555,     0.97555,     0.97556,     0.97556,     0.97556,     0.97557,     0.97557,     0.97557,     0.97558,     0.97558,     0.97558,     0.97559,     0.97559,\n",
              "             0.9756,      0.9756,      0.9756,     0.97561,     0.97561,     0.97561,     0.97562,     0.97562,     0.97562,     0.97563,     0.97563,     0.97564,     0.97564,     0.97564,     0.97565,     0.97565,     0.97565,     0.97566,     0.97566,     0.97566,     0.97567,     0.97567,     0.97567,\n",
              "            0.97568,     0.97568,     0.97569,     0.97569,     0.97569,      0.9757,      0.9757,      0.9757,     0.97571,     0.97571,     0.97571,     0.97572,     0.97572,     0.97573,     0.97573,     0.97573,     0.97574,     0.97574,     0.97574,     0.97575,     0.97575,     0.97575,     0.97576,\n",
              "            0.97576,     0.97576,     0.97577,     0.97577,     0.97578,     0.97578,     0.97578,     0.97579,     0.97579,     0.97579,      0.9758,      0.9758,      0.9758,     0.97581,     0.97581,     0.97581,     0.97582,     0.97582,     0.97583,     0.97583,     0.97583,     0.97584,     0.97584,\n",
              "            0.97584,     0.97585,     0.97585,     0.97585,     0.97586,     0.97586,     0.97587,     0.97587,     0.97587,     0.97588,     0.97588,     0.97588,     0.97589,     0.97589,     0.97589,      0.9759,      0.9759,     0.97544,     0.97418,     0.97291,      0.9756,     0.97425,     0.97265,\n",
              "             0.9756,     0.97516,     0.97207,     0.97114,      0.9702,     0.96927,     0.96536,     0.96315,     0.95896,     0.95762,     0.95627,     0.94671,     0.94327,     0.93008,     0.91946,      0.9014,     0.88273,     0.87477,     0.86506,      0.8578,     0.85112,     0.84301,     0.82655,\n",
              "            0.82187,     0.79602,     0.76443,     0.75025,     0.71119,     0.68137,       0.664,      0.6474,     0.57756,     0.53971,     0.50654,     0.45042,     0.42057,     0.39731,      0.3491,     0.33209,     0.30614,     0.24294,     0.19469,     0.16424,     0.13379,     0.11275,     0.10539,\n",
              "           0.073417,    0.042471,    0.015254,           0,           0,           0,           0,           0,           0,           0,           0,           0,           0,           0,           0,           0,           0,           0,           0,           0,           0,           0,           0,\n",
              "                  0,           0,           0,           0,           0,           0,           0,           0,           0,           0,           0]]), 'Confidence', 'F1'], [array([          0,    0.001001,    0.002002,    0.003003,    0.004004,    0.005005,    0.006006,    0.007007,    0.008008,    0.009009,     0.01001,    0.011011,    0.012012,    0.013013,    0.014014,    0.015015,    0.016016,    0.017017,    0.018018,    0.019019,     0.02002,    0.021021,    0.022022,    0.023023,\n",
              "          0.024024,    0.025025,    0.026026,    0.027027,    0.028028,    0.029029,     0.03003,    0.031031,    0.032032,    0.033033,    0.034034,    0.035035,    0.036036,    0.037037,    0.038038,    0.039039,     0.04004,    0.041041,    0.042042,    0.043043,    0.044044,    0.045045,    0.046046,    0.047047,\n",
              "          0.048048,    0.049049,     0.05005,    0.051051,    0.052052,    0.053053,    0.054054,    0.055055,    0.056056,    0.057057,    0.058058,    0.059059,     0.06006,    0.061061,    0.062062,    0.063063,    0.064064,    0.065065,    0.066066,    0.067067,    0.068068,    0.069069,     0.07007,    0.071071,\n",
              "          0.072072,    0.073073,    0.074074,    0.075075,    0.076076,    0.077077,    0.078078,    0.079079,     0.08008,    0.081081,    0.082082,    0.083083,    0.084084,    0.085085,    0.086086,    0.087087,    0.088088,    0.089089,     0.09009,    0.091091,    0.092092,    0.093093,    0.094094,    0.095095,\n",
              "          0.096096,    0.097097,    0.098098,    0.099099,      0.1001,      0.1011,      0.1021,      0.1031,      0.1041,     0.10511,     0.10611,     0.10711,     0.10811,     0.10911,     0.11011,     0.11111,     0.11211,     0.11311,     0.11411,     0.11512,     0.11612,     0.11712,     0.11812,     0.11912,\n",
              "           0.12012,     0.12112,     0.12212,     0.12312,     0.12412,     0.12513,     0.12613,     0.12713,     0.12813,     0.12913,     0.13013,     0.13113,     0.13213,     0.13313,     0.13413,     0.13514,     0.13614,     0.13714,     0.13814,     0.13914,     0.14014,     0.14114,     0.14214,     0.14314,\n",
              "           0.14414,     0.14515,     0.14615,     0.14715,     0.14815,     0.14915,     0.15015,     0.15115,     0.15215,     0.15315,     0.15415,     0.15516,     0.15616,     0.15716,     0.15816,     0.15916,     0.16016,     0.16116,     0.16216,     0.16316,     0.16416,     0.16517,     0.16617,     0.16717,\n",
              "           0.16817,     0.16917,     0.17017,     0.17117,     0.17217,     0.17317,     0.17417,     0.17518,     0.17618,     0.17718,     0.17818,     0.17918,     0.18018,     0.18118,     0.18218,     0.18318,     0.18418,     0.18519,     0.18619,     0.18719,     0.18819,     0.18919,     0.19019,     0.19119,\n",
              "           0.19219,     0.19319,     0.19419,      0.1952,      0.1962,      0.1972,      0.1982,      0.1992,      0.2002,      0.2012,      0.2022,      0.2032,      0.2042,     0.20521,     0.20621,     0.20721,     0.20821,     0.20921,     0.21021,     0.21121,     0.21221,     0.21321,     0.21421,     0.21522,\n",
              "           0.21622,     0.21722,     0.21822,     0.21922,     0.22022,     0.22122,     0.22222,     0.22322,     0.22422,     0.22523,     0.22623,     0.22723,     0.22823,     0.22923,     0.23023,     0.23123,     0.23223,     0.23323,     0.23423,     0.23524,     0.23624,     0.23724,     0.23824,     0.23924,\n",
              "           0.24024,     0.24124,     0.24224,     0.24324,     0.24424,     0.24525,     0.24625,     0.24725,     0.24825,     0.24925,     0.25025,     0.25125,     0.25225,     0.25325,     0.25425,     0.25526,     0.25626,     0.25726,     0.25826,     0.25926,     0.26026,     0.26126,     0.26226,     0.26326,\n",
              "           0.26426,     0.26527,     0.26627,     0.26727,     0.26827,     0.26927,     0.27027,     0.27127,     0.27227,     0.27327,     0.27427,     0.27528,     0.27628,     0.27728,     0.27828,     0.27928,     0.28028,     0.28128,     0.28228,     0.28328,     0.28428,     0.28529,     0.28629,     0.28729,\n",
              "           0.28829,     0.28929,     0.29029,     0.29129,     0.29229,     0.29329,     0.29429,      0.2953,      0.2963,      0.2973,      0.2983,      0.2993,      0.3003,      0.3013,      0.3023,      0.3033,      0.3043,     0.30531,     0.30631,     0.30731,     0.30831,     0.30931,     0.31031,     0.31131,\n",
              "           0.31231,     0.31331,     0.31431,     0.31532,     0.31632,     0.31732,     0.31832,     0.31932,     0.32032,     0.32132,     0.32232,     0.32332,     0.32432,     0.32533,     0.32633,     0.32733,     0.32833,     0.32933,     0.33033,     0.33133,     0.33233,     0.33333,     0.33433,     0.33534,\n",
              "           0.33634,     0.33734,     0.33834,     0.33934,     0.34034,     0.34134,     0.34234,     0.34334,     0.34434,     0.34535,     0.34635,     0.34735,     0.34835,     0.34935,     0.35035,     0.35135,     0.35235,     0.35335,     0.35435,     0.35536,     0.35636,     0.35736,     0.35836,     0.35936,\n",
              "           0.36036,     0.36136,     0.36236,     0.36336,     0.36436,     0.36537,     0.36637,     0.36737,     0.36837,     0.36937,     0.37037,     0.37137,     0.37237,     0.37337,     0.37437,     0.37538,     0.37638,     0.37738,     0.37838,     0.37938,     0.38038,     0.38138,     0.38238,     0.38338,\n",
              "           0.38438,     0.38539,     0.38639,     0.38739,     0.38839,     0.38939,     0.39039,     0.39139,     0.39239,     0.39339,     0.39439,      0.3954,      0.3964,      0.3974,      0.3984,      0.3994,      0.4004,      0.4014,      0.4024,      0.4034,      0.4044,     0.40541,     0.40641,     0.40741,\n",
              "           0.40841,     0.40941,     0.41041,     0.41141,     0.41241,     0.41341,     0.41441,     0.41542,     0.41642,     0.41742,     0.41842,     0.41942,     0.42042,     0.42142,     0.42242,     0.42342,     0.42442,     0.42543,     0.42643,     0.42743,     0.42843,     0.42943,     0.43043,     0.43143,\n",
              "           0.43243,     0.43343,     0.43443,     0.43544,     0.43644,     0.43744,     0.43844,     0.43944,     0.44044,     0.44144,     0.44244,     0.44344,     0.44444,     0.44545,     0.44645,     0.44745,     0.44845,     0.44945,     0.45045,     0.45145,     0.45245,     0.45345,     0.45445,     0.45546,\n",
              "           0.45646,     0.45746,     0.45846,     0.45946,     0.46046,     0.46146,     0.46246,     0.46346,     0.46446,     0.46547,     0.46647,     0.46747,     0.46847,     0.46947,     0.47047,     0.47147,     0.47247,     0.47347,     0.47447,     0.47548,     0.47648,     0.47748,     0.47848,     0.47948,\n",
              "           0.48048,     0.48148,     0.48248,     0.48348,     0.48448,     0.48549,     0.48649,     0.48749,     0.48849,     0.48949,     0.49049,     0.49149,     0.49249,     0.49349,     0.49449,      0.4955,      0.4965,      0.4975,      0.4985,      0.4995,      0.5005,      0.5015,      0.5025,      0.5035,\n",
              "            0.5045,     0.50551,     0.50651,     0.50751,     0.50851,     0.50951,     0.51051,     0.51151,     0.51251,     0.51351,     0.51451,     0.51552,     0.51652,     0.51752,     0.51852,     0.51952,     0.52052,     0.52152,     0.52252,     0.52352,     0.52452,     0.52553,     0.52653,     0.52753,\n",
              "           0.52853,     0.52953,     0.53053,     0.53153,     0.53253,     0.53353,     0.53453,     0.53554,     0.53654,     0.53754,     0.53854,     0.53954,     0.54054,     0.54154,     0.54254,     0.54354,     0.54454,     0.54555,     0.54655,     0.54755,     0.54855,     0.54955,     0.55055,     0.55155,\n",
              "           0.55255,     0.55355,     0.55455,     0.55556,     0.55656,     0.55756,     0.55856,     0.55956,     0.56056,     0.56156,     0.56256,     0.56356,     0.56456,     0.56557,     0.56657,     0.56757,     0.56857,     0.56957,     0.57057,     0.57157,     0.57257,     0.57357,     0.57457,     0.57558,\n",
              "           0.57658,     0.57758,     0.57858,     0.57958,     0.58058,     0.58158,     0.58258,     0.58358,     0.58458,     0.58559,     0.58659,     0.58759,     0.58859,     0.58959,     0.59059,     0.59159,     0.59259,     0.59359,     0.59459,      0.5956,      0.5966,      0.5976,      0.5986,      0.5996,\n",
              "            0.6006,      0.6016,      0.6026,      0.6036,      0.6046,     0.60561,     0.60661,     0.60761,     0.60861,     0.60961,     0.61061,     0.61161,     0.61261,     0.61361,     0.61461,     0.61562,     0.61662,     0.61762,     0.61862,     0.61962,     0.62062,     0.62162,     0.62262,     0.62362,\n",
              "           0.62462,     0.62563,     0.62663,     0.62763,     0.62863,     0.62963,     0.63063,     0.63163,     0.63263,     0.63363,     0.63463,     0.63564,     0.63664,     0.63764,     0.63864,     0.63964,     0.64064,     0.64164,     0.64264,     0.64364,     0.64464,     0.64565,     0.64665,     0.64765,\n",
              "           0.64865,     0.64965,     0.65065,     0.65165,     0.65265,     0.65365,     0.65465,     0.65566,     0.65666,     0.65766,     0.65866,     0.65966,     0.66066,     0.66166,     0.66266,     0.66366,     0.66466,     0.66567,     0.66667,     0.66767,     0.66867,     0.66967,     0.67067,     0.67167,\n",
              "           0.67267,     0.67367,     0.67467,     0.67568,     0.67668,     0.67768,     0.67868,     0.67968,     0.68068,     0.68168,     0.68268,     0.68368,     0.68468,     0.68569,     0.68669,     0.68769,     0.68869,     0.68969,     0.69069,     0.69169,     0.69269,     0.69369,     0.69469,      0.6957,\n",
              "            0.6967,      0.6977,      0.6987,      0.6997,      0.7007,      0.7017,      0.7027,      0.7037,      0.7047,     0.70571,     0.70671,     0.70771,     0.70871,     0.70971,     0.71071,     0.71171,     0.71271,     0.71371,     0.71471,     0.71572,     0.71672,     0.71772,     0.71872,     0.71972,\n",
              "           0.72072,     0.72172,     0.72272,     0.72372,     0.72472,     0.72573,     0.72673,     0.72773,     0.72873,     0.72973,     0.73073,     0.73173,     0.73273,     0.73373,     0.73473,     0.73574,     0.73674,     0.73774,     0.73874,     0.73974,     0.74074,     0.74174,     0.74274,     0.74374,\n",
              "           0.74474,     0.74575,     0.74675,     0.74775,     0.74875,     0.74975,     0.75075,     0.75175,     0.75275,     0.75375,     0.75475,     0.75576,     0.75676,     0.75776,     0.75876,     0.75976,     0.76076,     0.76176,     0.76276,     0.76376,     0.76476,     0.76577,     0.76677,     0.76777,\n",
              "           0.76877,     0.76977,     0.77077,     0.77177,     0.77277,     0.77377,     0.77477,     0.77578,     0.77678,     0.77778,     0.77878,     0.77978,     0.78078,     0.78178,     0.78278,     0.78378,     0.78478,     0.78579,     0.78679,     0.78779,     0.78879,     0.78979,     0.79079,     0.79179,\n",
              "           0.79279,     0.79379,     0.79479,      0.7958,      0.7968,      0.7978,      0.7988,      0.7998,      0.8008,      0.8018,      0.8028,      0.8038,      0.8048,     0.80581,     0.80681,     0.80781,     0.80881,     0.80981,     0.81081,     0.81181,     0.81281,     0.81381,     0.81481,     0.81582,\n",
              "           0.81682,     0.81782,     0.81882,     0.81982,     0.82082,     0.82182,     0.82282,     0.82382,     0.82482,     0.82583,     0.82683,     0.82783,     0.82883,     0.82983,     0.83083,     0.83183,     0.83283,     0.83383,     0.83483,     0.83584,     0.83684,     0.83784,     0.83884,     0.83984,\n",
              "           0.84084,     0.84184,     0.84284,     0.84384,     0.84484,     0.84585,     0.84685,     0.84785,     0.84885,     0.84985,     0.85085,     0.85185,     0.85285,     0.85385,     0.85485,     0.85586,     0.85686,     0.85786,     0.85886,     0.85986,     0.86086,     0.86186,     0.86286,     0.86386,\n",
              "           0.86486,     0.86587,     0.86687,     0.86787,     0.86887,     0.86987,     0.87087,     0.87187,     0.87287,     0.87387,     0.87487,     0.87588,     0.87688,     0.87788,     0.87888,     0.87988,     0.88088,     0.88188,     0.88288,     0.88388,     0.88488,     0.88589,     0.88689,     0.88789,\n",
              "           0.88889,     0.88989,     0.89089,     0.89189,     0.89289,     0.89389,     0.89489,      0.8959,      0.8969,      0.8979,      0.8989,      0.8999,      0.9009,      0.9019,      0.9029,      0.9039,      0.9049,     0.90591,     0.90691,     0.90791,     0.90891,     0.90991,     0.91091,     0.91191,\n",
              "           0.91291,     0.91391,     0.91491,     0.91592,     0.91692,     0.91792,     0.91892,     0.91992,     0.92092,     0.92192,     0.92292,     0.92392,     0.92492,     0.92593,     0.92693,     0.92793,     0.92893,     0.92993,     0.93093,     0.93193,     0.93293,     0.93393,     0.93493,     0.93594,\n",
              "           0.93694,     0.93794,     0.93894,     0.93994,     0.94094,     0.94194,     0.94294,     0.94394,     0.94494,     0.94595,     0.94695,     0.94795,     0.94895,     0.94995,     0.95095,     0.95195,     0.95295,     0.95395,     0.95495,     0.95596,     0.95696,     0.95796,     0.95896,     0.95996,\n",
              "           0.96096,     0.96196,     0.96296,     0.96396,     0.96496,     0.96597,     0.96697,     0.96797,     0.96897,     0.96997,     0.97097,     0.97197,     0.97297,     0.97397,     0.97497,     0.97598,     0.97698,     0.97798,     0.97898,     0.97998,     0.98098,     0.98198,     0.98298,     0.98398,\n",
              "           0.98498,     0.98599,     0.98699,     0.98799,     0.98899,     0.98999,     0.99099,     0.99199,     0.99299,     0.99399,     0.99499,       0.996,       0.997,       0.998,       0.999,           1]), array([[    0.90503,     0.90503,     0.91762,     0.92656,     0.93036,     0.94052,     0.94949,      0.9586,     0.95876,     0.95892,     0.95908,     0.95924,      0.9594,     0.95957,     0.95973,     0.95989,     0.96005,     0.96021,     0.96037,     0.96054,      0.9607,     0.96086,     0.96102,\n",
              "            0.96118,     0.96134,     0.96151,     0.96167,     0.96183,     0.96199,     0.96215,     0.96231,     0.96248,     0.96264,      0.9628,     0.96296,     0.96312,     0.96328,     0.96345,     0.96361,     0.96377,     0.96393,     0.96409,     0.96425,     0.96436,     0.96446,     0.96456,\n",
              "            0.96466,     0.96475,     0.96485,     0.96495,     0.96505,     0.96515,     0.96524,     0.96534,     0.96544,     0.96554,     0.96563,     0.96573,     0.96583,     0.96593,     0.96602,     0.96612,     0.96622,     0.96632,     0.96641,     0.96651,     0.96661,     0.96671,     0.96681,\n",
              "             0.9669,       0.967,      0.9671,      0.9672,     0.96729,     0.96739,     0.96749,     0.96759,     0.96768,     0.96778,     0.96788,     0.96798,     0.96807,     0.96817,     0.96827,     0.96837,     0.96846,     0.96856,     0.96866,     0.96876,     0.96886,     0.96895,     0.96905,\n",
              "            0.96915,     0.96925,     0.96934,     0.96944,     0.96954,     0.96964,     0.96973,     0.96983,     0.96993,     0.97003,     0.97006,     0.97007,     0.97008,     0.97009,     0.97009,      0.9701,     0.97011,     0.97011,     0.97012,     0.97013,     0.97014,     0.97014,     0.97015,\n",
              "            0.97016,     0.97017,     0.97017,     0.97018,     0.97019,     0.97019,      0.9702,     0.97021,     0.97022,     0.97022,     0.97023,     0.97024,     0.97024,     0.97025,     0.97026,     0.97027,     0.97027,     0.97028,     0.97029,     0.97029,      0.9703,     0.97031,     0.97032,\n",
              "            0.97032,     0.97033,     0.97034,     0.97035,     0.97035,     0.97036,     0.97037,     0.97037,     0.97038,     0.97039,      0.9704,      0.9704,     0.97041,     0.97042,     0.97042,     0.97043,     0.97044,     0.97045,     0.97045,     0.97046,     0.97047,     0.97047,     0.97048,\n",
              "            0.97049,      0.9705,      0.9705,     0.97051,     0.97052,     0.97053,     0.97053,     0.97054,     0.97055,     0.97055,     0.97056,     0.97057,     0.97058,     0.97058,     0.97059,      0.9706,      0.9706,     0.97061,     0.97062,     0.97063,     0.97063,     0.97064,     0.97065,\n",
              "            0.97065,     0.97066,     0.97067,     0.97068,     0.97068,     0.97069,      0.9707,      0.9707,     0.97071,     0.97072,     0.97073,     0.97073,     0.97074,     0.97075,     0.97076,     0.97076,     0.97077,     0.97078,     0.97078,     0.97079,      0.9708,     0.97081,     0.97081,\n",
              "            0.97082,     0.97083,     0.97083,     0.97084,     0.97085,     0.97086,     0.97086,     0.97087,     0.97088,     0.97088,     0.97089,      0.9709,     0.97091,     0.97091,     0.97092,     0.97093,     0.97094,     0.97094,     0.97095,     0.97096,     0.97096,     0.97097,     0.97098,\n",
              "            0.97099,     0.97099,       0.971,     0.97101,     0.97101,     0.97102,     0.97103,     0.97104,     0.97104,     0.97105,     0.97106,     0.97106,     0.97107,     0.97108,     0.97109,     0.97109,      0.9711,     0.97111,     0.97111,     0.97112,     0.97113,     0.97114,     0.97114,\n",
              "            0.97115,     0.97116,     0.97117,     0.97117,     0.97118,     0.97119,     0.97119,      0.9712,     0.97121,     0.97122,     0.97122,     0.97123,     0.97124,     0.97124,     0.97125,     0.97126,     0.97127,     0.97127,     0.97128,     0.97129,     0.97129,      0.9713,     0.97131,\n",
              "            0.97132,     0.97132,     0.97133,     0.97134,     0.97135,     0.97135,     0.97136,     0.97137,     0.97137,     0.97138,     0.97139,      0.9714,      0.9714,     0.97141,     0.97142,     0.97142,     0.97143,     0.97144,     0.97145,     0.97145,     0.97146,     0.97147,     0.97147,\n",
              "            0.97148,     0.97149,      0.9715,      0.9715,     0.97151,     0.97152,     0.97153,     0.97153,     0.97154,     0.97155,     0.97155,     0.97156,     0.97157,     0.97158,     0.97158,     0.97159,      0.9716,      0.9716,     0.97161,     0.97162,     0.97163,     0.97163,     0.97164,\n",
              "            0.97165,     0.97165,     0.97166,     0.97167,     0.97168,     0.97168,     0.97169,      0.9717,      0.9717,     0.97171,     0.97172,     0.97173,     0.97173,     0.97174,     0.97175,     0.97176,     0.97176,     0.97177,     0.97178,     0.97178,     0.97179,      0.9718,     0.97181,\n",
              "            0.97181,     0.97182,     0.97183,     0.97183,     0.97184,     0.97185,     0.97186,     0.97186,     0.97187,     0.97188,     0.97188,     0.97189,      0.9719,     0.97191,     0.97191,     0.97192,     0.97193,     0.97194,     0.97194,     0.97195,     0.97196,     0.97196,     0.97197,\n",
              "            0.97198,     0.97199,     0.97199,       0.972,     0.97201,     0.97201,     0.97202,     0.97203,     0.97204,     0.97204,     0.97205,     0.97206,     0.97206,     0.97207,     0.97208,     0.97209,     0.97209,      0.9721,     0.97211,     0.97211,     0.97212,     0.97213,     0.97214,\n",
              "            0.97214,     0.97215,     0.97216,     0.97217,     0.97217,     0.97218,     0.97219,     0.97219,      0.9722,     0.97221,     0.97222,     0.97222,     0.97223,     0.97224,     0.97224,     0.97225,     0.97226,     0.97227,     0.97227,     0.97228,     0.97229,     0.97229,      0.9723,\n",
              "            0.97231,     0.97232,     0.97232,     0.97233,     0.97234,     0.97235,     0.97235,     0.97236,     0.97237,     0.97237,     0.97238,     0.97239,      0.9724,      0.9724,     0.97241,     0.97242,     0.97242,     0.97243,     0.97244,     0.97245,     0.97245,     0.97246,     0.97247,\n",
              "            0.97247,     0.97248,     0.97249,      0.9725,      0.9725,     0.97251,     0.97252,     0.97253,     0.97253,     0.97254,     0.97255,     0.97255,     0.97256,     0.97257,     0.97258,     0.97258,     0.97259,      0.9726,      0.9726,     0.97261,     0.97262,     0.97263,     0.97263,\n",
              "            0.97264,     0.97265,     0.97265,     0.97266,     0.97267,     0.97268,     0.97268,     0.97269,      0.9727,      0.9727,     0.97271,     0.97272,     0.97273,     0.97273,     0.97274,     0.97275,     0.97276,     0.97276,     0.97277,     0.97278,     0.97278,     0.97279,      0.9728,\n",
              "            0.97281,     0.97281,     0.97282,     0.97283,     0.97283,     0.97284,     0.97285,     0.97286,     0.97286,     0.97287,     0.97288,     0.97288,     0.97289,      0.9729,     0.97291,     0.97291,     0.97292,     0.97293,     0.97294,     0.97294,     0.97295,     0.97296,     0.97296,\n",
              "            0.97297,     0.97298,     0.97299,     0.97299,       0.973,     0.97301,     0.97301,     0.97302,     0.97303,     0.97304,     0.97304,     0.97305,     0.97306,     0.97306,     0.97307,     0.97308,     0.97309,     0.97309,      0.9731,     0.97311,     0.97311,     0.97312,     0.97313,\n",
              "            0.97314,     0.97314,     0.97315,     0.97316,     0.97317,     0.97317,     0.97318,     0.97319,     0.97319,      0.9732,     0.97321,     0.97322,     0.97322,     0.97323,     0.97324,     0.97324,     0.97325,     0.97326,     0.97327,     0.97327,     0.97328,     0.97329,     0.97329,\n",
              "             0.9733,     0.97331,     0.97332,     0.97332,     0.97333,     0.97334,     0.97335,     0.97335,     0.97336,     0.97337,     0.97337,     0.97338,     0.97339,      0.9734,      0.9734,     0.97341,     0.97342,     0.97342,     0.97343,     0.97344,     0.97345,     0.97345,     0.97346,\n",
              "            0.97347,     0.97347,     0.97348,     0.97349,      0.9735,      0.9735,     0.97351,     0.97352,     0.97352,     0.97353,     0.97354,     0.97355,     0.97355,     0.97356,     0.97357,     0.97358,     0.97358,     0.97359,      0.9736,      0.9736,     0.97361,     0.97362,     0.97363,\n",
              "            0.97363,     0.97364,     0.97365,     0.97365,     0.97366,     0.97367,     0.97368,     0.97368,     0.97369,      0.9737,      0.9737,     0.97371,     0.97372,     0.97373,     0.97373,     0.97374,     0.97375,     0.97376,     0.97376,     0.97377,     0.97378,     0.97378,     0.97379,\n",
              "             0.9738,     0.97381,     0.97381,     0.97382,     0.97383,     0.97383,     0.97384,     0.97385,     0.97386,     0.97386,     0.97387,     0.97388,     0.97388,     0.97389,      0.9739,     0.97391,     0.97391,     0.97392,     0.97393,     0.97394,     0.97394,     0.97395,     0.97396,\n",
              "            0.97396,     0.97397,     0.97398,     0.97399,     0.97399,       0.974,     0.97401,     0.97401,     0.97402,     0.97403,     0.97404,     0.97404,     0.97405,     0.97406,     0.97406,     0.97407,     0.97408,     0.97409,     0.97409,      0.9741,     0.97411,     0.97411,     0.97412,\n",
              "            0.97413,     0.97414,     0.97414,     0.97415,     0.97416,     0.97417,     0.97417,     0.97418,     0.97419,     0.97419,      0.9742,     0.97421,     0.97422,     0.97422,     0.97423,     0.97424,     0.97424,     0.97425,     0.97426,     0.97427,     0.97427,     0.97428,     0.97429,\n",
              "            0.97429,      0.9743,     0.97431,     0.97432,     0.97432,     0.97433,     0.97434,     0.97435,     0.97435,     0.97436,     0.97437,     0.97437,     0.97438,     0.97439,      0.9744,      0.9744,     0.97441,     0.97442,     0.97442,     0.97443,     0.97444,     0.97445,     0.97445,\n",
              "            0.97446,     0.97447,     0.97447,     0.97448,     0.97449,      0.9745,      0.9745,     0.97451,     0.97452,     0.97452,     0.97453,     0.97454,     0.97455,     0.97455,     0.97456,     0.97457,     0.97458,     0.97458,     0.97459,      0.9746,      0.9746,     0.97461,     0.97462,\n",
              "            0.97463,     0.97463,     0.97464,     0.97465,     0.97465,     0.97466,     0.97467,     0.97468,     0.97468,     0.97469,      0.9747,      0.9747,     0.97471,     0.97472,     0.97473,     0.97473,     0.97474,     0.97475,     0.97476,     0.97476,     0.97477,     0.97478,     0.97478,\n",
              "            0.97479,      0.9748,     0.97481,     0.97481,     0.97482,     0.97483,     0.97483,     0.97484,     0.97485,     0.97486,     0.97486,     0.97487,     0.97488,     0.97488,     0.97489,      0.9749,     0.97491,     0.97491,     0.97492,     0.97493,     0.97494,     0.97494,     0.97495,\n",
              "            0.97496,     0.97496,     0.97497,     0.97498,     0.97499,     0.97499,       0.975,     0.97501,     0.97501,     0.97502,     0.97503,     0.97504,     0.97504,     0.97505,     0.97506,     0.97506,     0.97507,     0.97508,     0.97509,     0.97509,      0.9751,     0.97511,     0.97511,\n",
              "            0.97512,     0.97513,     0.97514,     0.97514,     0.97515,     0.97516,     0.97517,     0.97517,     0.97518,     0.97519,     0.97519,      0.9752,     0.97521,     0.97522,     0.97522,     0.97523,     0.97524,     0.97524,     0.97525,     0.97526,     0.97527,     0.97527,     0.97528,\n",
              "            0.97529,     0.97529,      0.9753,     0.97531,     0.97532,     0.97532,     0.97533,     0.97534,     0.97535,     0.97535,     0.97536,     0.97537,     0.97537,     0.97538,     0.97539,      0.9754,      0.9754,     0.97541,     0.97542,     0.97542,     0.97543,     0.97544,     0.97545,\n",
              "            0.97545,     0.97546,     0.97547,     0.97547,     0.97548,     0.97549,      0.9755,      0.9755,     0.97551,     0.97552,     0.97552,     0.97553,     0.97554,     0.97555,     0.97555,     0.97556,     0.97557,     0.97558,     0.97558,     0.97559,      0.9756,      0.9756,     0.97561,\n",
              "            0.97562,     0.97563,     0.97563,     0.97564,     0.97565,     0.97565,     0.97566,     0.97567,     0.97568,     0.97568,     0.97569,      0.9757,      0.9757,     0.97571,     0.97572,     0.97573,     0.97573,     0.97574,     0.97575,     0.97576,     0.97576,     0.97577,     0.97578,\n",
              "            0.97578,     0.97579,      0.9758,     0.97581,     0.97581,     0.97582,     0.97583,     0.97583,     0.97584,     0.97585,     0.97586,     0.97586,     0.97587,     0.97588,     0.97588,     0.97589,      0.9759,     0.97588,     0.97582,     0.97576,      0.9814,     0.98165,      0.9816,\n",
              "            0.99404,           1,           1,           1,           1,           1,           1,           1,           1,           1,           1,           1,           1,           1,           1,           1,           1,           1,           1,           1,           1,           1,           1,\n",
              "                  1,           1,           1,           1,           1,           1,           1,           1,           1,           1,           1,           1,           1,           1,           1,           1,           1,           1,           1,           1,           1,           1,           1,\n",
              "                  1,           1,           1,           1,           1,           1,           1,           1,           1,           1,           1,           1,           1,           1,           1,           1,           1,           1,           1,           1,           1,           1,           1,\n",
              "                  1,           1,           1,           1,           1,           1,           1,           1,           1,           1,           1]]), 'Confidence', 'Precision'], [array([          0,    0.001001,    0.002002,    0.003003,    0.004004,    0.005005,    0.006006,    0.007007,    0.008008,    0.009009,     0.01001,    0.011011,    0.012012,    0.013013,    0.014014,    0.015015,    0.016016,    0.017017,    0.018018,    0.019019,     0.02002,    0.021021,    0.022022,    0.023023,\n",
              "          0.024024,    0.025025,    0.026026,    0.027027,    0.028028,    0.029029,     0.03003,    0.031031,    0.032032,    0.033033,    0.034034,    0.035035,    0.036036,    0.037037,    0.038038,    0.039039,     0.04004,    0.041041,    0.042042,    0.043043,    0.044044,    0.045045,    0.046046,    0.047047,\n",
              "          0.048048,    0.049049,     0.05005,    0.051051,    0.052052,    0.053053,    0.054054,    0.055055,    0.056056,    0.057057,    0.058058,    0.059059,     0.06006,    0.061061,    0.062062,    0.063063,    0.064064,    0.065065,    0.066066,    0.067067,    0.068068,    0.069069,     0.07007,    0.071071,\n",
              "          0.072072,    0.073073,    0.074074,    0.075075,    0.076076,    0.077077,    0.078078,    0.079079,     0.08008,    0.081081,    0.082082,    0.083083,    0.084084,    0.085085,    0.086086,    0.087087,    0.088088,    0.089089,     0.09009,    0.091091,    0.092092,    0.093093,    0.094094,    0.095095,\n",
              "          0.096096,    0.097097,    0.098098,    0.099099,      0.1001,      0.1011,      0.1021,      0.1031,      0.1041,     0.10511,     0.10611,     0.10711,     0.10811,     0.10911,     0.11011,     0.11111,     0.11211,     0.11311,     0.11411,     0.11512,     0.11612,     0.11712,     0.11812,     0.11912,\n",
              "           0.12012,     0.12112,     0.12212,     0.12312,     0.12412,     0.12513,     0.12613,     0.12713,     0.12813,     0.12913,     0.13013,     0.13113,     0.13213,     0.13313,     0.13413,     0.13514,     0.13614,     0.13714,     0.13814,     0.13914,     0.14014,     0.14114,     0.14214,     0.14314,\n",
              "           0.14414,     0.14515,     0.14615,     0.14715,     0.14815,     0.14915,     0.15015,     0.15115,     0.15215,     0.15315,     0.15415,     0.15516,     0.15616,     0.15716,     0.15816,     0.15916,     0.16016,     0.16116,     0.16216,     0.16316,     0.16416,     0.16517,     0.16617,     0.16717,\n",
              "           0.16817,     0.16917,     0.17017,     0.17117,     0.17217,     0.17317,     0.17417,     0.17518,     0.17618,     0.17718,     0.17818,     0.17918,     0.18018,     0.18118,     0.18218,     0.18318,     0.18418,     0.18519,     0.18619,     0.18719,     0.18819,     0.18919,     0.19019,     0.19119,\n",
              "           0.19219,     0.19319,     0.19419,      0.1952,      0.1962,      0.1972,      0.1982,      0.1992,      0.2002,      0.2012,      0.2022,      0.2032,      0.2042,     0.20521,     0.20621,     0.20721,     0.20821,     0.20921,     0.21021,     0.21121,     0.21221,     0.21321,     0.21421,     0.21522,\n",
              "           0.21622,     0.21722,     0.21822,     0.21922,     0.22022,     0.22122,     0.22222,     0.22322,     0.22422,     0.22523,     0.22623,     0.22723,     0.22823,     0.22923,     0.23023,     0.23123,     0.23223,     0.23323,     0.23423,     0.23524,     0.23624,     0.23724,     0.23824,     0.23924,\n",
              "           0.24024,     0.24124,     0.24224,     0.24324,     0.24424,     0.24525,     0.24625,     0.24725,     0.24825,     0.24925,     0.25025,     0.25125,     0.25225,     0.25325,     0.25425,     0.25526,     0.25626,     0.25726,     0.25826,     0.25926,     0.26026,     0.26126,     0.26226,     0.26326,\n",
              "           0.26426,     0.26527,     0.26627,     0.26727,     0.26827,     0.26927,     0.27027,     0.27127,     0.27227,     0.27327,     0.27427,     0.27528,     0.27628,     0.27728,     0.27828,     0.27928,     0.28028,     0.28128,     0.28228,     0.28328,     0.28428,     0.28529,     0.28629,     0.28729,\n",
              "           0.28829,     0.28929,     0.29029,     0.29129,     0.29229,     0.29329,     0.29429,      0.2953,      0.2963,      0.2973,      0.2983,      0.2993,      0.3003,      0.3013,      0.3023,      0.3033,      0.3043,     0.30531,     0.30631,     0.30731,     0.30831,     0.30931,     0.31031,     0.31131,\n",
              "           0.31231,     0.31331,     0.31431,     0.31532,     0.31632,     0.31732,     0.31832,     0.31932,     0.32032,     0.32132,     0.32232,     0.32332,     0.32432,     0.32533,     0.32633,     0.32733,     0.32833,     0.32933,     0.33033,     0.33133,     0.33233,     0.33333,     0.33433,     0.33534,\n",
              "           0.33634,     0.33734,     0.33834,     0.33934,     0.34034,     0.34134,     0.34234,     0.34334,     0.34434,     0.34535,     0.34635,     0.34735,     0.34835,     0.34935,     0.35035,     0.35135,     0.35235,     0.35335,     0.35435,     0.35536,     0.35636,     0.35736,     0.35836,     0.35936,\n",
              "           0.36036,     0.36136,     0.36236,     0.36336,     0.36436,     0.36537,     0.36637,     0.36737,     0.36837,     0.36937,     0.37037,     0.37137,     0.37237,     0.37337,     0.37437,     0.37538,     0.37638,     0.37738,     0.37838,     0.37938,     0.38038,     0.38138,     0.38238,     0.38338,\n",
              "           0.38438,     0.38539,     0.38639,     0.38739,     0.38839,     0.38939,     0.39039,     0.39139,     0.39239,     0.39339,     0.39439,      0.3954,      0.3964,      0.3974,      0.3984,      0.3994,      0.4004,      0.4014,      0.4024,      0.4034,      0.4044,     0.40541,     0.40641,     0.40741,\n",
              "           0.40841,     0.40941,     0.41041,     0.41141,     0.41241,     0.41341,     0.41441,     0.41542,     0.41642,     0.41742,     0.41842,     0.41942,     0.42042,     0.42142,     0.42242,     0.42342,     0.42442,     0.42543,     0.42643,     0.42743,     0.42843,     0.42943,     0.43043,     0.43143,\n",
              "           0.43243,     0.43343,     0.43443,     0.43544,     0.43644,     0.43744,     0.43844,     0.43944,     0.44044,     0.44144,     0.44244,     0.44344,     0.44444,     0.44545,     0.44645,     0.44745,     0.44845,     0.44945,     0.45045,     0.45145,     0.45245,     0.45345,     0.45445,     0.45546,\n",
              "           0.45646,     0.45746,     0.45846,     0.45946,     0.46046,     0.46146,     0.46246,     0.46346,     0.46446,     0.46547,     0.46647,     0.46747,     0.46847,     0.46947,     0.47047,     0.47147,     0.47247,     0.47347,     0.47447,     0.47548,     0.47648,     0.47748,     0.47848,     0.47948,\n",
              "           0.48048,     0.48148,     0.48248,     0.48348,     0.48448,     0.48549,     0.48649,     0.48749,     0.48849,     0.48949,     0.49049,     0.49149,     0.49249,     0.49349,     0.49449,      0.4955,      0.4965,      0.4975,      0.4985,      0.4995,      0.5005,      0.5015,      0.5025,      0.5035,\n",
              "            0.5045,     0.50551,     0.50651,     0.50751,     0.50851,     0.50951,     0.51051,     0.51151,     0.51251,     0.51351,     0.51451,     0.51552,     0.51652,     0.51752,     0.51852,     0.51952,     0.52052,     0.52152,     0.52252,     0.52352,     0.52452,     0.52553,     0.52653,     0.52753,\n",
              "           0.52853,     0.52953,     0.53053,     0.53153,     0.53253,     0.53353,     0.53453,     0.53554,     0.53654,     0.53754,     0.53854,     0.53954,     0.54054,     0.54154,     0.54254,     0.54354,     0.54454,     0.54555,     0.54655,     0.54755,     0.54855,     0.54955,     0.55055,     0.55155,\n",
              "           0.55255,     0.55355,     0.55455,     0.55556,     0.55656,     0.55756,     0.55856,     0.55956,     0.56056,     0.56156,     0.56256,     0.56356,     0.56456,     0.56557,     0.56657,     0.56757,     0.56857,     0.56957,     0.57057,     0.57157,     0.57257,     0.57357,     0.57457,     0.57558,\n",
              "           0.57658,     0.57758,     0.57858,     0.57958,     0.58058,     0.58158,     0.58258,     0.58358,     0.58458,     0.58559,     0.58659,     0.58759,     0.58859,     0.58959,     0.59059,     0.59159,     0.59259,     0.59359,     0.59459,      0.5956,      0.5966,      0.5976,      0.5986,      0.5996,\n",
              "            0.6006,      0.6016,      0.6026,      0.6036,      0.6046,     0.60561,     0.60661,     0.60761,     0.60861,     0.60961,     0.61061,     0.61161,     0.61261,     0.61361,     0.61461,     0.61562,     0.61662,     0.61762,     0.61862,     0.61962,     0.62062,     0.62162,     0.62262,     0.62362,\n",
              "           0.62462,     0.62563,     0.62663,     0.62763,     0.62863,     0.62963,     0.63063,     0.63163,     0.63263,     0.63363,     0.63463,     0.63564,     0.63664,     0.63764,     0.63864,     0.63964,     0.64064,     0.64164,     0.64264,     0.64364,     0.64464,     0.64565,     0.64665,     0.64765,\n",
              "           0.64865,     0.64965,     0.65065,     0.65165,     0.65265,     0.65365,     0.65465,     0.65566,     0.65666,     0.65766,     0.65866,     0.65966,     0.66066,     0.66166,     0.66266,     0.66366,     0.66466,     0.66567,     0.66667,     0.66767,     0.66867,     0.66967,     0.67067,     0.67167,\n",
              "           0.67267,     0.67367,     0.67467,     0.67568,     0.67668,     0.67768,     0.67868,     0.67968,     0.68068,     0.68168,     0.68268,     0.68368,     0.68468,     0.68569,     0.68669,     0.68769,     0.68869,     0.68969,     0.69069,     0.69169,     0.69269,     0.69369,     0.69469,      0.6957,\n",
              "            0.6967,      0.6977,      0.6987,      0.6997,      0.7007,      0.7017,      0.7027,      0.7037,      0.7047,     0.70571,     0.70671,     0.70771,     0.70871,     0.70971,     0.71071,     0.71171,     0.71271,     0.71371,     0.71471,     0.71572,     0.71672,     0.71772,     0.71872,     0.71972,\n",
              "           0.72072,     0.72172,     0.72272,     0.72372,     0.72472,     0.72573,     0.72673,     0.72773,     0.72873,     0.72973,     0.73073,     0.73173,     0.73273,     0.73373,     0.73473,     0.73574,     0.73674,     0.73774,     0.73874,     0.73974,     0.74074,     0.74174,     0.74274,     0.74374,\n",
              "           0.74474,     0.74575,     0.74675,     0.74775,     0.74875,     0.74975,     0.75075,     0.75175,     0.75275,     0.75375,     0.75475,     0.75576,     0.75676,     0.75776,     0.75876,     0.75976,     0.76076,     0.76176,     0.76276,     0.76376,     0.76476,     0.76577,     0.76677,     0.76777,\n",
              "           0.76877,     0.76977,     0.77077,     0.77177,     0.77277,     0.77377,     0.77477,     0.77578,     0.77678,     0.77778,     0.77878,     0.77978,     0.78078,     0.78178,     0.78278,     0.78378,     0.78478,     0.78579,     0.78679,     0.78779,     0.78879,     0.78979,     0.79079,     0.79179,\n",
              "           0.79279,     0.79379,     0.79479,      0.7958,      0.7968,      0.7978,      0.7988,      0.7998,      0.8008,      0.8018,      0.8028,      0.8038,      0.8048,     0.80581,     0.80681,     0.80781,     0.80881,     0.80981,     0.81081,     0.81181,     0.81281,     0.81381,     0.81481,     0.81582,\n",
              "           0.81682,     0.81782,     0.81882,     0.81982,     0.82082,     0.82182,     0.82282,     0.82382,     0.82482,     0.82583,     0.82683,     0.82783,     0.82883,     0.82983,     0.83083,     0.83183,     0.83283,     0.83383,     0.83483,     0.83584,     0.83684,     0.83784,     0.83884,     0.83984,\n",
              "           0.84084,     0.84184,     0.84284,     0.84384,     0.84484,     0.84585,     0.84685,     0.84785,     0.84885,     0.84985,     0.85085,     0.85185,     0.85285,     0.85385,     0.85485,     0.85586,     0.85686,     0.85786,     0.85886,     0.85986,     0.86086,     0.86186,     0.86286,     0.86386,\n",
              "           0.86486,     0.86587,     0.86687,     0.86787,     0.86887,     0.86987,     0.87087,     0.87187,     0.87287,     0.87387,     0.87487,     0.87588,     0.87688,     0.87788,     0.87888,     0.87988,     0.88088,     0.88188,     0.88288,     0.88388,     0.88488,     0.88589,     0.88689,     0.88789,\n",
              "           0.88889,     0.88989,     0.89089,     0.89189,     0.89289,     0.89389,     0.89489,      0.8959,      0.8969,      0.8979,      0.8989,      0.8999,      0.9009,      0.9019,      0.9029,      0.9039,      0.9049,     0.90591,     0.90691,     0.90791,     0.90891,     0.90991,     0.91091,     0.91191,\n",
              "           0.91291,     0.91391,     0.91491,     0.91592,     0.91692,     0.91792,     0.91892,     0.91992,     0.92092,     0.92192,     0.92292,     0.92392,     0.92492,     0.92593,     0.92693,     0.92793,     0.92893,     0.92993,     0.93093,     0.93193,     0.93293,     0.93393,     0.93493,     0.93594,\n",
              "           0.93694,     0.93794,     0.93894,     0.93994,     0.94094,     0.94194,     0.94294,     0.94394,     0.94494,     0.94595,     0.94695,     0.94795,     0.94895,     0.94995,     0.95095,     0.95195,     0.95295,     0.95395,     0.95495,     0.95596,     0.95696,     0.95796,     0.95896,     0.95996,\n",
              "           0.96096,     0.96196,     0.96296,     0.96396,     0.96496,     0.96597,     0.96697,     0.96797,     0.96897,     0.96997,     0.97097,     0.97197,     0.97297,     0.97397,     0.97497,     0.97598,     0.97698,     0.97798,     0.97898,     0.97998,     0.98098,     0.98198,     0.98298,     0.98398,\n",
              "           0.98498,     0.98599,     0.98699,     0.98799,     0.98899,     0.98999,     0.99099,     0.99199,     0.99299,     0.99399,     0.99499,       0.996,       0.997,       0.998,       0.999,           1]), array([[     0.9759,      0.9759,      0.9759,      0.9759,      0.9759,      0.9759,      0.9759,      0.9759,      0.9759,      0.9759,      0.9759,      0.9759,      0.9759,      0.9759,      0.9759,      0.9759,      0.9759,      0.9759,      0.9759,      0.9759,      0.9759,      0.9759,      0.9759,\n",
              "             0.9759,      0.9759,      0.9759,      0.9759,      0.9759,      0.9759,      0.9759,      0.9759,      0.9759,      0.9759,      0.9759,      0.9759,      0.9759,      0.9759,      0.9759,      0.9759,      0.9759,      0.9759,      0.9759,      0.9759,      0.9759,      0.9759,      0.9759,\n",
              "             0.9759,      0.9759,      0.9759,      0.9759,      0.9759,      0.9759,      0.9759,      0.9759,      0.9759,      0.9759,      0.9759,      0.9759,      0.9759,      0.9759,      0.9759,      0.9759,      0.9759,      0.9759,      0.9759,      0.9759,      0.9759,      0.9759,      0.9759,\n",
              "             0.9759,      0.9759,      0.9759,      0.9759,      0.9759,      0.9759,      0.9759,      0.9759,      0.9759,      0.9759,      0.9759,      0.9759,      0.9759,      0.9759,      0.9759,      0.9759,      0.9759,      0.9759,      0.9759,      0.9759,      0.9759,      0.9759,      0.9759,\n",
              "             0.9759,      0.9759,      0.9759,      0.9759,      0.9759,      0.9759,      0.9759,      0.9759,      0.9759,      0.9759,      0.9759,      0.9759,      0.9759,      0.9759,      0.9759,      0.9759,      0.9759,      0.9759,      0.9759,      0.9759,      0.9759,      0.9759,      0.9759,\n",
              "             0.9759,      0.9759,      0.9759,      0.9759,      0.9759,      0.9759,      0.9759,      0.9759,      0.9759,      0.9759,      0.9759,      0.9759,      0.9759,      0.9759,      0.9759,      0.9759,      0.9759,      0.9759,      0.9759,      0.9759,      0.9759,      0.9759,      0.9759,\n",
              "             0.9759,      0.9759,      0.9759,      0.9759,      0.9759,      0.9759,      0.9759,      0.9759,      0.9759,      0.9759,      0.9759,      0.9759,      0.9759,      0.9759,      0.9759,      0.9759,      0.9759,      0.9759,      0.9759,      0.9759,      0.9759,      0.9759,      0.9759,\n",
              "             0.9759,      0.9759,      0.9759,      0.9759,      0.9759,      0.9759,      0.9759,      0.9759,      0.9759,      0.9759,      0.9759,      0.9759,      0.9759,      0.9759,      0.9759,      0.9759,      0.9759,      0.9759,      0.9759,      0.9759,      0.9759,      0.9759,      0.9759,\n",
              "             0.9759,      0.9759,      0.9759,      0.9759,      0.9759,      0.9759,      0.9759,      0.9759,      0.9759,      0.9759,      0.9759,      0.9759,      0.9759,      0.9759,      0.9759,      0.9759,      0.9759,      0.9759,      0.9759,      0.9759,      0.9759,      0.9759,      0.9759,\n",
              "             0.9759,      0.9759,      0.9759,      0.9759,      0.9759,      0.9759,      0.9759,      0.9759,      0.9759,      0.9759,      0.9759,      0.9759,      0.9759,      0.9759,      0.9759,      0.9759,      0.9759,      0.9759,      0.9759,      0.9759,      0.9759,      0.9759,      0.9759,\n",
              "             0.9759,      0.9759,      0.9759,      0.9759,      0.9759,      0.9759,      0.9759,      0.9759,      0.9759,      0.9759,      0.9759,      0.9759,      0.9759,      0.9759,      0.9759,      0.9759,      0.9759,      0.9759,      0.9759,      0.9759,      0.9759,      0.9759,      0.9759,\n",
              "             0.9759,      0.9759,      0.9759,      0.9759,      0.9759,      0.9759,      0.9759,      0.9759,      0.9759,      0.9759,      0.9759,      0.9759,      0.9759,      0.9759,      0.9759,      0.9759,      0.9759,      0.9759,      0.9759,      0.9759,      0.9759,      0.9759,      0.9759,\n",
              "             0.9759,      0.9759,      0.9759,      0.9759,      0.9759,      0.9759,      0.9759,      0.9759,      0.9759,      0.9759,      0.9759,      0.9759,      0.9759,      0.9759,      0.9759,      0.9759,      0.9759,      0.9759,      0.9759,      0.9759,      0.9759,      0.9759,      0.9759,\n",
              "             0.9759,      0.9759,      0.9759,      0.9759,      0.9759,      0.9759,      0.9759,      0.9759,      0.9759,      0.9759,      0.9759,      0.9759,      0.9759,      0.9759,      0.9759,      0.9759,      0.9759,      0.9759,      0.9759,      0.9759,      0.9759,      0.9759,      0.9759,\n",
              "             0.9759,      0.9759,      0.9759,      0.9759,      0.9759,      0.9759,      0.9759,      0.9759,      0.9759,      0.9759,      0.9759,      0.9759,      0.9759,      0.9759,      0.9759,      0.9759,      0.9759,      0.9759,      0.9759,      0.9759,      0.9759,      0.9759,      0.9759,\n",
              "             0.9759,      0.9759,      0.9759,      0.9759,      0.9759,      0.9759,      0.9759,      0.9759,      0.9759,      0.9759,      0.9759,      0.9759,      0.9759,      0.9759,      0.9759,      0.9759,      0.9759,      0.9759,      0.9759,      0.9759,      0.9759,      0.9759,      0.9759,\n",
              "             0.9759,      0.9759,      0.9759,      0.9759,      0.9759,      0.9759,      0.9759,      0.9759,      0.9759,      0.9759,      0.9759,      0.9759,      0.9759,      0.9759,      0.9759,      0.9759,      0.9759,      0.9759,      0.9759,      0.9759,      0.9759,      0.9759,      0.9759,\n",
              "             0.9759,      0.9759,      0.9759,      0.9759,      0.9759,      0.9759,      0.9759,      0.9759,      0.9759,      0.9759,      0.9759,      0.9759,      0.9759,      0.9759,      0.9759,      0.9759,      0.9759,      0.9759,      0.9759,      0.9759,      0.9759,      0.9759,      0.9759,\n",
              "             0.9759,      0.9759,      0.9759,      0.9759,      0.9759,      0.9759,      0.9759,      0.9759,      0.9759,      0.9759,      0.9759,      0.9759,      0.9759,      0.9759,      0.9759,      0.9759,      0.9759,      0.9759,      0.9759,      0.9759,      0.9759,      0.9759,      0.9759,\n",
              "             0.9759,      0.9759,      0.9759,      0.9759,      0.9759,      0.9759,      0.9759,      0.9759,      0.9759,      0.9759,      0.9759,      0.9759,      0.9759,      0.9759,      0.9759,      0.9759,      0.9759,      0.9759,      0.9759,      0.9759,      0.9759,      0.9759,      0.9759,\n",
              "             0.9759,      0.9759,      0.9759,      0.9759,      0.9759,      0.9759,      0.9759,      0.9759,      0.9759,      0.9759,      0.9759,      0.9759,      0.9759,      0.9759,      0.9759,      0.9759,      0.9759,      0.9759,      0.9759,      0.9759,      0.9759,      0.9759,      0.9759,\n",
              "             0.9759,      0.9759,      0.9759,      0.9759,      0.9759,      0.9759,      0.9759,      0.9759,      0.9759,      0.9759,      0.9759,      0.9759,      0.9759,      0.9759,      0.9759,      0.9759,      0.9759,      0.9759,      0.9759,      0.9759,      0.9759,      0.9759,      0.9759,\n",
              "             0.9759,      0.9759,      0.9759,      0.9759,      0.9759,      0.9759,      0.9759,      0.9759,      0.9759,      0.9759,      0.9759,      0.9759,      0.9759,      0.9759,      0.9759,      0.9759,      0.9759,      0.9759,      0.9759,      0.9759,      0.9759,      0.9759,      0.9759,\n",
              "             0.9759,      0.9759,      0.9759,      0.9759,      0.9759,      0.9759,      0.9759,      0.9759,      0.9759,      0.9759,      0.9759,      0.9759,      0.9759,      0.9759,      0.9759,      0.9759,      0.9759,      0.9759,      0.9759,      0.9759,      0.9759,      0.9759,      0.9759,\n",
              "             0.9759,      0.9759,      0.9759,      0.9759,      0.9759,      0.9759,      0.9759,      0.9759,      0.9759,      0.9759,      0.9759,      0.9759,      0.9759,      0.9759,      0.9759,      0.9759,      0.9759,      0.9759,      0.9759,      0.9759,      0.9759,      0.9759,      0.9759,\n",
              "             0.9759,      0.9759,      0.9759,      0.9759,      0.9759,      0.9759,      0.9759,      0.9759,      0.9759,      0.9759,      0.9759,      0.9759,      0.9759,      0.9759,      0.9759,      0.9759,      0.9759,      0.9759,      0.9759,      0.9759,      0.9759,      0.9759,      0.9759,\n",
              "             0.9759,      0.9759,      0.9759,      0.9759,      0.9759,      0.9759,      0.9759,      0.9759,      0.9759,      0.9759,      0.9759,      0.9759,      0.9759,      0.9759,      0.9759,      0.9759,      0.9759,      0.9759,      0.9759,      0.9759,      0.9759,      0.9759,      0.9759,\n",
              "             0.9759,      0.9759,      0.9759,      0.9759,      0.9759,      0.9759,      0.9759,      0.9759,      0.9759,      0.9759,      0.9759,      0.9759,      0.9759,      0.9759,      0.9759,      0.9759,      0.9759,      0.9759,      0.9759,      0.9759,      0.9759,      0.9759,      0.9759,\n",
              "             0.9759,      0.9759,      0.9759,      0.9759,      0.9759,      0.9759,      0.9759,      0.9759,      0.9759,      0.9759,      0.9759,      0.9759,      0.9759,      0.9759,      0.9759,      0.9759,      0.9759,      0.9759,      0.9759,      0.9759,      0.9759,      0.9759,      0.9759,\n",
              "             0.9759,      0.9759,      0.9759,      0.9759,      0.9759,      0.9759,      0.9759,      0.9759,      0.9759,      0.9759,      0.9759,      0.9759,      0.9759,      0.9759,      0.9759,      0.9759,      0.9759,      0.9759,      0.9759,      0.9759,      0.9759,      0.9759,      0.9759,\n",
              "             0.9759,      0.9759,      0.9759,      0.9759,      0.9759,      0.9759,      0.9759,      0.9759,      0.9759,      0.9759,      0.9759,      0.9759,      0.9759,      0.9759,      0.9759,      0.9759,      0.9759,      0.9759,      0.9759,      0.9759,      0.9759,      0.9759,      0.9759,\n",
              "             0.9759,      0.9759,      0.9759,      0.9759,      0.9759,      0.9759,      0.9759,      0.9759,      0.9759,      0.9759,      0.9759,      0.9759,      0.9759,      0.9759,      0.9759,      0.9759,      0.9759,      0.9759,      0.9759,      0.9759,      0.9759,      0.9759,      0.9759,\n",
              "             0.9759,      0.9759,      0.9759,      0.9759,      0.9759,      0.9759,      0.9759,      0.9759,      0.9759,      0.9759,      0.9759,      0.9759,      0.9759,      0.9759,      0.9759,      0.9759,      0.9759,      0.9759,      0.9759,      0.9759,      0.9759,      0.9759,      0.9759,\n",
              "             0.9759,      0.9759,      0.9759,      0.9759,      0.9759,      0.9759,      0.9759,      0.9759,      0.9759,      0.9759,      0.9759,      0.9759,      0.9759,      0.9759,      0.9759,      0.9759,      0.9759,      0.9759,      0.9759,      0.9759,      0.9759,      0.9759,      0.9759,\n",
              "             0.9759,      0.9759,      0.9759,      0.9759,      0.9759,      0.9759,      0.9759,      0.9759,      0.9759,      0.9759,      0.9759,      0.9759,      0.9759,      0.9759,      0.9759,      0.9759,      0.9759,      0.9759,      0.9759,      0.9759,      0.9759,      0.9759,      0.9759,\n",
              "             0.9759,      0.9759,      0.9759,      0.9759,      0.9759,      0.9759,      0.9759,      0.9759,      0.9759,      0.9759,      0.9759,      0.9759,      0.9759,      0.9759,      0.9759,      0.9759,      0.9759,      0.9759,      0.9759,      0.9759,      0.9759,      0.9759,      0.9759,\n",
              "             0.9759,      0.9759,      0.9759,      0.9759,      0.9759,      0.9759,      0.9759,      0.9759,      0.9759,      0.9759,      0.9759,      0.9759,      0.9759,      0.9759,      0.9759,      0.9759,      0.9759,      0.9759,      0.9759,      0.9759,      0.9759,      0.9759,      0.9759,\n",
              "             0.9759,      0.9759,      0.9759,      0.9759,      0.9759,      0.9759,      0.9759,      0.9759,      0.9759,      0.9759,      0.9759,      0.9759,      0.9759,      0.9759,      0.9759,      0.9759,      0.9759,      0.9759,      0.9759,      0.9759,      0.9759,      0.9759,      0.9759,\n",
              "             0.9759,      0.9759,      0.9759,      0.9759,      0.9759,      0.9759,      0.9759,      0.9759,      0.9759,      0.9759,      0.9759,      0.9759,      0.9759,      0.9759,      0.9759,      0.9759,      0.9759,      0.9759,      0.9759,      0.9759,      0.9759,      0.9759,      0.9759,\n",
              "             0.9759,      0.9759,      0.9759,      0.9759,      0.9759,      0.9759,      0.9759,      0.9759,      0.9759,      0.9759,      0.9759,      0.9759,      0.9759,      0.9759,      0.9759,      0.9759,      0.9759,     0.97501,     0.97254,     0.97007,     0.96988,     0.96695,     0.96386,\n",
              "            0.95783,     0.95152,     0.94566,     0.94389,     0.94213,     0.94036,     0.93304,     0.92892,     0.92115,     0.91868,     0.91621,     0.89881,     0.89263,      0.8693,     0.85092,      0.8205,     0.79008,     0.77742,     0.76221,     0.75101,     0.74082,     0.72862,     0.70438,\n",
              "            0.69761,     0.66116,     0.61869,     0.60032,     0.55182,     0.51672,       0.497,     0.47863,     0.40604,     0.36959,     0.33917,     0.29068,     0.26628,      0.2479,     0.21146,     0.19911,     0.18073,     0.13826,     0.10784,    0.089469,    0.071692,    0.059742,    0.055626,\n",
              "           0.038107,    0.021696,   0.0076854,           0,           0,           0,           0,           0,           0,           0,           0,           0,           0,           0,           0,           0,           0,           0,           0,           0,           0,           0,           0,\n",
              "                  0,           0,           0,           0,           0,           0,           0,           0,           0,           0,           0]]), 'Confidence', 'Recall']]\n",
              "fitness: np.float64(1.889412184773402)\n",
              "keys: ['metrics/precision(B)', 'metrics/recall(B)', 'metrics/mAP50(B)', 'metrics/mAP50-95(B)', 'metrics/precision(P)', 'metrics/recall(P)', 'metrics/mAP50(P)', 'metrics/mAP50-95(P)']\n",
              "maps: array([     1.8792])\n",
              "names: {0: 'basketball'}\n",
              "plot: True\n",
              "pose: ultralytics.utils.metrics.Metric object\n",
              "results_dict: {'metrics/precision(B)': np.float64(0.9996267241281791), 'metrics/recall(B)': np.float64(1.0), 'metrics/mAP50(B)': np.float64(0.995), 'metrics/mAP50-95(B)': np.float64(0.9763723528340567), 'metrics/precision(P)': np.float64(0.9755393331853315), 'metrics/recall(P)': np.float64(0.9759036144578314), 'metrics/mAP50(P)': np.float64(0.9859645221086992), 'metrics/mAP50-95(P)': np.float64(0.902867350013201), 'fitness': np.float64(1.889412184773402)}\n",
              "save_dir: PosixPath('runs/pose/reloc2_keypoints_model')\n",
              "seg: ultralytics.utils.metrics.Metric object\n",
              "speed: {'preprocess': 0.29815505421763183, 'inference': 4.8459944156608135, 'loss': 0.0008638132525097224, 'postprocess': 3.65896889758986}\n",
              "task: 'pose'"
            ]
          },
          "metadata": {},
          "execution_count": 4
        }
      ]
    },
    {
      "cell_type": "code",
      "source": [
        "from ultralytics import YOLO\n",
        "\n",
        "model = YOLO(\"runs/pose/reloc2_keypoints_model/weights/best.pt\")\n",
        "\n",
        "metrics = model.val(data=\"reloc2-1/data.yaml\", imgsz=640)\n",
        "\n",
        "print(\"mAP@0.5       :\", metrics.box.map50)\n",
        "print(\"mAP@0.75      :\", metrics.box.map75)\n",
        "print(\"mAP@0.5:0.95  :\", metrics.box.map)\n",
        "print(\"Precision moy :\", metrics.box.mp())\n",
        "print(\"Recall moy    :\", metrics.box.mr())\n"
      ],
      "metadata": {
        "colab": {
          "base_uri": "https://localhost:8080/",
          "height": 1000
        },
        "id": "mS0_ba04DfIb",
        "outputId": "db457042-6341-45d3-ecb2-0943c23b79ae"
      },
      "execution_count": 7,
      "outputs": [
        {
          "output_type": "stream",
          "name": "stdout",
          "text": [
            "Ultralytics 8.3.146 🚀 Python-3.11.12 torch-2.6.0+cu124 CUDA:0 (Tesla T4, 15095MiB)\n",
            "YOLOv8n-pose summary (fused): 81 layers, 3,311,537 parameters, 0 gradients, 9.3 GFLOPs\n",
            "\u001b[34m\u001b[1mval: \u001b[0mFast image access ✅ (ping: 0.0±0.0 ms, read: 2612.6±1219.4 MB/s, size: 210.9 KB)\n"
          ]
        },
        {
          "output_type": "stream",
          "name": "stderr",
          "text": [
            "\u001b[34m\u001b[1mval: \u001b[0mScanning /content/reloc2-1/valid/labels.cache... 222 images, 0 backgrounds, 56 corrupt: 100%|██████████| 222/222 [00:00<?, ?it/s]"
          ]
        },
        {
          "output_type": "stream",
          "name": "stdout",
          "text": [
            "\u001b[34m\u001b[1mval: \u001b[0m/content/reloc2-1/valid/images/basketball_10_frame_0041_jpg.rf.6e5103ecebf6771e3af4349743e36a74.jpg: ignoring corrupt image/label: non-normalized or out of bounds coordinates [     1.2706      1.2706      1.2188      1.0878      1.0052]\n",
            "\u001b[34m\u001b[1mval: \u001b[0m/content/reloc2-1/valid/images/basketball_10_frame_0049_jpg.rf.64d847c281df967736c0256572a3e74f.jpg: ignoring corrupt image/label: non-normalized or out of bounds coordinates [      1.215       1.215      1.1632      1.0323]\n",
            "\u001b[34m\u001b[1mval: \u001b[0m/content/reloc2-1/valid/images/basketball_11_frame_0128_jpg.rf.41e9e3d4a029e68c1af20e2c02d955cf.jpg: ignoring corrupt image/label: non-normalized or out of bounds coordinates [     1.0058      1.0058]\n",
            "\u001b[34m\u001b[1mval: \u001b[0m/content/reloc2-1/valid/images/basketball_12_frame_0115_jpg.rf.f43b30880ad773946fcb1899b0d99c02.jpg: ignoring corrupt image/label: negative label values [  -0.023303    -0.12503    -0.13827    -0.13564]\n",
            "\u001b[34m\u001b[1mval: \u001b[0m/content/reloc2-1/valid/images/basketball_12_frame_0123_jpg.rf.326ef120701533d7a3a533f382228149.jpg: ignoring corrupt image/label: negative label values [  -0.079888   -0.093129   -0.090497]\n",
            "\u001b[34m\u001b[1mval: \u001b[0m/content/reloc2-1/valid/images/basketball_2_11_27_png.rf.0d03385e946b56bbfa88866b500be9e4.jpg: ignoring corrupt image/label: negative label values [  -0.040638   -0.038003]\n",
            "\u001b[34m\u001b[1mval: \u001b[0m/content/reloc2-1/valid/images/basketball_2_13_6_png.rf.db955cd4ef01528b40c6a5ad37adfc3f.jpg: ignoring corrupt image/label: negative label values [  -0.026253   -0.031513   -0.028883]\n",
            "\u001b[34m\u001b[1mval: \u001b[0m/content/reloc2-1/valid/images/basketball_2_14_13_png.rf.a906e9b9b33f5ade3236055060d86546.jpg: ignoring corrupt image/label: non-normalized or out of bounds coordinates [     1.0198      1.0198      1.0198      1.0172      1.0198      1.0198]\n",
            "\u001b[34m\u001b[1mval: \u001b[0m/content/reloc2-1/valid/images/basketball_2_14_22_png.rf.2c2e1922595a9692f3a07a6fa22fa70d.jpg: ignoring corrupt image/label: non-normalized or out of bounds coordinates [     1.0198      1.0198      1.0198      1.0172      1.0198      1.0198]\n",
            "\u001b[34m\u001b[1mval: \u001b[0m/content/reloc2-1/valid/images/basketball_2_14_23_png.rf.d8e7c86dc7aa03c089b38c4633e39467.jpg: ignoring corrupt image/label: non-normalized or out of bounds coordinates [     1.0198      1.0198      1.0198      1.0172      1.0198      1.0198]\n",
            "\u001b[34m\u001b[1mval: \u001b[0m/content/reloc2-1/valid/images/basketball_2_14_25_png.rf.846885326756742ef6621d37ae4c44d8.jpg: ignoring corrupt image/label: non-normalized or out of bounds coordinates [     1.0198      1.0198      1.0198      1.0172      1.0198      1.0198]\n",
            "\u001b[34m\u001b[1mval: \u001b[0m/content/reloc2-1/valid/images/basketball_2_1_10_png.rf.a60fd81618932c5c8d31bedcc9b6d15a.jpg: ignoring corrupt image/label: negative label values [  -0.040166    -0.18242     -0.1915]\n",
            "\u001b[34m\u001b[1mval: \u001b[0m/content/reloc2-1/valid/images/basketball_2_1_17_png.rf.19600098a016113382c89fafc84d3d60.jpg: ignoring corrupt image/label: negative label values [  -0.071789   -0.075737   -0.071789   -0.070468   -0.075737   -0.072401]\n",
            "\u001b[34m\u001b[1mval: \u001b[0m/content/reloc2-1/valid/images/basketball_2_1_24_png.rf.9928ab3abc9c42cd0ab9ede03764ca54.jpg: ignoring corrupt image/label: negative label values [ -0.0039646  -0.0079066  -0.0039646  -0.0026444  -0.0083113  -0.0083113]\n",
            "\u001b[34m\u001b[1mval: \u001b[0m/content/reloc2-1/valid/images/basketball_2_1_30_png.rf.c017b5fd46b4623984a015e1cc12fa5a.jpg: ignoring corrupt image/label: non-normalized or out of bounds coordinates [     1.0053]\n",
            "\u001b[34m\u001b[1mval: \u001b[0m/content/reloc2-1/valid/images/basketball_2_1_7_png.rf.2034849e66cdc940963759075a717397.jpg: ignoring corrupt image/label: negative label values [  -0.058124   -0.046275]\n",
            "\u001b[34m\u001b[1mval: \u001b[0m/content/reloc2-1/valid/images/basketball_2_2_11_png.rf.377b67b0fd3607c96293a7e37f279d0c.jpg: ignoring corrupt image/label: negative label values [  -0.018711   -0.021724   -0.018711   -0.017389   -0.022659   -0.020024]\n",
            "\u001b[34m\u001b[1mval: \u001b[0m/content/reloc2-1/valid/images/basketball_2_2_17_png.rf.620e64d4ec355b06be0d80276e2984ea.jpg: ignoring corrupt image/label: negative label values [   -0.22171    -0.22472    -0.22171    -0.22038    -0.22565    -0.22302]\n",
            "\u001b[34m\u001b[1mval: \u001b[0m/content/reloc2-1/valid/images/basketball_2_2_7_png.rf.9a06716df5ac489332a9df9e9bb46579.jpg: ignoring corrupt image/label: non-normalized or out of bounds coordinates [     1.1712      1.1712      1.1679]\n",
            "\u001b[34m\u001b[1mval: \u001b[0m/content/reloc2-1/valid/images/basketball_2_3_11_png.rf.a9028785eba5da97ee0eabd13f6f0a34.jpg: ignoring corrupt image/label: negative label values [ -0.0099705]\n",
            "\u001b[34m\u001b[1mval: \u001b[0m/content/reloc2-1/valid/images/basketball_2_4_16_png.rf.32f7965fbb7a41387c7840c08803dc62.jpg: ignoring corrupt image/label: non-normalized or out of bounds coordinates [     1.2762      1.2762      1.2762      1.2736      1.2762      1.2768       1.209      1.2981]\n",
            "\u001b[34m\u001b[1mval: \u001b[0m/content/reloc2-1/valid/images/basketball_2_4_25_png.rf.8207f835a7915053f3d86bee31eb4553.jpg: ignoring corrupt image/label: non-normalized or out of bounds coordinates [     1.0277      1.0256      1.1403      1.2468      1.0278      1.2485      1.2485      1.2459      1.2485      1.2485]\n",
            "\u001b[34m\u001b[1mval: \u001b[0m/content/reloc2-1/valid/images/basketball_2_5_13_png.rf.eb884a6490cc8c3d0e867286ffcadcc6.jpg: ignoring corrupt image/label: non-normalized or out of bounds coordinates [     1.0267      1.0796      1.0414]\n",
            "\u001b[34m\u001b[1mval: \u001b[0m/content/reloc2-1/valid/images/basketball_2_5_14_png.rf.2d68b42ddf36b58e53a8cbd50222fc52.jpg: ignoring corrupt image/label: non-normalized or out of bounds coordinates [     1.0407      1.0489      1.0107]\n",
            "\u001b[34m\u001b[1mval: \u001b[0m/content/reloc2-1/valid/images/basketball_2_5_15_png.rf.12ca6abebc99884f070575957a9048cc.jpg: ignoring corrupt image/label: non-normalized or out of bounds coordinates [     1.0477      1.0173]\n",
            "\u001b[34m\u001b[1mval: \u001b[0m/content/reloc2-1/valid/images/basketball_2_7_14_png.rf.50812cd94ee0c1fa15354adcb1aa8ee2.jpg: ignoring corrupt image/label: non-normalized or out of bounds coordinates [     1.0166      1.0166      1.0166       1.014      1.0166      1.0166]\n",
            "\u001b[34m\u001b[1mval: \u001b[0m/content/reloc2-1/valid/images/basketball_2_7_23_png.rf.cc5c15f77fb88d9a40eba93981473ff8.jpg: ignoring corrupt image/label: non-normalized or out of bounds coordinates [     1.0007       1.092      1.0897      1.1045      1.0942      1.1045      1.1045      1.1018      1.1045      1.1045]\n",
            "\u001b[34m\u001b[1mval: \u001b[0m/content/reloc2-1/valid/images/basketball_2_7_27_png.rf.004404efe401f7f3dbff19d8e62fb3bc.jpg: ignoring corrupt image/label: non-normalized or out of bounds coordinates [     1.0878      1.0855      1.1594        1.09      1.1594      1.1594      1.1568      1.1594      1.1594]\n",
            "\u001b[34m\u001b[1mval: \u001b[0m/content/reloc2-1/valid/images/basketball_2_7_2_png.rf.153c5cd81e469e3d3d9273dff23f9349.jpg: ignoring corrupt image/label: negative label values [   -0.12934    -0.13811    -0.13548]\n",
            "\u001b[34m\u001b[1mval: \u001b[0m/content/reloc2-1/valid/images/basketball_2_9_20_png.rf.09cb474844833f005d36fe3c7bf7afb8.jpg: ignoring corrupt image/label: non-normalized or out of bounds coordinates [     1.0234      1.0234      1.0234      1.0208      1.0234      1.0234]\n",
            "\u001b[34m\u001b[1mval: \u001b[0m/content/reloc2-1/valid/images/basketball_2_9_26_png.rf.23cf3206e194a0bf73de8971e5b66cdd.jpg: ignoring corrupt image/label: non-normalized or out of bounds coordinates [     1.0234      1.0234      1.0234      1.0208      1.0234      1.0234]\n",
            "\u001b[34m\u001b[1mval: \u001b[0m/content/reloc2-1/valid/images/basketball_3_3_19_png.rf.55ad0fa8f550a2d92cc7314fbae99a71.jpg: ignoring corrupt image/label: negative label values [ -0.0020764]\n",
            "\u001b[34m\u001b[1mval: \u001b[0m/content/reloc2-1/valid/images/basketball_3_3_20_png.rf.00c977375269a032514a3ba044aed807.jpg: ignoring corrupt image/label: negative label values [ -0.0020764]\n",
            "\u001b[34m\u001b[1mval: \u001b[0m/content/reloc2-1/valid/images/basketball_3_frame_0099_jpg.rf.4c7199c9ad390d657faf711cfd26f634.jpg: ignoring corrupt image/label: non-normalized or out of bounds coordinates [     1.0113]\n",
            "\u001b[34m\u001b[1mval: \u001b[0m/content/reloc2-1/valid/images/basketball_4_frame_0000_jpg.rf.dceca16f1edd663a361fa171b0754674.jpg: ignoring corrupt image/label: non-normalized or out of bounds coordinates [     1.0694      1.0182]\n",
            "\u001b[34m\u001b[1mval: \u001b[0m/content/reloc2-1/valid/images/basketball_4_frame_0008_jpg.rf.ad3625c2d6252f326fb2ac2a9179ebd2.jpg: ignoring corrupt image/label: non-normalized or out of bounds coordinates [     1.0521      1.0009]\n",
            "\u001b[34m\u001b[1mval: \u001b[0m/content/reloc2-1/valid/images/basketball_5_frame_0022_jpg.rf.de5583214859869e004476f978e87e6b.jpg: ignoring corrupt image/label: non-normalized or out of bounds coordinates [     1.2445      1.2445      1.2682      1.1328      1.0729       1.053]\n",
            "\u001b[34m\u001b[1mval: \u001b[0m/content/reloc2-1/valid/images/basketball_6_frame_0043_jpg.rf.0577c0dd8620e519f0a8ce9e4d429b5c.jpg: ignoring corrupt image/label: non-normalized or out of bounds coordinates [     1.2228      1.2228      1.1675      1.0347]\n",
            "\u001b[34m\u001b[1mval: \u001b[0m/content/reloc2-1/valid/images/basketball_8_frame_0120_jpg.rf.36992e80164cc712f9e001279255cb8c.jpg: ignoring corrupt image/label: non-normalized or out of bounds coordinates [     1.0544      1.0544      1.0544      1.0518      1.0544      1.0544]\n",
            "\u001b[34m\u001b[1mval: \u001b[0m/content/reloc2-1/valid/images/basketball_8_frame_0140_jpg.rf.ae649436f51ca019b92727e4d1dc8259.jpg: ignoring corrupt image/label: non-normalized or out of bounds coordinates [     1.0544      1.0544      1.0544      1.0518      1.0544      1.0544]\n",
            "\u001b[34m\u001b[1mval: \u001b[0m/content/reloc2-1/valid/images/basketball_9_frame_0008_jpg.rf.475949e6360b5f5c65a893d7827fdf09.jpg: ignoring corrupt image/label: non-normalized or out of bounds coordinates [     1.0163      1.0163      1.0163      1.0137      1.0163      1.0163]\n",
            "\u001b[34m\u001b[1mval: \u001b[0m/content/reloc2-1/valid/images/basketball_9_frame_0012_jpg.rf.49bbc427d33427bacea4b4515294c260.jpg: ignoring corrupt image/label: non-normalized or out of bounds coordinates [     1.0415      1.0415      1.0415      1.0389      1.0415      1.0415]\n",
            "\u001b[34m\u001b[1mval: \u001b[0m/content/reloc2-1/valid/images/faasdasd2_275_jpg.rf.2d0ece1037c1f0213592f781e2f9075c.jpg: ignoring corrupt image/label: negative label values [  -0.012827    -0.02903]\n",
            "\u001b[34m\u001b[1mval: \u001b[0m/content/reloc2-1/valid/images/videoplayback_4_2_frame_0620_jpg.rf.26150adfd02576fb98d0418bd2a02e6e.jpg: ignoring corrupt image/label: non-normalized or out of bounds coordinates [     1.1184      1.1184      1.0646]\n",
            "\u001b[34m\u001b[1mval: \u001b[0m/content/reloc2-1/valid/images/videoplayback_4_2_frame_0796_jpg.rf.7cbf75557a323fb33def500c17288269.jpg: ignoring corrupt image/label: negative label values [  -0.037187   -0.040852   -0.037187    -0.03596   -0.040852   -0.038406]\n",
            "\u001b[34m\u001b[1mval: \u001b[0m/content/reloc2-1/valid/images/videoplayback_5_1_frame_0096_jpg.rf.9fcf80a879aa8570a0e5198ce3a175ec.jpg: ignoring corrupt image/label: negative label values [ -0.0036266]\n",
            "\u001b[34m\u001b[1mval: \u001b[0m/content/reloc2-1/valid/images/videoplayback_5_2_frame_0000_jpg.rf.334ee74d1c2bacb6035fc4e3b23cffc4.jpg: ignoring corrupt image/label: non-normalized or out of bounds coordinates [     1.0573]\n",
            "\u001b[34m\u001b[1mval: \u001b[0m/content/reloc2-1/valid/images/videoplayback_5_3_frame_0048_jpg.rf.b099cf390c1a570efc0f9e6541dbe1da.jpg: ignoring corrupt image/label: negative label values [   -0.11444     -0.1175    -0.11444    -0.11312    -0.11838    -0.11575]\n",
            "\u001b[34m\u001b[1mval: \u001b[0m/content/reloc2-1/valid/images/videoplayback_5_3_frame_0128_jpg.rf.b5bc991ce033bec5bedeeaaec242692e.jpg: ignoring corrupt image/label: negative label values [  -0.075284   -0.078342   -0.075284   -0.073964   -0.079223   -0.076594]\n",
            "\u001b[34m\u001b[1mval: \u001b[0m/content/reloc2-1/valid/images/videoplayback_5_3_frame_0438_jpg.rf.1d67e5fac60c697ba56345bee0711b40.jpg: ignoring corrupt image/label: non-normalized or out of bounds coordinates [     1.0987      1.0987      1.0987      1.0961      1.0987      1.0987]\n",
            "\u001b[34m\u001b[1mval: \u001b[0m/content/reloc2-1/valid/images/videoplayback_6_4_frame_0068_jpg.rf.9821aa780f9be6a1d61473f5b702d28a.jpg: ignoring corrupt image/label: negative label values [   -0.13633    -0.14026    -0.13633    -0.13501    -0.14026    -0.13763    -0.12647    -0.13357]\n",
            "\u001b[34m\u001b[1mval: \u001b[0m/content/reloc2-1/valid/images/videoplayback_6_4_frame_0449_jpg.rf.f210c0cbfd87999f1fbb740905e06b49.jpg: ignoring corrupt image/label: non-normalized or out of bounds coordinates [     1.1973      1.0744]\n",
            "\u001b[34m\u001b[1mval: \u001b[0m/content/reloc2-1/valid/images/videoplayback_SabenLee_frame_11346_jpg.rf.db7ccff28cbf49c4489b661cf6913b98.jpg: ignoring corrupt image/label: negative label values [  -0.032167]\n",
            "\u001b[34m\u001b[1mval: \u001b[0m/content/reloc2-1/valid/images/videoplayback_SabenLee_frame_12705_jpg.rf.aa0b00c2714aa266c75326c6bd33ff7e.jpg: ignoring corrupt image/label: negative label values [ -0.0011136   -0.005061  -0.0011136   -0.005061  -0.0024263]\n",
            "\u001b[34m\u001b[1mval: \u001b[0m/content/reloc2-1/valid/images/videoplayback_SabenLee_frame_13851_jpg.rf.fd09a99071179fa31e95adcdc01f9cdc.jpg: ignoring corrupt image/label: non-normalized or out of bounds coordinates [     1.0124]\n",
            "\u001b[34m\u001b[1mval: \u001b[0m/content/reloc2-1/valid/images/videoplayback_SabenLee_frame_1980_jpg.rf.1cbde0b4220d40d2f7eccb95948b2aab.jpg: ignoring corrupt image/label: non-normalized or out of bounds coordinates [      1.022]\n"
          ]
        },
        {
          "output_type": "stream",
          "name": "stderr",
          "text": [
            "\n",
            "                 Class     Images  Instances      Box(P          R      mAP50  mAP50-95)     Pose(P          R      mAP50  mAP50-95): 100%|██████████| 11/11 [00:05<00:00,  1.99it/s]\n"
          ]
        },
        {
          "output_type": "stream",
          "name": "stdout",
          "text": [
            "                   all        166        166          1          1      0.995      0.976      0.976      0.976      0.986      0.902\n",
            "Speed: 1.4ms preprocess, 5.7ms inference, 0.0ms loss, 3.5ms postprocess per image\n",
            "Results saved to \u001b[1mruns/pose/val3\u001b[0m\n",
            "mAP@0.5       : 0.995\n",
            "mAP@0.75      : 0.995\n",
            "mAP@0.5:0.95  : 0.9762953428119724\n"
          ]
        },
        {
          "output_type": "error",
          "ename": "TypeError",
          "evalue": "'numpy.float64' object is not callable",
          "traceback": [
            "\u001b[0;31m---------------------------------------------------------------------------\u001b[0m",
            "\u001b[0;31mTypeError\u001b[0m                                 Traceback (most recent call last)",
            "\u001b[0;32m<ipython-input-7-99104a4e91f1>\u001b[0m in \u001b[0;36m<cell line: 0>\u001b[0;34m()\u001b[0m\n\u001b[1;32m      8\u001b[0m \u001b[0mprint\u001b[0m\u001b[0;34m(\u001b[0m\u001b[0;34m\"mAP@0.75      :\"\u001b[0m\u001b[0;34m,\u001b[0m \u001b[0mmetrics\u001b[0m\u001b[0;34m.\u001b[0m\u001b[0mbox\u001b[0m\u001b[0;34m.\u001b[0m\u001b[0mmap75\u001b[0m\u001b[0;34m)\u001b[0m\u001b[0;34m\u001b[0m\u001b[0;34m\u001b[0m\u001b[0m\n\u001b[1;32m      9\u001b[0m \u001b[0mprint\u001b[0m\u001b[0;34m(\u001b[0m\u001b[0;34m\"mAP@0.5:0.95  :\"\u001b[0m\u001b[0;34m,\u001b[0m \u001b[0mmetrics\u001b[0m\u001b[0;34m.\u001b[0m\u001b[0mbox\u001b[0m\u001b[0;34m.\u001b[0m\u001b[0mmap\u001b[0m\u001b[0;34m)\u001b[0m\u001b[0;34m\u001b[0m\u001b[0;34m\u001b[0m\u001b[0m\n\u001b[0;32m---> 10\u001b[0;31m \u001b[0mprint\u001b[0m\u001b[0;34m(\u001b[0m\u001b[0;34m\"Precision moy :\"\u001b[0m\u001b[0;34m,\u001b[0m \u001b[0mmetrics\u001b[0m\u001b[0;34m.\u001b[0m\u001b[0mbox\u001b[0m\u001b[0;34m.\u001b[0m\u001b[0mmp\u001b[0m\u001b[0;34m(\u001b[0m\u001b[0;34m)\u001b[0m\u001b[0;34m)\u001b[0m\u001b[0;34m\u001b[0m\u001b[0;34m\u001b[0m\u001b[0m\n\u001b[0m\u001b[1;32m     11\u001b[0m \u001b[0mprint\u001b[0m\u001b[0;34m(\u001b[0m\u001b[0;34m\"Recall moy    :\"\u001b[0m\u001b[0;34m,\u001b[0m \u001b[0mmetrics\u001b[0m\u001b[0;34m.\u001b[0m\u001b[0mbox\u001b[0m\u001b[0;34m.\u001b[0m\u001b[0mmr\u001b[0m\u001b[0;34m(\u001b[0m\u001b[0;34m)\u001b[0m\u001b[0;34m)\u001b[0m\u001b[0;34m\u001b[0m\u001b[0;34m\u001b[0m\u001b[0m\n",
            "\u001b[0;31mTypeError\u001b[0m: 'numpy.float64' object is not callable"
          ]
        }
      ]
    },
    {
      "cell_type": "code",
      "source": [
        "!ls /content/runs/pose/reloc2_keypoints_model/weights/\n",
        "\n",
        "\n"
      ],
      "metadata": {
        "colab": {
          "base_uri": "https://localhost:8080/"
        },
        "id": "ZxSvPE7nFRZs",
        "outputId": "da8cd340-4066-451e-9e3f-3097066ec241"
      },
      "execution_count": 10,
      "outputs": [
        {
          "output_type": "stream",
          "name": "stdout",
          "text": [
            "best.pt    epoch10.pt  epoch20.pt  epoch30.pt  epoch40.pt  epoch5.pt\n",
            "epoch0.pt  epoch15.pt  epoch25.pt  epoch35.pt  epoch45.pt  last.pt\n"
          ]
        }
      ]
    },
    {
      "cell_type": "code",
      "source": [
        "from google.colab import files\n",
        "files.download('/content/runs/pose/reloc2_keypoints_model/weights/best.pt')\n"
      ],
      "metadata": {
        "colab": {
          "base_uri": "https://localhost:8080/",
          "height": 17
        },
        "id": "H-QRuw21FlAQ",
        "outputId": "aeca8670-2725-407f-fa6b-b689e333c2c8"
      },
      "execution_count": 11,
      "outputs": [
        {
          "output_type": "display_data",
          "data": {
            "text/plain": [
              "<IPython.core.display.Javascript object>"
            ],
            "application/javascript": [
              "\n",
              "    async function download(id, filename, size) {\n",
              "      if (!google.colab.kernel.accessAllowed) {\n",
              "        return;\n",
              "      }\n",
              "      const div = document.createElement('div');\n",
              "      const label = document.createElement('label');\n",
              "      label.textContent = `Downloading \"${filename}\": `;\n",
              "      div.appendChild(label);\n",
              "      const progress = document.createElement('progress');\n",
              "      progress.max = size;\n",
              "      div.appendChild(progress);\n",
              "      document.body.appendChild(div);\n",
              "\n",
              "      const buffers = [];\n",
              "      let downloaded = 0;\n",
              "\n",
              "      const channel = await google.colab.kernel.comms.open(id);\n",
              "      // Send a message to notify the kernel that we're ready.\n",
              "      channel.send({})\n",
              "\n",
              "      for await (const message of channel.messages) {\n",
              "        // Send a message to notify the kernel that we're ready.\n",
              "        channel.send({})\n",
              "        if (message.buffers) {\n",
              "          for (const buffer of message.buffers) {\n",
              "            buffers.push(buffer);\n",
              "            downloaded += buffer.byteLength;\n",
              "            progress.value = downloaded;\n",
              "          }\n",
              "        }\n",
              "      }\n",
              "      const blob = new Blob(buffers, {type: 'application/binary'});\n",
              "      const a = document.createElement('a');\n",
              "      a.href = window.URL.createObjectURL(blob);\n",
              "      a.download = filename;\n",
              "      div.appendChild(a);\n",
              "      a.click();\n",
              "      div.remove();\n",
              "    }\n",
              "  "
            ]
          },
          "metadata": {}
        },
        {
          "output_type": "display_data",
          "data": {
            "text/plain": [
              "<IPython.core.display.Javascript object>"
            ],
            "application/javascript": [
              "download(\"download_3113f1be-a03f-43eb-9087-953c54ac0759\", \"best.pt\", 6874257)"
            ]
          },
          "metadata": {}
        }
      ]
    }
  ]
}